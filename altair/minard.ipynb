{
  "nbformat": 4,
  "nbformat_minor": 0,
  "metadata": {
    "colab": {
      "name": "minard.ipynb",
      "provenance": []
    },
    "kernelspec": {
      "name": "python3",
      "display_name": "Python 3"
    }
  },
  "cells": [
    {
      "cell_type": "code",
      "metadata": {
        "id": "VytrlapAvE4b",
        "colab_type": "code",
        "colab": {}
      },
      "source": [
        "import altair as alt\n",
        "import pandas as pd"
      ],
      "execution_count": null,
      "outputs": []
    },
    {
      "cell_type": "code",
      "metadata": {
        "id": "ys64Ktb4vJHX",
        "colab_type": "code",
        "colab": {}
      },
      "source": [
        "troops = pd.read_csv(\"https://raw.githubusercontent.com/rezpe/datos_viz/master/minard_troops.txt\",sep=\" \",header=None)\n",
        "troops.columns = [\"lon\",\"lat\",\"survivors\",\"direction\",\"division\"]"
      ],
      "execution_count": null,
      "outputs": []
    },
    {
      "cell_type": "code",
      "metadata": {
        "id": "7we8nJtZvteg",
        "colab_type": "code",
        "colab": {
          "base_uri": "https://localhost:8080/",
          "height": 331
        },
        "outputId": "e4379229-b7d8-4ea5-be69-7caa46cb56b3"
      },
      "source": [
        "trail = alt.Chart(troops).mark_trail().encode(\n",
        "    latitude = 'lat',\n",
        "    longitude = 'lon',\n",
        "    size = alt.Size('survivors', scale=alt.Scale(range=[1,75]), legend = None),\n",
        "    color='direction',\n",
        "    detail='division'\n",
        ")\n",
        "trail"
      ],
      "execution_count": null,
      "outputs": [
        {
          "output_type": "execute_result",
          "data": {
            "text/plain": [
              "alt.Chart(...)"
            ],
            "text/html": [
              "\n",
              "<div id=\"altair-viz-c0e74f48b9154478946b002a6c55ba15\"></div>\n",
              "<script type=\"text/javascript\">\n",
              "  (function(spec, embedOpt){\n",
              "    let outputDiv = document.currentScript.previousElementSibling;\n",
              "    if (outputDiv.id !== \"altair-viz-c0e74f48b9154478946b002a6c55ba15\") {\n",
              "      outputDiv = document.getElementById(\"altair-viz-c0e74f48b9154478946b002a6c55ba15\");\n",
              "    }\n",
              "    const paths = {\n",
              "      \"vega\": \"https://cdn.jsdelivr.net/npm//vega@5?noext\",\n",
              "      \"vega-lib\": \"https://cdn.jsdelivr.net/npm//vega-lib?noext\",\n",
              "      \"vega-lite\": \"https://cdn.jsdelivr.net/npm//vega-lite@4.8.1?noext\",\n",
              "      \"vega-embed\": \"https://cdn.jsdelivr.net/npm//vega-embed@6?noext\",\n",
              "    };\n",
              "\n",
              "    function loadScript(lib) {\n",
              "      return new Promise(function(resolve, reject) {\n",
              "        var s = document.createElement('script');\n",
              "        s.src = paths[lib];\n",
              "        s.async = true;\n",
              "        s.onload = () => resolve(paths[lib]);\n",
              "        s.onerror = () => reject(`Error loading script: ${paths[lib]}`);\n",
              "        document.getElementsByTagName(\"head\")[0].appendChild(s);\n",
              "      });\n",
              "    }\n",
              "\n",
              "    function showError(err) {\n",
              "      outputDiv.innerHTML = `<div class=\"error\" style=\"color:red;\">${err}</div>`;\n",
              "      throw err;\n",
              "    }\n",
              "\n",
              "    function displayChart(vegaEmbed) {\n",
              "      vegaEmbed(outputDiv, spec, embedOpt)\n",
              "        .catch(err => showError(`Javascript Error: ${err.message}<br>This usually means there's a typo in your chart specification. See the javascript console for the full traceback.`));\n",
              "    }\n",
              "\n",
              "    if(typeof define === \"function\" && define.amd) {\n",
              "      requirejs.config({paths});\n",
              "      require([\"vega-embed\"], displayChart, err => showError(`Error loading script: ${err.message}`));\n",
              "    } else if (typeof vegaEmbed === \"function\") {\n",
              "      displayChart(vegaEmbed);\n",
              "    } else {\n",
              "      loadScript(\"vega\")\n",
              "        .then(() => loadScript(\"vega-lite\"))\n",
              "        .then(() => loadScript(\"vega-embed\"))\n",
              "        .catch(showError)\n",
              "        .then(() => displayChart(vegaEmbed));\n",
              "    }\n",
              "  })({\"config\": {\"view\": {\"continuousWidth\": 400, \"continuousHeight\": 300}}, \"data\": {\"name\": \"data-4c80d3c9c99b115676ae40fdc9d81b87\"}, \"mark\": \"trail\", \"encoding\": {\"color\": {\"type\": \"nominal\", \"field\": \"direction\"}, \"detail\": {\"type\": \"quantitative\", \"field\": \"division\"}, \"latitude\": {\"field\": \"lat\", \"type\": \"quantitative\"}, \"longitude\": {\"field\": \"lon\", \"type\": \"quantitative\"}, \"size\": {\"type\": \"quantitative\", \"field\": \"survivors\", \"legend\": null, \"scale\": {\"range\": [1, 75]}}}, \"$schema\": \"https://vega.github.io/schema/vega-lite/v4.8.1.json\", \"datasets\": {\"data-4c80d3c9c99b115676ae40fdc9d81b87\": [{\"lon\": 24.0, \"lat\": 54.9, \"survivors\": 340000, \"direction\": \"A\", \"division\": 1}, {\"lon\": 24.5, \"lat\": 55.0, \"survivors\": 340000, \"direction\": \"A\", \"division\": 1}, {\"lon\": 25.5, \"lat\": 54.5, \"survivors\": 340000, \"direction\": \"A\", \"division\": 1}, {\"lon\": 26.0, \"lat\": 54.7, \"survivors\": 320000, \"direction\": \"A\", \"division\": 1}, {\"lon\": 27.0, \"lat\": 54.8, \"survivors\": 300000, \"direction\": \"A\", \"division\": 1}, {\"lon\": 28.0, \"lat\": 54.9, \"survivors\": 280000, \"direction\": \"A\", \"division\": 1}, {\"lon\": 28.5, \"lat\": 55.0, \"survivors\": 240000, \"direction\": \"A\", \"division\": 1}, {\"lon\": 29.0, \"lat\": 55.1, \"survivors\": 210000, \"direction\": \"A\", \"division\": 1}, {\"lon\": 30.0, \"lat\": 55.2, \"survivors\": 180000, \"direction\": \"A\", \"division\": 1}, {\"lon\": 30.3, \"lat\": 55.3, \"survivors\": 175000, \"direction\": \"A\", \"division\": 1}, {\"lon\": 32.0, \"lat\": 54.8, \"survivors\": 145000, \"direction\": \"A\", \"division\": 1}, {\"lon\": 33.2, \"lat\": 54.9, \"survivors\": 140000, \"direction\": \"A\", \"division\": 1}, {\"lon\": 34.4, \"lat\": 55.5, \"survivors\": 127100, \"direction\": \"A\", \"division\": 1}, {\"lon\": 35.5, \"lat\": 55.4, \"survivors\": 100000, \"direction\": \"A\", \"division\": 1}, {\"lon\": 36.0, \"lat\": 55.5, \"survivors\": 100000, \"direction\": \"A\", \"division\": 1}, {\"lon\": 37.6, \"lat\": 55.8, \"survivors\": 100000, \"direction\": \"A\", \"division\": 1}, {\"lon\": 37.6, \"lat\": 55.8, \"survivors\": 100000, \"direction\": \"R\", \"division\": 1}, {\"lon\": 37.5, \"lat\": 55.7, \"survivors\": 98000, \"direction\": \"R\", \"division\": 1}, {\"lon\": 37.0, \"lat\": 55.0, \"survivors\": 97000, \"direction\": \"R\", \"division\": 1}, {\"lon\": 36.8, \"lat\": 55.0, \"survivors\": 96000, \"direction\": \"R\", \"division\": 1}, {\"lon\": 35.4, \"lat\": 55.3, \"survivors\": 87000, \"direction\": \"R\", \"division\": 1}, {\"lon\": 34.3, \"lat\": 55.2, \"survivors\": 55000, \"direction\": \"R\", \"division\": 1}, {\"lon\": 33.3, \"lat\": 54.8, \"survivors\": 37000, \"direction\": \"R\", \"division\": 1}, {\"lon\": 32.0, \"lat\": 54.6, \"survivors\": 24000, \"direction\": \"R\", \"division\": 1}, {\"lon\": 30.4, \"lat\": 54.4, \"survivors\": 20000, \"direction\": \"R\", \"division\": 1}, {\"lon\": 29.2, \"lat\": 54.4, \"survivors\": 20000, \"direction\": \"R\", \"division\": 1}, {\"lon\": 28.5, \"lat\": 54.3, \"survivors\": 20000, \"direction\": \"R\", \"division\": 1}, {\"lon\": 28.3, \"lat\": 54.4, \"survivors\": 20000, \"direction\": \"R\", \"division\": 1}, {\"lon\": 24.0, \"lat\": 55.1, \"survivors\": 60000, \"direction\": \"A\", \"division\": 2}, {\"lon\": 24.5, \"lat\": 55.2, \"survivors\": 60000, \"direction\": \"A\", \"division\": 2}, {\"lon\": 25.5, \"lat\": 54.7, \"survivors\": 60000, \"direction\": \"A\", \"division\": 2}, {\"lon\": 26.6, \"lat\": 55.7, \"survivors\": 40000, \"direction\": \"A\", \"division\": 2}, {\"lon\": 27.4, \"lat\": 55.6, \"survivors\": 33000, \"direction\": \"A\", \"division\": 2}, {\"lon\": 28.7, \"lat\": 55.5, \"survivors\": 30000, \"direction\": \"A\", \"division\": 2}, {\"lon\": 28.7, \"lat\": 55.5, \"survivors\": 30000, \"direction\": \"R\", \"division\": 2}, {\"lon\": 29.2, \"lat\": 54.3, \"survivors\": 30000, \"direction\": \"R\", \"division\": 2}, {\"lon\": 28.5, \"lat\": 54.2, \"survivors\": 30000, \"direction\": \"R\", \"division\": 2}, {\"lon\": 28.3, \"lat\": 54.3, \"survivors\": 28000, \"direction\": \"R\", \"division\": 2}, {\"lon\": 27.5, \"lat\": 54.5, \"survivors\": 20000, \"direction\": \"R\", \"division\": 2}, {\"lon\": 26.8, \"lat\": 54.3, \"survivors\": 12000, \"direction\": \"R\", \"division\": 2}, {\"lon\": 26.4, \"lat\": 54.4, \"survivors\": 14000, \"direction\": \"R\", \"division\": 2}, {\"lon\": 24.6, \"lat\": 54.5, \"survivors\": 8000, \"direction\": \"R\", \"division\": 2}, {\"lon\": 24.4, \"lat\": 54.4, \"survivors\": 4000, \"direction\": \"R\", \"division\": 2}, {\"lon\": 24.2, \"lat\": 54.4, \"survivors\": 4000, \"direction\": \"R\", \"division\": 2}, {\"lon\": 24.1, \"lat\": 54.3, \"survivors\": 4000, \"direction\": \"R\", \"division\": 2}, {\"lon\": 24.0, \"lat\": 55.2, \"survivors\": 22000, \"direction\": \"A\", \"division\": 3}, {\"lon\": 24.5, \"lat\": 55.3, \"survivors\": 22000, \"direction\": \"A\", \"division\": 3}, {\"lon\": 24.6, \"lat\": 55.8, \"survivors\": 6000, \"direction\": \"A\", \"division\": 3}, {\"lon\": 24.6, \"lat\": 55.8, \"survivors\": 6000, \"direction\": \"R\", \"division\": 3}, {\"lon\": 24.2, \"lat\": 54.4, \"survivors\": 6000, \"direction\": \"R\", \"division\": 3}, {\"lon\": 24.1, \"lat\": 54.3, \"survivors\": 6000, \"direction\": \"R\", \"division\": 3}]}}, {\"mode\": \"vega-lite\"});\n",
              "</script>"
            ]
          },
          "metadata": {
            "tags": []
          },
          "execution_count": 23
        }
      ]
    },
    {
      "cell_type": "code",
      "metadata": {
        "id": "AS_QiDvkwJsN",
        "colab_type": "code",
        "colab": {
          "base_uri": "https://localhost:8080/",
          "height": 204
        },
        "outputId": "58243015-fb3f-4f9a-dafa-3e7db9fd37c4"
      },
      "source": [
        "cities = pd.read_csv(\"https://raw.githubusercontent.com/rezpe/datos_viz/master/minard_cities.txt\",\n",
        "                     sep=\" \",\n",
        "                     names=[\"lon\",\"lat\",\"name\"])\n",
        "cities.head()\n"
      ],
      "execution_count": null,
      "outputs": [
        {
          "output_type": "execute_result",
          "data": {
            "text/html": [
              "<div>\n",
              "<style scoped>\n",
              "    .dataframe tbody tr th:only-of-type {\n",
              "        vertical-align: middle;\n",
              "    }\n",
              "\n",
              "    .dataframe tbody tr th {\n",
              "        vertical-align: top;\n",
              "    }\n",
              "\n",
              "    .dataframe thead th {\n",
              "        text-align: right;\n",
              "    }\n",
              "</style>\n",
              "<table border=\"1\" class=\"dataframe\">\n",
              "  <thead>\n",
              "    <tr style=\"text-align: right;\">\n",
              "      <th></th>\n",
              "      <th>lon</th>\n",
              "      <th>lat</th>\n",
              "      <th>name</th>\n",
              "    </tr>\n",
              "  </thead>\n",
              "  <tbody>\n",
              "    <tr>\n",
              "      <th>0</th>\n",
              "      <td>24.0</td>\n",
              "      <td>55.0</td>\n",
              "      <td>Kowno</td>\n",
              "    </tr>\n",
              "    <tr>\n",
              "      <th>1</th>\n",
              "      <td>25.3</td>\n",
              "      <td>54.7</td>\n",
              "      <td>Wilna</td>\n",
              "    </tr>\n",
              "    <tr>\n",
              "      <th>2</th>\n",
              "      <td>26.4</td>\n",
              "      <td>54.4</td>\n",
              "      <td>Smorgoni</td>\n",
              "    </tr>\n",
              "    <tr>\n",
              "      <th>3</th>\n",
              "      <td>26.8</td>\n",
              "      <td>54.3</td>\n",
              "      <td>Molodexno</td>\n",
              "    </tr>\n",
              "    <tr>\n",
              "      <th>4</th>\n",
              "      <td>27.7</td>\n",
              "      <td>55.2</td>\n",
              "      <td>Gloubokoe</td>\n",
              "    </tr>\n",
              "  </tbody>\n",
              "</table>\n",
              "</div>"
            ],
            "text/plain": [
              "    lon   lat       name\n",
              "0  24.0  55.0      Kowno\n",
              "1  25.3  54.7      Wilna\n",
              "2  26.4  54.4   Smorgoni\n",
              "3  26.8  54.3  Molodexno\n",
              "4  27.7  55.2  Gloubokoe"
            ]
          },
          "metadata": {
            "tags": []
          },
          "execution_count": 10
        }
      ]
    },
    {
      "cell_type": "code",
      "metadata": {
        "id": "hOkQi_D_xpIE",
        "colab_type": "code",
        "colab": {
          "base_uri": "https://localhost:8080/",
          "height": 331
        },
        "outputId": "53c7384a-030c-41a8-f7c3-d25d809938be"
      },
      "source": [
        "txt = alt.Chart(cities).mark_text().encode(\n",
        "    latitude = 'lat',\n",
        "    longitude = 'lon',\n",
        "    text='name'\n",
        ")\n",
        "\n",
        "trail + txt"
      ],
      "execution_count": null,
      "outputs": [
        {
          "output_type": "execute_result",
          "data": {
            "text/plain": [
              "alt.LayerChart(...)"
            ],
            "text/html": [
              "\n",
              "<div id=\"altair-viz-85374ec5be2649bc8cb4f2201006ddaa\"></div>\n",
              "<script type=\"text/javascript\">\n",
              "  (function(spec, embedOpt){\n",
              "    let outputDiv = document.currentScript.previousElementSibling;\n",
              "    if (outputDiv.id !== \"altair-viz-85374ec5be2649bc8cb4f2201006ddaa\") {\n",
              "      outputDiv = document.getElementById(\"altair-viz-85374ec5be2649bc8cb4f2201006ddaa\");\n",
              "    }\n",
              "    const paths = {\n",
              "      \"vega\": \"https://cdn.jsdelivr.net/npm//vega@5?noext\",\n",
              "      \"vega-lib\": \"https://cdn.jsdelivr.net/npm//vega-lib?noext\",\n",
              "      \"vega-lite\": \"https://cdn.jsdelivr.net/npm//vega-lite@4.8.1?noext\",\n",
              "      \"vega-embed\": \"https://cdn.jsdelivr.net/npm//vega-embed@6?noext\",\n",
              "    };\n",
              "\n",
              "    function loadScript(lib) {\n",
              "      return new Promise(function(resolve, reject) {\n",
              "        var s = document.createElement('script');\n",
              "        s.src = paths[lib];\n",
              "        s.async = true;\n",
              "        s.onload = () => resolve(paths[lib]);\n",
              "        s.onerror = () => reject(`Error loading script: ${paths[lib]}`);\n",
              "        document.getElementsByTagName(\"head\")[0].appendChild(s);\n",
              "      });\n",
              "    }\n",
              "\n",
              "    function showError(err) {\n",
              "      outputDiv.innerHTML = `<div class=\"error\" style=\"color:red;\">${err}</div>`;\n",
              "      throw err;\n",
              "    }\n",
              "\n",
              "    function displayChart(vegaEmbed) {\n",
              "      vegaEmbed(outputDiv, spec, embedOpt)\n",
              "        .catch(err => showError(`Javascript Error: ${err.message}<br>This usually means there's a typo in your chart specification. See the javascript console for the full traceback.`));\n",
              "    }\n",
              "\n",
              "    if(typeof define === \"function\" && define.amd) {\n",
              "      requirejs.config({paths});\n",
              "      require([\"vega-embed\"], displayChart, err => showError(`Error loading script: ${err.message}`));\n",
              "    } else if (typeof vegaEmbed === \"function\") {\n",
              "      displayChart(vegaEmbed);\n",
              "    } else {\n",
              "      loadScript(\"vega\")\n",
              "        .then(() => loadScript(\"vega-lite\"))\n",
              "        .then(() => loadScript(\"vega-embed\"))\n",
              "        .catch(showError)\n",
              "        .then(() => displayChart(vegaEmbed));\n",
              "    }\n",
              "  })({\"config\": {\"view\": {\"continuousWidth\": 400, \"continuousHeight\": 300}}, \"layer\": [{\"data\": {\"name\": \"data-4c80d3c9c99b115676ae40fdc9d81b87\"}, \"mark\": \"trail\", \"encoding\": {\"color\": {\"type\": \"nominal\", \"field\": \"direction\"}, \"detail\": {\"type\": \"quantitative\", \"field\": \"division\"}, \"latitude\": {\"field\": \"lat\", \"type\": \"quantitative\"}, \"longitude\": {\"field\": \"lon\", \"type\": \"quantitative\"}, \"size\": {\"type\": \"quantitative\", \"field\": \"survivors\", \"legend\": null, \"scale\": {\"range\": [1, 75]}}}}, {\"data\": {\"name\": \"data-5ae0cccf9293f23a54ef588610685398\"}, \"mark\": \"text\", \"encoding\": {\"latitude\": {\"field\": \"lat\", \"type\": \"quantitative\"}, \"longitude\": {\"field\": \"lon\", \"type\": \"quantitative\"}, \"text\": {\"type\": \"nominal\", \"field\": \"name\"}}}], \"$schema\": \"https://vega.github.io/schema/vega-lite/v4.8.1.json\", \"datasets\": {\"data-4c80d3c9c99b115676ae40fdc9d81b87\": [{\"lon\": 24.0, \"lat\": 54.9, \"survivors\": 340000, \"direction\": \"A\", \"division\": 1}, {\"lon\": 24.5, \"lat\": 55.0, \"survivors\": 340000, \"direction\": \"A\", \"division\": 1}, {\"lon\": 25.5, \"lat\": 54.5, \"survivors\": 340000, \"direction\": \"A\", \"division\": 1}, {\"lon\": 26.0, \"lat\": 54.7, \"survivors\": 320000, \"direction\": \"A\", \"division\": 1}, {\"lon\": 27.0, \"lat\": 54.8, \"survivors\": 300000, \"direction\": \"A\", \"division\": 1}, {\"lon\": 28.0, \"lat\": 54.9, \"survivors\": 280000, \"direction\": \"A\", \"division\": 1}, {\"lon\": 28.5, \"lat\": 55.0, \"survivors\": 240000, \"direction\": \"A\", \"division\": 1}, {\"lon\": 29.0, \"lat\": 55.1, \"survivors\": 210000, \"direction\": \"A\", \"division\": 1}, {\"lon\": 30.0, \"lat\": 55.2, \"survivors\": 180000, \"direction\": \"A\", \"division\": 1}, {\"lon\": 30.3, \"lat\": 55.3, \"survivors\": 175000, \"direction\": \"A\", \"division\": 1}, {\"lon\": 32.0, \"lat\": 54.8, \"survivors\": 145000, \"direction\": \"A\", \"division\": 1}, {\"lon\": 33.2, \"lat\": 54.9, \"survivors\": 140000, \"direction\": \"A\", \"division\": 1}, {\"lon\": 34.4, \"lat\": 55.5, \"survivors\": 127100, \"direction\": \"A\", \"division\": 1}, {\"lon\": 35.5, \"lat\": 55.4, \"survivors\": 100000, \"direction\": \"A\", \"division\": 1}, {\"lon\": 36.0, \"lat\": 55.5, \"survivors\": 100000, \"direction\": \"A\", \"division\": 1}, {\"lon\": 37.6, \"lat\": 55.8, \"survivors\": 100000, \"direction\": \"A\", \"division\": 1}, {\"lon\": 37.6, \"lat\": 55.8, \"survivors\": 100000, \"direction\": \"R\", \"division\": 1}, {\"lon\": 37.5, \"lat\": 55.7, \"survivors\": 98000, \"direction\": \"R\", \"division\": 1}, {\"lon\": 37.0, \"lat\": 55.0, \"survivors\": 97000, \"direction\": \"R\", \"division\": 1}, {\"lon\": 36.8, \"lat\": 55.0, \"survivors\": 96000, \"direction\": \"R\", \"division\": 1}, {\"lon\": 35.4, \"lat\": 55.3, \"survivors\": 87000, \"direction\": \"R\", \"division\": 1}, {\"lon\": 34.3, \"lat\": 55.2, \"survivors\": 55000, \"direction\": \"R\", \"division\": 1}, {\"lon\": 33.3, \"lat\": 54.8, \"survivors\": 37000, \"direction\": \"R\", \"division\": 1}, {\"lon\": 32.0, \"lat\": 54.6, \"survivors\": 24000, \"direction\": \"R\", \"division\": 1}, {\"lon\": 30.4, \"lat\": 54.4, \"survivors\": 20000, \"direction\": \"R\", \"division\": 1}, {\"lon\": 29.2, \"lat\": 54.4, \"survivors\": 20000, \"direction\": \"R\", \"division\": 1}, {\"lon\": 28.5, \"lat\": 54.3, \"survivors\": 20000, \"direction\": \"R\", \"division\": 1}, {\"lon\": 28.3, \"lat\": 54.4, \"survivors\": 20000, \"direction\": \"R\", \"division\": 1}, {\"lon\": 24.0, \"lat\": 55.1, \"survivors\": 60000, \"direction\": \"A\", \"division\": 2}, {\"lon\": 24.5, \"lat\": 55.2, \"survivors\": 60000, \"direction\": \"A\", \"division\": 2}, {\"lon\": 25.5, \"lat\": 54.7, \"survivors\": 60000, \"direction\": \"A\", \"division\": 2}, {\"lon\": 26.6, \"lat\": 55.7, \"survivors\": 40000, \"direction\": \"A\", \"division\": 2}, {\"lon\": 27.4, \"lat\": 55.6, \"survivors\": 33000, \"direction\": \"A\", \"division\": 2}, {\"lon\": 28.7, \"lat\": 55.5, \"survivors\": 30000, \"direction\": \"A\", \"division\": 2}, {\"lon\": 28.7, \"lat\": 55.5, \"survivors\": 30000, \"direction\": \"R\", \"division\": 2}, {\"lon\": 29.2, \"lat\": 54.3, \"survivors\": 30000, \"direction\": \"R\", \"division\": 2}, {\"lon\": 28.5, \"lat\": 54.2, \"survivors\": 30000, \"direction\": \"R\", \"division\": 2}, {\"lon\": 28.3, \"lat\": 54.3, \"survivors\": 28000, \"direction\": \"R\", \"division\": 2}, {\"lon\": 27.5, \"lat\": 54.5, \"survivors\": 20000, \"direction\": \"R\", \"division\": 2}, {\"lon\": 26.8, \"lat\": 54.3, \"survivors\": 12000, \"direction\": \"R\", \"division\": 2}, {\"lon\": 26.4, \"lat\": 54.4, \"survivors\": 14000, \"direction\": \"R\", \"division\": 2}, {\"lon\": 24.6, \"lat\": 54.5, \"survivors\": 8000, \"direction\": \"R\", \"division\": 2}, {\"lon\": 24.4, \"lat\": 54.4, \"survivors\": 4000, \"direction\": \"R\", \"division\": 2}, {\"lon\": 24.2, \"lat\": 54.4, \"survivors\": 4000, \"direction\": \"R\", \"division\": 2}, {\"lon\": 24.1, \"lat\": 54.3, \"survivors\": 4000, \"direction\": \"R\", \"division\": 2}, {\"lon\": 24.0, \"lat\": 55.2, \"survivors\": 22000, \"direction\": \"A\", \"division\": 3}, {\"lon\": 24.5, \"lat\": 55.3, \"survivors\": 22000, \"direction\": \"A\", \"division\": 3}, {\"lon\": 24.6, \"lat\": 55.8, \"survivors\": 6000, \"direction\": \"A\", \"division\": 3}, {\"lon\": 24.6, \"lat\": 55.8, \"survivors\": 6000, \"direction\": \"R\", \"division\": 3}, {\"lon\": 24.2, \"lat\": 54.4, \"survivors\": 6000, \"direction\": \"R\", \"division\": 3}, {\"lon\": 24.1, \"lat\": 54.3, \"survivors\": 6000, \"direction\": \"R\", \"division\": 3}], \"data-5ae0cccf9293f23a54ef588610685398\": [{\"lon\": 24.0, \"lat\": 55.0, \"name\": \"Kowno\"}, {\"lon\": 25.3, \"lat\": 54.7, \"name\": \"Wilna\"}, {\"lon\": 26.4, \"lat\": 54.4, \"name\": \"Smorgoni\"}, {\"lon\": 26.8, \"lat\": 54.3, \"name\": \"Molodexno\"}, {\"lon\": 27.7, \"lat\": 55.2, \"name\": \"Gloubokoe\"}, {\"lon\": 27.6, \"lat\": 53.9, \"name\": \"Minsk\"}, {\"lon\": 28.5, \"lat\": 54.3, \"name\": \"Studienska\"}, {\"lon\": 28.7, \"lat\": 55.5, \"name\": \"Polotzk\"}, {\"lon\": 29.2, \"lat\": 54.4, \"name\": \"Bobr\"}, {\"lon\": 30.2, \"lat\": 55.3, \"name\": \"Witebsk\"}, {\"lon\": 30.4, \"lat\": 54.5, \"name\": \"Orscha\"}, {\"lon\": 30.4, \"lat\": 53.9, \"name\": \"Mohilow\"}, {\"lon\": 32.0, \"lat\": 54.8, \"name\": \"Smolensk\"}, {\"lon\": 33.2, \"lat\": 54.9, \"name\": \"Dorogobouge\"}, {\"lon\": 34.3, \"lat\": 55.2, \"name\": \"Wixma\"}, {\"lon\": 34.4, \"lat\": 55.5, \"name\": \"Chjat\"}, {\"lon\": 36.0, \"lat\": 55.5, \"name\": \"Mojaisk\"}, {\"lon\": 37.6, \"lat\": 55.8, \"name\": \"Moscou\"}, {\"lon\": 36.6, \"lat\": 55.3, \"name\": \"Tarantino\"}, {\"lon\": 36.5, \"lat\": 55.0, \"name\": \"Malo-Jarosewli\"}]}}, {\"mode\": \"vega-lite\"});\n",
              "</script>"
            ]
          },
          "metadata": {
            "tags": []
          },
          "execution_count": 26
        }
      ]
    },
    {
      "cell_type": "code",
      "metadata": {
        "id": "X24v_DoaxxZc",
        "colab_type": "code",
        "colab": {
          "base_uri": "https://localhost:8080/",
          "height": 204
        },
        "outputId": "f7156f7c-d175-4bd0-8d09-749fc62e8684"
      },
      "source": [
        "temperatures = pd.read_csv(\"https://raw.githubusercontent.com/rezpe/datos_viz/master/minard_temperature.txt\",\n",
        "                           sep=\" \",\n",
        "                           names=[\"lon\",\"temp\",\"days\",\"day\"])\n",
        "temperatures.head()\n"
      ],
      "execution_count": null,
      "outputs": [
        {
          "output_type": "execute_result",
          "data": {
            "text/html": [
              "<div>\n",
              "<style scoped>\n",
              "    .dataframe tbody tr th:only-of-type {\n",
              "        vertical-align: middle;\n",
              "    }\n",
              "\n",
              "    .dataframe tbody tr th {\n",
              "        vertical-align: top;\n",
              "    }\n",
              "\n",
              "    .dataframe thead th {\n",
              "        text-align: right;\n",
              "    }\n",
              "</style>\n",
              "<table border=\"1\" class=\"dataframe\">\n",
              "  <thead>\n",
              "    <tr style=\"text-align: right;\">\n",
              "      <th></th>\n",
              "      <th>lon</th>\n",
              "      <th>temp</th>\n",
              "      <th>days</th>\n",
              "      <th>day</th>\n",
              "    </tr>\n",
              "  </thead>\n",
              "  <tbody>\n",
              "    <tr>\n",
              "      <th>0</th>\n",
              "      <td>37.6</td>\n",
              "      <td>0</td>\n",
              "      <td>6</td>\n",
              "      <td>Oct-18</td>\n",
              "    </tr>\n",
              "    <tr>\n",
              "      <th>1</th>\n",
              "      <td>36.0</td>\n",
              "      <td>0</td>\n",
              "      <td>6</td>\n",
              "      <td>Oct-24</td>\n",
              "    </tr>\n",
              "    <tr>\n",
              "      <th>2</th>\n",
              "      <td>33.2</td>\n",
              "      <td>-9</td>\n",
              "      <td>16</td>\n",
              "      <td>Nov-9</td>\n",
              "    </tr>\n",
              "    <tr>\n",
              "      <th>3</th>\n",
              "      <td>32.0</td>\n",
              "      <td>-21</td>\n",
              "      <td>5</td>\n",
              "      <td>Nov-14</td>\n",
              "    </tr>\n",
              "    <tr>\n",
              "      <th>4</th>\n",
              "      <td>29.2</td>\n",
              "      <td>-11</td>\n",
              "      <td>10</td>\n",
              "      <td>NaN</td>\n",
              "    </tr>\n",
              "  </tbody>\n",
              "</table>\n",
              "</div>"
            ],
            "text/plain": [
              "    lon  temp  days     day\n",
              "0  37.6     0     6  Oct-18\n",
              "1  36.0     0     6  Oct-24\n",
              "2  33.2    -9    16   Nov-9\n",
              "3  32.0   -21     5  Nov-14\n",
              "4  29.2   -11    10     NaN"
            ]
          },
          "metadata": {
            "tags": []
          },
          "execution_count": 27
        }
      ]
    },
    {
      "cell_type": "code",
      "metadata": {
        "id": "gD7udvmYzfFH",
        "colab_type": "code",
        "colab": {}
      },
      "source": [
        "temp_group = temperatures.groupby(\"day\").mean().reset_index()"
      ],
      "execution_count": null,
      "outputs": []
    },
    {
      "cell_type": "code",
      "metadata": {
        "id": "I9_Uazb-z2s3",
        "colab_type": "code",
        "colab": {
          "base_uri": "https://localhost:8080/",
          "height": 368
        },
        "outputId": "b44bc0b0-0aa8-4ab4-c993-2f4068829161"
      },
      "source": [
        "alt.Chart(temp_group).mark_line().encode(\n",
        "    x='day:T',\n",
        "    y=\"mean(temp)\"\n",
        ")"
      ],
      "execution_count": null,
      "outputs": [
        {
          "output_type": "execute_result",
          "data": {
            "text/plain": [
              "alt.Chart(...)"
            ],
            "text/html": [
              "\n",
              "<div id=\"altair-viz-8d677a63d5ac44478cf2a368e59c523e\"></div>\n",
              "<script type=\"text/javascript\">\n",
              "  (function(spec, embedOpt){\n",
              "    let outputDiv = document.currentScript.previousElementSibling;\n",
              "    if (outputDiv.id !== \"altair-viz-8d677a63d5ac44478cf2a368e59c523e\") {\n",
              "      outputDiv = document.getElementById(\"altair-viz-8d677a63d5ac44478cf2a368e59c523e\");\n",
              "    }\n",
              "    const paths = {\n",
              "      \"vega\": \"https://cdn.jsdelivr.net/npm//vega@5?noext\",\n",
              "      \"vega-lib\": \"https://cdn.jsdelivr.net/npm//vega-lib?noext\",\n",
              "      \"vega-lite\": \"https://cdn.jsdelivr.net/npm//vega-lite@4.8.1?noext\",\n",
              "      \"vega-embed\": \"https://cdn.jsdelivr.net/npm//vega-embed@6?noext\",\n",
              "    };\n",
              "\n",
              "    function loadScript(lib) {\n",
              "      return new Promise(function(resolve, reject) {\n",
              "        var s = document.createElement('script');\n",
              "        s.src = paths[lib];\n",
              "        s.async = true;\n",
              "        s.onload = () => resolve(paths[lib]);\n",
              "        s.onerror = () => reject(`Error loading script: ${paths[lib]}`);\n",
              "        document.getElementsByTagName(\"head\")[0].appendChild(s);\n",
              "      });\n",
              "    }\n",
              "\n",
              "    function showError(err) {\n",
              "      outputDiv.innerHTML = `<div class=\"error\" style=\"color:red;\">${err}</div>`;\n",
              "      throw err;\n",
              "    }\n",
              "\n",
              "    function displayChart(vegaEmbed) {\n",
              "      vegaEmbed(outputDiv, spec, embedOpt)\n",
              "        .catch(err => showError(`Javascript Error: ${err.message}<br>This usually means there's a typo in your chart specification. See the javascript console for the full traceback.`));\n",
              "    }\n",
              "\n",
              "    if(typeof define === \"function\" && define.amd) {\n",
              "      requirejs.config({paths});\n",
              "      require([\"vega-embed\"], displayChart, err => showError(`Error loading script: ${err.message}`));\n",
              "    } else if (typeof vegaEmbed === \"function\") {\n",
              "      displayChart(vegaEmbed);\n",
              "    } else {\n",
              "      loadScript(\"vega\")\n",
              "        .then(() => loadScript(\"vega-lite\"))\n",
              "        .then(() => loadScript(\"vega-embed\"))\n",
              "        .catch(showError)\n",
              "        .then(() => displayChart(vegaEmbed));\n",
              "    }\n",
              "  })({\"config\": {\"view\": {\"continuousWidth\": 400, \"continuousHeight\": 300}}, \"data\": {\"name\": \"data-ee438bdaeb1a88b855f4b23d6443e8a1\"}, \"mark\": \"line\", \"encoding\": {\"x\": {\"type\": \"temporal\", \"field\": \"day\"}, \"y\": {\"type\": \"quantitative\", \"aggregate\": \"mean\", \"field\": \"temp\"}}, \"$schema\": \"https://vega.github.io/schema/vega-lite/v4.8.1.json\", \"datasets\": {\"data-ee438bdaeb1a88b855f4b23d6443e8a1\": [{\"day\": \"Dec-1\", \"lon\": 27.2, \"temp\": -24, \"days\": 3}, {\"day\": \"Dec-6\", \"lon\": 26.7, \"temp\": -30, \"days\": 5}, {\"day\": \"Dec-7\", \"lon\": 25.3, \"temp\": -26, \"days\": 1}, {\"day\": \"Nov-14\", \"lon\": 32.0, \"temp\": -21, \"days\": 5}, {\"day\": \"Nov-28\", \"lon\": 28.5, \"temp\": -20, \"days\": 4}, {\"day\": \"Nov-9\", \"lon\": 33.2, \"temp\": -9, \"days\": 16}, {\"day\": \"Oct-18\", \"lon\": 37.6, \"temp\": 0, \"days\": 6}, {\"day\": \"Oct-24\", \"lon\": 36.0, \"temp\": 0, \"days\": 6}]}}, {\"mode\": \"vega-lite\"});\n",
              "</script>"
            ]
          },
          "metadata": {
            "tags": []
          },
          "execution_count": 30
        }
      ]
    },
    {
      "cell_type": "code",
      "metadata": {
        "id": "Ncio1lQdz8pE",
        "colab_type": "code",
        "colab": {}
      },
      "source": [
        ""
      ],
      "execution_count": null,
      "outputs": []
    }
  ]
}