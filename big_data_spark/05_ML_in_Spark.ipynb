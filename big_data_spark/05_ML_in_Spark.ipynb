{
  "nbformat": 4,
  "nbformat_minor": 0,
  "metadata": {
    "kernelspec": {
      "display_name": "Python 3",
      "language": "python",
      "name": "python3"
    },
    "language_info": {
      "codemirror_mode": {
        "name": "ipython",
        "version": 3
      },
      "file_extension": ".py",
      "mimetype": "text/x-python",
      "name": "python",
      "nbconvert_exporter": "python",
      "pygments_lexer": "ipython3",
      "version": "3.6.8"
    },
    "colab": {
      "name": "05-ML_in_Spark.ipynb",
      "provenance": []
    }
  },
  "cells": [
    {
      "cell_type": "markdown",
      "metadata": {
        "id": "s5yuUjOKJmIu",
        "colab_type": "text"
      },
      "source": [
        "# Tuning Machine Learning models in Spark\n",
        "\n",
        "<a href = \"http://yogen.io\"><img src=\"http://yogen.io/assets/logo.svg\" alt=\"yogen\" style=\"width: 200px; float: right;\"/></a>"
      ]
    },
    {
      "cell_type": "markdown",
      "metadata": {
        "id": "O6jh_ynxJmIw",
        "colab_type": "text"
      },
      "source": [
        "## ML Pipelines in Spark\n",
        "\n",
        "ML model training and tuning often represents running the same steps once and again. Often, we run the same steps with small variations in order to evaluate combinations of parameters. \n",
        "\n",
        "In order to make this use case a lot easier, Spark provides the [Pipeline](https://spark.apache.org/docs/2.3.0/ml-pipeline.html) abstraction.\n",
        "\n",
        "A Pipeline represents a series of steps in the processing of a dataset. Each step is a Transformer or an Estimator. The whole Pipeline is an Estimator, so we can .fit the whole pipeline in one step. When we do that, the steps'  .fit and .transform methods will be called in turn."
      ]
    },
    {
      "cell_type": "markdown",
      "metadata": {
        "id": "XOWjr9_HJmIx",
        "colab_type": "text"
      },
      "source": [
        "![pipelineestimator](https://spark.apache.org/docs/2.3.0/img/ml-Pipeline.png)"
      ]
    },
    {
      "cell_type": "markdown",
      "metadata": {
        "id": "u3atezR4JmIz",
        "colab_type": "text"
      },
      "source": [
        "![PipelineModel](https://spark.apache.org/docs/2.3.0/img/ml-PipelineModel.png)"
      ]
    },
    {
      "cell_type": "markdown",
      "metadata": {
        "id": "HUYCt7ZhJmI0",
        "colab_type": "text"
      },
      "source": [
        "## Example: predicting flight delays\n",
        "\n",
        "We'll be using the same [Transtats'](https://www.transtats.bts.gov/) OTP performance data] from way back when. Remember it?\n",
        "\n",
        "It's a table that contains all domestic departures by US air air carriers that represent at least one percent of domestic scheduled passenger revenues, with data on each individual departure including [Tail Number](https://en.wikipedia.org/wiki/Tail_number), departure delay, origin, destination and carrier.\n"
      ]
    },
    {
      "cell_type": "code",
      "metadata": {
        "id": "Os85wV06Lxix",
        "colab_type": "code",
        "colab": {}
      },
      "source": [
        "!apt-get install openjdk-8-jdk-headless -qq > /dev/null\n",
        "!wget -q http://apache.uvigo.es/spark/spark-2.4.6/spark-2.4.6-bin-hadoop2.7.tgz\n",
        "!tar -xf spark-2.4.6-bin-hadoop2.7.tgz\n",
        "!pip install -q findspark pyspark==2.4.6\n",
        "import os\n",
        "import findspark\n",
        "from pyspark.sql import SparkSession\n",
        "os.environ[\"JAVA_HOME\"] = \"/usr/lib/jvm/java-8-openjdk-amd64\"\n",
        "os.environ[\"SPARK_HOME\"] = \"/content/spark-2.4.6-bin-hadoop2.7\"\n",
        "findspark.init()\n"
      ],
      "execution_count": null,
      "outputs": []
    },
    {
      "cell_type": "markdown",
      "metadata": {
        "id": "6d9VddBnJmI1",
        "colab_type": "text"
      },
      "source": [
        "### Load the data\n",
        "\n",
        "Opening .zip files in Spark is a bit of a pain. For now, let's just decompress the file we want to read. When we are ready to expand the processing to the cluster, we will need to do [this](https://stackoverflow.com/questions/28569788/how-to-open-stream-zip-files-through-spark).\n",
        "\n",
        "```python\n",
        "csvname = 'On_Time_Reporting_Carrier_On_Time_Performance_(1987_present)_2018_12.csv'\n",
        "columns_of_interest = ['Year', 'Month', 'DayofMonth', 'DayOfWeek', 'Reporting_Airline', \n",
        "                       'Tail_Number', 'Flight_Number_Reporting_Airline', 'Origin', \n",
        "                       'OriginCityName', 'OriginStateName', 'Dest', 'DestCityName', 'DestStateName',\n",
        "                       'DepTime', 'DepDelay', 'AirTime', 'Distance']\n",
        "```"
      ]
    },
    {
      "cell_type": "code",
      "metadata": {
        "scrolled": false,
        "id": "9DxSzvUaJmI2",
        "colab_type": "code",
        "colab": {}
      },
      "source": [
        "from pyspark.sql import SparkSession\n",
        "\n",
        "\n",
        "csvname = 'On_Time_Reporting_Carrier_On_Time_Performance_(1987_present)_2018_12.csv'\n",
        "columns_of_interest = ['Year', 'Month', 'DayofMonth', 'DayOfWeek', 'Reporting_Airline', 'Tail_Number', 'Flight_Number_Reporting_Airline', 'Origin', \n",
        "                       'OriginCityName', 'OriginStateName', 'Dest', 'DestCityName', 'DestStateName',\n",
        "                       'DepTime', 'DepDelay', 'AirTime', 'Distance']\n",
        "\n",
        "spark = SparkSession.builder.getOrCreate()\n",
        "df = spark.read.csv(csvname, header= True, inferSchema=True)\n",
        "df.printSchema()"
      ],
      "execution_count": null,
      "outputs": []
    },
    {
      "cell_type": "code",
      "metadata": {
        "id": "UcloKgtNJmI6",
        "colab_type": "code",
        "colab": {
          "base_uri": "https://localhost:8080/",
          "height": 54
        },
        "outputId": "934b4be5-535b-45a3-a7d5-f3003964cfe6"
      },
      "source": [
        "flights = df.select(columns_of_interest)\n",
        "\n",
        "flights"
      ],
      "execution_count": null,
      "outputs": [
        {
          "output_type": "execute_result",
          "data": {
            "text/plain": [
              "DataFrame[Year: int, Month: int, DayofMonth: int, DayOfWeek: int, Reporting_Airline: string, Tail_Number: string, Flight_Number_Reporting_Airline: int, Origin: string, OriginCityName: string, OriginStateName: string, Dest: string, DestCityName: string, DestStateName: string, DepTime: int, DepDelay: double, AirTime: double, Distance: double]"
            ]
          },
          "metadata": {
            "tags": []
          },
          "execution_count": 16
        }
      ]
    },
    {
      "cell_type": "markdown",
      "metadata": {
        "id": "dTFpsSrrJmI9",
        "colab_type": "text"
      },
      "source": [
        "### Drop nas\n",
        "\n",
        "There are only a few departures for which any of the columns of interest contains null values. The most expedient way to handle them is to just drop them, since they won't make much of a difference."
      ]
    },
    {
      "cell_type": "code",
      "metadata": {
        "id": "4fzlmQy0U3mw",
        "colab_type": "code",
        "colab": {
          "base_uri": "https://localhost:8080/",
          "height": 258
        },
        "outputId": "28355c8b-269a-450b-b4c3-30925e40a8dd"
      },
      "source": [
        "flights.summary().show()"
      ],
      "execution_count": null,
      "outputs": [
        {
          "output_type": "stream",
          "text": [
            "+-------+--------------------+------+------------------+------------------+-----------------+-----------+-------------------------------+------+--------------+---------------+------+------------+-------------+------------------+-----------------+------------------+-----------------+------------------+-------------------+\n",
            "|summary|                Year| Month|        DayofMonth|         DayOfWeek|Reporting_Airline|Tail_Number|Flight_Number_Reporting_Airline|Origin|OriginCityName|OriginStateName|  Dest|DestCityName|DestStateName|           DepTime|         DepDelay|           AirTime|         Distance|           DepHour|            Delayed|\n",
            "+-------+--------------------+------+------------------+------------------+-----------------+-----------+-------------------------------+------+--------------+---------------+------+------------+-------------+------------------+-----------------+------------------+-----------------+------------------+-------------------+\n",
            "|  count|              462356|462356|            462356|            462356|           462356|     462356|                         462356|462356|        462356|         462356|462356|      462356|       462356|            462356|           462356|            462356|           462356|            462356|             462356|\n",
            "|   mean|              2018.0|  12.0|16.302907283565045| 4.037968578324927|             null|       null|             2985.4386879374333|  null|          null|           null|  null|        null|         null|1333.2925235100226|9.235798821687185|105.96259592175726|749.5402200901469|13.029847130782342| 0.1744824334495497|\n",
            "| stddev|1.136610854944444...|   0.0| 8.830683824479786|2.0459253660768706|             null|       null|             1902.9034281193562|  null|          null|           null|  null|        null|         null|492.29455014895035|43.49214491792064| 66.72205682388596|558.7321411405512| 4.932347870865725|0.37952420923959157|\n",
            "|    min|                2018|    12|                 1|                 1|               9E|      215NV|                              1|   ABE|  Aberdeen, SD|        Alabama|   ABE|Aberdeen, SD|      Alabama|                 1|            -72.0|               7.0|             55.0|                 0|                  0|\n",
            "|    25%|                2018|    12|                 9|                 2|             null|       null|                           1333|  null|          null|           null|  null|        null|         null|               925|             -5.0|              58.0|            345.0|                 9|                  0|\n",
            "|    50%|                2018|    12|                17|                 4|             null|       null|                           2922|  null|          null|           null|  null|        null|         null|              1327|             -2.0|              88.0|            597.0|                13|                  0|\n",
            "|    75%|                2018|    12|                24|                 6|             null|       null|                           4545|  null|          null|           null|  null|        null|         null|              1737|              7.0|             134.0|            982.0|                17|                  0|\n",
            "|    max|                2018|    12|                31|                 7|               YX|     N999DN|                           7909|   YUM|      Yuma, AZ|        Wyoming|   YUM|    Yuma, AZ|      Wyoming|              2400|           2098.0|             695.0|           4983.0|                24|                  1|\n",
            "+-------+--------------------+------+------------------+------------------+-----------------+-----------+-------------------------------+------+--------------+---------------+------+------------+-------------+------------------+-----------------+------------------+-----------------+------------------+-------------------+\n",
            "\n"
          ],
          "name": "stdout"
        }
      ]
    },
    {
      "cell_type": "code",
      "metadata": {
        "id": "g_2l1dmgJmI-",
        "colab_type": "code",
        "colab": {
          "base_uri": "https://localhost:8080/",
          "height": 139
        },
        "outputId": "7dec1595-1032-402e-d2d3-605af7e02778"
      },
      "source": [
        "from pyspark.sql import functions, types\n",
        "\n",
        "flights.select(*[functions.sum(flights[col].isNull().cast(types.IntegerType())) for col in flights.columns]).show()"
      ],
      "execution_count": null,
      "outputs": [
        {
          "output_type": "stream",
          "text": [
            "+--------------------------------+---------------------------------+--------------------------------------+-------------------------------------+---------------------------------------------+---------------------------------------+-----------------------------------------------------------+----------------------------------+------------------------------------------+-------------------------------------------+--------------------------------+----------------------------------------+-----------------------------------------+-----------------------------------+------------------------------------+-----------------------------------+------------------------------------+\n",
            "|sum(CAST((Year IS NULL) AS INT))|sum(CAST((Month IS NULL) AS INT))|sum(CAST((DayofMonth IS NULL) AS INT))|sum(CAST((DayOfWeek IS NULL) AS INT))|sum(CAST((Reporting_Airline IS NULL) AS INT))|sum(CAST((Tail_Number IS NULL) AS INT))|sum(CAST((Flight_Number_Reporting_Airline IS NULL) AS INT))|sum(CAST((Origin IS NULL) AS INT))|sum(CAST((OriginCityName IS NULL) AS INT))|sum(CAST((OriginStateName IS NULL) AS INT))|sum(CAST((Dest IS NULL) AS INT))|sum(CAST((DestCityName IS NULL) AS INT))|sum(CAST((DestStateName IS NULL) AS INT))|sum(CAST((DepTime IS NULL) AS INT))|sum(CAST((DepDelay IS NULL) AS INT))|sum(CAST((AirTime IS NULL) AS INT))|sum(CAST((Distance IS NULL) AS INT))|\n",
            "+--------------------------------+---------------------------------+--------------------------------------+-------------------------------------+---------------------------------------------+---------------------------------------+-----------------------------------------------------------+----------------------------------+------------------------------------------+-------------------------------------------+--------------------------------+----------------------------------------+-----------------------------------------+-----------------------------------+------------------------------------+-----------------------------------+------------------------------------+\n",
            "|                               0|                                0|                                     0|                                    0|                                            0|                                   1098|                                                          0|                                 0|                                         0|                                          0|                               0|                                       0|                                        0|                               5119|                                5119|                               6384|                                   1|\n",
            "+--------------------------------+---------------------------------+--------------------------------------+-------------------------------------+---------------------------------------------+---------------------------------------+-----------------------------------------------------------+----------------------------------+------------------------------------------+-------------------------------------------+--------------------------------+----------------------------------------+-----------------------------------------+-----------------------------------+------------------------------------+-----------------------------------+------------------------------------+\n",
            "\n"
          ],
          "name": "stdout"
        }
      ]
    },
    {
      "cell_type": "markdown",
      "metadata": {
        "id": "-zaK7JEaJmJB",
        "colab_type": "text"
      },
      "source": [
        "NA-related functions are grouped in a .na attribute of DataFrames."
      ]
    },
    {
      "cell_type": "code",
      "metadata": {
        "id": "jUQvDhb7JmJC",
        "colab_type": "code",
        "colab": {
          "base_uri": "https://localhost:8080/",
          "height": 34
        },
        "outputId": "a4cff4fd-1f21-4087-8c33-2e8249399f83"
      },
      "source": [
        "flights.na"
      ],
      "execution_count": null,
      "outputs": [
        {
          "output_type": "execute_result",
          "data": {
            "text/plain": [
              "<pyspark.sql.dataframe.DataFrameNaFunctions at 0x7f1c949429b0>"
            ]
          },
          "metadata": {
            "tags": []
          },
          "execution_count": 18
        }
      ]
    },
    {
      "cell_type": "code",
      "metadata": {
        "id": "Sf5-5Fj_JmJF",
        "colab_type": "code",
        "colab": {}
      },
      "source": [
        "flights = flights.na.drop()"
      ],
      "execution_count": null,
      "outputs": []
    },
    {
      "cell_type": "markdown",
      "metadata": {
        "id": "PK4KwINKJmJI",
        "colab_type": "text"
      },
      "source": [
        "## Feature extraction and generation of target variable\n",
        "\n",
        "The departing hour is the most important factor in delays, so we need to calculate it from the departure time. Since the input file uses a funny format for times, Spark has interpreted them as floats:"
      ]
    },
    {
      "cell_type": "code",
      "metadata": {
        "scrolled": true,
        "id": "FFyCCSDpJmJI",
        "colab_type": "code",
        "colab": {
          "base_uri": "https://localhost:8080/",
          "height": 204
        },
        "outputId": "13dfa0e1-cfed-428d-92c5-90dcdf9769d7"
      },
      "source": [
        "flights.select('DepTime').show(5)"
      ],
      "execution_count": null,
      "outputs": [
        {
          "output_type": "stream",
          "text": [
            "+-------+\n",
            "|DepTime|\n",
            "+-------+\n",
            "|   1048|\n",
            "|    638|\n",
            "|   1710|\n",
            "|   1318|\n",
            "|    953|\n",
            "+-------+\n",
            "only showing top 5 rows\n",
            "\n"
          ],
          "name": "stdout"
        }
      ]
    },
    {
      "cell_type": "markdown",
      "metadata": {
        "id": "S9H0Jho0JmJM",
        "colab_type": "text"
      },
      "source": [
        "#### Exercise\n",
        "\n",
        "Calculated the 'DepHour' column that represents the hour as an int."
      ]
    },
    {
      "cell_type": "code",
      "metadata": {
        "id": "on8MjnlpX_m2",
        "colab_type": "code",
        "colab": {}
      },
      "source": [
        "get_hour_udf = functions.udf(lambda time: int(str(time)[:-2]))"
      ],
      "execution_count": null,
      "outputs": []
    },
    {
      "cell_type": "code",
      "metadata": {
        "id": "G7fPsc51YSmX",
        "colab_type": "code",
        "colab": {}
      },
      "source": [
        "flights2 = flights.withColumn('DepHour', get_hour_udf(flights['DepTime']).cast(types.IntegerType()))"
      ],
      "execution_count": null,
      "outputs": []
    },
    {
      "cell_type": "code",
      "metadata": {
        "id": "M-pNcJ6sJmJN",
        "colab_type": "code",
        "colab": {}
      },
      "source": [
        "flights = flights.withColumn('DepHour', (flights['DepTime'] / 100).cast(types.IntegerType()))"
      ],
      "execution_count": null,
      "outputs": []
    },
    {
      "cell_type": "code",
      "metadata": {
        "id": "u_4AMLV9JmJP",
        "colab_type": "code",
        "colab": {
          "base_uri": "https://localhost:8080/",
          "height": 224
        },
        "outputId": "0a474bab-a4e6-4269-e765-23490662c9cc"
      },
      "source": [
        "flights.show(5)"
      ],
      "execution_count": null,
      "outputs": [
        {
          "output_type": "stream",
          "text": [
            "+----+-----+----------+---------+-----------------+-----------+-------------------------------+------+--------------+---------------+----+------------+-------------+-------+--------+-------+--------+-------+-------+\n",
            "|Year|Month|DayofMonth|DayOfWeek|Reporting_Airline|Tail_Number|Flight_Number_Reporting_Airline|Origin|OriginCityName|OriginStateName|Dest|DestCityName|DestStateName|DepTime|DepDelay|AirTime|Distance|DepHour|Delayed|\n",
            "+----+-----+----------+---------+-----------------+-----------+-------------------------------+------+--------------+---------------+----+------------+-------------+-------+--------+-------+--------+-------+-------+\n",
            "|2018|   12|        25|        2|               WN|     N566WN|                           1823|   OAK|   Oakland, CA|     California| GEG| Spokane, WA|   Washington|   1048|    18.0|  111.0|   723.0|     10|      1|\n",
            "|2018|   12|        25|        2|               WN|     N562WN|                            982|   OAK|   Oakland, CA|     California| HOU| Houston, TX|        Texas|    638|    -2.0|  204.0|  1642.0|      6|      0|\n",
            "|2018|   12|        25|        2|               WN|     N8611F|                           1562|   OAK|   Oakland, CA|     California| HOU| Houston, TX|        Texas|   1710|     0.0|  207.0|  1642.0|     17|      0|\n",
            "|2018|   12|        25|        2|               WN|     N7721E|                           1687|   OAK|   Oakland, CA|     California| HOU| Houston, TX|        Texas|   1318|    -2.0|  204.0|  1642.0|     13|      0|\n",
            "|2018|   12|        25|        2|               WN|     N218WN|                           1877|   OAK|   Oakland, CA|     California| HOU| Houston, TX|        Texas|    953|    -2.0|  205.0|  1642.0|      9|      0|\n",
            "+----+-----+----------+---------+-----------------+-----------+-------------------------------+------+--------------+---------------+----+------------+-------------+-------+--------+-------+--------+-------+-------+\n",
            "only showing top 5 rows\n",
            "\n"
          ],
          "name": "stdout"
        }
      ]
    },
    {
      "cell_type": "markdown",
      "metadata": {
        "id": "M8PvlftiJmJU",
        "colab_type": "text"
      },
      "source": [
        "We will also generate a binary target variable. The aviation industry considers a flight delayed when it departs more than 15 minutes after its scheduled departure time, so we will use that. We will create it as an integer, since that is what the learning algorithms expect."
      ]
    },
    {
      "cell_type": "code",
      "metadata": {
        "id": "ScLJrLQnJmJU",
        "colab_type": "code",
        "colab": {}
      },
      "source": [
        "flights = flights.withColumn('Delayed', (flights['DepDelay'] > 15).cast(types.IntegerType()))"
      ],
      "execution_count": null,
      "outputs": []
    },
    {
      "cell_type": "code",
      "metadata": {
        "id": "UJ-xo-0SJmJX",
        "colab_type": "code",
        "colab": {
          "base_uri": "https://localhost:8080/",
          "height": 224
        },
        "outputId": "933538fc-caa7-4c2f-c7cb-b6182771bccf"
      },
      "source": [
        "flights.show(5)"
      ],
      "execution_count": null,
      "outputs": [
        {
          "output_type": "stream",
          "text": [
            "+----+-----+----------+---------+-----------------+-----------+-------------------------------+------+--------------+---------------+----+------------+-------------+-------+--------+-------+--------+-------+-------+\n",
            "|Year|Month|DayofMonth|DayOfWeek|Reporting_Airline|Tail_Number|Flight_Number_Reporting_Airline|Origin|OriginCityName|OriginStateName|Dest|DestCityName|DestStateName|DepTime|DepDelay|AirTime|Distance|DepHour|Delayed|\n",
            "+----+-----+----------+---------+-----------------+-----------+-------------------------------+------+--------------+---------------+----+------------+-------------+-------+--------+-------+--------+-------+-------+\n",
            "|2018|   12|        25|        2|               WN|     N566WN|                           1823|   OAK|   Oakland, CA|     California| GEG| Spokane, WA|   Washington|   1048|    18.0|  111.0|   723.0|     10|      1|\n",
            "|2018|   12|        25|        2|               WN|     N562WN|                            982|   OAK|   Oakland, CA|     California| HOU| Houston, TX|        Texas|    638|    -2.0|  204.0|  1642.0|      6|      0|\n",
            "|2018|   12|        25|        2|               WN|     N8611F|                           1562|   OAK|   Oakland, CA|     California| HOU| Houston, TX|        Texas|   1710|     0.0|  207.0|  1642.0|     17|      0|\n",
            "|2018|   12|        25|        2|               WN|     N7721E|                           1687|   OAK|   Oakland, CA|     California| HOU| Houston, TX|        Texas|   1318|    -2.0|  204.0|  1642.0|     13|      0|\n",
            "|2018|   12|        25|        2|               WN|     N218WN|                           1877|   OAK|   Oakland, CA|     California| HOU| Houston, TX|        Texas|    953|    -2.0|  205.0|  1642.0|      9|      0|\n",
            "+----+-----+----------+---------+-----------------+-----------+-------------------------------+------+--------------+---------------+----+------------+-------------+-------+--------+-------+--------+-------+-------+\n",
            "only showing top 5 rows\n",
            "\n"
          ],
          "name": "stdout"
        }
      ]
    },
    {
      "cell_type": "markdown",
      "metadata": {
        "id": "DbhY_inTJmJd",
        "colab_type": "text"
      },
      "source": [
        "In order to make the training times manageable, let's pick only 10% of the data to train."
      ]
    },
    {
      "cell_type": "code",
      "metadata": {
        "id": "HlC9TCTdJmJe",
        "colab_type": "code",
        "colab": {}
      },
      "source": [
        "train, test = flights.randomSplit([.1, .9])"
      ],
      "execution_count": null,
      "outputs": []
    },
    {
      "cell_type": "code",
      "metadata": {
        "id": "qJMEHfhugFZr",
        "colab_type": "code",
        "colab": {
          "base_uri": "https://localhost:8080/",
          "height": 34
        },
        "outputId": "7f8c6244-ff9a-46a0-fe41-e345fdeb740a"
      },
      "source": [
        "train.count()"
      ],
      "execution_count": null,
      "outputs": [
        {
          "output_type": "execute_result",
          "data": {
            "text/plain": [
              "45948"
            ]
          },
          "metadata": {
            "tags": []
          },
          "execution_count": 81
        }
      ]
    },
    {
      "cell_type": "markdown",
      "metadata": {
        "id": "h-DnLUxCJmJg",
        "colab_type": "text"
      },
      "source": [
        "## Handle different fields in different ways\n",
        "\n",
        "We have features of at least three kinds:\n",
        "\n",
        "* Numeric continuous fields, which we can use as input to many algorithms as they are. In particular, decision trees can take continuous variables with any value as input, since they only look for the cutoff point that most increases the homogeneity of the resulting groups. In contrast, if we were using a logistic regression with regularization, for example, we would need to first scale the variables to have comparable magnitudes.\n",
        "\n",
        "* There are fields which we will treat as categorical variables, but which are already integers. These need to be one-hot encoded.\n",
        "\n",
        "* Finally, there are several categorical variables that are encoded as strings. These need to be one-hot encoded, but OneHotEncoder requires numeric input. Therefore, we will need to apply a StringIndexer to each of them before one-hot encoding.\n",
        "\n",
        "```python\n",
        "# Reminder:\n",
        "\n",
        "categorical_fields = ['Year', 'Month', 'DayofMonth', 'DayOfWeek', 'Reporting_Airline', \n",
        "                      'Origin', 'OriginCityName', 'OriginStateName', \n",
        "                      'Dest', 'DestCityName', 'DestStateName']\n",
        "\n",
        "string_fields = [field.name for field in flights_sample.schema.fields if field.dataType == types.StringType()]\n",
        "\n",
        "continuous_fields = ['Distance', 'DepHour']\n",
        "\n",
        "target_field = 'Delayed'\n",
        "```"
      ]
    },
    {
      "cell_type": "code",
      "metadata": {
        "id": "KLlEdtxFJmJh",
        "colab_type": "code",
        "colab": {}
      },
      "source": [
        "categorical_fields = ['Year', 'Month', 'DayofMonth', 'DayOfWeek', 'Reporting_Airline', \n",
        "                      'Origin', 'OriginCityName', 'OriginStateName', \n",
        "                      'Dest', 'DestCityName', 'DestStateName']\n",
        "\n",
        "string_fields = [field.name for field in train.schema.fields if field.dataType == types.StringType()]\n",
        "\n",
        "continuous_fields = ['Distance', 'DepHour']\n",
        "\n",
        "target_field = 'Delayed'"
      ],
      "execution_count": null,
      "outputs": []
    },
    {
      "cell_type": "markdown",
      "metadata": {
        "id": "6TyN6vx6JmJj",
        "colab_type": "text"
      },
      "source": [
        "We have generated the list of names of columns that have dataType string with a list comprehension, rather than hard-coding it, but it is just like the other ones."
      ]
    },
    {
      "cell_type": "code",
      "metadata": {
        "id": "fo1URVs2JmJk",
        "colab_type": "code",
        "colab": {
          "base_uri": "https://localhost:8080/",
          "height": 374
        },
        "outputId": "855fd16f-f680-450d-ba4f-c2ab4e48b6fc"
      },
      "source": [
        "train.printSchema()"
      ],
      "execution_count": null,
      "outputs": [
        {
          "output_type": "stream",
          "text": [
            "root\n",
            " |-- Year: integer (nullable = true)\n",
            " |-- Month: integer (nullable = true)\n",
            " |-- DayofMonth: integer (nullable = true)\n",
            " |-- DayOfWeek: integer (nullable = true)\n",
            " |-- Reporting_Airline: string (nullable = true)\n",
            " |-- Tail_Number: string (nullable = true)\n",
            " |-- Flight_Number_Reporting_Airline: integer (nullable = true)\n",
            " |-- Origin: string (nullable = true)\n",
            " |-- OriginCityName: string (nullable = true)\n",
            " |-- OriginStateName: string (nullable = true)\n",
            " |-- Dest: string (nullable = true)\n",
            " |-- DestCityName: string (nullable = true)\n",
            " |-- DestStateName: string (nullable = true)\n",
            " |-- DepTime: integer (nullable = true)\n",
            " |-- DepDelay: double (nullable = true)\n",
            " |-- AirTime: double (nullable = true)\n",
            " |-- Distance: double (nullable = true)\n",
            " |-- DepHour: integer (nullable = true)\n",
            " |-- Delayed: integer (nullable = true)\n",
            "\n"
          ],
          "name": "stdout"
        }
      ]
    },
    {
      "cell_type": "code",
      "metadata": {
        "id": "LQOf_0MBJmJo",
        "colab_type": "code",
        "colab": {
          "base_uri": "https://localhost:8080/",
          "height": 340
        },
        "outputId": "26651513-72d1-4fcf-eddd-aa6248a60ae1"
      },
      "source": [
        "train.schema.fields"
      ],
      "execution_count": null,
      "outputs": [
        {
          "output_type": "execute_result",
          "data": {
            "text/plain": [
              "[StructField(Year,IntegerType,true),\n",
              " StructField(Month,IntegerType,true),\n",
              " StructField(DayofMonth,IntegerType,true),\n",
              " StructField(DayOfWeek,IntegerType,true),\n",
              " StructField(Reporting_Airline,StringType,true),\n",
              " StructField(Tail_Number,StringType,true),\n",
              " StructField(Flight_Number_Reporting_Airline,IntegerType,true),\n",
              " StructField(Origin,StringType,true),\n",
              " StructField(OriginCityName,StringType,true),\n",
              " StructField(OriginStateName,StringType,true),\n",
              " StructField(Dest,StringType,true),\n",
              " StructField(DestCityName,StringType,true),\n",
              " StructField(DestStateName,StringType,true),\n",
              " StructField(DepTime,IntegerType,true),\n",
              " StructField(DepDelay,DoubleType,true),\n",
              " StructField(AirTime,DoubleType,true),\n",
              " StructField(Distance,DoubleType,true),\n",
              " StructField(DepHour,IntegerType,true),\n",
              " StructField(Delayed,IntegerType,true)]"
            ]
          },
          "metadata": {
            "tags": []
          },
          "execution_count": 84
        }
      ]
    },
    {
      "cell_type": "code",
      "metadata": {
        "id": "u8GLIsH_JmJq",
        "colab_type": "code",
        "colab": {
          "base_uri": "https://localhost:8080/",
          "height": 35
        },
        "outputId": "7ed9d583-687b-4b25-cd47-13babd829bb7"
      },
      "source": [
        "one_field = train.schema.fields[0]\n",
        "\n",
        "one_field.name"
      ],
      "execution_count": null,
      "outputs": [
        {
          "output_type": "execute_result",
          "data": {
            "application/vnd.google.colaboratory.intrinsic": {
              "type": "string"
            },
            "text/plain": [
              "'Year'"
            ]
          },
          "metadata": {
            "tags": []
          },
          "execution_count": 85
        }
      ]
    },
    {
      "cell_type": "code",
      "metadata": {
        "id": "5ohsR-VQJmJt",
        "colab_type": "code",
        "colab": {},
        "outputId": "f9cad10d-024e-4ece-de28-869b339888cf"
      },
      "source": [
        "one_field.dataType"
      ],
      "execution_count": null,
      "outputs": [
        {
          "output_type": "execute_result",
          "data": {
            "text/plain": [
              "IntegerType"
            ]
          },
          "metadata": {
            "tags": []
          },
          "execution_count": 18
        }
      ]
    },
    {
      "cell_type": "markdown",
      "metadata": {
        "id": "znO79HyXJmJw",
        "colab_type": "text"
      },
      "source": [
        "## Handling categorical fields\n",
        "\n",
        "Let's do the processing of just one field first, as an example. Then we will process the rest."
      ]
    },
    {
      "cell_type": "markdown",
      "metadata": {
        "id": "Ie_p2POrJmJw",
        "colab_type": "text"
      },
      "source": [
        "### StringIndexer \n",
        "\n",
        "A [StringIndexer](https://spark.apache.org/docs/2.2.0/ml-features.html#stringindexer) is an estimator that takes a single string field, then produces a transformer that codifies said field as numeric labels that are fit for feeding to a one-hot encoding. \n",
        "\n",
        "We need to specify an input column, an output column, and a way to handle invalids. In this case, invalids are values that the indexer has not seen during fitting but that the transformer finds during processing. Its values are 'error' (the default), which is pretty self-explanatory, 'skip', which drops them, and 'keep', which is what we want. It will assign all unseen labels to a single category index."
      ]
    },
    {
      "cell_type": "code",
      "metadata": {
        "id": "QL8DDQyDJmJx",
        "colab_type": "code",
        "colab": {}
      },
      "source": [
        "from pyspark.ml.feature import StringIndexer\n",
        "\n",
        "carrier_indexer = StringIndexer(inputCol='Reporting_Airline', outputCol='Reporting_Airline_index', handleInvalid='keep')"
      ],
      "execution_count": null,
      "outputs": []
    },
    {
      "cell_type": "code",
      "metadata": {
        "id": "bUrgu1L8JmJ0",
        "colab_type": "code",
        "colab": {}
      },
      "source": [
        "carriers = train.select('Reporting_Airline')"
      ],
      "execution_count": null,
      "outputs": []
    },
    {
      "cell_type": "code",
      "metadata": {
        "id": "g-B8Z8jyJmJ3",
        "colab_type": "code",
        "colab": {}
      },
      "source": [
        "carrier_indexer_transformer = carrier_indexer.fit(carriers)"
      ],
      "execution_count": null,
      "outputs": []
    },
    {
      "cell_type": "code",
      "metadata": {
        "id": "oSbC5I2-JmJ6",
        "colab_type": "code",
        "colab": {
          "base_uri": "https://localhost:8080/",
          "height": 204
        },
        "outputId": "342fdfe1-e477-4249-824f-0a2c6ae4125d"
      },
      "source": [
        "carrier_indexer_transformer.transform(carriers).show(5)"
      ],
      "execution_count": null,
      "outputs": [
        {
          "output_type": "stream",
          "text": [
            "+-----------------+-----------------------+\n",
            "|Reporting_Airline|Reporting_Airline_index|\n",
            "+-----------------+-----------------------+\n",
            "|               EV|                   11.0|\n",
            "|               EV|                   11.0|\n",
            "|               EV|                   11.0|\n",
            "|               EV|                   11.0|\n",
            "|               EV|                   11.0|\n",
            "+-----------------+-----------------------+\n",
            "only showing top 5 rows\n",
            "\n"
          ],
          "name": "stdout"
        }
      ]
    },
    {
      "cell_type": "markdown",
      "metadata": {
        "id": "6iTbB8igJmJ9",
        "colab_type": "text"
      },
      "source": [
        "### OneHotEncoder\n",
        "\n",
        "A [OneHotEncoder](https://spark.apache.org/docs/latest/ml-features#onehotencoderestimator) generates a n-1 length vector column for an n-category column of category indices. \n",
        "\n",
        "We need to specify an input and an output column."
      ]
    },
    {
      "cell_type": "code",
      "metadata": {
        "id": "GVDYIekhJmJ-",
        "colab_type": "code",
        "colab": {}
      },
      "source": [
        "from pyspark.ml.feature import OneHotEncoderEstimator\n",
        "\n",
        "onehot_encoder = OneHotEncoderEstimator(inputCols=['Reporting_Airline_index'], outputCols=['Reporting_Airline_oneHot'])"
      ],
      "execution_count": null,
      "outputs": []
    },
    {
      "cell_type": "code",
      "metadata": {
        "id": "JBaumMnRJmKA",
        "colab_type": "code",
        "colab": {
          "base_uri": "https://localhost:8080/",
          "height": 34
        },
        "outputId": "e1fe69d5-ecc6-42e9-f3ea-8b2d49878512"
      },
      "source": [
        "# The whole process for a single field would be like this:\n",
        "\n",
        "carrier_indexer_transformer = carrier_indexer.fit(carriers)\n",
        "indexed = carrier_indexer_transformer.transform(carriers)\n",
        "\n",
        "onehot_encoder_model = onehot_encoder.fit(indexed)\n",
        "onehot_encoded = onehot_encoder_model.transform(indexed)\n",
        "\n",
        "onehot_encoded"
      ],
      "execution_count": null,
      "outputs": [
        {
          "output_type": "execute_result",
          "data": {
            "text/plain": [
              "DataFrame[Reporting_Airline: string, Reporting_Airline_index: double, Reporting_Airline_oneHot: vector]"
            ]
          },
          "metadata": {
            "tags": []
          },
          "execution_count": 93
        }
      ]
    },
    {
      "cell_type": "code",
      "metadata": {
        "id": "JhP75VX0JmKF",
        "colab_type": "code",
        "colab": {
          "base_uri": "https://localhost:8080/",
          "height": 204
        },
        "outputId": "2fa36f7d-cbff-42fe-a51e-30d752a5242f"
      },
      "source": [
        "onehot_encoded.show(5)"
      ],
      "execution_count": null,
      "outputs": [
        {
          "output_type": "stream",
          "text": [
            "+-----------------+-----------------------+------------------------+\n",
            "|Reporting_Airline|Reporting_Airline_index|Reporting_Airline_oneHot|\n",
            "+-----------------+-----------------------+------------------------+\n",
            "|               EV|                   11.0|         (15,[11],[1.0])|\n",
            "|               EV|                   11.0|         (15,[11],[1.0])|\n",
            "|               EV|                   11.0|         (15,[11],[1.0])|\n",
            "|               EV|                   11.0|         (15,[11],[1.0])|\n",
            "|               EV|                   11.0|         (15,[11],[1.0])|\n",
            "+-----------------+-----------------------+------------------------+\n",
            "only showing top 5 rows\n",
            "\n"
          ],
          "name": "stdout"
        }
      ]
    },
    {
      "cell_type": "markdown",
      "metadata": {
        "id": "2HjPmJuWJmKJ",
        "colab_type": "text"
      },
      "source": [
        "### SparseVectors\n",
        "\n",
        "The vectors produced by OneHotEncoder will each have only one non-zero value, but can potentially be very long. An efficient way to represent them is therefore a SparseVector, and that is what OneHotEncoder generates. \n",
        "\n",
        "A SparseVector is a data structure that only stores the length of the vector, a list of positions, and a list of values. All other values are assumed to be 0s.\n",
        "\n",
        "This way, a vector like the following, with lenght 15 and non-zero values only on positions 3 and 9:\n",
        "\n",
        "```python\n",
        "[0.0, 0.0, 0.0, 6.0, 0.0, 0.0, 0.0, 0.0, 0.0, 4.0, 0.0, 0.0, 0.0, 0.0, 0.0]\n",
        "```\n",
        "\n",
        "can be compactly expressed as\n",
        "\n",
        "```python\n",
        "(15, [3, 9], [6.0, 4.0])\n",
        "```"
      ]
    },
    {
      "cell_type": "code",
      "metadata": {
        "id": "n2q7cPoFJmKJ",
        "colab_type": "code",
        "colab": {}
      },
      "source": [
        "from pyspark.ml.linalg import SparseVector"
      ],
      "execution_count": null,
      "outputs": []
    },
    {
      "cell_type": "markdown",
      "metadata": {
        "id": "yjcsxvmtJmKM",
        "colab_type": "text"
      },
      "source": [
        "## Let's build our first Pipeline!\n",
        "\n",
        "Our pipeline consists of a number of StringIndexers, followed by one OneHotEncoder, followed by a VectorAssembler, with a RandomForestClassifier at the end.\n",
        "\n",
        "A Spark Pipeline is a single Estimator. We build it secifying the stages it comprises, and then we are ready to .fit it in one go. This will save us a lot of trouble, since we don't need to fit and transform each stage individually."
      ]
    },
    {
      "cell_type": "code",
      "metadata": {
        "id": "fLJY9-BvJmKN",
        "colab_type": "code",
        "colab": {
          "base_uri": "https://localhost:8080/",
          "height": 34
        },
        "outputId": "4a18cb67-fd8a-49e2-f0ce-e056d372da32"
      },
      "source": [
        "from pyspark.ml.pipeline import Pipeline\n",
        "\n",
        "Pipeline"
      ],
      "execution_count": null,
      "outputs": [
        {
          "output_type": "execute_result",
          "data": {
            "text/plain": [
              "pyspark.ml.pipeline.Pipeline"
            ]
          },
          "metadata": {
            "tags": []
          },
          "execution_count": 96
        }
      ]
    },
    {
      "cell_type": "markdown",
      "metadata": {
        "id": "5OjBoHI-JmKP",
        "colab_type": "text"
      },
      "source": [
        "### StringIndexer stages\n",
        "\n",
        "We only need to StringIndex some of the fields. We are going to build the input and output column names programatically.\n"
      ]
    },
    {
      "cell_type": "code",
      "metadata": {
        "id": "7lt8EiuVJmKQ",
        "colab_type": "code",
        "colab": {}
      },
      "source": [
        "# Reminder:\n",
        "\n",
        "categorical_fields = ['Year', 'Month', 'DayofMonth', 'DayOfWeek', 'Reporting_Airline', \n",
        "                      'Origin', 'OriginCityName', 'OriginStateName', \n",
        "                      'Dest', 'DestCityName', 'DestStateName']\n",
        "\n",
        "string_fields = [field.name for field in train.schema.fields if field.dataType == types.StringType()]\n",
        "\n",
        "continuous_fields = ['Distance', 'DepHour']\n",
        "\n",
        "target_field = 'Delayed'"
      ],
      "execution_count": null,
      "outputs": []
    },
    {
      "cell_type": "code",
      "metadata": {
        "id": "53x_3WzqJmKS",
        "colab_type": "code",
        "colab": {
          "base_uri": "https://localhost:8080/",
          "height": 153
        },
        "outputId": "f5d245fa-22ab-4011-b9ca-b9d7cacd8793"
      },
      "source": [
        "string_fields"
      ],
      "execution_count": null,
      "outputs": [
        {
          "output_type": "execute_result",
          "data": {
            "text/plain": [
              "['Reporting_Airline',\n",
              " 'Tail_Number',\n",
              " 'Origin',\n",
              " 'OriginCityName',\n",
              " 'OriginStateName',\n",
              " 'Dest',\n",
              " 'DestCityName',\n",
              " 'DestStateName']"
            ]
          },
          "metadata": {
            "tags": []
          },
          "execution_count": 98
        }
      ]
    },
    {
      "cell_type": "code",
      "metadata": {
        "id": "U0TcUJPpJmKY",
        "colab_type": "code",
        "colab": {}
      },
      "source": [
        "indexers = [StringIndexer(inputCol=field, outputCol=field + '_index', handleInvalid='keep') for field in string_fields]"
      ],
      "execution_count": null,
      "outputs": []
    },
    {
      "cell_type": "markdown",
      "metadata": {
        "id": "_Q7aYp-VJmKb",
        "colab_type": "text"
      },
      "source": [
        "### OneHotEncoderEstimator\n",
        "\n",
        "One OneHotEncoderEstimator can handle all categorical columns. We are also going to build it programatically"
      ]
    },
    {
      "cell_type": "code",
      "metadata": {
        "id": "JXR1M4QmJmKc",
        "colab_type": "code",
        "colab": {
          "base_uri": "https://localhost:8080/",
          "height": 34
        },
        "outputId": "06884653-2074-4811-d110-d4fcf3391dfa"
      },
      "source": [
        "non_string_categoricals = [field for field in categorical_fields if field not in string_fields]\n",
        "non_string_categoricals"
      ],
      "execution_count": null,
      "outputs": [
        {
          "output_type": "execute_result",
          "data": {
            "text/plain": [
              "['Year', 'Month', 'DayofMonth', 'DayOfWeek']"
            ]
          },
          "metadata": {
            "tags": []
          },
          "execution_count": 100
        }
      ]
    },
    {
      "cell_type": "code",
      "metadata": {
        "id": "WiLbx0cuJmKe",
        "colab_type": "code",
        "colab": {}
      },
      "source": [
        "nsc_onehot_output = [ field + '_oneHot' for field in non_string_categoricals]"
      ],
      "execution_count": null,
      "outputs": []
    },
    {
      "cell_type": "code",
      "metadata": {
        "id": "WJZgoJUDJmKh",
        "colab_type": "code",
        "colab": {
          "base_uri": "https://localhost:8080/",
          "height": 153
        },
        "outputId": "9e3db265-7a7f-4345-8e3e-9b4e290d5ee6"
      },
      "source": [
        "string_fields"
      ],
      "execution_count": null,
      "outputs": [
        {
          "output_type": "execute_result",
          "data": {
            "text/plain": [
              "['Reporting_Airline',\n",
              " 'Tail_Number',\n",
              " 'Origin',\n",
              " 'OriginCityName',\n",
              " 'OriginStateName',\n",
              " 'Dest',\n",
              " 'DestCityName',\n",
              " 'DestStateName']"
            ]
          },
          "metadata": {
            "tags": []
          },
          "execution_count": 102
        }
      ]
    },
    {
      "cell_type": "code",
      "metadata": {
        "id": "2y3_8ajVJmKm",
        "colab_type": "code",
        "colab": {}
      },
      "source": [
        "sc_onehot_input = [ field+'_index' for field in string_fields]\n",
        "sc_onehot_output = [ field + '_oneHot' for field in string_fields]"
      ],
      "execution_count": null,
      "outputs": []
    },
    {
      "cell_type": "code",
      "metadata": {
        "id": "4XypBWWZJmKq",
        "colab_type": "code",
        "colab": {}
      },
      "source": [
        "onehotencoder = OneHotEncoderEstimator(inputCols = non_string_categoricals + sc_onehot_input, \n",
        "                                       outputCols = nsc_onehot_output + sc_onehot_output)"
      ],
      "execution_count": null,
      "outputs": []
    },
    {
      "cell_type": "markdown",
      "metadata": {
        "id": "XihPlRVdJmKt",
        "colab_type": "text"
      },
      "source": [
        "### VectorAssembler\n",
        "\n",
        "Once we have generated our features, we can assemble them into a single features column, together with the continuous_fields."
      ]
    },
    {
      "cell_type": "code",
      "metadata": {
        "id": "_H8RShknJmKu",
        "colab_type": "code",
        "colab": {}
      },
      "source": [
        "from pyspark.ml.feature import VectorAssembler\n",
        "\n",
        "va = VectorAssembler(inputCols= nsc_onehot_output + sc_onehot_output + continuous_fields, \n",
        "                     outputCol='features')"
      ],
      "execution_count": null,
      "outputs": []
    },
    {
      "cell_type": "markdown",
      "metadata": {
        "id": "J1NcDIJeJmKx",
        "colab_type": "text"
      },
      "source": [
        "### RandomForestClassifier\n",
        "\n",
        "Aaaaand we are ready to do some Machine Learning! We'll use a RandomForestClassifier to try to predict delayed versus non delayed flights, a binary classification task."
      ]
    },
    {
      "cell_type": "code",
      "metadata": {
        "id": "950qHZJjJmKy",
        "colab_type": "code",
        "colab": {}
      },
      "source": [
        "from pyspark.ml.classification import RandomForestClassifier\n",
        "\n",
        "rf_classifier = RandomForestClassifier(featuresCol='features', labelCol='Delayed')"
      ],
      "execution_count": null,
      "outputs": []
    },
    {
      "cell_type": "markdown",
      "metadata": {
        "id": "T1PHDplBJmK0",
        "colab_type": "text"
      },
      "source": [
        "### Pipeline!\n",
        "\n",
        "Now that we have all the stages, we are finally ready to put them together into a single Estimator, our Pipeline."
      ]
    },
    {
      "cell_type": "code",
      "metadata": {
        "id": "qsL0Fm2bJmK1",
        "colab_type": "code",
        "colab": {
          "base_uri": "https://localhost:8080/",
          "height": 153
        },
        "outputId": "e07d216b-9667-46ab-fa92-a2ea6bca5c8d"
      },
      "source": [
        "indexers"
      ],
      "execution_count": null,
      "outputs": [
        {
          "output_type": "execute_result",
          "data": {
            "text/plain": [
              "[StringIndexer_013958b7bd7e,\n",
              " StringIndexer_0b02ff78a02d,\n",
              " StringIndexer_b0853cbba9df,\n",
              " StringIndexer_68912e4bb988,\n",
              " StringIndexer_b738fac7a034,\n",
              " StringIndexer_c2227c2b93ab,\n",
              " StringIndexer_0a8b0c536734,\n",
              " StringIndexer_15facdded349]"
            ]
          },
          "metadata": {
            "tags": []
          },
          "execution_count": 107
        }
      ]
    },
    {
      "cell_type": "code",
      "metadata": {
        "id": "hv_sT_bwJmK5",
        "colab_type": "code",
        "colab": {
          "base_uri": "https://localhost:8080/",
          "height": 34
        },
        "outputId": "0704d0c8-7b08-4764-e529-b7f6a4ab4783"
      },
      "source": [
        "onehotencoder"
      ],
      "execution_count": null,
      "outputs": [
        {
          "output_type": "execute_result",
          "data": {
            "text/plain": [
              "OneHotEncoderEstimator_4a4e38c45576"
            ]
          },
          "metadata": {
            "tags": []
          },
          "execution_count": 108
        }
      ]
    },
    {
      "cell_type": "code",
      "metadata": {
        "id": "AtlaqjggJmK8",
        "colab_type": "code",
        "colab": {
          "base_uri": "https://localhost:8080/",
          "height": 34
        },
        "outputId": "152cb28e-5e5a-4006-f242-799dda0635c7"
      },
      "source": [
        "pipeline = Pipeline(stages=indexers + \n",
        "                    [onehotencoder, va, rf_classifier])\n",
        "\n",
        "pipeline"
      ],
      "execution_count": null,
      "outputs": [
        {
          "output_type": "execute_result",
          "data": {
            "text/plain": [
              "Pipeline_c719137607fe"
            ]
          },
          "metadata": {
            "tags": []
          },
          "execution_count": 109
        }
      ]
    },
    {
      "cell_type": "markdown",
      "metadata": {
        "id": "1sNulLJLJmLA",
        "colab_type": "text"
      },
      "source": [
        "Now that we have gone to the trouble of building our Pipeline, fitting it and using it to predict the probabilty of delay on unseen data is as easy as using a single Estimator:"
      ]
    },
    {
      "cell_type": "code",
      "metadata": {
        "scrolled": false,
        "id": "UQDsJg6DJmLB",
        "colab_type": "code",
        "colab": {
          "base_uri": "https://localhost:8080/",
          "height": 51
        },
        "outputId": "6354be50-5543-4db2-c837-ffb9f00d25fa"
      },
      "source": [
        "%%time\n",
        "\n",
        "pipeline_model = pipeline.fit(train)"
      ],
      "execution_count": null,
      "outputs": [
        {
          "output_type": "stream",
          "text": [
            "CPU times: user 194 ms, sys: 28.5 ms, total: 222 ms\n",
            "Wall time: 1min 29s\n"
          ],
          "name": "stdout"
        }
      ]
    },
    {
      "cell_type": "code",
      "metadata": {
        "id": "nbwktLW1JmLG",
        "colab_type": "code",
        "colab": {
          "base_uri": "https://localhost:8080/",
          "height": 54
        },
        "outputId": "7342e390-3990-48a8-811a-a3b87f81d76a"
      },
      "source": [
        "predicted = pipeline_model.transform(test)\n",
        "predicted"
      ],
      "execution_count": null,
      "outputs": [
        {
          "output_type": "execute_result",
          "data": {
            "text/plain": [
              "DataFrame[Year: int, Month: int, DayofMonth: int, DayOfWeek: int, Reporting_Airline: string, Tail_Number: string, Flight_Number_Reporting_Airline: int, Origin: string, OriginCityName: string, OriginStateName: string, Dest: string, DestCityName: string, DestStateName: string, DepTime: int, DepDelay: double, AirTime: double, Distance: double, DepHour: int, Delayed: int, Reporting_Airline_index: double, Tail_Number_index: double, Origin_index: double, OriginCityName_index: double, OriginStateName_index: double, Dest_index: double, DestCityName_index: double, DestStateName_index: double, DestCityName_oneHot: vector, DestStateName_oneHot: vector, DayOfWeek_oneHot: vector, DayofMonth_oneHot: vector, Origin_oneHot: vector, Year_oneHot: vector, Dest_oneHot: vector, OriginStateName_oneHot: vector, Reporting_Airline_oneHot: vector, OriginCityName_oneHot: vector, Month_oneHot: vector, Tail_Number_oneHot: vector, features: vector, rawPrediction: vector, probability: vector, prediction: double]"
            ]
          },
          "metadata": {
            "tags": []
          },
          "execution_count": 112
        }
      ]
    },
    {
      "cell_type": "code",
      "metadata": {
        "id": "n4pyLiZpJmLK",
        "colab_type": "code",
        "colab": {
          "base_uri": "https://localhost:8080/",
          "height": 102
        },
        "outputId": "fa166f85-fa23-41f0-94e0-4ea81129d228"
      },
      "source": [
        "predicted.select('probability').take(5)"
      ],
      "execution_count": null,
      "outputs": [
        {
          "output_type": "execute_result",
          "data": {
            "text/plain": [
              "[Row(probability=DenseVector([0.8315, 0.1685])),\n",
              " Row(probability=DenseVector([0.8315, 0.1685])),\n",
              " Row(probability=DenseVector([0.8182, 0.1818])),\n",
              " Row(probability=DenseVector([0.7916, 0.2084])),\n",
              " Row(probability=DenseVector([0.8315, 0.1685]))]"
            ]
          },
          "metadata": {
            "tags": []
          },
          "execution_count": 113
        }
      ]
    },
    {
      "cell_type": "markdown",
      "metadata": {
        "id": "YR5zw8jwJmLP",
        "colab_type": "text"
      },
      "source": [
        "## Evaluating and tuning our Pipeline\n",
        "\n",
        "Probably the most interesting use of Spark Pipelines is quickly (in terms of coding time) evaluating many combinations of hyperparameters to feed our model and choosing the best ones. For that, we can use a TrainValidationSplit or a CrossValidator. The CrossValidator will generally perform better, but it will take several times as much. I'm using here the TrainValidationSplit because the API is the same."
      ]
    },
    {
      "cell_type": "code",
      "metadata": {
        "id": "Z9QeF659JmLQ",
        "colab_type": "code",
        "colab": {}
      },
      "source": [
        "from pyspark.ml.tuning import TrainValidationSplit, CrossValidator\n",
        "help(TrainValidationSplit)"
      ],
      "execution_count": null,
      "outputs": []
    },
    {
      "cell_type": "markdown",
      "metadata": {
        "id": "HabwY3_fJmLS",
        "colab_type": "text"
      },
      "source": [
        "### Params and Evaluators\n",
        "\n",
        "In order to evaluate different sets of parameters, we need a) the set of parameters to iterate through and b) a metric to compare the results. \n",
        "\n",
        "The first element is represented by ParamMaps, which we build with a ParamGridBuilder, and the second by an Evaluator that needs to be specific to the relevant task."
      ]
    },
    {
      "cell_type": "code",
      "metadata": {
        "id": "LkEN_4zSJmLT",
        "colab_type": "code",
        "colab": {}
      },
      "source": [
        "from pyspark.ml.tuning import ParamGridBuilder\n",
        "\n",
        "builder = ParamGridBuilder()\n",
        "\n",
        "our_param_map = builder.addGrid(rf_classifier.maxDepth, [5, 15])\\\n",
        "                       .addGrid(rf_classifier.numTrees, [10, 30])\\\n",
        "                       .build()"
      ],
      "execution_count": null,
      "outputs": []
    },
    {
      "cell_type": "code",
      "metadata": {
        "id": "sxtoBDrFJmLW",
        "colab_type": "code",
        "colab": {}
      },
      "source": [
        "from pyspark.ml.evaluation import BinaryClassificationEvaluator\n",
        "\n",
        "our_evaluator = BinaryClassificationEvaluator(labelCol='Delayed')"
      ],
      "execution_count": null,
      "outputs": []
    },
    {
      "cell_type": "markdown",
      "metadata": {
        "id": "li3nB7l4JmLZ",
        "colab_type": "text"
      },
      "source": [
        "We now have all the elements in place to perform our fit:"
      ]
    },
    {
      "cell_type": "code",
      "metadata": {
        "id": "bWplDmSMJmLZ",
        "colab_type": "code",
        "colab": {}
      },
      "source": [
        "split = TrainValidationSplit(estimator=pipeline, \n",
        "                             evaluator=our_evaluator, \n",
        "                             estimatorParamMaps=our_param_map)"
      ],
      "execution_count": null,
      "outputs": []
    },
    {
      "cell_type": "code",
      "metadata": {
        "id": "s9np_hohJmLc",
        "colab_type": "code",
        "colab": {},
        "outputId": "c3f9d2dd-e11e-437f-ffd4-52ae946579e7"
      },
      "source": [
        "%%time\n",
        "\n",
        "split_model_chosen = split.fit(flights_sample)"
      ],
      "execution_count": null,
      "outputs": [
        {
          "output_type": "stream",
          "text": [
            "CPU times: user 920 ms, sys: 207 ms, total: 1.13 s\n",
            "Wall time: 2min 35s\n"
          ],
          "name": "stdout"
        }
      ]
    },
    {
      "cell_type": "markdown",
      "metadata": {
        "id": "xLyRhIhCJmLf",
        "colab_type": "text"
      },
      "source": [
        "And now we can predict on the rest of the flights and compare them with reality:"
      ]
    },
    {
      "cell_type": "code",
      "metadata": {
        "id": "NGLpJ24ZJmLg",
        "colab_type": "code",
        "colab": {},
        "outputId": "9fbf410c-0639-4ab3-ea45-7e3d9e7b788d"
      },
      "source": [
        "%%time\n",
        "\n",
        "predictions = split_model_chosen.transform(rest).select('features',\n",
        "                                                        'Delayed',\n",
        "                                                        'rawPrediction',\n",
        "                                                        'probability',\n",
        "                                                        'prediction')"
      ],
      "execution_count": null,
      "outputs": [
        {
          "output_type": "stream",
          "text": [
            "CPU times: user 40.6 ms, sys: 4.04 ms, total: 44.7 ms\n",
            "Wall time: 237 ms\n"
          ],
          "name": "stdout"
        }
      ]
    },
    {
      "cell_type": "code",
      "metadata": {
        "id": "jtm-zXXbJmLl",
        "colab_type": "code",
        "colab": {},
        "outputId": "5de5de82-f45a-4b24-e437-6dfb65fba1d7"
      },
      "source": [
        "predictions.show(5)"
      ],
      "execution_count": null,
      "outputs": [
        {
          "output_type": "stream",
          "text": [
            "+--------------------+-------+--------------------+--------------------+----------+\n",
            "|            features|Delayed|       rawPrediction|         probability|prediction|\n",
            "+--------------------+-------+--------------------+--------------------+----------+\n",
            "|(8796,[2031,2067,...|      0|[24.7429998713598...|[0.82476666237866...|       0.0|\n",
            "|(8796,[2031,2067,...|      1|[24.7429998713598...|[0.82476666237866...|       0.0|\n",
            "|(8796,[2031,2067,...|      1|[24.9721698683145...|[0.83240566227715...|       0.0|\n",
            "|(8796,[2031,2067,...|      0|[25.0204828025573...|[0.83401609341857...|       0.0|\n",
            "|(8796,[2031,2067,...|      1|[24.5890090795735...|[0.81963363598578...|       0.0|\n",
            "+--------------------+-------+--------------------+--------------------+----------+\n",
            "only showing top 5 rows\n",
            "\n"
          ],
          "name": "stdout"
        }
      ]
    },
    {
      "cell_type": "markdown",
      "metadata": {
        "id": "y4YzW5-jJmLn",
        "colab_type": "text"
      },
      "source": [
        "### Let's have a look\n",
        "\n",
        "We are now ready to compare our predictions with reality. Do these features have any predictive power at all?"
      ]
    },
    {
      "cell_type": "code",
      "metadata": {
        "id": "OxMNGm7pJmLn",
        "colab_type": "code",
        "colab": {}
      },
      "source": [
        "predicted_probs = predictions.select('Delayed', 'probability').toPandas()"
      ],
      "execution_count": null,
      "outputs": []
    },
    {
      "cell_type": "code",
      "metadata": {
        "id": "_tFxw1IKJmLs",
        "colab_type": "code",
        "colab": {}
      },
      "source": [
        "y_true = predicted_probs['Delayed']\n",
        "y_prob_predicted = predicted_probs['probability'].map(lambda vector: vector[1])"
      ],
      "execution_count": null,
      "outputs": []
    },
    {
      "cell_type": "code",
      "metadata": {
        "id": "8ptvvSlgJmLv",
        "colab_type": "code",
        "colab": {}
      },
      "source": [
        "from sklearn.metrics import roc_curve\n",
        "\n",
        "fpr, tpr, thresholds = roc_curve(y_true, y_prob_predicted)"
      ],
      "execution_count": null,
      "outputs": []
    },
    {
      "cell_type": "code",
      "metadata": {
        "id": "zVuzW73tJmL0",
        "colab_type": "code",
        "colab": {},
        "outputId": "ce11d8d4-782b-43b9-c690-ab2f78293b5a"
      },
      "source": [
        "import matplotlib.pyplot as plt\n",
        "import numpy as np\n",
        "%matplotlib inline\n",
        "\n",
        "plt.plot(fpr, tpr)\n",
        "plt.plot(np.linspace(0,1, 10), np.linspace(0,1, 10))"
      ],
      "execution_count": null,
      "outputs": [
        {
          "output_type": "execute_result",
          "data": {
            "text/plain": [
              "[<matplotlib.lines.Line2D at 0x7fb15424ea58>]"
            ]
          },
          "metadata": {
            "tags": []
          },
          "execution_count": 54
        },
        {
          "output_type": "display_data",
          "data": {
            "image/png": "[encoded data removed]",
            "text/plain": [
              "<Figure size 432x288 with 1 Axes>"
            ]
          },
          "metadata": {
            "tags": [],
            "needs_background": "light"
          }
        }
      ]
    },
    {
      "cell_type": "markdown",
      "metadata": {
        "id": "fT4SCFaDJmL6",
        "colab_type": "text"
      },
      "source": [
        "Not bad, considering we have not performed any feature engineering at all!"
      ]
    },
    {
      "cell_type": "markdown",
      "metadata": {
        "id": "B30dM5cVJmL8",
        "colab_type": "text"
      },
      "source": [
        "### Further Reading\n",
        "\n",
        "https://spark.apache.org/docs/latest/ml-tuning.html\n",
        "\n",
        "https://stackoverflow.com/questions/28569788/how-to-open-stream-zip-files-through-spark"
      ]
    },
    {
      "cell_type": "code",
      "metadata": {
        "id": "ORXdCw6CJmL8",
        "colab_type": "code",
        "colab": {}
      },
      "source": [
        "# Spark job for the cluster\n",
        "\n",
        "from pyspark.sql import SparkSession, types, functions\n",
        "from pyspark.ml.classification import RandomForestClassifier\n",
        "from pyspark.ml.evaluation import BinaryClassificationEvaluator\n",
        "from pyspark.ml.feature import OneHotEncoder, StringIndexer, VectorAssembler\n",
        "from pyspark.ml.pipeline import Pipeline\n",
        "from pyspark.ml.tuning import TrainValidationSplit, ParamGridBuilder\n",
        "\n",
        "\n",
        "spark = SparkSession.builder.getOrCreate()\n",
        "df = spark.read.csv(csvname, header= True, inferSchema=True)\n",
        "\n",
        "# Preprocessing\n",
        "csvname = 'On_Time_Reporting_Carrier_On_Time_Performance_(1987_present)_2018_12.csv'\n",
        "columns_of_interest = ['Year', 'Month', 'DayofMonth', 'DayOfWeek', 'Reporting_Airline', 'Tail_Number', 'Flight_Number_Reporting_Airline', 'Origin', \n",
        "                       'OriginCityName', 'OriginStateName', 'Dest', 'DestCityName', 'DestStateName',\n",
        "                       'DepTime', 'DepDelay', 'AirTime', 'Distance']\n",
        "\n",
        "\n",
        "# Feature extraction\n",
        "flights = session.read.csv(csvname, header=True, inferSchema=True)\n",
        "flights = flights.select(columns_of_interest)\n",
        "\n",
        "flights = flights.na.drop()\n",
        "flights = flights.withColumn('DepHour', (flights['DepTime'] / 100).cast(types.IntegerType()))\n",
        "flights = flights.withColumn('Delayed', (flights['DepDelay'] > 15).cast(types.IntegerType()))\n",
        "\n",
        "# Train/test split\n",
        "flights_sample, rest = flights.randomSplit([.8, .2])\n",
        "\n",
        "# Build the Pipeline\n",
        "categorical_fields = ['Year', 'Month', 'DayofMonth', 'DayOfWeek', 'Reporting_Airline', \n",
        "                      'Origin', 'OriginCityName', 'OriginStateName', \n",
        "                      'Dest', 'DestCityName', 'DestStateName']\n",
        "\n",
        "string_fields = [field.name for field in flights_sample.schema.fields if field.dataType == types.StringType()]\n",
        "\n",
        "continuous_fields = ['Distance', 'DepHour']\n",
        "\n",
        "target_field = 'Delayed'\n",
        "\n",
        "indexers = [StringIndexer(inputCol=field, outputCol=field + 'Index', handleInvalid='keep') for field in string_fields]\n",
        "non_string_categoricals = [field for field in categorical_fields if field not in string_fields]\n",
        "non_string_categorical_onehotencoders = [OneHotEncoder(inputCol=field, outputCol=field + 'OneHot') for field in non_string_categoricals]\n",
        "string_categorical_onehotencoders = [OneHotEncoder(inputCol=field+'Index', outputCol=field + 'OneHot') for field in string_fields]\n",
        "\n",
        "input_cols_onehotencoded = [field + 'OneHot' for field in categorical_fields]\n",
        "\n",
        "va = VectorAssembler(inputCols= input_cols_onehotencoded + continuous_fields, outputCol='features')\n",
        "\n",
        "rf_classifier = RandomForestClassifier(featuresCol='features', labelCol='Delayed')\n",
        "\n",
        "pipeline = Pipeline(stages=indexers + \n",
        "                    string_categorical_onehotencoders + \n",
        "                    non_string_categorical_onehotencoders + \n",
        "                    [va] + \n",
        "                    [rf_classifier])\n",
        "\n",
        "# Tuning and Training\n",
        "builder = ParamGridBuilder()\n",
        "\n",
        "our_param_map = builder.addGrid(rf_classifier.maxDepth, [5, 15])\\\n",
        "                       .addGrid(rf_classifier.numTrees, [10, 30])\\\n",
        "                       .build()        \n",
        "\n",
        "our_evaluator = BinaryClassificationEvaluator(labelCol='Delayed')\n",
        "\n",
        "split = TrainValidationSplit(estimator=pipeline, \n",
        "                             evaluator=our_evaluator, \n",
        "                             estimatorParamMaps=our_param_map)\n",
        "\n",
        "split_model_chosen = split.fit(flights_sample)\n",
        "predicted = split_model_chosen.transform(rest)\n",
        "predictions = predicted.select('features',\n",
        "                               'Delayed',\n",
        "                               'rawPrediction',\n",
        "                               'probability',\n",
        "                               'prediction')\n",
        "\n",
        "predicted.write.json('out/predicted')\n",
        "split_model_chosen.bestModel.save('out/split_model_chosen')"
      ],
      "execution_count": null,
      "outputs": []
    },
    {
      "cell_type": "code",
      "metadata": {
        "id": "qa9t-SuhJmMA",
        "colab_type": "code",
        "colab": {},
        "outputId": "68aeb40d-fde6-4df5-9f2e-5a33965d365b"
      },
      "source": [
        "# Check output\n",
        "predicted_probs = predictions.select('Delayed', 'probability').toPandas()\n",
        "y_true = predicted_probs['Delayed']\n",
        "y_prob_predicted = predicted_probs['probability'].map(lambda vector: vector[1])\n",
        "\n",
        "from sklearn.metrics import roc_curve\n",
        "\n",
        "fpr, tpr, thresholds = roc_curve(y_true, y_prob_predicted)\n",
        "import matplotlib.pyplot as plt\n",
        "import numpy as np\n",
        "%matplotlib inline\n",
        "\n",
        "plt.plot(fpr, tpr)\n",
        "plt.plot(np.linspace(0,1, 10), np.linspace(0,1, 10))"
      ],
      "execution_count": null,
      "outputs": [
        {
          "output_type": "execute_result",
          "data": {
            "text/plain": [
              "[<matplotlib.lines.Line2D at 0x7fb154304c18>]"
            ]
          },
          "metadata": {
            "tags": []
          },
          "execution_count": 58
        },
        {
          "output_type": "display_data",
          "data": {
            "image/png": "[encoded data removed]",
            "text/plain": [
              "<Figure size 432x288 with 1 Axes>"
            ]
          },
          "metadata": {
            "tags": [],
            "needs_background": "light"
          }
        }
      ]
    }
  ]
}