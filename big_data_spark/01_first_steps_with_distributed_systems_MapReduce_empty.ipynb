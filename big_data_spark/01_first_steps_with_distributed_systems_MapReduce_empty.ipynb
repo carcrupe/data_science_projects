{
  "nbformat": 4,
  "nbformat_minor": 0,
  "metadata": {
    "anaconda-cloud": {},
    "kernelspec": {
      "display_name": "Python 3",
      "language": "python",
      "name": "python3"
    },
    "language_info": {
      "codemirror_mode": {
        "name": "ipython",
        "version": 3
      },
      "file_extension": ".py",
      "mimetype": "text/x-python",
      "name": "python",
      "nbconvert_exporter": "python",
      "pygments_lexer": "ipython3",
      "version": "3.7.7"
    },
    "colab": {
      "name": "01-first_steps_with_distributed_systems-MapReduce.empty.ipynb",
      "provenance": []
    }
  },
  "cells": [
    {
      "cell_type": "markdown",
      "metadata": {
        "id": "eu0y93rIHGjl",
        "colab_type": "text"
      },
      "source": [
        "# First steps in PySpark \n",
        "\n",
        "In this notebook we will learn the fundamentals of functional programming, as well as the basic abstraction of a distributed object in Spark, the RDD. The notebook has been divided into two parts:\n",
        "\n",
        "Part 1: map/reduce basics\n",
        "\n",
        "Part 2: Work with RDD and Pair RDD abstractions \n",
        "\n",
        "<a href = \"http://yogen.io\"><img src=\"http://yogen.io/assets/logo.svg\" alt=\"yogen\" style=\"width: 200px; float: right;\"/></a>"
      ]
    },
    {
      "cell_type": "markdown",
      "metadata": {
        "id": "5v7VLSl_HGjn",
        "colab_type": "text"
      },
      "source": [
        " \n"
      ]
    },
    {
      "cell_type": "markdown",
      "metadata": {
        "id": "xobHVOuoHGjo",
        "colab_type": "text"
      },
      "source": [
        "# Part 1: map/reduce basics\n",
        "\n",
        "![Hadoop Logo](https://upload.wikimedia.org/wikipedia/commons/thumb/0/0e/Hadoop_logo.svg/220px-Hadoop_logo.svg.png)\n",
        "# **Apache Hadoop (MapReduce)**\n",
        "\n",
        "It is an open source software framework written in Java for distributed storage and distributed processing of very large data sets on computer clusters built from commodity hardware. All the modules in Hadoop are designed with a fundamental assumption that hardware failures (of individual machines, or racks of machines) are common and thus should be automatically handled in software by the framework.\n",
        "\n",
        "The core of Apache Hadoop consists of a storage part (Hadoop Distributed File System (HDFS)) and a processing part (MapReduce). Hadoop splits files into large blocks and distributes them amongst the nodes in the cluster. To process the data, Hadoop MapReduce transfers packaged code for nodes to process in parallel, based on the data each node needs to process. This approach takes advantage of data locality — nodes manipulating the data that they have on hand — to allow the data to be processed faster and more efficiently than it would be in a more conventional supercomputer architecture that relies on a parallel file system where computation and data are connected via high-speed networking.\n",
        "\n",
        "![Map/shuffle/reduce](https://image.slidesharecdn.com/datasciencewebinar061312-120618165932-phpapp02/95/how-salesforcecom-uses-hadoop-41-728.jpg?cb=1340920667)\n",
        "\n",
        "Since data and computation are distributed, we should avoid the use of variables, i.e. mutable data. Thus, in contrast to impertaive programming, we shall use the functional approach (lambda calculus)."
      ]
    },
    {
      "cell_type": "markdown",
      "metadata": {
        "id": "1Yb6469KHGjo",
        "colab_type": "text"
      },
      "source": [
        "### The goal of the following excercises is to understand basic lambda calculus with python."
      ]
    },
    {
      "cell_type": "markdown",
      "metadata": {
        "id": "iFrtVEKkHGjp",
        "colab_type": "text"
      },
      "source": [
        "### (1a) Functional programming in Python\n",
        "\n",
        "So, what is Functional Programming? From Wikipedia: \n",
        "\n",
        "« …a  programing paradigm that treats computation as the evaluation of mathematical functions and **avoids changing-state and mutable  data**.»\n",
        "\n",
        "It´s based upon Lambda calculus, wich consist of:\n",
        " * Function definition (declaration of expressions)\n",
        " * Function application (evaluation of those expressions)\n",
        " * Recursion (iteration)\n",
        "\n",
        "We have already used this in python!!! :)\n",
        "\n",
        "Recall the typical \"lambda x: x+1\" we have been using as the first argument of map, reduce and filter methods:\n",
        " * **map** maps each value in the input collection to a different value. It´s just the classical mathematical funciton we are used to!\n",
        " * **reduce** takes two values from the input collection and returns a new value (of the same type) by appliying a commutative operation to them. \n",
        " * **filter** filters the elements in the input collection according to a certain (boolean) criteria.\n",
        " "
      ]
    },
    {
      "cell_type": "markdown",
      "metadata": {
        "id": "aa3wrxjZHGjp",
        "colab_type": "text"
      },
      "source": [
        "**Mapping**\n",
        "\n",
        "`map` is a Higher Order Function (HOF) that takes a function f and a sequence and returns a new sequence formed by applying f to each element in the original sequence. \n",
        "\n",
        "![map](https://cosminpupaza.files.wordpress.com/2015/10/map.png?w=505)"
      ]
    },
    {
      "cell_type": "markdown",
      "metadata": {
        "id": "M0FOpSGrHGjq",
        "colab_type": "text"
      },
      "source": [
        "Very often we write lambdas, anonymous functions, to use in defining simple transformations with `map`:\n"
      ]
    },
    {
      "cell_type": "code",
      "metadata": {
        "id": "n2ySBfWSHGjq",
        "colab_type": "code",
        "colab": {
          "base_uri": "https://localhost:8080/",
          "height": 34
        },
        "outputId": "0cbaa178-813e-45ba-a68d-57a40bce17a9"
      },
      "source": [
        "i = [1,2,3]\n",
        "list(map( lambda x:x**2, i))"
      ],
      "execution_count": null,
      "outputs": [
        {
          "output_type": "execute_result",
          "data": {
            "text/plain": [
              "[1, 4, 9]"
            ]
          },
          "metadata": {
            "tags": []
          },
          "execution_count": 1
        }
      ]
    },
    {
      "cell_type": "markdown",
      "metadata": {
        "id": "6-9ImnHyHGju",
        "colab_type": "text"
      },
      "source": [
        "We can also use named functions, of course. Note that we pass them as arguments to `map`, not execute them. You can think of them as tools we give to `map` for it to use."
      ]
    },
    {
      "cell_type": "code",
      "metadata": {
        "id": "Btn9oqwnHGjx",
        "colab_type": "code",
        "colab": {
          "base_uri": "https://localhost:8080/",
          "height": 34
        },
        "outputId": "714f6315-eccc-490e-8ecb-1b4e06a87a06"
      },
      "source": [
        "def plural(word):\n",
        "  return word + 's'\n",
        "\n",
        "list(map(plural, ['coche', 'moto']))"
      ],
      "execution_count": null,
      "outputs": [
        {
          "output_type": "execute_result",
          "data": {
            "text/plain": [
              "['coches', 'motos']"
            ]
          },
          "metadata": {
            "tags": []
          },
          "execution_count": 9
        }
      ]
    },
    {
      "cell_type": "markdown",
      "metadata": {
        "id": "0bBJln_EHGjz",
        "colab_type": "text"
      },
      "source": [
        "Consider the following very common pattern: create empty list, append transformed elements one by one:"
      ]
    },
    {
      "cell_type": "code",
      "metadata": {
        "id": "D9Gjz_FTHGj0",
        "colab_type": "code",
        "colab": {
          "base_uri": "https://localhost:8080/",
          "height": 34
        },
        "outputId": "7ef1b1a0-3734-468a-e6f0-8b42f4907463"
      },
      "source": [
        "#It does as the previous map example\n",
        "result = []\n",
        "v = ['coche', 'moto', 'bici']\n",
        "for e in v:\n",
        "  result.append(e + 's')\n",
        "result"
      ],
      "execution_count": null,
      "outputs": [
        {
          "output_type": "execute_result",
          "data": {
            "text/plain": [
              "['coches', 'motos', 'bicis']"
            ]
          },
          "metadata": {
            "tags": []
          },
          "execution_count": 11
        }
      ]
    },
    {
      "cell_type": "markdown",
      "metadata": {
        "id": "uKg-_wzUHGj3",
        "colab_type": "text"
      },
      "source": [
        "We can abstract over every possible list by defining a function that takes the list as an argument:"
      ]
    },
    {
      "cell_type": "code",
      "metadata": {
        "id": "E2ZhjZ6ZHGj4",
        "colab_type": "code",
        "colab": {
          "base_uri": "https://localhost:8080/",
          "height": 34
        },
        "outputId": "68f97ccf-b44b-4725-cb68-c5dc63562ddd"
      },
      "source": [
        "def pluralize(words):\n",
        "  result = []\n",
        "  for e in words:\n",
        "    result.append(e + 's')\n",
        "  return result\n",
        "\n",
        "pluralize(v)"
      ],
      "execution_count": null,
      "outputs": [
        {
          "output_type": "execute_result",
          "data": {
            "text/plain": [
              "['coches', 'motos', 'bicis']"
            ]
          },
          "metadata": {
            "tags": []
          },
          "execution_count": 12
        }
      ]
    },
    {
      "cell_type": "markdown",
      "metadata": {
        "id": "ci8iaCK8HGj6",
        "colab_type": "text"
      },
      "source": [
        "Consider this other piece of code: we are doing a very similar thing, but with a different function. A lot of the code is common between the two little programs.\n",
        "\n",
        "Wouldn't it be convenient if we could abstract over every function, as we did over every list?"
      ]
    },
    {
      "cell_type": "code",
      "metadata": {
        "id": "MI47hQuFHGj7",
        "colab_type": "code",
        "colab": {
          "base_uri": "https://localhost:8080/",
          "height": 34
        },
        "outputId": "4d747a98-22e2-4e47-cccf-b1e1d1c824e2"
      },
      "source": [
        "def process(f, words):\n",
        "  result = []\n",
        "\n",
        "#This is equivalent to a map function\n",
        "  for e in words:\n",
        "    result.append(f(e))\n",
        "\n",
        "  return result\n",
        "\n",
        "process(lambda x: (x + 's').upper() , v)"
      ],
      "execution_count": null,
      "outputs": [
        {
          "output_type": "execute_result",
          "data": {
            "text/plain": [
              "['COCHES', 'MOTOS', 'BICIS']"
            ]
          },
          "metadata": {
            "tags": []
          },
          "execution_count": 14
        }
      ]
    },
    {
      "cell_type": "markdown",
      "metadata": {
        "id": "uDus_AQXHGj-",
        "colab_type": "text"
      },
      "source": [
        "We can, taking the function to be applied as an argument. This is because Python treats functions as first-class objects, so they can be used as arguments to other functions."
      ]
    },
    {
      "cell_type": "code",
      "metadata": {
        "id": "lBykdpIuHGj-",
        "colab_type": "code",
        "colab": {
          "base_uri": "https://localhost:8080/",
          "height": 34
        },
        "outputId": "f64d41ce-f497-4fea-a7fc-d713727b37f8"
      },
      "source": [
        "def process(f, words):\n",
        "\n",
        "  result = list(map(f, words))  \n",
        "  return result\n",
        "\n",
        "process(str.upper, v)"
      ],
      "execution_count": null,
      "outputs": [
        {
          "output_type": "execute_result",
          "data": {
            "text/plain": [
              "['COCHE', 'MOTO', 'BICI']"
            ]
          },
          "metadata": {
            "tags": []
          },
          "execution_count": 18
        }
      ]
    },
    {
      "cell_type": "markdown",
      "metadata": {
        "id": "DLZLaG4rHGkB",
        "colab_type": "text"
      },
      "source": [
        "That function we just wrote, `process_list`, is exactly what `map` is"
      ]
    },
    {
      "cell_type": "code",
      "metadata": {
        "id": "SazNL8oeHGkC",
        "colab_type": "code",
        "colab": {}
      },
      "source": [
        ""
      ],
      "execution_count": null,
      "outputs": []
    },
    {
      "cell_type": "markdown",
      "metadata": {
        "id": "n4-h-iy_HGkG",
        "colab_type": "text"
      },
      "source": [
        "**Filtering**\n",
        "\n",
        "`filter` encodes another very common pattern: building a sequence from some of the elements of an input sequence, deciding whether to include each based on the result of evaluating a function, often called the `predicate`, on each of the elements.\n",
        "\n",
        "\n",
        "![filter](https://cosminpupaza.files.wordpress.com/2015/11/filter.png?w=405)"
      ]
    },
    {
      "cell_type": "code",
      "metadata": {
        "id": "Uy8ptWU5HGkG",
        "colab_type": "code",
        "colab": {
          "base_uri": "https://localhost:8080/",
          "height": 34
        },
        "outputId": "404b915b-3e95-42cf-b1c6-4fe865563314"
      },
      "source": [
        "list(filter(lambda n: n<10, [2, 22, 10, 4]))"
      ],
      "execution_count": null,
      "outputs": [
        {
          "output_type": "execute_result",
          "data": {
            "text/plain": [
              "[2, 4]"
            ]
          },
          "metadata": {
            "tags": []
          },
          "execution_count": 19
        }
      ]
    },
    {
      "cell_type": "markdown",
      "metadata": {
        "id": "S6CQ255VHGkJ",
        "colab_type": "text"
      },
      "source": [
        "Again, we can use either lambdas or named functions."
      ]
    },
    {
      "cell_type": "code",
      "metadata": {
        "id": "TDs6e5LgHGkK",
        "colab_type": "code",
        "colab": {
          "base_uri": "https://localhost:8080/",
          "height": 34
        },
        "outputId": "2d96ebaf-c926-4db1-e914-7c7214f947dc"
      },
      "source": [
        "def pred(n):\n",
        "  return n<10\n",
        "\n",
        "list(filter(pred, [2, 22, 10, 4]))"
      ],
      "execution_count": null,
      "outputs": [
        {
          "output_type": "execute_result",
          "data": {
            "text/plain": [
              "[2, 4]"
            ]
          },
          "metadata": {
            "tags": []
          },
          "execution_count": 20
        }
      ]
    },
    {
      "cell_type": "markdown",
      "metadata": {
        "id": "H3Upo58zHGkM",
        "colab_type": "text"
      },
      "source": [
        "#### Exercise\n",
        "\n",
        "write a filter to extract those words that have more than 3 letters from `collection_of_strings`"
      ]
    },
    {
      "cell_type": "code",
      "metadata": {
        "id": "wixWVVbPHGkN",
        "colab_type": "code",
        "colab": {
          "base_uri": "https://localhost:8080/",
          "height": 34
        },
        "outputId": "2f0c2a2b-9dd6-42b1-f983-610cc67995c9"
      },
      "source": [
        "collection_of_str = ['holi', 'que', 'tal', 'guapi']\n",
        "\n",
        "list(filter(lambda x: len(x)<=3 , collection_of_str))"
      ],
      "execution_count": null,
      "outputs": [
        {
          "output_type": "execute_result",
          "data": {
            "text/plain": [
              "['que', 'tal']"
            ]
          },
          "metadata": {
            "tags": []
          },
          "execution_count": 21
        }
      ]
    },
    {
      "cell_type": "markdown",
      "metadata": {
        "id": "wwyPjty-HGkP",
        "colab_type": "text"
      },
      "source": [
        "#### Exercise\n",
        "\n",
        "Write a filter to extract prime numbers from the following list of integers:\n",
        "\n",
        "```python\n",
        "[12, 17, 19, 18, 23, 24]\n",
        "```\n",
        "\n",
        "You will need to write a function that determines whether a single number is a prime or not."
      ]
    },
    {
      "cell_type": "code",
      "metadata": {
        "id": "_vBSOdWnHGkP",
        "colab_type": "code",
        "colab": {
          "base_uri": "https://localhost:8080/",
          "height": 34
        },
        "outputId": "8d7f09c8-af5c-45ce-ebda-d44b5dfa4f8b"
      },
      "source": [
        "import sympy as sy\n",
        "\n",
        "def get_primes(n):\n",
        "  return list(filter(sy.isprime, n))\n",
        "\n",
        "get_primes([12, 17, 19, 18, 23, 24])\n"
      ],
      "execution_count": null,
      "outputs": [
        {
          "output_type": "execute_result",
          "data": {
            "text/plain": [
              "[17, 19, 23]"
            ]
          },
          "metadata": {
            "tags": []
          },
          "execution_count": 27
        }
      ]
    },
    {
      "cell_type": "markdown",
      "metadata": {
        "id": "gsGcAv-RHGkU",
        "colab_type": "text"
      },
      "source": [
        "`map` and `filter` are not  used explicitly very often in Python, in part because of their cumbersome syntax. \n",
        "\n",
        "Nevertheless, there is a well-known feature in Python that is in fact just a convenient way to write `map`s and `filter`s: **list comprehensions**:"
      ]
    },
    {
      "cell_type": "code",
      "metadata": {
        "id": "TSyJpuaAHGkV",
        "colab_type": "code",
        "colab": {
          "base_uri": "https://localhost:8080/",
          "height": 34
        },
        "outputId": "da7597a2-6c3c-4acf-baa9-2d07bacceb21"
      },
      "source": [
        "list(map(lambda x : x**2, get_primes([12, 17, 19, 18, 23, 24])))"
      ],
      "execution_count": null,
      "outputs": [
        {
          "output_type": "execute_result",
          "data": {
            "text/plain": [
              "[289, 361, 529]"
            ]
          },
          "metadata": {
            "tags": []
          },
          "execution_count": 31
        }
      ]
    },
    {
      "cell_type": "markdown",
      "metadata": {
        "id": "tfrtf3kNHGka",
        "colab_type": "text"
      },
      "source": [
        "The above list comprehension is exactly equivalent to:"
      ]
    },
    {
      "cell_type": "code",
      "metadata": {
        "id": "CxBlMwpVXao7",
        "colab_type": "code",
        "colab": {
          "base_uri": "https://localhost:8080/",
          "height": 34
        },
        "outputId": "029ea1c4-0c0e-44fc-8216-f991dcd50c89"
      },
      "source": [
        "[i**2 for i in [12, 17, 19, 18, 23, 24] if sy.isprime(i)]"
      ],
      "execution_count": null,
      "outputs": [
        {
          "output_type": "execute_result",
          "data": {
            "text/plain": [
              "[289, 361, 529]"
            ]
          },
          "metadata": {
            "tags": []
          },
          "execution_count": 34
        }
      ]
    },
    {
      "cell_type": "code",
      "metadata": {
        "id": "DVkxyl5JXZRf",
        "colab_type": "code",
        "colab": {
          "base_uri": "https://localhost:8080/",
          "height": 34
        },
        "outputId": "4100b007-4b7b-4da8-827e-a4e32435514e"
      },
      "source": [
        "[i**2 for i in get_primes([12, 17, 19, 18, 23, 24])]"
      ],
      "execution_count": null,
      "outputs": [
        {
          "output_type": "execute_result",
          "data": {
            "text/plain": [
              "[289, 361, 529]"
            ]
          },
          "metadata": {
            "tags": []
          },
          "execution_count": 35
        }
      ]
    },
    {
      "cell_type": "markdown",
      "metadata": {
        "id": "UW_z_K-DHGkd",
        "colab_type": "text"
      },
      "source": [
        "Which is a pipeline of two steps: first a `filter`, then a `map`"
      ]
    },
    {
      "cell_type": "markdown",
      "metadata": {
        "id": "TmxSQPW4HGkd",
        "colab_type": "text"
      },
      "source": [
        "**Reducing** \n",
        "\n",
        "`reduce` is the third basic foundation of functional programming. Reduce uses a function, often called the `combiner`, to transform a sequence of elements of type T (that is, any type) into a single T. The combiner must take 2 Ts and return only one T.\n",
        "\n",
        "\n",
        "Recall it must be commutative! Think about the importance of this when parallelizing computations\n",
        "\n",
        "![reduce](https://cosminpupaza.files.wordpress.com/2015/11/reduce.png?w=500)"
      ]
    },
    {
      "cell_type": "code",
      "metadata": {
        "id": "6VeKpUliHGke",
        "colab_type": "code",
        "colab": {}
      },
      "source": [
        "from functools import reduce"
      ],
      "execution_count": null,
      "outputs": []
    },
    {
      "cell_type": "code",
      "metadata": {
        "id": "soajS9MjZEOk",
        "colab_type": "code",
        "colab": {
          "base_uri": "https://localhost:8080/",
          "height": 34
        },
        "outputId": "ffb9e105-b230-4456-92ed-a4af7c372363"
      },
      "source": [
        "numbers = [1,2,3,4,1,10,45,34]\n",
        "reduce(lambda x,y: x+y, numbers)"
      ],
      "execution_count": null,
      "outputs": [
        {
          "output_type": "execute_result",
          "data": {
            "text/plain": [
              "100"
            ]
          },
          "metadata": {
            "tags": []
          },
          "execution_count": 50
        }
      ]
    },
    {
      "cell_type": "markdown",
      "metadata": {
        "id": "mMo-b0N2HGkg",
        "colab_type": "text"
      },
      "source": [
        "#### Exercise\n",
        "\n",
        "Write a function_x such that, when applied with `reduce`, that reduce returns the highest number in a list. Don't use the built-in `max`!"
      ]
    },
    {
      "cell_type": "code",
      "metadata": {
        "id": "MCzul5ilHGkg",
        "colab_type": "code",
        "colab": {}
      },
      "source": [
        "def get_max(x,y):\n",
        "    if x>y:\n",
        "      return x\n",
        "    else:\n",
        "      return y\n",
        "    "
      ],
      "execution_count": null,
      "outputs": []
    },
    {
      "cell_type": "code",
      "metadata": {
        "id": "ucq5cnjKcb_o",
        "colab_type": "code",
        "colab": {
          "base_uri": "https://localhost:8080/",
          "height": 34
        },
        "outputId": "9d3c7ce5-76fb-40f2-e2a4-306f1733299c"
      },
      "source": [
        "reduce(get_max, numbers)"
      ],
      "execution_count": null,
      "outputs": [
        {
          "output_type": "execute_result",
          "data": {
            "text/plain": [
              "45"
            ]
          },
          "metadata": {
            "tags": []
          },
          "execution_count": 56
        }
      ]
    },
    {
      "cell_type": "code",
      "metadata": {
        "id": "4hT5Tykre-v3",
        "colab_type": "code",
        "colab": {
          "base_uri": "https://localhost:8080/",
          "height": 34
        },
        "outputId": "406270da-34f5-4d8c-fc80-70aea941ce41"
      },
      "source": [
        "reduce(lambda x,y: x if x>y else y, numbers)"
      ],
      "execution_count": null,
      "outputs": [
        {
          "output_type": "execute_result",
          "data": {
            "text/plain": [
              "45"
            ]
          },
          "metadata": {
            "tags": []
          },
          "execution_count": 57
        }
      ]
    },
    {
      "cell_type": "markdown",
      "metadata": {
        "id": "Yobyc8UcHGki",
        "colab_type": "text"
      },
      "source": [
        "## (1b) Exercise: Calculate the mean of a collection of real numbers using map/reduce\n",
        "Recall:\n",
        "\n",
        "$$\\bar x = \\frac{\\sum_{i=1}^{N} x_i}{N} $$\n",
        "\n",
        "It´s straightforward to do this with python built-in mehots sum() and len(). However, how would you do that with map/reduce? We have already shown how to sum the elements of an array. Thus, you have to calculate the length of the array. For this:\n",
        " * Create another array of the same size, consisting of 1s.\n",
        " * Sum the elements of that array"
      ]
    },
    {
      "cell_type": "markdown",
      "metadata": {
        "id": "01e76PAfHGkj",
        "colab_type": "text"
      },
      "source": [
        "#### First part\n",
        "\n",
        "* Do a reduce to do the sum, and a different map-reduce to get the length"
      ]
    },
    {
      "cell_type": "code",
      "metadata": {
        "id": "O31WpQAKHGkj",
        "colab_type": "code",
        "colab": {
          "base_uri": "https://localhost:8080/",
          "height": 34
        },
        "outputId": "911dec6d-6f69-41bd-e516-877470d44283"
      },
      "source": [
        "count = reduce(lambda x,y: x+y, numbers)\n",
        "\n",
        "#get length of array\n",
        "total = reduce(lambda x,y: x+y, map(lambda x: 1, numbers))\n",
        "\n",
        "total / count"
      ],
      "execution_count": null,
      "outputs": [
        {
          "output_type": "execute_result",
          "data": {
            "text/plain": [
              "0.08"
            ]
          },
          "metadata": {
            "tags": []
          },
          "execution_count": 62
        }
      ]
    },
    {
      "cell_type": "markdown",
      "metadata": {
        "id": "cIrSx-kfHGkl",
        "colab_type": "text"
      },
      "source": [
        "That was also a pipeline of two steps. It's equivalent to:"
      ]
    },
    {
      "cell_type": "code",
      "metadata": {
        "id": "09z49gEzHGkm",
        "colab_type": "code",
        "colab": {
          "base_uri": "https://localhost:8080/",
          "height": 34
        },
        "outputId": "f151550b-727f-4e93-9ec9-a9452c4b111f"
      },
      "source": [
        "ones = list(map(lambda x:1, numbers))\n",
        "count = reduce(lambda x,y:x+y, ones)\n",
        "\n",
        "ones"
      ],
      "execution_count": null,
      "outputs": [
        {
          "output_type": "execute_result",
          "data": {
            "text/plain": [
              "[1, 1, 1, 1, 1, 1, 1, 1]"
            ]
          },
          "metadata": {
            "tags": []
          },
          "execution_count": 69
        }
      ]
    },
    {
      "cell_type": "markdown",
      "metadata": {
        "id": "ej8HqJSlHGko",
        "colab_type": "text"
      },
      "source": [
        "#### Combine them in one pass\n",
        "\n",
        "Think about what it would mean to finish one computation and only then do another in a distributed environment.\n",
        "\n",
        "Combine both in one pass:"
      ]
    },
    {
      "cell_type": "code",
      "metadata": {
        "id": "IAs6mxmRHGko",
        "colab_type": "code",
        "colab": {
          "base_uri": "https://localhost:8080/",
          "height": 34
        },
        "outputId": "79585508-eecd-4f7f-970b-3d2c5a55b36c"
      },
      "source": [
        "a =  reduce(lambda x,y: (x[0] + y[0], x[1] + y[1]), map(lambda x: (x,1), numbers))\n",
        "mean=(a[0]/a[1])\n",
        "mean"
      ],
      "execution_count": null,
      "outputs": [
        {
          "output_type": "execute_result",
          "data": {
            "text/plain": [
              "12.5"
            ]
          },
          "metadata": {
            "tags": []
          },
          "execution_count": 76
        }
      ]
    },
    {
      "cell_type": "markdown",
      "metadata": {
        "id": "oLhLVRs7HGkr",
        "colab_type": "text"
      },
      "source": [
        "## (1c) Exercise: Calculate the standard deviation of a collection of real numbers\n",
        "\n",
        "We'll use the typical definition of the standard deviation:\n",
        "\n",
        "$$\\sigma_x^2 = \\frac{\\sum_{i=1}^{N} (x_i-\\bar x)^2}{N-1}$$\n",
        "\n",
        "For this, use the *mean* and *count* variables from the previous excercise."
      ]
    },
    {
      "cell_type": "code",
      "metadata": {
        "id": "5TCtaYpFHGks",
        "colab_type": "code",
        "colab": {
          "base_uri": "https://localhost:8080/",
          "height": 34
        },
        "outputId": "863dc7d3-fd03-42ea-9c08-0cc958aeda71"
      },
      "source": [
        ""
      ],
      "execution_count": null,
      "outputs": [
        {
          "output_type": "execute_result",
          "data": {
            "text/plain": [
              "2062.0"
            ]
          },
          "metadata": {
            "tags": []
          },
          "execution_count": 77
        }
      ]
    },
    {
      "cell_type": "markdown",
      "metadata": {
        "id": "PQHTBY_OHGku",
        "colab_type": "text"
      },
      "source": [
        "In standard idiomatic Python we'd do it like this:"
      ]
    },
    {
      "cell_type": "code",
      "metadata": {
        "id": "blqwiOBSHGku",
        "colab_type": "code",
        "colab": {
          "base_uri": "https://localhost:8080/",
          "height": 34
        },
        "outputId": "fc82c966-032a-4934-858e-98e4b2e470e7"
      },
      "source": [
        "sum_sq_diffs = 0\n",
        "\n",
        "for x in numbers:\n",
        "    sum_sq_diffs += (x-mean)**2\n",
        "\n",
        "sum_sq_diffs"
      ],
      "execution_count": null,
      "outputs": [
        {
          "output_type": "execute_result",
          "data": {
            "text/plain": [
              "2062.0"
            ]
          },
          "metadata": {
            "tags": []
          },
          "execution_count": 78
        }
      ]
    },
    {
      "cell_type": "markdown",
      "metadata": {
        "id": "ljtpxxovHGkx",
        "colab_type": "text"
      },
      "source": [
        "With `map` and `reduce`:"
      ]
    },
    {
      "cell_type": "code",
      "metadata": {
        "id": "_l0WXHY3HGkx",
        "colab_type": "code",
        "colab": {
          "base_uri": "https://localhost:8080/",
          "height": 34
        },
        "outputId": "8eaa0758-e26a-433c-d48a-afcd62e4f366"
      },
      "source": [
        "square_diffs = map(lambda x: (x-mean)**2, numbers)\n",
        "sum_sq_diffs = reduce(lambda x,y: x+y, square_diffs)\n",
        "sum_sq_diffs\n",
        "\n",
        "var = sum_sq_diffs / count-1\n",
        "var"
      ],
      "execution_count": null,
      "outputs": [
        {
          "output_type": "execute_result",
          "data": {
            "text/plain": [
              "256.75"
            ]
          },
          "metadata": {
            "tags": []
          },
          "execution_count": 80
        }
      ]
    },
    {
      "cell_type": "markdown",
      "metadata": {
        "id": "wT3l4wnRHGk1",
        "colab_type": "text"
      },
      "source": [
        "#### Calculate the standard deviation in one pass.\n",
        "\n",
        "Again, think about what it would mean to finish one computation and only then do another in a distributed environment.\n",
        "\n",
        "\n",
        "If we can, we should avoid broadcasting variables all over the cluster. In this case, the following alternative definition of standard deviation can come in handy:\n",
        "\n",
        "$$\\sigma_x^2 = \\frac{\\sum_{i=1}^{N} (x_i-\\bar x)^2}{N-1} =\n",
        "\\frac{\\sum_{i=1}^{N} (x_i^2+{\\bar x}^2-2x_i\\bar x)}{N-1} =\n",
        "\\frac{1}{N-1}\\left(\\sum_i x_i^2-N\\bar x^2\\right)$$\n",
        "\n"
      ]
    },
    {
      "cell_type": "code",
      "metadata": {
        "id": "KO-quaIvHGk2",
        "colab_type": "code",
        "colab": {
          "base_uri": "https://localhost:8080/",
          "height": 34
        },
        "outputId": "7179e52d-966a-4220-df4b-f9c0f5584ba8"
      },
      "source": [
        "t = map(lambda n: (n**2,n,1), numbers)\n",
        "sum_sq, total, count = reduce(lambda x,y: (x[0] + y[0], x[1] + y[1], x[2] +y[2]), t)\n",
        "mean=total/count\n",
        "var = (sum_sq - count * mean**2) / count -1\n",
        "var"
      ],
      "execution_count": null,
      "outputs": [
        {
          "output_type": "execute_result",
          "data": {
            "text/plain": [
              "256.75"
            ]
          },
          "metadata": {
            "tags": []
          },
          "execution_count": 82
        }
      ]
    },
    {
      "cell_type": "markdown",
      "metadata": {
        "id": "1zHc1wfpHGk3",
        "colab_type": "text"
      },
      "source": [
        "#### Side note\n",
        "\n",
        "In Python 2, map and filter returned lists. In Python 3, they return generators, which are lazy collections. They are somewhat similar to files in that they can be depleted of elements after iterating through them."
      ]
    },
    {
      "cell_type": "code",
      "metadata": {
        "id": "CmkdlsacHGk4",
        "colab_type": "code",
        "colab": {}
      },
      "source": [
        ""
      ],
      "execution_count": null,
      "outputs": []
    },
    {
      "cell_type": "markdown",
      "metadata": {
        "id": "uTiz650_HGk6",
        "colab_type": "text"
      },
      "source": [
        "## (1d) Twe 'word-count' problem: creating histograms\n",
        "Given a set of keys in an input collection, calculate the frequency of each key. \n",
        "\n",
        "In order to understand better how map/reduce works, we will implement this simple calculation in several forms.\n",
        "\n",
        "We are going to use as test case a list of elements chosen from a small set:"
      ]
    },
    {
      "cell_type": "code",
      "metadata": {
        "id": "cnYqcsMnHGk7",
        "colab_type": "code",
        "colab": {}
      },
      "source": [
        "import random\n",
        "\n",
        "random.seed(42)\n",
        "absurd_animals = random.choices(['giraffe', 'naked mole rat', 'anteater', 'sloth'], k=100)"
      ],
      "execution_count": null,
      "outputs": []
    },
    {
      "cell_type": "markdown",
      "metadata": {
        "id": "hAW9WZO6HGk9",
        "colab_type": "text"
      },
      "source": [
        "### (1d.1) Simple approach\n",
        "\n",
        " * Start with an empty dict\n",
        " * If a new key is not present in the dict, create it.\n",
        " * Otherwise, increase the frequency of the key by one."
      ]
    },
    {
      "cell_type": "code",
      "metadata": {
        "id": "LY5cqzl5HGk9",
        "colab_type": "code",
        "colab": {
          "base_uri": "https://localhost:8080/",
          "height": 34
        },
        "outputId": "5eac900d-cdd9-466c-f016-6662053b42e5"
      },
      "source": [
        "counts = {}\n",
        "\n",
        "for animal in absurd_animals:\n",
        "  if animal not in counts:\n",
        "    counts[animal] = 1\n",
        "  else:\n",
        "    counts[animal] += 1\n",
        "\n",
        "counts"
      ],
      "execution_count": null,
      "outputs": [
        {
          "output_type": "execute_result",
          "data": {
            "text/plain": [
              "{'anteater': 28, 'giraffe': 29, 'naked mole rat': 21, 'sloth': 22}"
            ]
          },
          "metadata": {
            "tags": []
          },
          "execution_count": 86
        }
      ]
    },
    {
      "cell_type": "markdown",
      "metadata": {
        "id": "wmp6SnkzHGk_",
        "colab_type": "text"
      },
      "source": [
        "### (1d.2) Map/reduce\n",
        "\n",
        "* Recall that *reduce* applies an operation to 2 elements of the same type, and returns another element of that type. Thus, the first thing to do is to map our collection to the type of the output. \n",
        " \n",
        "* The final result will be a dictionary of words in the vocabulary and counts. Therefore, we need to map each input word to this type.\n",
        " \n",
        "* Then, we have to define a function, the combiner, that combines these dictionaries two at a time."
      ]
    },
    {
      "cell_type": "code",
      "metadata": {
        "id": "ilU4D5_aHGlA",
        "colab_type": "code",
        "colab": {
          "base_uri": "https://localhost:8080/",
          "height": 34
        },
        "outputId": "92685225-e8b1-4989-9ad2-4bfc9fb4da28"
      },
      "source": [
        " dic = list(map(lambda x: {x :1}, absurd_animals))\n",
        "\n",
        "def dict_combiner(left,right):\n",
        "  for key in left.keys():\n",
        "    if key in right.keys():\n",
        "      right[key] += left[key]\n",
        "    else:\n",
        "      right[key] = left[key]\n",
        "  return right\n",
        "\n",
        "reduce(lambda x,y: dict_combiner(x,y), dic)"
      ],
      "execution_count": null,
      "outputs": [
        {
          "output_type": "execute_result",
          "data": {
            "text/plain": [
              "{'anteater': 28, 'giraffe': 29, 'naked mole rat': 21, 'sloth': 22}"
            ]
          },
          "metadata": {
            "tags": []
          },
          "execution_count": 102
        }
      ]
    },
    {
      "cell_type": "markdown",
      "metadata": {
        "id": "5ulQ9bSxHGlC",
        "colab_type": "text"
      },
      "source": [
        "# Part 2: Spark. Work with RDD and Pair RDD abstractions \n",
        "\n",
        "![drawing](https://prateekvjoshi.files.wordpress.com/2015/10/1-main4.png)"
      ]
    },
    {
      "cell_type": "markdown",
      "metadata": {
        "collapsed": true,
        "id": "IwkHZQD4HGlC",
        "colab_type": "text"
      },
      "source": [
        "# ** Apache Spark**\n",
        "\n",
        "Apache Spark is an open source cluster computing framework originally developed in the AMPLab at University of California, Berkeley but was later donated to the Apache Software Foundation where it remains today. In contrast to Hadoop's two-stage disk-based MapReduce paradigm, Spark's multi-stage in-memory primitives provides performance up to 100 times faster for certain applications.\n",
        "\n",
        "![](http://image.slidesharecdn.com/sparkandshark-120620130508-phpapp01/95/spark-and-shark-8-728.jpg?cb=1340197567)\n",
        "\n",
        "By allowing user programs to load data into a cluster's memory and query it repeatedly, Spark is well-suited to machine learning algorithms.\n",
        "![](http://spark.apache.org/images/logistic-regression.png)\n",
        "\n",
        "Spark comes with a number of components that provide flexibility and generality.\n",
        "\n",
        "<img src=\"http://spark.apache.org/images/spark-stack.png\" alt=\"Drawing\" style=\"width: 500px;\"/>"
      ]
    },
    {
      "cell_type": "markdown",
      "metadata": {
        "id": "y-NZLRytHGlD",
        "colab_type": "text"
      },
      "source": [
        "\n",
        "## In this part, we keep on working on the word-count example, this time with spark. The basic abstraction of Spark is the Resilient Distributed Dataset (RDD):\n",
        "\n",
        "#### «RDDs are fault-tolerant, parallel data structures that let users explicitly persist intermediate results in memory, control their partitioning to optimize data placement, and manipulate them using a rich set of operators.»\n",
        "\n",
        " * Read only, partitioned collection of records (immutable).\n",
        " * Stores the transformations used to build a dataset (its lineage), instead of the data itself. This property ensures fault-tolerance.\n",
        " * Users can control partitioning and persistence (caching).\n",
        " * RDDs are statically typed.\n",
        " * … and yes, everything is written in scala ;p. So you could use learning a bit of it!\n",
        " \n",
        "<img src=\"http://eng.trueaccord.com/wp-content/uploads/2014/10/scala-logo.png\" alt=\"Drawing\" style=\"width: 200px;\"/>\n",
        "\n",
        "#### We will be trying to understand this abstraction with simple examples, using the [Python API](http://spark.apache.org/docs/latest/api/python/index.html)\n",
        "\n",
        "\n"
      ]
    },
    {
      "cell_type": "markdown",
      "metadata": {
        "id": "LMbUd2UiHGlD",
        "colab_type": "text"
      },
      "source": [
        "## If you are running this notebook in Google Colab\n",
        "\n",
        "Copy the following to a code cell and run it. It will install and set up Spark for you.\n",
        "\n",
        "```python\n",
        "!apt-get install openjdk-8-jdk-headless -qq > /dev/null\n",
        "!wget -q http://apache.uvigo.es/spark/spark-2.4.6/spark-2.4.6-bin-hadoop2.7.tgz\n",
        "!tar -xf spark-2.4.6-bin-hadoop2.7.tgz\n",
        "!pip install -q findspark\n",
        "\n",
        "import os\n",
        "import findspark\n",
        "from pyspark.sql import SparkSession\n",
        "\n",
        "os.environ[\"JAVA_HOME\"] = \"/usr/lib/jvm/java-8-openjdk-amd64\"\n",
        "os.environ[\"SPARK_HOME\"] = \"/content/spark-2.4.6-bin-hadoop2.7\"\n",
        "findspark.init()\n",
        "spark = SparkSession.builder.master(\"local[*]\").getOrCreate()\n",
        "```"
      ]
    },
    {
      "cell_type": "code",
      "metadata": {
        "id": "wh5kM6_a08GJ",
        "colab_type": "code",
        "colab": {}
      },
      "source": [
        "!apt-get install openjdk-8-jdk-headless -qq > /dev/null\n",
        "!wget -q http://apache.uvigo.es/spark/spark-2.4.6/spark-2.4.6-bin-hadoop2.7.tgz\n",
        "!tar -xf spark-2.4.6-bin-hadoop2.7.tgz\n",
        "!pip install -q findspark pyspark==2.4.6\n",
        " \n",
        "import os\n",
        "import findspark\n",
        "from pyspark.sql import SparkSession\n",
        " \n",
        "os.environ[\"JAVA_HOME\"] = \"/usr/lib/jvm/java-8-openjdk-amd64\"\n",
        "os.environ[\"SPARK_HOME\"] = \"/content/spark-2.4.6-bin-hadoop2.7\"\n",
        "findspark.init()\n",
        "spark = SparkSession.builder.master(\"local[*]\").getOrCreate()"
      ],
      "execution_count": null,
      "outputs": []
    },
    {
      "cell_type": "markdown",
      "metadata": {
        "id": "C_MQrguGHGlD",
        "colab_type": "text"
      },
      "source": [
        "### ** (2a) Create a base RDD: parallelize, actions and transformations **\n",
        "We'll start by generating a base RDD by using a Python list and the `sc.parallelize` method.  Then we'll print out the type of the base RDD.\n",
        "\n",
        "We use sc.parallelize to convert a standard Python collection into an RDD."
      ]
    },
    {
      "cell_type": "code",
      "metadata": {
        "id": "GSmkjg-JHGlE",
        "colab_type": "code",
        "colab": {
          "base_uri": "https://localhost:8080/",
          "height": 197
        },
        "outputId": "a5192104-5c36-4828-c930-957208f571a9"
      },
      "source": [
        "rdd = sc.parallelize(absurd_animals)\n",
        "rdd"
      ],
      "execution_count": null,
      "outputs": [
        {
          "output_type": "error",
          "ename": "NameError",
          "evalue": "ignored",
          "traceback": [
            "\u001b[0;31m---------------------------------------------------------------------------\u001b[0m",
            "\u001b[0;31mNameError\u001b[0m                                 Traceback (most recent call last)",
            "\u001b[0;32m<ipython-input-7-7d701ffea84c>\u001b[0m in \u001b[0;36m<module>\u001b[0;34m()\u001b[0m\n\u001b[1;32m      1\u001b[0m \u001b[0msc\u001b[0m \u001b[0;34m=\u001b[0m \u001b[0mspark\u001b[0m\u001b[0;34m.\u001b[0m\u001b[0msparkContext\u001b[0m\u001b[0;34m\u001b[0m\u001b[0;34m\u001b[0m\u001b[0m\n\u001b[0;32m----> 2\u001b[0;31m \u001b[0mrdd\u001b[0m \u001b[0;34m=\u001b[0m \u001b[0msc\u001b[0m\u001b[0;34m.\u001b[0m\u001b[0mparallelize\u001b[0m\u001b[0;34m(\u001b[0m\u001b[0mabsurd_animals\u001b[0m\u001b[0;34m)\u001b[0m\u001b[0;34m\u001b[0m\u001b[0;34m\u001b[0m\u001b[0m\n\u001b[0m\u001b[1;32m      3\u001b[0m \u001b[0mrdd\u001b[0m\u001b[0;34m\u001b[0m\u001b[0;34m\u001b[0m\u001b[0m\n",
            "\u001b[0;31mNameError\u001b[0m: name 'absurd_animals' is not defined"
          ]
        }
      ]
    },
    {
      "cell_type": "markdown",
      "metadata": {
        "id": "nI40yLQTHGlG",
        "colab_type": "text"
      },
      "source": [
        "In Spark, `map` is a method of the RDD type."
      ]
    },
    {
      "cell_type": "code",
      "metadata": {
        "id": "n8TBD47uHGlG",
        "colab_type": "code",
        "colab": {
          "base_uri": "https://localhost:8080/",
          "height": 34
        },
        "outputId": "78a61370-9abb-4489-ac68-5c4a00a538c5"
      },
      "source": [
        "plural = rdd.map(lambda word: word + 's')\n",
        "plural"
      ],
      "execution_count": null,
      "outputs": [
        {
          "output_type": "execute_result",
          "data": {
            "text/plain": [
              "PythonRDD[1] at RDD at PythonRDD.scala:53"
            ]
          },
          "metadata": {
            "tags": []
          },
          "execution_count": 6
        }
      ]
    },
    {
      "cell_type": "markdown",
      "metadata": {
        "id": "_FMZPSMIHGlJ",
        "colab_type": "text"
      },
      "source": [
        "**Nothing has actually happened!**\n",
        "\n",
        "`parallellize` tells spark to distribute the data, but this is not actually done until we perform some action.\n",
        "\n",
        "Possible actions include counting, collecting, reducing, taking, etc. Take a look at the [Spark programming guide](http://spark.apache.org/docs/2.2.0/rdd-programming-guide.html#actions)\n"
      ]
    },
    {
      "cell_type": "code",
      "metadata": {
        "scrolled": true,
        "id": "AfA2z6CKHGlK",
        "colab_type": "code",
        "colab": {
          "base_uri": "https://localhost:8080/",
          "height": 1000
        },
        "outputId": "f32aee3d-db52-43c1-c86d-39107007b90c"
      },
      "source": [
        "plural.collect()"
      ],
      "execution_count": null,
      "outputs": [
        {
          "output_type": "execute_result",
          "data": {
            "text/plain": [
              "['anteaters',\n",
              " 'giraffes',\n",
              " 'naked mole rats',\n",
              " 'giraffes',\n",
              " 'anteaters',\n",
              " 'anteaters',\n",
              " 'sloths',\n",
              " 'giraffes',\n",
              " 'naked mole rats',\n",
              " 'giraffes',\n",
              " 'giraffes',\n",
              " 'anteaters',\n",
              " 'giraffes',\n",
              " 'giraffes',\n",
              " 'anteaters',\n",
              " 'anteaters',\n",
              " 'giraffes',\n",
              " 'anteaters',\n",
              " 'sloths',\n",
              " 'giraffes',\n",
              " 'sloths',\n",
              " 'anteaters',\n",
              " 'naked mole rats',\n",
              " 'giraffes',\n",
              " 'sloths',\n",
              " 'naked mole rats',\n",
              " 'giraffes',\n",
              " 'giraffes',\n",
              " 'sloths',\n",
              " 'anteaters',\n",
              " 'sloths',\n",
              " 'anteaters',\n",
              " 'anteaters',\n",
              " 'sloths',\n",
              " 'naked mole rats',\n",
              " 'anteaters',\n",
              " 'sloths',\n",
              " 'anteaters',\n",
              " 'sloths',\n",
              " 'anteaters',\n",
              " 'anteaters',\n",
              " 'giraffes',\n",
              " 'giraffes',\n",
              " 'naked mole rats',\n",
              " 'giraffes',\n",
              " 'giraffes',\n",
              " 'giraffes',\n",
              " 'naked mole rats',\n",
              " 'anteaters',\n",
              " 'naked mole rats',\n",
              " 'naked mole rats',\n",
              " 'giraffes',\n",
              " 'naked mole rats',\n",
              " 'sloths',\n",
              " 'anteaters',\n",
              " 'anteaters',\n",
              " 'giraffes',\n",
              " 'anteaters',\n",
              " 'giraffes',\n",
              " 'naked mole rats',\n",
              " 'sloths',\n",
              " 'anteaters',\n",
              " 'anteaters',\n",
              " 'anteaters',\n",
              " 'sloths',\n",
              " 'sloths',\n",
              " 'giraffes',\n",
              " 'giraffes',\n",
              " 'naked mole rats',\n",
              " 'naked mole rats',\n",
              " 'giraffes',\n",
              " 'sloths',\n",
              " 'sloths',\n",
              " 'naked mole rats',\n",
              " 'anteaters',\n",
              " 'naked mole rats',\n",
              " 'sloths',\n",
              " 'naked mole rats',\n",
              " 'naked mole rats',\n",
              " 'giraffes',\n",
              " 'anteaters',\n",
              " 'naked mole rats',\n",
              " 'anteaters',\n",
              " 'sloths',\n",
              " 'naked mole rats',\n",
              " 'giraffes',\n",
              " 'sloths',\n",
              " 'anteaters',\n",
              " 'giraffes',\n",
              " 'giraffes',\n",
              " 'giraffes',\n",
              " 'anteaters',\n",
              " 'sloths',\n",
              " 'naked mole rats',\n",
              " 'giraffes',\n",
              " 'naked mole rats',\n",
              " 'sloths',\n",
              " 'anteaters',\n",
              " 'sloths',\n",
              " 'sloths']"
            ]
          },
          "metadata": {
            "tags": []
          },
          "execution_count": 7
        }
      ]
    },
    {
      "cell_type": "markdown",
      "metadata": {
        "id": "cuwRxAldHGlM",
        "colab_type": "text"
      },
      "source": [
        "#### Exercise\n",
        "\n",
        "Calculate, from the rdd generated from absurd_animals, how many animals we have whose name does **not** start with an 's'"
      ]
    },
    {
      "cell_type": "code",
      "metadata": {
        "id": "pjVjWKrCHGlM",
        "colab_type": "code",
        "colab": {
          "base_uri": "https://localhost:8080/",
          "height": 34
        },
        "outputId": "01a49b64-12ba-45fd-e721-abe82c2727de"
      },
      "source": [
        "rdd.filter(lambda x: not x.startswith('s')).count()"
      ],
      "execution_count": null,
      "outputs": [
        {
          "output_type": "execute_result",
          "data": {
            "text/plain": [
              "78"
            ]
          },
          "metadata": {
            "tags": []
          },
          "execution_count": 8
        }
      ]
    },
    {
      "cell_type": "markdown",
      "metadata": {
        "id": "TiZo5vI8HGlO",
        "colab_type": "text"
      },
      "source": [
        "A very common way to write these chained operations in Spark is to put each on a line. Due to Python's syntax, we need to escape the newline character with a backslash."
      ]
    },
    {
      "cell_type": "code",
      "metadata": {
        "id": "UV_cBSZkHGlO",
        "colab_type": "code",
        "colab": {
          "base_uri": "https://localhost:8080/",
          "height": 34
        },
        "outputId": "c974f382-269b-4077-e306-c48ddf08add1"
      },
      "source": [
        "rdd.filter(lambda x: not x.startswith('s'))\\\n",
        "  .count()"
      ],
      "execution_count": null,
      "outputs": [
        {
          "output_type": "execute_result",
          "data": {
            "text/plain": [
              "78"
            ]
          },
          "metadata": {
            "tags": []
          },
          "execution_count": 9
        }
      ]
    },
    {
      "cell_type": "markdown",
      "metadata": {
        "id": "yGwANNETHGlQ",
        "colab_type": "text"
      },
      "source": [
        "### Actions and Transformations\n",
        "\n",
        "There are two main types of operations in Spark:\n",
        "[Actions](http://spark.apache.org/docs/2.2.0/rdd-programming-guide.html#actions) and [Transformations](http://spark.apache.org/docs/2.2.0/rdd-programming-guide.html#transformations).\n",
        "\n",
        "**Transformations** produce an RDD. Some of the most important are `map`, `filter`, and `reduceByKey`. `sc.parallelize` and `sc.textFile` are not technically Transformations but you can think of them as such in one very important respect: they are *lazyly evaluated*. That is, when we perform a Transformation, we are only describing the operation to be performed at some point in the future. They attach a node to the execution graph.\n",
        "\n",
        "**Actions** are implemented as methods on an RDD, and return an object of a type **that is not an RDD**. When we perform an Action, we give the order to execute the previously described transformations: we trigger the execution of the graph. Some of the most important are `reduce`, `collect`, `take`, `takeOrdered`, and `count`."
      ]
    },
    {
      "cell_type": "code",
      "metadata": {
        "id": "WGiHMAnoHGlQ",
        "colab_type": "code",
        "colab": {}
      },
      "source": [
        "numbers = sc.parallelize(range(1000000))"
      ],
      "execution_count": null,
      "outputs": []
    },
    {
      "cell_type": "code",
      "metadata": {
        "id": "MMh1VltV7S1Z",
        "colab_type": "code",
        "colab": {
          "base_uri": "https://localhost:8080/",
          "height": 51
        },
        "outputId": "041a52bb-4803-4ed9-86e0-3af04a03531e"
      },
      "source": [
        "#Se paraleliza pero no se ejecuta\n",
        "\n",
        "%%time\n",
        "import math\n",
        "res = numbers.map(lambda n:n**2)\\\n",
        "      .filter(lambda n: n%2 == 0)\\\n",
        "      .map(math.sqrt)"
      ],
      "execution_count": null,
      "outputs": [
        {
          "output_type": "stream",
          "text": [
            "CPU times: user 48 µs, sys: 11 µs, total: 59 µs\n",
            "Wall time: 63.7 µs\n"
          ],
          "name": "stdout"
        }
      ]
    },
    {
      "cell_type": "code",
      "metadata": {
        "id": "OHNkDexP7TET",
        "colab_type": "code",
        "colab": {
          "base_uri": "https://localhost:8080/",
          "height": 68
        },
        "outputId": "9c04b524-09e1-4fa2-a862-687fe2b94325"
      },
      "source": [
        "#Aqui si se ejecuta, por eso tarda mas\n",
        "\n",
        "%%time\n",
        "res.take(5)"
      ],
      "execution_count": null,
      "outputs": [
        {
          "output_type": "stream",
          "text": [
            "CPU times: user 8.64 ms, sys: 1.13 ms, total: 9.77 ms\n",
            "Wall time: 111 ms\n"
          ],
          "name": "stdout"
        },
        {
          "output_type": "execute_result",
          "data": {
            "text/plain": [
              "[0.0, 2.0, 4.0, 6.0, 8.0]"
            ]
          },
          "metadata": {
            "tags": []
          },
          "execution_count": 12
        }
      ]
    },
    {
      "cell_type": "markdown",
      "metadata": {
        "id": "gZBrD6h6HGlW",
        "colab_type": "text"
      },
      "source": [
        "### **(2b) Persisting and the RDD lineage**\n",
        "\n",
        "So far, we have seen that Spark RDDs are *lazyly evaluated*, i.e. nothing is actually done until an action is performed. In the RDD, the set of transformations to be applied are remembered: this is known as its *lineage*. It has the important consequence of making Spark RDDs *fault tolerant* automatically.\n",
        "\n",
        "![](http://images.slideplayer.com/14/4499833/slides/slide_10.jpg) \n",
        "\n",
        "It might be interesting to store some intermediate results, though: perhaps because we want to apply several different transformations starting from that point, or because we are going to apply an iterative computation (as is customary in machine learning algorithms). For this, Spark has [several ways of persisting](http://spark.apache.org/docs/latest/rdd-programming-guide.html#rdd-persistence)"
      ]
    },
    {
      "cell_type": "code",
      "metadata": {
        "id": "Y5MBPgfgHGlW",
        "colab_type": "code",
        "colab": {
          "base_uri": "https://localhost:8080/",
          "height": 68
        },
        "outputId": "7021797c-5a0e-440e-d5ae-3506a464c140"
      },
      "source": [
        "%%time\n",
        "res.sum()"
      ],
      "execution_count": null,
      "outputs": [
        {
          "output_type": "stream",
          "text": [
            "CPU times: user 9.14 ms, sys: 791 µs, total: 9.93 ms\n",
            "Wall time: 995 ms\n"
          ],
          "name": "stdout"
        },
        {
          "output_type": "execute_result",
          "data": {
            "text/plain": [
              "249999500000.0"
            ]
          },
          "metadata": {
            "tags": []
          },
          "execution_count": 13
        }
      ]
    },
    {
      "cell_type": "code",
      "metadata": {
        "id": "T_AItw5-841S",
        "colab_type": "code",
        "colab": {
          "base_uri": "https://localhost:8080/",
          "height": 34
        },
        "outputId": "8c102974-33cc-4790-d8d2-0dbd3a4107b4"
      },
      "source": [
        "res.cache()"
      ],
      "execution_count": null,
      "outputs": [
        {
          "output_type": "execute_result",
          "data": {
            "text/plain": [
              "PythonRDD[7] at RDD at PythonRDD.scala:53"
            ]
          },
          "metadata": {
            "tags": []
          },
          "execution_count": 14
        }
      ]
    },
    {
      "cell_type": "code",
      "metadata": {
        "id": "tQwZlc4w87Jj",
        "colab_type": "code",
        "colab": {
          "base_uri": "https://localhost:8080/",
          "height": 68
        },
        "outputId": "8569a5b8-99b1-40f0-caee-2c88def62071"
      },
      "source": [
        "%%time\n",
        "res.sum()"
      ],
      "execution_count": null,
      "outputs": [
        {
          "output_type": "stream",
          "text": [
            "CPU times: user 5.58 ms, sys: 1.34 ms, total: 6.93 ms\n",
            "Wall time: 147 ms\n"
          ],
          "name": "stdout"
        },
        {
          "output_type": "execute_result",
          "data": {
            "text/plain": [
              "249999500000.0"
            ]
          },
          "metadata": {
            "tags": []
          },
          "execution_count": 16
        }
      ]
    },
    {
      "cell_type": "markdown",
      "metadata": {
        "id": "yAJFPTyoHGlZ",
        "colab_type": "text"
      },
      "source": [
        "StorageLevel cannot be changed after it has been set. We need to `unpersist` first."
      ]
    },
    {
      "cell_type": "code",
      "metadata": {
        "tags": [
          "raises-exception"
        ],
        "id": "-01lFf2HHGla",
        "colab_type": "code",
        "colab": {
          "base_uri": "https://localhost:8080/",
          "height": 595
        },
        "outputId": "73ae3d5d-b572-4eaa-b92c-a20ea69ee848"
      },
      "source": [
        "from pyspark import StorageLevel\n",
        "\n",
        "res.persist(StorageLevel.MEMORY_AND_DISK_SER_2)"
      ],
      "execution_count": null,
      "outputs": [
        {
          "output_type": "error",
          "ename": "Py4JJavaError",
          "evalue": "ignored",
          "traceback": [
            "\u001b[0;31m---------------------------------------------------------------------------\u001b[0m",
            "\u001b[0;31mPy4JJavaError\u001b[0m                             Traceback (most recent call last)",
            "\u001b[0;32m<ipython-input-17-64eb3b940aed>\u001b[0m in \u001b[0;36m<module>\u001b[0;34m()\u001b[0m\n\u001b[1;32m      1\u001b[0m \u001b[0;32mfrom\u001b[0m \u001b[0mpyspark\u001b[0m \u001b[0;32mimport\u001b[0m \u001b[0mStorageLevel\u001b[0m\u001b[0;34m\u001b[0m\u001b[0;34m\u001b[0m\u001b[0m\n\u001b[1;32m      2\u001b[0m \u001b[0;34m\u001b[0m\u001b[0m\n\u001b[0;32m----> 3\u001b[0;31m \u001b[0mres\u001b[0m\u001b[0;34m.\u001b[0m\u001b[0mpersist\u001b[0m\u001b[0;34m(\u001b[0m\u001b[0mStorageLevel\u001b[0m\u001b[0;34m.\u001b[0m\u001b[0mMEMORY_AND_DISK_SER_2\u001b[0m\u001b[0;34m)\u001b[0m\u001b[0;34m\u001b[0m\u001b[0;34m\u001b[0m\u001b[0m\n\u001b[0m",
            "\u001b[0;32m/usr/local/lib/python3.6/dist-packages/pyspark/rdd.py\u001b[0m in \u001b[0;36mpersist\u001b[0;34m(self, storageLevel)\u001b[0m\n\u001b[1;32m    244\u001b[0m         \u001b[0mself\u001b[0m\u001b[0;34m.\u001b[0m\u001b[0mis_cached\u001b[0m \u001b[0;34m=\u001b[0m \u001b[0;32mTrue\u001b[0m\u001b[0;34m\u001b[0m\u001b[0;34m\u001b[0m\u001b[0m\n\u001b[1;32m    245\u001b[0m         \u001b[0mjavaStorageLevel\u001b[0m \u001b[0;34m=\u001b[0m \u001b[0mself\u001b[0m\u001b[0;34m.\u001b[0m\u001b[0mctx\u001b[0m\u001b[0;34m.\u001b[0m\u001b[0m_getJavaStorageLevel\u001b[0m\u001b[0;34m(\u001b[0m\u001b[0mstorageLevel\u001b[0m\u001b[0;34m)\u001b[0m\u001b[0;34m\u001b[0m\u001b[0;34m\u001b[0m\u001b[0m\n\u001b[0;32m--> 246\u001b[0;31m         \u001b[0mself\u001b[0m\u001b[0;34m.\u001b[0m\u001b[0m_jrdd\u001b[0m\u001b[0;34m.\u001b[0m\u001b[0mpersist\u001b[0m\u001b[0;34m(\u001b[0m\u001b[0mjavaStorageLevel\u001b[0m\u001b[0;34m)\u001b[0m\u001b[0;34m\u001b[0m\u001b[0;34m\u001b[0m\u001b[0m\n\u001b[0m\u001b[1;32m    247\u001b[0m         \u001b[0;32mreturn\u001b[0m \u001b[0mself\u001b[0m\u001b[0;34m\u001b[0m\u001b[0;34m\u001b[0m\u001b[0m\n\u001b[1;32m    248\u001b[0m \u001b[0;34m\u001b[0m\u001b[0m\n",
            "\u001b[0;32m/usr/local/lib/python3.6/dist-packages/py4j/java_gateway.py\u001b[0m in \u001b[0;36m__call__\u001b[0;34m(self, *args)\u001b[0m\n\u001b[1;32m   1255\u001b[0m         \u001b[0manswer\u001b[0m \u001b[0;34m=\u001b[0m \u001b[0mself\u001b[0m\u001b[0;34m.\u001b[0m\u001b[0mgateway_client\u001b[0m\u001b[0;34m.\u001b[0m\u001b[0msend_command\u001b[0m\u001b[0;34m(\u001b[0m\u001b[0mcommand\u001b[0m\u001b[0;34m)\u001b[0m\u001b[0;34m\u001b[0m\u001b[0;34m\u001b[0m\u001b[0m\n\u001b[1;32m   1256\u001b[0m         return_value = get_return_value(\n\u001b[0;32m-> 1257\u001b[0;31m             answer, self.gateway_client, self.target_id, self.name)\n\u001b[0m\u001b[1;32m   1258\u001b[0m \u001b[0;34m\u001b[0m\u001b[0m\n\u001b[1;32m   1259\u001b[0m         \u001b[0;32mfor\u001b[0m \u001b[0mtemp_arg\u001b[0m \u001b[0;32min\u001b[0m \u001b[0mtemp_args\u001b[0m\u001b[0;34m:\u001b[0m\u001b[0;34m\u001b[0m\u001b[0;34m\u001b[0m\u001b[0m\n",
            "\u001b[0;32m/usr/local/lib/python3.6/dist-packages/pyspark/sql/utils.py\u001b[0m in \u001b[0;36mdeco\u001b[0;34m(*a, **kw)\u001b[0m\n\u001b[1;32m     61\u001b[0m     \u001b[0;32mdef\u001b[0m \u001b[0mdeco\u001b[0m\u001b[0;34m(\u001b[0m\u001b[0;34m*\u001b[0m\u001b[0ma\u001b[0m\u001b[0;34m,\u001b[0m \u001b[0;34m**\u001b[0m\u001b[0mkw\u001b[0m\u001b[0;34m)\u001b[0m\u001b[0;34m:\u001b[0m\u001b[0;34m\u001b[0m\u001b[0;34m\u001b[0m\u001b[0m\n\u001b[1;32m     62\u001b[0m         \u001b[0;32mtry\u001b[0m\u001b[0;34m:\u001b[0m\u001b[0;34m\u001b[0m\u001b[0;34m\u001b[0m\u001b[0m\n\u001b[0;32m---> 63\u001b[0;31m             \u001b[0;32mreturn\u001b[0m \u001b[0mf\u001b[0m\u001b[0;34m(\u001b[0m\u001b[0;34m*\u001b[0m\u001b[0ma\u001b[0m\u001b[0;34m,\u001b[0m \u001b[0;34m**\u001b[0m\u001b[0mkw\u001b[0m\u001b[0;34m)\u001b[0m\u001b[0;34m\u001b[0m\u001b[0;34m\u001b[0m\u001b[0m\n\u001b[0m\u001b[1;32m     64\u001b[0m         \u001b[0;32mexcept\u001b[0m \u001b[0mpy4j\u001b[0m\u001b[0;34m.\u001b[0m\u001b[0mprotocol\u001b[0m\u001b[0;34m.\u001b[0m\u001b[0mPy4JJavaError\u001b[0m \u001b[0;32mas\u001b[0m \u001b[0me\u001b[0m\u001b[0;34m:\u001b[0m\u001b[0;34m\u001b[0m\u001b[0;34m\u001b[0m\u001b[0m\n\u001b[1;32m     65\u001b[0m             \u001b[0ms\u001b[0m \u001b[0;34m=\u001b[0m \u001b[0me\u001b[0m\u001b[0;34m.\u001b[0m\u001b[0mjava_exception\u001b[0m\u001b[0;34m.\u001b[0m\u001b[0mtoString\u001b[0m\u001b[0;34m(\u001b[0m\u001b[0;34m)\u001b[0m\u001b[0;34m\u001b[0m\u001b[0;34m\u001b[0m\u001b[0m\n",
            "\u001b[0;32m/usr/local/lib/python3.6/dist-packages/py4j/protocol.py\u001b[0m in \u001b[0;36mget_return_value\u001b[0;34m(answer, gateway_client, target_id, name)\u001b[0m\n\u001b[1;32m    326\u001b[0m                 raise Py4JJavaError(\n\u001b[1;32m    327\u001b[0m                     \u001b[0;34m\"An error occurred while calling {0}{1}{2}.\\n\"\u001b[0m\u001b[0;34m.\u001b[0m\u001b[0;34m\u001b[0m\u001b[0;34m\u001b[0m\u001b[0m\n\u001b[0;32m--> 328\u001b[0;31m                     format(target_id, \".\", name), value)\n\u001b[0m\u001b[1;32m    329\u001b[0m             \u001b[0;32melse\u001b[0m\u001b[0;34m:\u001b[0m\u001b[0;34m\u001b[0m\u001b[0;34m\u001b[0m\u001b[0m\n\u001b[1;32m    330\u001b[0m                 raise Py4JError(\n",
            "\u001b[0;31mPy4JJavaError\u001b[0m: An error occurred while calling o89.persist.\n: java.lang.UnsupportedOperationException: Cannot change storage level of an RDD after it was already assigned a level\n\tat org.apache.spark.rdd.RDD.persist(RDD.scala:170)\n\tat org.apache.spark.rdd.RDD.persist(RDD.scala:195)\n\tat org.apache.spark.api.java.JavaRDD.persist(JavaRDD.scala:47)\n\tat sun.reflect.NativeMethodAccessorImpl.invoke0(Native Method)\n\tat sun.reflect.NativeMethodAccessorImpl.invoke(NativeMethodAccessorImpl.java:62)\n\tat sun.reflect.DelegatingMethodAccessorImpl.invoke(DelegatingMethodAccessorImpl.java:43)\n\tat java.lang.reflect.Method.invoke(Method.java:498)\n\tat py4j.reflection.MethodInvoker.invoke(MethodInvoker.java:244)\n\tat py4j.reflection.ReflectionEngine.invoke(ReflectionEngine.java:357)\n\tat py4j.Gateway.invoke(Gateway.java:282)\n\tat py4j.commands.AbstractCommand.invokeMethod(AbstractCommand.java:132)\n\tat py4j.commands.CallCommand.execute(CallCommand.java:79)\n\tat py4j.GatewayConnection.run(GatewayConnection.java:238)\n\tat java.lang.Thread.run(Thread.java:748)\n"
          ]
        }
      ]
    },
    {
      "cell_type": "markdown",
      "metadata": {
        "id": "Qh5BMamxHGlc",
        "colab_type": "text"
      },
      "source": [
        "### **(2c) Partitioning **\n",
        "\n",
        "One important parameter for parallel collections is the number of partitions to cut the dataset into. Spark will run one task for each partition of the cluster. Typically you want 2-4 partitions for each CPU in your cluster.\n",
        "\n",
        "To get the number of partitions of an RDD, just use `getNumPartitions()` on your RDD. You can change the partitions during RDD creation (with `parallelize(collection,numPartitions)` or `fromTextFile(file,numPartitions)`), or afterwards with methods like `repartition(), coalesce()`, etc."
      ]
    },
    {
      "cell_type": "code",
      "metadata": {
        "id": "hGxx1yJvHGld",
        "colab_type": "code",
        "colab": {
          "base_uri": "https://localhost:8080/",
          "height": 34
        },
        "outputId": "1a8c7f65-1d79-4d90-ecc3-5321848df6d1"
      },
      "source": [
        "rdd.getNumPartitions()"
      ],
      "execution_count": null,
      "outputs": [
        {
          "output_type": "execute_result",
          "data": {
            "text/plain": [
              "2"
            ]
          },
          "metadata": {
            "tags": []
          },
          "execution_count": 18
        }
      ]
    },
    {
      "cell_type": "code",
      "metadata": {
        "id": "uLeO1wjaAEms",
        "colab_type": "code",
        "colab": {}
      },
      "source": [
        "rdd.glom().collect()"
      ],
      "execution_count": null,
      "outputs": []
    },
    {
      "cell_type": "markdown",
      "metadata": {
        "id": "UBC1ZWsLHGlf",
        "colab_type": "text"
      },
      "source": [
        "We can see the partitions using [glom()](http://spark.apache.org/docs/latest/api/python/pyspark.html?highlight=glom#pyspark.RDD.glom): it retruns an RDD created by coalescing all elements within each partition into a list."
      ]
    },
    {
      "cell_type": "code",
      "metadata": {
        "id": "2_ZQCQYrHGlf",
        "colab_type": "code",
        "colab": {
          "base_uri": "https://localhost:8080/",
          "height": 34
        },
        "outputId": "739c4cd5-9aa7-405c-f606-3dd9a86ee747"
      },
      "source": [
        "numbers = sc.parallelize(range(10))\n",
        "repartinioned = numbers.repartition(8)\n",
        "repartinioned.glom().collect()"
      ],
      "execution_count": null,
      "outputs": [
        {
          "output_type": "execute_result",
          "data": {
            "text/plain": [
              "[[], [], [5, 6, 7, 8, 9], [], [], [], [0, 1, 2, 3, 4], []]"
            ]
          },
          "metadata": {
            "tags": []
          },
          "execution_count": 20
        }
      ]
    },
    {
      "cell_type": "code",
      "metadata": {
        "id": "uv01GEcODylE",
        "colab_type": "code",
        "colab": {
          "base_uri": "https://localhost:8080/",
          "height": 34
        },
        "outputId": "569fdaa6-1e36-4339-c464-f0c2e0357d49"
      },
      "source": [
        "#Eliminates network traffic of empty partitions\n",
        "numbers.coalesce(3).glom().collect()"
      ],
      "execution_count": null,
      "outputs": [
        {
          "output_type": "execute_result",
          "data": {
            "text/plain": [
              "[[0, 1, 2, 3, 4], [5, 6, 7, 8, 9]]"
            ]
          },
          "metadata": {
            "tags": []
          },
          "execution_count": 21
        }
      ]
    },
    {
      "cell_type": "markdown",
      "metadata": {
        "id": "59MbjOFYHGli",
        "colab_type": "text"
      },
      "source": [
        "Partitions are one of the most powerfull concepts in Spark: you can decide how to distribute your data so it can fit in memory, and more importantly, you can perform computations on each partition *before* speaking to other partitions. This can have an enormous impact on performance"
      ]
    },
    {
      "cell_type": "markdown",
      "metadata": {
        "id": "p_eJIlC7HGli",
        "colab_type": "text"
      },
      "source": [
        "### **(2c) Pair RDDs: *grouping* strategies in Spark**\n",
        "\n",
        "The next step in writing our word counting program is to create a new type of RDD, called a pair RDD. A pair RDD is an RDD where each element is a pair tuple (k, v) where k is the key and v is the value. In this example, we will create a pair consisting of ('<word>', 1) for each word element in the RDD, as we did in the map/reduce version of the histogram in Python, section (1d.2).\n",
        "\n",
        "We can create the pair RDD using the map() transformation with a lambda() function to create a new RDD."
      ]
    },
    {
      "cell_type": "code",
      "metadata": {
        "id": "HQ3JPgmXHGli",
        "colab_type": "code",
        "colab": {
          "base_uri": "https://localhost:8080/",
          "height": 34
        },
        "outputId": "e4c1cbc7-4fcd-4738-91e1-2c84dfe1169e"
      },
      "source": [
        "pair_rdd = rdd.map(lambda animal: (animal,1))\n",
        "pair_rdd.take(3)"
      ],
      "execution_count": null,
      "outputs": [
        {
          "output_type": "execute_result",
          "data": {
            "text/plain": [
              "[('anteater', 1), ('giraffe', 1), ('naked mole rat', 1)]"
            ]
          },
          "metadata": {
            "tags": []
          },
          "execution_count": 22
        }
      ]
    },
    {
      "cell_type": "markdown",
      "metadata": {
        "id": "By9hsFhFHGll",
        "colab_type": "text"
      },
      "source": [
        "### ** (2c.1) `groupByKey()` approach **\n",
        "An approach you might first consider (we'll see shortly that there are better ways) is based on using the [groupByKey()](http://spark.apache.org/docs/latest/api/python/pyspark.html#pyspark.RDD.groupByKey) transformation. As the name implies, the `groupByKey()` transformation groups all the elements of the RDD with the same key into a single list in one of the partitions. There are two problems with using `groupByKey()`:\n",
        "  + The operation requires a lot of data movement to move all the values into the appropriate partitions.\n",
        "  + The lists can be very large. Consider a word count of English Wikipedia: the lists for common words (e.g., the, a, etc.) would be huge and could exhaust the available memory in a worker.\n",
        " \n",
        "Use `groupByKey()` to generate a pair RDD of type `('word', iterator)`. Next, sum the iterator using a `map()` transformation.  The result should be a pair RDD consisting of (word, count) pairs."
      ]
    },
    {
      "cell_type": "code",
      "metadata": {
        "id": "4jCswww6HGll",
        "colab_type": "code",
        "colab": {
          "base_uri": "https://localhost:8080/",
          "height": 85
        },
        "outputId": "eaa800d2-34eb-4c85-9cd0-223517784d2d"
      },
      "source": [
        "pair_rdd.groupByKey().collect()"
      ],
      "execution_count": null,
      "outputs": [
        {
          "output_type": "execute_result",
          "data": {
            "text/plain": [
              "[('naked mole rat', <pyspark.resultiterable.ResultIterable at 0x7f7fa304efd0>),\n",
              " ('sloth', <pyspark.resultiterable.ResultIterable at 0x7f7fa304e4e0>),\n",
              " ('anteater', <pyspark.resultiterable.ResultIterable at 0x7f7fa304ecc0>),\n",
              " ('giraffe', <pyspark.resultiterable.ResultIterable at 0x7f7fa304e8d0>)]"
            ]
          },
          "metadata": {
            "tags": []
          },
          "execution_count": 23
        }
      ]
    },
    {
      "cell_type": "code",
      "metadata": {
        "id": "n3Ge7vQJHD_r",
        "colab_type": "code",
        "colab": {
          "base_uri": "https://localhost:8080/",
          "height": 34
        },
        "outputId": "ed5ad394-7524-4e0f-ebc3-833cc6273c2d"
      },
      "source": [
        "pair_rdd.groupByKey().map(lambda t: (t[0], len(t[1]))).collect()"
      ],
      "execution_count": null,
      "outputs": [
        {
          "output_type": "execute_result",
          "data": {
            "text/plain": [
              "[('naked mole rat', 21), ('sloth', 22), ('anteater', 28), ('giraffe', 29)]"
            ]
          },
          "metadata": {
            "tags": []
          },
          "execution_count": 155
        }
      ]
    },
    {
      "cell_type": "markdown",
      "metadata": {
        "id": "CvXj0UkSHGl-",
        "colab_type": "text"
      },
      "source": [
        "### ** (2c.2)  `reduceByKey` approach **\n",
        "A better approach is to start from the pair RDD and then use the [reduceByKey()](http://spark.apache.org/docs/latest/api/python/pyspark.html#pyspark.RDD.reduceByKey) transformation to create a new pair RDD. \n",
        "\n",
        "The `reduceByKey()` transformation gathers together pairs that have the same key and applies the function provided to two values at a time, iteratively reducing all of the values to a single value. `reduceByKey()` operates by applying the function first within each partition on a per-key basis and then across the partitions, allowing it to scale efficiently to large datasets.\n",
        "\n",
        "![](https://databricks.gitbooks.io/databricks-spark-knowledge-base/content/images/reduce_by.png)"
      ]
    },
    {
      "cell_type": "code",
      "metadata": {
        "id": "ur7KZrywHGl_",
        "colab_type": "code",
        "colab": {
          "base_uri": "https://localhost:8080/",
          "height": 102
        },
        "outputId": "76206857-ed6c-403f-f7e1-6923286120df"
      },
      "source": [
        "pair_rdd.take(5)"
      ],
      "execution_count": null,
      "outputs": [
        {
          "output_type": "execute_result",
          "data": {
            "text/plain": [
              "[('anteater', 1),\n",
              " ('giraffe', 1),\n",
              " ('naked mole rat', 1),\n",
              " ('giraffe', 1),\n",
              " ('anteater', 1)]"
            ]
          },
          "metadata": {
            "tags": []
          },
          "execution_count": 24
        }
      ]
    },
    {
      "cell_type": "code",
      "metadata": {
        "id": "_9CpoCIfSnme",
        "colab_type": "code",
        "colab": {
          "base_uri": "https://localhost:8080/",
          "height": 34
        },
        "outputId": "0b8197f7-4d73-4bcd-9510-afea2e50f124"
      },
      "source": [
        "pair_rdd.reduceByKey(lambda x,y:x+y).collect()"
      ],
      "execution_count": null,
      "outputs": [
        {
          "output_type": "execute_result",
          "data": {
            "text/plain": [
              "[('naked mole rat', 21), ('sloth', 22), ('anteater', 28), ('giraffe', 29)]"
            ]
          },
          "metadata": {
            "tags": []
          },
          "execution_count": 25
        }
      ]
    },
    {
      "cell_type": "markdown",
      "metadata": {
        "id": "ZnJUPhsrHGmF",
        "colab_type": "text"
      },
      "source": [
        "#### Summary: word count in Spark:"
      ]
    },
    {
      "cell_type": "code",
      "metadata": {
        "id": "BiW9OT38HGmG",
        "colab_type": "code",
        "colab": {}
      },
      "source": [
        ""
      ],
      "execution_count": null,
      "outputs": []
    },
    {
      "cell_type": "markdown",
      "metadata": {
        "collapsed": true,
        "id": "GfvdPlFaHGmJ",
        "colab_type": "text"
      },
      "source": [
        "## (2d) Apply word count to a file"
      ]
    },
    {
      "cell_type": "markdown",
      "metadata": {
        "id": "21FPZ9FCHGmK",
        "colab_type": "text"
      },
      "source": [
        "### ** (2d.1) Load a text file **\n",
        "For the next part of this lab, we will use the [Complete Works of William Shakespeare](http://www.gutenberg.org/ebooks/100) from [Project Gutenberg](http://www.gutenberg.org/wiki/Main_Page). To convert a text file into an RDD, we use the `SparkContext.textFile()` method. We also apply the recently defined `removePunctuation()` function using a `map()` transformation to strip out the punctuation and change all text to lowercase.  Since the file is large we use `take(15)`, so that we only print(15 lines.)\n",
        "\n",
        "Copy this into a notebook cell:\n",
        "\n",
        "```\n",
        "!wget -v http://www.gutenberg.org/files/100/100-0.txt -O shakespeare.txt\n",
        "```"
      ]
    },
    {
      "cell_type": "code",
      "metadata": {
        "id": "HlCYBeIGHGmL",
        "colab_type": "code",
        "colab": {
          "base_uri": "https://localhost:8080/",
          "height": 204
        },
        "outputId": "e2486476-8f09-4c66-cb79-4c3956f3912f"
      },
      "source": [
        "!wget -v http://www.gutenberg.org/files/100/100-0.txt -O shakespeare.txt\n"
      ],
      "execution_count": null,
      "outputs": [
        {
          "output_type": "stream",
          "text": [
            "--2020-06-19 17:03:26--  http://www.gutenberg.org/files/100/100-0.txt\n",
            "Resolving www.gutenberg.org (www.gutenberg.org)... 152.19.134.47, 2610:28:3090:3000:0:bad:cafe:47\n",
            "Connecting to www.gutenberg.org (www.gutenberg.org)|152.19.134.47|:80... connected.\n",
            "HTTP request sent, awaiting response... 200 OK\n",
            "Length: 5777367 (5.5M) [text/plain]\n",
            "Saving to: ‘shakespeare.txt’\n",
            "\n",
            "shakespeare.txt     100%[===================>]   5.51M  7.48MB/s    in 0.7s    \n",
            "\n",
            "2020-06-19 17:03:27 (7.48 MB/s) - ‘shakespeare.txt’ saved [5777367/5777367]\n",
            "\n"
          ],
          "name": "stdout"
        }
      ]
    },
    {
      "cell_type": "markdown",
      "metadata": {
        "id": "5lM73mxcHGmN",
        "colab_type": "text"
      },
      "source": [
        "### ** (2d.2) Capitalization and punctuation **\n",
        "Real world files are more complicated than the data we have been using in this lab. Some of the issues we have to address are:\n",
        "  + Words should be counted independent of their capitialization (e.g., Spark and spark should be counted as the same word).\n",
        "  + All punctuation should be removed.\n",
        "  + Any leading or trailing spaces on a line should be removed.\n",
        " \n",
        "Define the function `removePunctuation` that converts all text to lower case, removes any punctuation, and removes leading and trailing spaces.  Use the Python [re](https://docs.python.org/2/library/re.html) module to remove any text that is not a letter, number, or space. Reading `help(re.sub)` might be useful."
      ]
    },
    {
      "cell_type": "code",
      "metadata": {
        "id": "CA8Q1dTbXKdx",
        "colab_type": "code",
        "colab": {
          "base_uri": "https://localhost:8080/",
          "height": 34
        },
        "outputId": "aecf84ab-e8fe-4639-a5a5-c14425388c61"
      },
      "source": [
        "import re\n",
        "re.sub('[^a-zA-Z0-9 ]', ' ', 'xaxito..!')"
      ],
      "execution_count": null,
      "outputs": [
        {
          "output_type": "execute_result",
          "data": {
            "text/plain": [
              "'xaxito   '"
            ]
          },
          "metadata": {
            "tags": []
          },
          "execution_count": 3
        }
      ]
    },
    {
      "cell_type": "code",
      "metadata": {
        "id": "FdmZuidpYalH",
        "colab_type": "code",
        "colab": {}
      },
      "source": [
        "# Each element is a line\n",
        "sc = spark.sparkContext\n",
        "\n",
        "shakes = sc.textFile('shakespeare.txt')"
      ],
      "execution_count": null,
      "outputs": []
    },
    {
      "cell_type": "code",
      "metadata": {
        "id": "jQHbbFKUHGmO",
        "colab_type": "code",
        "colab": {}
      },
      "source": [
        "def remove_punctuation(line):\n",
        "  return re.sub('[^a-zA-Z0-9 ]', '', line)"
      ],
      "execution_count": null,
      "outputs": []
    },
    {
      "cell_type": "code",
      "metadata": {
        "id": "A4cwYd1XZKKa",
        "colab_type": "code",
        "colab": {
          "base_uri": "https://localhost:8080/",
          "height": 187
        },
        "outputId": "45722f82-e135-4aa9-eb14-2431188d1173"
      },
      "source": [
        "shakes.map(remove_punctuation).take(10)"
      ],
      "execution_count": null,
      "outputs": [
        {
          "output_type": "execute_result",
          "data": {
            "text/plain": [
              "['',\n",
              " 'Project Gutenbergs The Complete Works of William Shakespeare by William',\n",
              " 'Shakespeare',\n",
              " '',\n",
              " 'This eBook is for the use of anyone anywhere in the United States and',\n",
              " 'most other parts of the world at no cost and with almost no restrictions',\n",
              " 'whatsoever  You may copy it give it away or reuse it under the terms',\n",
              " 'of the Project Gutenberg License included with this eBook or online at',\n",
              " 'wwwgutenbergorg  If you are not located in the United States youll',\n",
              " 'have to check the laws of the country where you are located before using']"
            ]
          },
          "metadata": {
            "tags": []
          },
          "execution_count": 10
        }
      ]
    },
    {
      "cell_type": "markdown",
      "metadata": {
        "id": "ZYxmw5YoHGmR",
        "colab_type": "text"
      },
      "source": [
        "http://www.regular-expressions.info/quickstart.html\n",
        "\n",
        "https://regex101.com/"
      ]
    },
    {
      "cell_type": "markdown",
      "metadata": {
        "id": "xBF5gDcZHGmS",
        "colab_type": "text"
      },
      "source": [
        "### ** (2d.3) Words from lines **\n",
        "Before we can use the `wordcount()` function, we have to address two issues with the format of the RDD:\n",
        "  + The first issue is that  that we need to split each line by its spaces.\n",
        "  + The second issue is we need to filter out empty lines.\n",
        " \n",
        "Apply a transformation that will split each element of the RDD by its spaces. For each element of the RDD, you should apply Python's string [split()](https://docs.python.org/3/library/stdtypes.html#str.split) function. You might think that a `map()` transformation is the way to do this, but think about what the result of the `split()` function will be.\n",
        "\n",
        "Check out the Spark Programming Guide for an alternative transformation that helps us here."
      ]
    },
    {
      "cell_type": "code",
      "metadata": {
        "id": "vAEne3_CcBqx",
        "colab_type": "code",
        "colab": {
          "base_uri": "https://localhost:8080/",
          "height": 476
        },
        "outputId": "0e5f26a5-957c-4b38-df7a-22be6007c356"
      },
      "source": [
        "# split lines in words\n",
        "\n",
        "shakes.map(remove_punctuation).map(str.strip).flatMap(str.split).take(5)\n",
        "shakes.map(remove_punctuation).map(lambda line: line.strip().split()).take(5)"
      ],
      "execution_count": null,
      "outputs": [
        {
          "output_type": "execute_result",
          "data": {
            "text/plain": [
              "[[],\n",
              " ['Project',\n",
              "  'Gutenbergs',\n",
              "  'The',\n",
              "  'Complete',\n",
              "  'Works',\n",
              "  'of',\n",
              "  'William',\n",
              "  'Shakespeare',\n",
              "  'by',\n",
              "  'William'],\n",
              " ['Shakespeare'],\n",
              " [],\n",
              " ['This',\n",
              "  'eBook',\n",
              "  'is',\n",
              "  'for',\n",
              "  'the',\n",
              "  'use',\n",
              "  'of',\n",
              "  'anyone',\n",
              "  'anywhere',\n",
              "  'in',\n",
              "  'the',\n",
              "  'United',\n",
              "  'States',\n",
              "  'and']]"
            ]
          },
          "metadata": {
            "tags": []
          },
          "execution_count": 11
        }
      ]
    },
    {
      "cell_type": "code",
      "metadata": {
        "id": "v-Cg7YWQHGmT",
        "colab_type": "code",
        "colab": {}
      },
      "source": [
        "# split lines in words\n",
        "\n",
        "#shakes.map(remove_punctuation).map(str.strip).flatMap(str.split).take(5)\n",
        "words = shakes.map(remove_punctuation).flatMap(lambda line: line.strip().split())"
      ],
      "execution_count": null,
      "outputs": []
    },
    {
      "cell_type": "markdown",
      "metadata": {
        "id": "XLn3Nb7WHGmV",
        "colab_type": "text"
      },
      "source": [
        "### (2d.4) Count the words and show the top 15\n",
        "\n",
        "We know the drill at this point, don't we? We map to a tuple then `reduceByKey`\n",
        "\n",
        "We can view the top 15 words by using the `takeOrdered()` action; however, since the elements of the RDD are pair tuples, we need a custom sort function that sorts using the value part of the pair rather than the key.\n",
        "\n",
        "You'll notice that many of the words are common English words (know as stopwords).\n",
        "\n",
        "Use our map reduce and and `takeOrdered()` to obtain the fifteen most common words and their counts."
      ]
    },
    {
      "cell_type": "code",
      "metadata": {
        "id": "TQoTzbvvHGmV",
        "colab_type": "code",
        "colab": {
          "base_uri": "https://localhost:8080/",
          "height": 272
        },
        "outputId": "3020b81e-7d2e-4389-e0c0-2bc7c98fe787"
      },
      "source": [
        "words.map(lambda word: (word,1)).reduceByKey(lambda x,y: x+y). \\\n",
        "takeOrdered(15, lambda pair: -pair[-1])\n"
      ],
      "execution_count": null,
      "outputs": [
        {
          "output_type": "execute_result",
          "data": {
            "text/plain": [
              "[('the', 25527),\n",
              " ('I', 21635),\n",
              " ('and', 20151),\n",
              " ('to', 17217),\n",
              " ('of', 16971),\n",
              " ('a', 13822),\n",
              " ('you', 12764),\n",
              " ('my', 11433),\n",
              " ('in', 10989),\n",
              " ('is', 8809),\n",
              " ('that', 8693),\n",
              " ('not', 8555),\n",
              " ('me', 8229),\n",
              " ('And', 8217),\n",
              " ('with', 7439)]"
            ]
          },
          "metadata": {
            "tags": []
          },
          "execution_count": 13
        }
      ]
    },
    {
      "cell_type": "markdown",
      "metadata": {
        "id": "uuAiCDUGHGmX",
        "colab_type": "text"
      },
      "source": [
        "# Practical"
      ]
    },
    {
      "cell_type": "markdown",
      "metadata": {
        "id": "7eAXcjf4HGmX",
        "colab_type": "text"
      },
      "source": [
        "## ETL with airline coupon data"
      ]
    },
    {
      "cell_type": "markdown",
      "metadata": {
        "id": "UqW1a-frHGmZ",
        "colab_type": "text"
      },
      "source": [
        "Load the data first: coupon data"
      ]
    },
    {
      "cell_type": "code",
      "metadata": {
        "id": "XqfVQJL3HGmZ",
        "colab_type": "code",
        "colab": {}
      },
      "source": [
        ""
      ],
      "execution_count": null,
      "outputs": []
    },
    {
      "cell_type": "markdown",
      "metadata": {
        "id": "B39eIrKAHGmb",
        "colab_type": "text"
      },
      "source": [
        "#### Exercise\n",
        "\n",
        "Take fields 0, 2, 3, 4, and 6 from each line of coupons"
      ]
    },
    {
      "cell_type": "code",
      "metadata": {
        "id": "gUk50cl_HGmb",
        "colab_type": "code",
        "colab": {}
      },
      "source": [
        ""
      ],
      "execution_count": null,
      "outputs": []
    },
    {
      "cell_type": "markdown",
      "metadata": {
        "id": "hXhZXo2MHGmd",
        "colab_type": "text"
      },
      "source": [
        "#### Intermission: Stack traces in Spark\n",
        "\n",
        "Stack traces in pyspark are quite convoluted because we have many layers of processing. Look for the python stack trace contained within the Py4JJavaError message."
      ]
    },
    {
      "cell_type": "code",
      "metadata": {
        "id": "GDGEW9PIHGmd",
        "colab_type": "code",
        "colab": {}
      },
      "source": [
        ""
      ],
      "execution_count": null,
      "outputs": []
    },
    {
      "cell_type": "markdown",
      "metadata": {
        "id": "omU5Qi6yHGmh",
        "colab_type": "text"
      },
      "source": [
        "#### Exercise\n",
        "\n",
        "Keep only the amount. Get average, max, min and std"
      ]
    },
    {
      "cell_type": "code",
      "metadata": {
        "id": "iexNqJYCHGmh",
        "colab_type": "code",
        "colab": {}
      },
      "source": [
        ""
      ],
      "execution_count": null,
      "outputs": []
    },
    {
      "cell_type": "markdown",
      "metadata": {
        "id": "XHsp2Q4YHGmk",
        "colab_type": "text"
      },
      "source": [
        "#### All in one go!\n",
        "\n"
      ]
    },
    {
      "cell_type": "code",
      "metadata": {
        "id": "usToHUYdHGmk",
        "colab_type": "code",
        "colab": {}
      },
      "source": [
        ""
      ],
      "execution_count": null,
      "outputs": []
    },
    {
      "cell_type": "markdown",
      "metadata": {
        "collapsed": true,
        "id": "jPGPbE9FHGmq",
        "colab_type": "text"
      },
      "source": [
        "#### Exercise\n",
        "\n",
        "Get stats on ticket amount for all tickets with destination MAD\n",
        "\n",
        "You will need to extract ticket amounts with destination MAD, and then calculate:\n",
        "\n",
        "1. Total ticket amounts per origin\n",
        "2. Top 10 airlines by average amount"
      ]
    },
    {
      "cell_type": "markdown",
      "metadata": {
        "id": "WI9rgoRyHGmq",
        "colab_type": "text"
      },
      "source": [
        "#### Part 1\n",
        "\n",
        "We need to filter coupons with destination Madrid, and after that group on the origin. "
      ]
    },
    {
      "cell_type": "code",
      "metadata": {
        "id": "yvtvP1J9HGmt",
        "colab_type": "code",
        "colab": {}
      },
      "source": [
        ""
      ],
      "execution_count": null,
      "outputs": []
    },
    {
      "cell_type": "markdown",
      "metadata": {
        "id": "duMG_IsFHGmw",
        "colab_type": "text"
      },
      "source": [
        "At this point, we only need the origin, to group on, and the value, to sum"
      ]
    },
    {
      "cell_type": "code",
      "metadata": {
        "id": "GBw2T54dHGmw",
        "colab_type": "code",
        "colab": {}
      },
      "source": [
        ""
      ],
      "execution_count": null,
      "outputs": []
    },
    {
      "cell_type": "markdown",
      "metadata": {
        "id": "lvg_Zs1BHGmy",
        "colab_type": "text"
      },
      "source": [
        "We are now ready to reduce all amounts per origin."
      ]
    },
    {
      "cell_type": "code",
      "metadata": {
        "id": "U6aUws1KHGmy",
        "colab_type": "code",
        "colab": {}
      },
      "source": [
        ""
      ],
      "execution_count": null,
      "outputs": []
    },
    {
      "cell_type": "markdown",
      "metadata": {
        "id": "XlikYtb8HGm0",
        "colab_type": "text"
      },
      "source": [
        "#### Part 2\n",
        "\n",
        "This is very similar, with two differences: we need to group on the airline, and to calculate averages we need to keep track of both the total amount on the coupons and the number of coupons."
      ]
    },
    {
      "cell_type": "code",
      "metadata": {
        "id": "RohcC4a8HGm0",
        "colab_type": "code",
        "colab": {}
      },
      "source": [
        ""
      ],
      "execution_count": null,
      "outputs": []
    },
    {
      "cell_type": "markdown",
      "metadata": {
        "id": "QLbvA6J1HGm2",
        "colab_type": "text"
      },
      "source": [
        "Now we reduce tuples, summing each component of the tuple separately."
      ]
    },
    {
      "cell_type": "code",
      "metadata": {
        "id": "Vm9N0ddBHGm2",
        "colab_type": "code",
        "colab": {}
      },
      "source": [
        ""
      ],
      "execution_count": null,
      "outputs": []
    },
    {
      "cell_type": "markdown",
      "metadata": {
        "id": "92k4goYXHGm4",
        "colab_type": "text"
      },
      "source": [
        "This reduceByKey generates an RDD of the form (k, (v1, v2)). We can map it like this:"
      ]
    },
    {
      "cell_type": "code",
      "metadata": {
        "id": "EYZX870zHGm4",
        "colab_type": "code",
        "colab": {}
      },
      "source": [
        ""
      ],
      "execution_count": null,
      "outputs": []
    },
    {
      "cell_type": "markdown",
      "metadata": {
        "id": "KQ12vofkHGm6",
        "colab_type": "text"
      },
      "source": [
        "Or we can use the mapValues method to only process the (v1, v2) part, ignoring the key for processing without discarding it."
      ]
    },
    {
      "cell_type": "code",
      "metadata": {
        "id": "0vT73YNjHGm6",
        "colab_type": "code",
        "colab": {}
      },
      "source": [
        ""
      ],
      "execution_count": null,
      "outputs": []
    },
    {
      "cell_type": "markdown",
      "metadata": {
        "id": "DMhCXNDaHGm8",
        "colab_type": "text"
      },
      "source": [
        "And we're ready to take our result."
      ]
    },
    {
      "cell_type": "code",
      "metadata": {
        "id": "UOfCYUZ6HGm8",
        "colab_type": "code",
        "colab": {}
      },
      "source": [
        ""
      ],
      "execution_count": null,
      "outputs": []
    },
    {
      "cell_type": "markdown",
      "metadata": {
        "id": "Qo89W6c3HGm_",
        "colab_type": "text"
      },
      "source": [
        "#### Stretch: \n",
        "\n",
        "Get the totals from first origin without using the coupon number"
      ]
    },
    {
      "cell_type": "code",
      "metadata": {
        "id": "Pe_XE2ZYHGnA",
        "colab_type": "code",
        "colab": {}
      },
      "source": [
        ""
      ],
      "execution_count": null,
      "outputs": []
    },
    {
      "cell_type": "markdown",
      "metadata": {
        "id": "CBbBtr30HGnH",
        "colab_type": "text"
      },
      "source": [
        "We'll use groupBy this time, because we need to look at every coupon in a ticket in order to identify first origin."
      ]
    },
    {
      "cell_type": "code",
      "metadata": {
        "id": "37zXw_LHHGnH",
        "colab_type": "code",
        "colab": {}
      },
      "source": [
        ""
      ],
      "execution_count": null,
      "outputs": []
    },
    {
      "cell_type": "markdown",
      "metadata": {
        "id": "DslEpyShHGnI",
        "colab_type": "text"
      },
      "source": [
        "A ResultIterable is a lazy collection, so we can take it and iterate over it, or turn it into a list to materialize it. This is useful to get a test case to test the function we will be writing."
      ]
    },
    {
      "cell_type": "code",
      "metadata": {
        "id": "1oGiMEJAHGnJ",
        "colab_type": "code",
        "colab": {}
      },
      "source": [
        ""
      ],
      "execution_count": null,
      "outputs": []
    },
    {
      "cell_type": "markdown",
      "metadata": {
        "id": "rcljalCpHGnM",
        "colab_type": "text"
      },
      "source": [
        "We are going to compare the set of origins to the set of destinations. The one that is in the first but not in the second should be the first origin."
      ]
    },
    {
      "cell_type": "code",
      "metadata": {
        "id": "_X8tQjGnHGnM",
        "colab_type": "code",
        "colab": {}
      },
      "source": [
        ""
      ],
      "execution_count": null,
      "outputs": []
    },
    {
      "cell_type": "markdown",
      "metadata": {
        "id": "KiRDBa7cHGnQ",
        "colab_type": "text"
      },
      "source": [
        "Now we have have our values, so we are ready to get the totals and sort. Before we reduceByKey, we need to reshape our tuples so the first origin is the key."
      ]
    },
    {
      "cell_type": "code",
      "metadata": {
        "id": "2b6XcDXlHGnR",
        "colab_type": "code",
        "colab": {}
      },
      "source": [
        ""
      ],
      "execution_count": null,
      "outputs": []
    },
    {
      "cell_type": "markdown",
      "metadata": {
        "id": "SuCYYyn2HGnS",
        "colab_type": "text"
      },
      "source": [
        "### Further resources\n",
        "\n",
        "https://s3.amazonaws.com/assets.datacamp.com/blog_assets/PySpark_Cheat_Sheet_Python.pdf"
      ]
    }
  ]
}