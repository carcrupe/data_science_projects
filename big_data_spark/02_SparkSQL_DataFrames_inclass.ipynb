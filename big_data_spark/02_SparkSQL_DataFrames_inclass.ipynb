{
  "nbformat": 4,
  "nbformat_minor": 0,
  "metadata": {
    "anaconda-cloud": {},
    "celltoolbar": "Tags",
    "kernelspec": {
      "display_name": "Python 3",
      "language": "python",
      "name": "python3"
    },
    "language_info": {
      "codemirror_mode": {
        "name": "ipython",
        "version": 3
      },
      "file_extension": ".py",
      "mimetype": "text/x-python",
      "name": "python",
      "nbconvert_exporter": "python",
      "pygments_lexer": "ipython3",
      "version": "3.6.8"
    },
    "colab": {
      "name": "02_SparkSQL_DataFrames_inclass.ipynb",
      "provenance": [],
      "collapsed_sections": [
        "sl9SuKYRlcIo",
        "Xfg_ccqPlcJL",
        "TiZYJdPnlcJu",
        "2wluZqb6lcKP",
        "GqkFOFwPlcUh",
        "xxa8OLp4lcW5",
        "UwoBX0TklcYU"
      ]
    }
  },
  "cells": [
    {
      "cell_type": "code",
      "metadata": {
        "id": "1_AGdeJzpyS8",
        "colab_type": "code",
        "colab": {}
      },
      "source": [
        ""
      ],
      "execution_count": null,
      "outputs": []
    },
    {
      "cell_type": "markdown",
      "metadata": {
        "id": "QtySme1elcFI",
        "colab_type": "text"
      },
      "source": [
        "# SparkSQL and DataFrames \n",
        "\n",
        "<a href = \"http://yogen.io\"><img src=\"http://yogen.io/assets/logo.svg\" alt=\"yogen\" style=\"width: 200px; float: right;\"/></a>"
      ]
    },
    {
      "cell_type": "code",
      "metadata": {
        "id": "GSw1Ggrwlmfi",
        "colab_type": "code",
        "colab": {
          "base_uri": "https://localhost:8080/",
          "height": 68
        },
        "outputId": "60140e66-f18f-485d-d298-fe07a542bdb5"
      },
      "source": [
        "!apt-get install openjdk-8-jdk-headless -qq > /dev/null\n",
        "!wget -q http://apache.uvigo.es/spark/spark-2.4.6/spark-2.4.6-bin-hadoop2.7.tgz\n",
        "!tar -xf spark-2.4.6-bin-hadoop2.7.tgz\n",
        "!pip install -q findspark pyspark==2.4.6\n",
        "import os\n",
        "import findspark\n",
        "from pyspark.sql import SparkSession\n",
        "os.environ[\"JAVA_HOME\"] = \"/usr/lib/jvm/java-8-openjdk-amd64\"\n",
        "os.environ[\"SPARK_HOME\"] = \"/content/spark-2.4.6-bin-hadoop2.7\"\n",
        "findspark.init()\n",
        "spark = SparkSession.builder.master(\"local[*]\").getOrCreate()"
      ],
      "execution_count": null,
      "outputs": [
        {
          "output_type": "stream",
          "text": [
            "\u001b[K     |████████████████████████████████| 218.4MB 65kB/s \n",
            "\u001b[K     |████████████████████████████████| 204kB 50.1MB/s \n",
            "\u001b[?25h  Building wheel for pyspark (setup.py) ... \u001b[?25l\u001b[?25hdone\n"
          ],
          "name": "stdout"
        }
      ]
    },
    {
      "cell_type": "markdown",
      "metadata": {
        "id": "pMFh8XO5lcFQ",
        "colab_type": "text"
      },
      "source": [
        "## RDDs, DataSets, and DataFrames\n",
        "\n",
        "RDDs are the original interface for Spark programming.\n",
        "\n",
        "DataFrames were introduced in 1.3\n",
        "\n",
        "Datasets were introduced in 1.6, and unified with DataFrames in 2.0"
      ]
    },
    {
      "cell_type": "markdown",
      "metadata": {
        "id": "aCT0DMbMlcFW",
        "colab_type": "text"
      },
      "source": [
        "### Advantages of DataFrames:\n",
        "\n",
        "from https://www.datacamp.com/community/tutorials/apache-spark-python:\n",
        "\n",
        "> More specifically, the performance improvements are due to two things, which you’ll often come across when you’re reading up DataFrames: custom memory management (project Tungsten), which will make sure that your Spark jobs much faster given CPU constraints, and optimized execution plans (Catalyst optimizer), of which the logical plan of the DataFrame is a part."
      ]
    },
    {
      "cell_type": "markdown",
      "metadata": {
        "id": "vkSfFg1WlcFa",
        "colab_type": "text"
      },
      "source": [
        "## SparkSQL and DataFrames \n",
        "\n",
        "\n",
        "pyspark does not have the Dataset API, which is available only if you use Spark from a statically typed language: Scala or Java.\n",
        "\n",
        "From https://spark.apache.org/docs/2.4.4/sql-programming-guide.html\n",
        "\n",
        "> A DataFrame is a Dataset organized into named columns. It is conceptually equivalent to a table in a relational database or a data frame in R/Python, but with richer optimizations under the hood. DataFrames can be constructed from a wide array of sources such as: structured data files, tables in Hive, external databases, or existing RDDs. The DataFrame API is available in Scala, Java, Python, and R. In Scala and Java, a DataFrame is represented by a Dataset of Rows. In the Scala API, DataFrame is simply a type alias of Dataset[Row]. While, in Java API, users need to use Dataset&lt;Row> to represent a DataFrame.\n"
      ]
    },
    {
      "cell_type": "markdown",
      "metadata": {
        "id": "yyAR9LMllcFg",
        "colab_type": "text"
      },
      "source": [
        "### The pyspark.sql module"
      ]
    },
    {
      "cell_type": "markdown",
      "metadata": {
        "id": "tXVfCSIUlcFk",
        "colab_type": "text"
      },
      "source": [
        "Important classes of Spark SQL and DataFrames:\n",
        "\n",
        "* `pyspark.sql.SparkSession` Main entry point for DataFrame and SQL functionality.\n",
        "\n",
        "* `pyspark.sql.DataFrame` A distributed collection of data grouped into named columns.\n",
        "\n",
        "* `pyspark.sql.Column` A column expression in a DataFrame.\n",
        "\n",
        "* `pyspark.sql.Row` A row of data in a DataFrame.\n",
        "\n",
        "* `pyspark.sql.GroupedData` Aggregation methods, returned by DataFrame.groupBy().\n",
        "\n",
        "* `pyspark.sql.DataFrameNaFunctions` Methods for handling missing data (null values).\n",
        "\n",
        "* `pyspark.sql.DataFrameStatFunctions` Methods for statistics functionality.\n",
        "\n",
        "* `pyspark.sql.functions` List of built-in functions available for DataFrame.\n",
        "\n",
        "* `pyspark.sql.types` List of data types available.\n",
        "\n",
        "* `pyspark.sql.Window` For working with window functions."
      ]
    },
    {
      "cell_type": "markdown",
      "metadata": {
        "id": "s7n4KcsglcFx",
        "colab_type": "text"
      },
      "source": [
        "http://spark.apache.org/docs/2.4.4/api/python/pyspark.sql.html\n",
        "\n",
        "https://spark.apache.org/docs/2.4.4/sql-programming-guide.html"
      ]
    },
    {
      "cell_type": "markdown",
      "metadata": {
        "id": "IoN5LCk2lcF1",
        "colab_type": "text"
      },
      "source": [
        "## SparkSession\n",
        "\n",
        "The traditional way to interact with Spark is the SparkContext. In the notebooks we get that from the pyspark driver.\n",
        "\n",
        "From 2.0 we can use SparkSession to replace SparkConf, SparkContext and SQLContext"
      ]
    },
    {
      "cell_type": "code",
      "metadata": {
        "id": "-2dXA1DglcF6",
        "colab_type": "code",
        "colab": {}
      },
      "source": [
        "spark = SparkSession.builder.master(\"local[*]\").getOrCreate()"
      ],
      "execution_count": null,
      "outputs": []
    },
    {
      "cell_type": "markdown",
      "metadata": {
        "id": "y2C0HiJTlcGV",
        "colab_type": "text"
      },
      "source": [
        "#### Passing other options to spark session:\n",
        "    \n",
        "    "
      ]
    },
    {
      "cell_type": "code",
      "metadata": {
        "id": "KaEZDMzMlcGZ",
        "colab_type": "code",
        "colab": {}
      },
      "source": [
        "spark = SparkSession.builder.config('thiscanbeanykey', 'thiscanbeanyvalue').master(\"local[*]\").getOrCreate()"
      ],
      "execution_count": null,
      "outputs": []
    },
    {
      "cell_type": "markdown",
      "metadata": {
        "id": "YxIKB-WklcG5",
        "colab_type": "text"
      },
      "source": [
        "We can check option values in the resulting session like this:"
      ]
    },
    {
      "cell_type": "code",
      "metadata": {
        "id": "HTBn9FYzlcG_",
        "colab_type": "code",
        "colab": {
          "base_uri": "https://localhost:8080/",
          "height": 202
        },
        "outputId": "5db2ace7-2ac1-4602-d925-825a203de2da"
      },
      "source": [
        "spark.sparkContext.getConf().getAll()"
      ],
      "execution_count": null,
      "outputs": [
        {
          "output_type": "execute_result",
          "data": {
            "text/plain": [
              "[('spark.driver.host', '69700d245be9'),\n",
              " ('spark.rdd.compress', 'True'),\n",
              " ('thiscanbeanykey', 'thiscanbeanyvalue'),\n",
              " ('spark.driver.port', '40691'),\n",
              " ('spark.serializer.objectStreamReset', '100'),\n",
              " ('spark.app.id', 'local-1592587182145'),\n",
              " ('spark.master', 'local[*]'),\n",
              " ('spark.executor.id', 'driver'),\n",
              " ('spark.submit.deployMode', 'client'),\n",
              " ('spark.ui.showConsoleProgress', 'true'),\n",
              " ('spark.app.name', 'pyspark-shell')]"
            ]
          },
          "metadata": {
            "tags": []
          },
          "execution_count": 5
        }
      ]
    },
    {
      "cell_type": "markdown",
      "metadata": {
        "id": "DeLyjN1_lcHa",
        "colab_type": "text"
      },
      "source": [
        "### Creating DataFrames\n",
        "\n",
        "SparkSession.createDataFrame: from an RDD, a list or a pandas.DataFrame."
      ]
    },
    {
      "cell_type": "code",
      "metadata": {
        "id": "YT1dMmRWlcHh",
        "colab_type": "code",
        "colab": {
          "base_uri": "https://localhost:8080/",
          "height": 1000
        },
        "outputId": "d40cf107-6caa-4812-8b7a-6fe42094a1f0"
      },
      "source": [
        "help(spark.createDataFrame)"
      ],
      "execution_count": null,
      "outputs": [
        {
          "output_type": "stream",
          "text": [
            "Help on method createDataFrame in module pyspark.sql.session:\n",
            "\n",
            "createDataFrame(data, schema=None, samplingRatio=None, verifySchema=True) method of pyspark.sql.session.SparkSession instance\n",
            "    Creates a :class:`DataFrame` from an :class:`RDD`, a list or a :class:`pandas.DataFrame`.\n",
            "    \n",
            "    When ``schema`` is a list of column names, the type of each column\n",
            "    will be inferred from ``data``.\n",
            "    \n",
            "    When ``schema`` is ``None``, it will try to infer the schema (column names and types)\n",
            "    from ``data``, which should be an RDD of either :class:`Row`,\n",
            "    :class:`namedtuple`, or :class:`dict`.\n",
            "    \n",
            "    When ``schema`` is :class:`pyspark.sql.types.DataType` or a datatype string, it must match\n",
            "    the real data, or an exception will be thrown at runtime. If the given schema is not\n",
            "    :class:`pyspark.sql.types.StructType`, it will be wrapped into a\n",
            "    :class:`pyspark.sql.types.StructType` as its only field, and the field name will be \"value\".\n",
            "    Each record will also be wrapped into a tuple, which can be converted to row later.\n",
            "    \n",
            "    If schema inference is needed, ``samplingRatio`` is used to determined the ratio of\n",
            "    rows used for schema inference. The first row will be used if ``samplingRatio`` is ``None``.\n",
            "    \n",
            "    :param data: an RDD of any kind of SQL data representation (e.g. row, tuple, int, boolean,\n",
            "        etc.), :class:`list`, or :class:`pandas.DataFrame`.\n",
            "    :param schema: a :class:`pyspark.sql.types.DataType` or a datatype string or a list of\n",
            "        column names, default is ``None``.  The data type string format equals to\n",
            "        :class:`pyspark.sql.types.DataType.simpleString`, except that top level struct type can\n",
            "        omit the ``struct<>`` and atomic types use ``typeName()`` as their format, e.g. use\n",
            "        ``byte`` instead of ``tinyint`` for :class:`pyspark.sql.types.ByteType`. We can also use\n",
            "        ``int`` as a short name for ``IntegerType``.\n",
            "    :param samplingRatio: the sample ratio of rows used for inferring\n",
            "    :param verifySchema: verify data types of every row against schema.\n",
            "    :return: :class:`DataFrame`\n",
            "    \n",
            "    .. versionchanged:: 2.1\n",
            "       Added verifySchema.\n",
            "    \n",
            "    .. note:: Usage with spark.sql.execution.arrow.enabled=True is experimental.\n",
            "    \n",
            "    >>> l = [('Alice', 1)]\n",
            "    >>> spark.createDataFrame(l).collect()\n",
            "    [Row(_1='Alice', _2=1)]\n",
            "    >>> spark.createDataFrame(l, ['name', 'age']).collect()\n",
            "    [Row(name='Alice', age=1)]\n",
            "    \n",
            "    >>> d = [{'name': 'Alice', 'age': 1}]\n",
            "    >>> spark.createDataFrame(d).collect()\n",
            "    [Row(age=1, name='Alice')]\n",
            "    \n",
            "    >>> rdd = sc.parallelize(l)\n",
            "    >>> spark.createDataFrame(rdd).collect()\n",
            "    [Row(_1='Alice', _2=1)]\n",
            "    >>> df = spark.createDataFrame(rdd, ['name', 'age'])\n",
            "    >>> df.collect()\n",
            "    [Row(name='Alice', age=1)]\n",
            "    \n",
            "    >>> from pyspark.sql import Row\n",
            "    >>> Person = Row('name', 'age')\n",
            "    >>> person = rdd.map(lambda r: Person(*r))\n",
            "    >>> df2 = spark.createDataFrame(person)\n",
            "    >>> df2.collect()\n",
            "    [Row(name='Alice', age=1)]\n",
            "    \n",
            "    >>> from pyspark.sql.types import *\n",
            "    >>> schema = StructType([\n",
            "    ...    StructField(\"name\", StringType(), True),\n",
            "    ...    StructField(\"age\", IntegerType(), True)])\n",
            "    >>> df3 = spark.createDataFrame(rdd, schema)\n",
            "    >>> df3.collect()\n",
            "    [Row(name='Alice', age=1)]\n",
            "    \n",
            "    >>> spark.createDataFrame(df.toPandas()).collect()  # doctest: +SKIP\n",
            "    [Row(name='Alice', age=1)]\n",
            "    >>> spark.createDataFrame(pandas.DataFrame([[1, 2]])).collect()  # doctest: +SKIP\n",
            "    [Row(0=1, 1=2)]\n",
            "    \n",
            "    >>> spark.createDataFrame(rdd, \"a: string, b: int\").collect()\n",
            "    [Row(a='Alice', b=1)]\n",
            "    >>> rdd = rdd.map(lambda row: row[1])\n",
            "    >>> spark.createDataFrame(rdd, \"int\").collect()\n",
            "    [Row(value=1)]\n",
            "    >>> spark.createDataFrame(rdd, \"boolean\").collect() # doctest: +IGNORE_EXCEPTION_DETAIL\n",
            "    Traceback (most recent call last):\n",
            "        ...\n",
            "    Py4JJavaError: ...\n",
            "    \n",
            "    .. versionadded:: 2.0\n",
            "\n"
          ],
          "name": "stdout"
        }
      ]
    },
    {
      "cell_type": "code",
      "metadata": {
        "id": "JIKBFQn1o3Pk",
        "colab_type": "code",
        "colab": {
          "base_uri": "https://localhost:8080/",
          "height": 272
        },
        "outputId": "e5df997b-2b9a-4b84-f87e-d20d727afa9f"
      },
      "source": [
        "import random\n",
        "\n",
        "random.seed(42)\n",
        "races = random.choices(['elf', 'hobbit', 'troll'], k=15)\n",
        "ids = range(15)\n",
        "races"
      ],
      "execution_count": null,
      "outputs": [
        {
          "output_type": "execute_result",
          "data": {
            "text/plain": [
              "['hobbit',\n",
              " 'elf',\n",
              " 'elf',\n",
              " 'elf',\n",
              " 'troll',\n",
              " 'troll',\n",
              " 'troll',\n",
              " 'elf',\n",
              " 'hobbit',\n",
              " 'elf',\n",
              " 'elf',\n",
              " 'hobbit',\n",
              " 'elf',\n",
              " 'elf',\n",
              " 'hobbit']"
            ]
          },
          "metadata": {
            "tags": []
          },
          "execution_count": 3
        }
      ]
    },
    {
      "cell_type": "code",
      "metadata": {
        "id": "61dAtahjp1_Y",
        "colab_type": "code",
        "colab": {
          "base_uri": "https://localhost:8080/",
          "height": 272
        },
        "outputId": "8584e7f2-c6a7-427a-b759-c1de641bb59a"
      },
      "source": [
        "data = list(zip(ids, races))\n",
        "data"
      ],
      "execution_count": null,
      "outputs": [
        {
          "output_type": "execute_result",
          "data": {
            "text/plain": [
              "[(0, 'hobbit'),\n",
              " (1, 'elf'),\n",
              " (2, 'elf'),\n",
              " (3, 'elf'),\n",
              " (4, 'troll'),\n",
              " (5, 'troll'),\n",
              " (6, 'troll'),\n",
              " (7, 'elf'),\n",
              " (8, 'hobbit'),\n",
              " (9, 'elf'),\n",
              " (10, 'elf'),\n",
              " (11, 'hobbit'),\n",
              " (12, 'elf'),\n",
              " (13, 'elf'),\n",
              " (14, 'hobbit')]"
            ]
          },
          "metadata": {
            "tags": []
          },
          "execution_count": 4
        }
      ]
    },
    {
      "cell_type": "code",
      "metadata": {
        "id": "GG_YVwQWpd5L",
        "colab_type": "code",
        "colab": {
          "base_uri": "https://localhost:8080/",
          "height": 34
        },
        "outputId": "4a6cdb5d-0f00-4a33-c6b2-e4c540864b87"
      },
      "source": [
        "df = spark.createDataFrame(data)\n",
        "df"
      ],
      "execution_count": null,
      "outputs": [
        {
          "output_type": "execute_result",
          "data": {
            "text/plain": [
              "DataFrame[_1: bigint, _2: string]"
            ]
          },
          "metadata": {
            "tags": []
          },
          "execution_count": 5
        }
      ]
    },
    {
      "cell_type": "code",
      "metadata": {
        "id": "akvnpC95qoF8",
        "colab_type": "code",
        "colab": {
          "base_uri": "https://localhost:8080/",
          "height": 102
        },
        "outputId": "91ef9719-ba63-41d4-d4a5-9c65b08d9dff"
      },
      "source": [
        "df.take(5)"
      ],
      "execution_count": null,
      "outputs": [
        {
          "output_type": "execute_result",
          "data": {
            "text/plain": [
              "[Row(_1=0, _2='hobbit'),\n",
              " Row(_1=1, _2='elf'),\n",
              " Row(_1=2, _2='elf'),\n",
              " Row(_1=3, _2='elf'),\n",
              " Row(_1=4, _2='troll')]"
            ]
          },
          "metadata": {
            "tags": []
          },
          "execution_count": 6
        }
      ]
    },
    {
      "cell_type": "code",
      "metadata": {
        "id": "r_PZJx_TrKtw",
        "colab_type": "code",
        "colab": {
          "base_uri": "https://localhost:8080/",
          "height": 34
        },
        "outputId": "4ef9c710-5500-48b4-9204-6dc4419e45c7"
      },
      "source": [
        "df.rdd"
      ],
      "execution_count": null,
      "outputs": [
        {
          "output_type": "execute_result",
          "data": {
            "text/plain": [
              "MapPartitionsRDD[11] at javaToPython at NativeMethodAccessorImpl.java:0"
            ]
          },
          "metadata": {
            "tags": []
          },
          "execution_count": 7
        }
      ]
    },
    {
      "cell_type": "code",
      "metadata": {
        "id": "QWmjXmzHramh",
        "colab_type": "code",
        "colab": {
          "base_uri": "https://localhost:8080/",
          "height": 34
        },
        "outputId": "59f71611-6850-4081-df0d-b2619ec6533e"
      },
      "source": [
        "df.first()"
      ],
      "execution_count": null,
      "outputs": [
        {
          "output_type": "execute_result",
          "data": {
            "text/plain": [
              "Row(_1=0, _2='hobbit')"
            ]
          },
          "metadata": {
            "tags": []
          },
          "execution_count": 8
        }
      ]
    },
    {
      "cell_type": "code",
      "metadata": {
        "id": "O79eDLqVrdb_",
        "colab_type": "code",
        "colab": {
          "base_uri": "https://localhost:8080/",
          "height": 34
        },
        "outputId": "227f957e-8415-48f2-cc67-dcc454f841fb"
      },
      "source": [
        "from pyspark.sql import Row\n",
        "\n",
        "Row(hairstyle='bald', height=1.8, name='Bruce Willis')"
      ],
      "execution_count": null,
      "outputs": [
        {
          "output_type": "execute_result",
          "data": {
            "text/plain": [
              "Row(hairstyle='bald', height=1.8, name='Bruce Willis')"
            ]
          },
          "metadata": {
            "tags": []
          },
          "execution_count": 9
        }
      ]
    },
    {
      "cell_type": "code",
      "metadata": {
        "id": "8S6ciHtKruha",
        "colab_type": "code",
        "colab": {
          "base_uri": "https://localhost:8080/",
          "height": 272
        },
        "outputId": "f29e5fde-1b65-45f4-d2e7-e3a7f78769c5"
      },
      "source": [
        "data = [ Row(id_=id_, race=race) for id_, race in zip(ids, races) ]\n",
        "data"
      ],
      "execution_count": null,
      "outputs": [
        {
          "output_type": "execute_result",
          "data": {
            "text/plain": [
              "[Row(id_=0, race='hobbit'),\n",
              " Row(id_=1, race='elf'),\n",
              " Row(id_=2, race='elf'),\n",
              " Row(id_=3, race='elf'),\n",
              " Row(id_=4, race='troll'),\n",
              " Row(id_=5, race='troll'),\n",
              " Row(id_=6, race='troll'),\n",
              " Row(id_=7, race='elf'),\n",
              " Row(id_=8, race='hobbit'),\n",
              " Row(id_=9, race='elf'),\n",
              " Row(id_=10, race='elf'),\n",
              " Row(id_=11, race='hobbit'),\n",
              " Row(id_=12, race='elf'),\n",
              " Row(id_=13, race='elf'),\n",
              " Row(id_=14, race='hobbit')]"
            ]
          },
          "metadata": {
            "tags": []
          },
          "execution_count": 10
        }
      ]
    },
    {
      "cell_type": "code",
      "metadata": {
        "id": "46NeMRuVsASz",
        "colab_type": "code",
        "colab": {
          "base_uri": "https://localhost:8080/",
          "height": 34
        },
        "outputId": "fd9910bc-07b0-4d6d-a9f3-fc8356218d39"
      },
      "source": [
        "df = spark.createDataFrame(data)\n",
        "df"
      ],
      "execution_count": null,
      "outputs": [
        {
          "output_type": "execute_result",
          "data": {
            "text/plain": [
              "DataFrame[id_: bigint, race: string]"
            ]
          },
          "metadata": {
            "tags": []
          },
          "execution_count": 11
        }
      ]
    },
    {
      "cell_type": "markdown",
      "metadata": {
        "id": "1FypWabvlcIA",
        "colab_type": "text"
      },
      "source": [
        "### Creating DataFrames\n",
        "\n",
        "* From RDDs\n",
        "* from Hive tables\n",
        "* From Spark sources: parquet (default), json, jdbc, orc, libsvm, csv, text\n"
      ]
    },
    {
      "cell_type": "markdown",
      "metadata": {
        "id": "xU1DuT7ilcIF",
        "colab_type": "text"
      },
      "source": [
        "#### From RDDs"
      ]
    },
    {
      "cell_type": "code",
      "metadata": {
        "id": "moGscE4hlcIJ",
        "colab_type": "code",
        "colab": {
          "base_uri": "https://localhost:8080/",
          "height": 527
        },
        "outputId": "0bc2e6f3-5940-49d3-a907-4fdd2eea3a34"
      },
      "source": [
        "coupon_rdd = spark.sparkContext.textFile('coupon150720.csv').map(lambda line: line.split(','))\n",
        "coupon_rdd.take(2)"
      ],
      "execution_count": null,
      "outputs": [
        {
          "output_type": "execute_result",
          "data": {
            "text/plain": [
              "[['79062005698500',\n",
              "  '1',\n",
              "  'MAA',\n",
              "  'AUH',\n",
              "  '9W',\n",
              "  '9W',\n",
              "  '56.79',\n",
              "  'USD',\n",
              "  '1',\n",
              "  'H',\n",
              "  'H',\n",
              "  '0526',\n",
              "  '150904',\n",
              "  'OK',\n",
              "  'IAF0'],\n",
              " ['79062005698500',\n",
              "  '2',\n",
              "  'AUH',\n",
              "  'CDG',\n",
              "  '9W',\n",
              "  '9W',\n",
              "  '84.34',\n",
              "  'USD',\n",
              "  '1',\n",
              "  'H',\n",
              "  'H',\n",
              "  '6120',\n",
              "  '150905',\n",
              "  'OK',\n",
              "  'IAF0']]"
            ]
          },
          "metadata": {
            "tags": []
          },
          "execution_count": 51
        }
      ]
    },
    {
      "cell_type": "code",
      "metadata": {
        "id": "43YyNXa4tNs6",
        "colab_type": "code",
        "colab": {
          "base_uri": "https://localhost:8080/",
          "height": 54
        },
        "outputId": "f154cd0d-89b3-4bd6-af65-8403581c90ed"
      },
      "source": [
        "spark.createDataFrame(coupon_rdd)"
      ],
      "execution_count": null,
      "outputs": [
        {
          "output_type": "execute_result",
          "data": {
            "text/plain": [
              "DataFrame[_1: string, _2: string, _3: string, _4: string, _5: string, _6: string, _7: string, _8: string, _9: string, _10: string, _11: string, _12: string, _13: string, _14: string, _15: string]"
            ]
          },
          "metadata": {
            "tags": []
          },
          "execution_count": 39
        }
      ]
    },
    {
      "cell_type": "markdown",
      "metadata": {
        "id": "sl9SuKYRlcIo",
        "colab_type": "text"
      },
      "source": [
        "### Inferring and specifying schemas"
      ]
    },
    {
      "cell_type": "code",
      "metadata": {
        "id": "jbnfN5bGlcIu",
        "colab_type": "code",
        "colab": {}
      },
      "source": [
        ""
      ],
      "execution_count": null,
      "outputs": []
    },
    {
      "cell_type": "markdown",
      "metadata": {
        "id": "Xfg_ccqPlcJL",
        "colab_type": "text"
      },
      "source": [
        "#### Fully specifying a schema\n",
        "\n",
        "We need to create a `StructType` composed of `StructField`s. each of those specifies afiled with name, type and `nullable` properties. "
      ]
    },
    {
      "cell_type": "code",
      "metadata": {
        "id": "cXiISBtUlcJQ",
        "colab_type": "code",
        "colab": {}
      },
      "source": [
        ""
      ],
      "execution_count": null,
      "outputs": []
    },
    {
      "cell_type": "markdown",
      "metadata": {
        "id": "TiZYJdPnlcJu",
        "colab_type": "text"
      },
      "source": [
        "#### From csv files\n",
        "\n",
        "We can either read them directly into dataframes or read them as RDDs and transform that into a DataFrame. This second way will be very useful if we have unstructured data like web server logs."
      ]
    },
    {
      "cell_type": "code",
      "metadata": {
        "id": "MKh_SFfrlcJ0",
        "colab_type": "code",
        "colab": {}
      },
      "source": [
        ""
      ],
      "execution_count": null,
      "outputs": []
    },
    {
      "cell_type": "markdown",
      "metadata": {
        "id": "2wluZqb6lcKP",
        "colab_type": "text"
      },
      "source": [
        "#### From other types of data"
      ]
    },
    {
      "cell_type": "markdown",
      "metadata": {
        "id": "BxU-S-ONlcKe",
        "colab_type": "text"
      },
      "source": [
        "Apache Parquet is a free and open-source column-oriented data store of the Apache Hadoop ecosystem. It is similar to the other columnar storage file formats available in Hadoop namely RCFile and Optimized RCFile. It is compatible with most of the data processing frameworks in the Hadoop environment."
      ]
    },
    {
      "cell_type": "code",
      "metadata": {
        "id": "IKREmkTllcKl",
        "colab_type": "code",
        "colab": {}
      },
      "source": [
        ""
      ],
      "execution_count": null,
      "outputs": []
    },
    {
      "cell_type": "markdown",
      "metadata": {
        "id": "V6p6coYmlcK8",
        "colab_type": "text"
      },
      "source": [
        "### Basic operations with DataFrames"
      ]
    },
    {
      "cell_type": "code",
      "metadata": {
        "id": "Cu2fLjm6lcLC",
        "colab_type": "code",
        "colab": {
          "base_uri": "https://localhost:8080/",
          "height": 204
        },
        "outputId": "bffda65c-3653-44f1-9ddb-349ed8ada04a"
      },
      "source": [
        "x = df.show(5)"
      ],
      "execution_count": null,
      "outputs": [
        {
          "output_type": "stream",
          "text": [
            "+---+------+\n",
            "|id_|  race|\n",
            "+---+------+\n",
            "|  0|hobbit|\n",
            "|  1|   elf|\n",
            "|  2|   elf|\n",
            "|  3|   elf|\n",
            "|  4| troll|\n",
            "+---+------+\n",
            "only showing top 5 rows\n",
            "\n"
          ],
          "name": "stdout"
        }
      ]
    },
    {
      "cell_type": "code",
      "metadata": {
        "id": "wECtZ4zTvFPM",
        "colab_type": "code",
        "colab": {
          "base_uri": "https://localhost:8080/",
          "height": 34
        },
        "outputId": "d7581803-b317-4da9-f72a-aa0dbe070a28"
      },
      "source": [
        "print(x)"
      ],
      "execution_count": null,
      "outputs": [
        {
          "output_type": "stream",
          "text": [
            "None\n"
          ],
          "name": "stdout"
        }
      ]
    },
    {
      "cell_type": "markdown",
      "metadata": {
        "id": "RsY8-uqalcLX",
        "colab_type": "text"
      },
      "source": [
        "### Filtering and selecting\n",
        "\n",
        "Syntax inspired in SQL."
      ]
    },
    {
      "cell_type": "code",
      "metadata": {
        "id": "IDB8wbCvlcLh",
        "colab_type": "code",
        "colab": {
          "base_uri": "https://localhost:8080/",
          "height": 357
        },
        "outputId": "171e645f-44c2-47a1-b549-94b7b198290c"
      },
      "source": [
        "df.select('race').show()"
      ],
      "execution_count": null,
      "outputs": [
        {
          "output_type": "stream",
          "text": [
            "+------+\n",
            "|  race|\n",
            "+------+\n",
            "|hobbit|\n",
            "|   elf|\n",
            "|   elf|\n",
            "|   elf|\n",
            "| troll|\n",
            "| troll|\n",
            "| troll|\n",
            "|   elf|\n",
            "|hobbit|\n",
            "|   elf|\n",
            "|   elf|\n",
            "|hobbit|\n",
            "|   elf|\n",
            "|   elf|\n",
            "|hobbit|\n",
            "+------+\n",
            "\n"
          ],
          "name": "stdout"
        }
      ]
    },
    {
      "cell_type": "code",
      "metadata": {
        "id": "A8BPpuFyvs5O",
        "colab_type": "code",
        "colab": {
          "base_uri": "https://localhost:8080/",
          "height": 34
        },
        "outputId": "f9cbe3c0-05a2-4200-db76-b44b87014e14"
      },
      "source": [
        "df.select('race')"
      ],
      "execution_count": null,
      "outputs": [
        {
          "output_type": "execute_result",
          "data": {
            "text/plain": [
              "DataFrame[race: string]"
            ]
          },
          "metadata": {
            "tags": []
          },
          "execution_count": 16
        }
      ]
    },
    {
      "cell_type": "markdown",
      "metadata": {
        "id": "DtKxjg5flcLy",
        "colab_type": "text"
      },
      "source": [
        "If we want to filter, we will need to build an instance of `Column`, using square bracket notation."
      ]
    },
    {
      "cell_type": "code",
      "metadata": {
        "id": "OFJASVFHlcL2",
        "colab_type": "code",
        "colab": {
          "base_uri": "https://localhost:8080/",
          "height": 163
        },
        "outputId": "c114beef-18aa-423b-9613-c502152438a4"
      },
      "source": [
        "df['race'].take()"
      ],
      "execution_count": null,
      "outputs": [
        {
          "output_type": "error",
          "ename": "TypeError",
          "evalue": "ignored",
          "traceback": [
            "\u001b[0;31m---------------------------------------------------------------------------\u001b[0m",
            "\u001b[0;31mTypeError\u001b[0m                                 Traceback (most recent call last)",
            "\u001b[0;32m<ipython-input-17-1454f0234d44>\u001b[0m in \u001b[0;36m<module>\u001b[0;34m()\u001b[0m\n\u001b[0;32m----> 1\u001b[0;31m \u001b[0mdf\u001b[0m\u001b[0;34m[\u001b[0m\u001b[0;34m'race'\u001b[0m\u001b[0;34m]\u001b[0m\u001b[0;34m.\u001b[0m\u001b[0mtake\u001b[0m\u001b[0;34m(\u001b[0m\u001b[0;34m)\u001b[0m\u001b[0;34m\u001b[0m\u001b[0;34m\u001b[0m\u001b[0m\n\u001b[0m",
            "\u001b[0;31mTypeError\u001b[0m: 'Column' object is not callable"
          ]
        }
      ]
    },
    {
      "cell_type": "code",
      "metadata": {
        "id": "55QlyoUhwDMH",
        "colab_type": "code",
        "colab": {
          "base_uri": "https://localhost:8080/",
          "height": 238
        },
        "outputId": "1fed9da4-0b36-40e5-e614-80dac79a0927"
      },
      "source": [
        "df.filter(df['race']=='elf').show()"
      ],
      "execution_count": null,
      "outputs": [
        {
          "output_type": "stream",
          "text": [
            "+---+----+\n",
            "|id_|race|\n",
            "+---+----+\n",
            "|  1| elf|\n",
            "|  2| elf|\n",
            "|  3| elf|\n",
            "|  7| elf|\n",
            "|  9| elf|\n",
            "| 10| elf|\n",
            "| 12| elf|\n",
            "| 13| elf|\n",
            "+---+----+\n",
            "\n"
          ],
          "name": "stdout"
        }
      ]
    },
    {
      "cell_type": "code",
      "metadata": {
        "id": "-45FeJQiwRon",
        "colab_type": "code",
        "colab": {
          "base_uri": "https://localhost:8080/",
          "height": 187
        },
        "outputId": "2c97d595-1f30-43c4-a643-61d4204c7fc8"
      },
      "source": [
        "df.filter(df['id_'] < 5).show()"
      ],
      "execution_count": null,
      "outputs": [
        {
          "output_type": "stream",
          "text": [
            "+---+------+\n",
            "|id_|  race|\n",
            "+---+------+\n",
            "|  0|hobbit|\n",
            "|  1|   elf|\n",
            "|  2|   elf|\n",
            "|  3|   elf|\n",
            "|  4| troll|\n",
            "+---+------+\n",
            "\n"
          ],
          "name": "stdout"
        }
      ]
    },
    {
      "cell_type": "code",
      "metadata": {
        "id": "YkI4sc2fwp4D",
        "colab_type": "code",
        "colab": {
          "base_uri": "https://localhost:8080/",
          "height": 163
        },
        "outputId": "d61be89c-0616-4e2a-be69-6d208fa1e515"
      },
      "source": [
        "df.filter('id_' < 5).show()"
      ],
      "execution_count": null,
      "outputs": [
        {
          "output_type": "error",
          "ename": "TypeError",
          "evalue": "ignored",
          "traceback": [
            "\u001b[0;31m---------------------------------------------------------------------------\u001b[0m",
            "\u001b[0;31mTypeError\u001b[0m                                 Traceback (most recent call last)",
            "\u001b[0;32m<ipython-input-21-b3a8714b8b7d>\u001b[0m in \u001b[0;36m<module>\u001b[0;34m()\u001b[0m\n\u001b[0;32m----> 1\u001b[0;31m \u001b[0mdf\u001b[0m\u001b[0;34m.\u001b[0m\u001b[0mfilter\u001b[0m\u001b[0;34m(\u001b[0m\u001b[0;34m'id_'\u001b[0m \u001b[0;34m<\u001b[0m \u001b[0;36m5\u001b[0m\u001b[0;34m)\u001b[0m\u001b[0;34m.\u001b[0m\u001b[0mshow\u001b[0m\u001b[0;34m(\u001b[0m\u001b[0;34m)\u001b[0m\u001b[0;34m\u001b[0m\u001b[0;34m\u001b[0m\u001b[0m\n\u001b[0m",
            "\u001b[0;31mTypeError\u001b[0m: '<' not supported between instances of 'str' and 'int'"
          ]
        }
      ]
    },
    {
      "cell_type": "markdown",
      "metadata": {
        "id": "RdnVb3LzlcMP",
        "colab_type": "text"
      },
      "source": [
        "That's because a comparison between str and int will error out, so spark will not even get the chance to infer to which column we are referring."
      ]
    },
    {
      "cell_type": "code",
      "metadata": {
        "tags": [
          "raises-exception"
        ],
        "id": "ZOnEWWTSlcMW",
        "colab_type": "code",
        "colab": {
          "base_uri": "https://localhost:8080/",
          "height": 163
        },
        "outputId": "136db552-4e11-4096-85cb-bfc0938a2ce2"
      },
      "source": [
        "'id_' < 5"
      ],
      "execution_count": null,
      "outputs": [
        {
          "output_type": "error",
          "ename": "TypeError",
          "evalue": "ignored",
          "traceback": [
            "\u001b[0;31m---------------------------------------------------------------------------\u001b[0m",
            "\u001b[0;31mTypeError\u001b[0m                                 Traceback (most recent call last)",
            "\u001b[0;32m<ipython-input-22-d6153786330a>\u001b[0m in \u001b[0;36m<module>\u001b[0;34m()\u001b[0m\n\u001b[0;32m----> 1\u001b[0;31m \u001b[0;34m'id_'\u001b[0m \u001b[0;34m<\u001b[0m \u001b[0;36m5\u001b[0m\u001b[0;34m\u001b[0m\u001b[0;34m\u001b[0m\u001b[0m\n\u001b[0m",
            "\u001b[0;31mTypeError\u001b[0m: '<' not supported between instances of 'str' and 'int'"
          ]
        }
      ]
    },
    {
      "cell_type": "markdown",
      "metadata": {
        "id": "KJSYCOKDlcM5",
        "colab_type": "text"
      },
      "source": [
        "`where` is exactly synonimous with `filter`"
      ]
    },
    {
      "cell_type": "code",
      "metadata": {
        "id": "iL6y6fhXlcM-",
        "colab_type": "code",
        "colab": {
          "base_uri": "https://localhost:8080/",
          "height": 187
        },
        "outputId": "8126f695-187d-4aad-fdf9-d03bd7e5f606"
      },
      "source": [
        "df.where(df['id_'] < 5).show()"
      ],
      "execution_count": null,
      "outputs": [
        {
          "output_type": "stream",
          "text": [
            "+---+------+\n",
            "|id_|  race|\n",
            "+---+------+\n",
            "|  0|hobbit|\n",
            "|  1|   elf|\n",
            "|  2|   elf|\n",
            "|  3|   elf|\n",
            "|  4| troll|\n",
            "+---+------+\n",
            "\n"
          ],
          "name": "stdout"
        }
      ]
    },
    {
      "cell_type": "markdown",
      "metadata": {
        "id": "bsjjZjGhlcNW",
        "colab_type": "text"
      },
      "source": [
        "A column is quite different to a Pandas Series. It is just a reference to a column, and can only be used to construct sparkSQL expressions (select, where...). It can't be collected or taken as a one-dimensional sequence:"
      ]
    },
    {
      "cell_type": "code",
      "metadata": {
        "tags": [
          "raises-exception"
        ],
        "id": "nEx6LrUXlcNa",
        "colab_type": "code",
        "colab": {}
      },
      "source": [
        ""
      ],
      "execution_count": null,
      "outputs": []
    },
    {
      "cell_type": "markdown",
      "metadata": {
        "id": "Pe6z37aMlcN0",
        "colab_type": "text"
      },
      "source": [
        "#### Exercise\n",
        "\n",
        "Extract all mythical being ids which correspond to hobbits"
      ]
    },
    {
      "cell_type": "code",
      "metadata": {
        "id": "2OqyMftylcN5",
        "colab_type": "code",
        "colab": {
          "base_uri": "https://localhost:8080/",
          "height": 170
        },
        "outputId": "345a90ac-6127-4cd6-9115-bd3a0091b11d"
      },
      "source": [
        "df.filter(df['race'] == 'hobbit').select('id_').show()"
      ],
      "execution_count": null,
      "outputs": [
        {
          "output_type": "stream",
          "text": [
            "+---+\n",
            "|id_|\n",
            "+---+\n",
            "|  0|\n",
            "|  8|\n",
            "| 11|\n",
            "| 14|\n",
            "+---+\n",
            "\n"
          ],
          "name": "stdout"
        }
      ]
    },
    {
      "cell_type": "markdown",
      "metadata": {
        "id": "tHu0Fht4lcON",
        "colab_type": "text"
      },
      "source": [
        "### Adding columns\n",
        "\n",
        "Dataframes are immutable, since they are built on top of RDDs, so we can not assign to them. We need to create new DataFrames with the appropriate columns."
      ]
    },
    {
      "cell_type": "code",
      "metadata": {
        "tags": [
          "raises-exception"
        ],
        "id": "01PKNnCulcOQ",
        "colab_type": "code",
        "colab": {
          "base_uri": "https://localhost:8080/",
          "height": 163
        },
        "outputId": "01db4220-ddf5-46cf-df9a-88c4bf684792"
      },
      "source": [
        "df[0] = 'elf'"
      ],
      "execution_count": null,
      "outputs": [
        {
          "output_type": "error",
          "ename": "TypeError",
          "evalue": "ignored",
          "traceback": [
            "\u001b[0;31m---------------------------------------------------------------------------\u001b[0m",
            "\u001b[0;31mTypeError\u001b[0m                                 Traceback (most recent call last)",
            "\u001b[0;32m<ipython-input-25-13bc16f510e1>\u001b[0m in \u001b[0;36m<module>\u001b[0;34m()\u001b[0m\n\u001b[0;32m----> 1\u001b[0;31m \u001b[0mdf\u001b[0m\u001b[0;34m[\u001b[0m\u001b[0;36m0\u001b[0m\u001b[0;34m]\u001b[0m \u001b[0;34m=\u001b[0m \u001b[0;34m'elf'\u001b[0m\u001b[0;34m\u001b[0m\u001b[0;34m\u001b[0m\u001b[0m\n\u001b[0m",
            "\u001b[0;31mTypeError\u001b[0m: 'DataFrame' object does not support item assignment"
          ]
        }
      ]
    },
    {
      "cell_type": "code",
      "metadata": {
        "id": "G_19WV8Bz3rY",
        "colab_type": "code",
        "colab": {
          "base_uri": "https://localhost:8080/",
          "height": 34
        },
        "outputId": "d2e15c31-7aaf-43f8-982e-85486dbe4adb"
      },
      "source": [
        "df['id_'] ** 2"
      ],
      "execution_count": null,
      "outputs": [
        {
          "output_type": "execute_result",
          "data": {
            "text/plain": [
              "Column<b'POWER(id_, 2)'>"
            ]
          },
          "metadata": {
            "tags": []
          },
          "execution_count": 26
        }
      ]
    },
    {
      "cell_type": "code",
      "metadata": {
        "id": "zrKrqAu3zfAF",
        "colab_type": "code",
        "colab": {
          "base_uri": "https://localhost:8080/",
          "height": 357
        },
        "outputId": "4a39d952-6924-483d-e380-13fbb2ae4a19"
      },
      "source": [
        "df2 = df.withColumn('newcol', df['id_'] ** 2)\n",
        "df2.show()"
      ],
      "execution_count": null,
      "outputs": [
        {
          "output_type": "stream",
          "text": [
            "+---+------+------+\n",
            "|id_|  race|newcol|\n",
            "+---+------+------+\n",
            "|  0|hobbit|   0.0|\n",
            "|  1|   elf|   1.0|\n",
            "|  2|   elf|   4.0|\n",
            "|  3|   elf|   9.0|\n",
            "|  4| troll|  16.0|\n",
            "|  5| troll|  25.0|\n",
            "|  6| troll|  36.0|\n",
            "|  7|   elf|  49.0|\n",
            "|  8|hobbit|  64.0|\n",
            "|  9|   elf|  81.0|\n",
            "| 10|   elf| 100.0|\n",
            "| 11|hobbit| 121.0|\n",
            "| 12|   elf| 144.0|\n",
            "| 13|   elf| 169.0|\n",
            "| 14|hobbit| 196.0|\n",
            "+---+------+------+\n",
            "\n"
          ],
          "name": "stdout"
        }
      ]
    },
    {
      "cell_type": "code",
      "metadata": {
        "id": "03Ybiwiv0P3S",
        "colab_type": "code",
        "colab": {
          "base_uri": "https://localhost:8080/",
          "height": 34
        },
        "outputId": "3fda4103-6e7b-467b-a6c9-e927d1bfb968"
      },
      "source": [
        "df.select('id_', df['id_'] * 100)"
      ],
      "execution_count": null,
      "outputs": [
        {
          "output_type": "execute_result",
          "data": {
            "text/plain": [
              "DataFrame[id_: bigint, (id_ * 100): bigint]"
            ]
          },
          "metadata": {
            "tags": []
          },
          "execution_count": 28
        }
      ]
    },
    {
      "cell_type": "markdown",
      "metadata": {
        "id": "nT8rKHGflcOp",
        "colab_type": "text"
      },
      "source": [
        "### User defined functions\n",
        "\n",
        "There are many useful functions in pyspark.sql.functions. These work on columns, that is, they are vectorial.\n",
        "\n",
        "We can write User Defined Functions (`udf`s), which allow us to \"vectorize\" operations: write a standard function to process single elements, then build a udf with that that works on columns in a DataFrame, like a SQL function."
      ]
    },
    {
      "cell_type": "code",
      "metadata": {
        "id": "eIFR7-7QlcOu",
        "colab_type": "code",
        "colab": {
          "base_uri": "https://localhost:8080/",
          "height": 34
        },
        "outputId": "e7d39a05-ef19-4f65-d74a-f497886eeddf"
      },
      "source": [
        "from pyspark.sql import functions as f\n",
        "\n",
        "df.select('id_',\n",
        "          'race',\n",
        "          f.tanh('id_'),\n",
        "          f.log1p('id_'))\n"
      ],
      "execution_count": null,
      "outputs": [
        {
          "output_type": "execute_result",
          "data": {
            "text/plain": [
              "DataFrame[id_: bigint, race: string, TANH(id_): double, LOG1P(id_): double]"
            ]
          },
          "metadata": {
            "tags": []
          },
          "execution_count": 29
        }
      ]
    },
    {
      "cell_type": "code",
      "metadata": {
        "id": "T-QGMnK53LZp",
        "colab_type": "code",
        "colab": {
          "base_uri": "https://localhost:8080/",
          "height": 34
        },
        "outputId": "ad79767c-8978-4b7a-b668-3283d77f5b52"
      },
      "source": [
        "import math\n",
        "\n",
        "math.factorial(5)"
      ],
      "execution_count": null,
      "outputs": [
        {
          "output_type": "execute_result",
          "data": {
            "text/plain": [
              "120"
            ]
          },
          "metadata": {
            "tags": []
          },
          "execution_count": 30
        }
      ]
    },
    {
      "cell_type": "code",
      "metadata": {
        "id": "v4q-LRPQ3hRu",
        "colab_type": "code",
        "colab": {
          "base_uri": "https://localhost:8080/",
          "height": 163
        },
        "outputId": "29b89ea4-596a-4ac3-bcc4-9533be92ed05"
      },
      "source": [
        "math.factorial('id_')"
      ],
      "execution_count": null,
      "outputs": [
        {
          "output_type": "error",
          "ename": "TypeError",
          "evalue": "ignored",
          "traceback": [
            "\u001b[0;31m---------------------------------------------------------------------------\u001b[0m",
            "\u001b[0;31mTypeError\u001b[0m                                 Traceback (most recent call last)",
            "\u001b[0;32m<ipython-input-31-c638a04ebe8f>\u001b[0m in \u001b[0;36m<module>\u001b[0;34m()\u001b[0m\n\u001b[0;32m----> 1\u001b[0;31m \u001b[0mmath\u001b[0m\u001b[0;34m.\u001b[0m\u001b[0mfactorial\u001b[0m\u001b[0;34m(\u001b[0m\u001b[0;34m'id_'\u001b[0m\u001b[0;34m)\u001b[0m\u001b[0;34m\u001b[0m\u001b[0;34m\u001b[0m\u001b[0m\n\u001b[0m",
            "\u001b[0;31mTypeError\u001b[0m: an integer is required (got type str)"
          ]
        }
      ]
    },
    {
      "cell_type": "code",
      "metadata": {
        "id": "XRbDn_3t3mSX",
        "colab_type": "code",
        "colab": {
          "base_uri": "https://localhost:8080/",
          "height": 163
        },
        "outputId": "c9a9a4fa-f1a6-49b5-9cdb-dca6e26edb68"
      },
      "source": [
        "math.factorial(df['id_'])"
      ],
      "execution_count": null,
      "outputs": [
        {
          "output_type": "error",
          "ename": "TypeError",
          "evalue": "ignored",
          "traceback": [
            "\u001b[0;31m---------------------------------------------------------------------------\u001b[0m",
            "\u001b[0;31mTypeError\u001b[0m                                 Traceback (most recent call last)",
            "\u001b[0;32m<ipython-input-32-f365555121eb>\u001b[0m in \u001b[0;36m<module>\u001b[0;34m()\u001b[0m\n\u001b[0;32m----> 1\u001b[0;31m \u001b[0mmath\u001b[0m\u001b[0;34m.\u001b[0m\u001b[0mfactorial\u001b[0m\u001b[0;34m(\u001b[0m\u001b[0mdf\u001b[0m\u001b[0;34m[\u001b[0m\u001b[0;34m'id_'\u001b[0m\u001b[0;34m]\u001b[0m\u001b[0;34m)\u001b[0m\u001b[0;34m\u001b[0m\u001b[0;34m\u001b[0m\u001b[0m\n\u001b[0m",
            "\u001b[0;31mTypeError\u001b[0m: an integer is required (got type Column)"
          ]
        }
      ]
    },
    {
      "cell_type": "markdown",
      "metadata": {
        "id": "be1QjJMQlcPA",
        "colab_type": "text"
      },
      "source": [
        "This errors out because \n",
        "\n",
        "```python\n",
        "math.factorial\n",
        "```\n",
        "\n",
        "is not a udf: it doesn't know how to work with strings or Column objects:"
      ]
    },
    {
      "cell_type": "markdown",
      "metadata": {
        "id": "gF6X4Kf5lcPR",
        "colab_type": "text"
      },
      "source": [
        "But we can transform it into a udf:"
      ]
    },
    {
      "cell_type": "code",
      "metadata": {
        "id": "LJXZ3EpIlcPY",
        "colab_type": "code",
        "colab": {
          "base_uri": "https://localhost:8080/",
          "height": 34
        },
        "outputId": "4c84676b-865c-4028-9214-626d282fa10a"
      },
      "source": [
        "factorial_udf = f.udf(math.factorial) \n",
        "factorial_udf"
      ],
      "execution_count": null,
      "outputs": [
        {
          "output_type": "execute_result",
          "data": {
            "text/plain": [
              "<function math.factorial>"
            ]
          },
          "metadata": {
            "tags": []
          },
          "execution_count": 33
        }
      ]
    },
    {
      "cell_type": "code",
      "metadata": {
        "id": "oH9f-Yae4JBF",
        "colab_type": "code",
        "colab": {
          "base_uri": "https://localhost:8080/",
          "height": 34
        },
        "outputId": "acb79d0e-287d-45d5-e225-2df6251051b0"
      },
      "source": [
        "factorial_udf('id_')"
      ],
      "execution_count": null,
      "outputs": [
        {
          "output_type": "execute_result",
          "data": {
            "text/plain": [
              "Column<b'factorial(id_)'>"
            ]
          },
          "metadata": {
            "tags": []
          },
          "execution_count": 34
        }
      ]
    },
    {
      "cell_type": "markdown",
      "metadata": {
        "id": "mqGLmdgblcPx",
        "colab_type": "text"
      },
      "source": [
        "We can do the same with any function we dream up:"
      ]
    },
    {
      "cell_type": "code",
      "metadata": {
        "id": "hY5p8mc9lcP1",
        "colab_type": "code",
        "colab": {
          "base_uri": "https://localhost:8080/",
          "height": 357
        },
        "outputId": "afff766a-0177-49ed-e07c-29fde2c0e9cb"
      },
      "source": [
        "panoli_malote = f.udf(lambda: random.choice(['panoli', 'malote']))\n",
        "dice_12 = f.udf(lambda: random.randrange(1,13))\n",
        "baddies = df.select('*',\n",
        "                    panoli_malote(),\n",
        "                    dice_12())\n",
        "baddies.show()"
      ],
      "execution_count": null,
      "outputs": [
        {
          "output_type": "stream",
          "text": [
            "+---+------+----------+----------+\n",
            "|id_|  race|<lambda>()|<lambda>()|\n",
            "+---+------+----------+----------+\n",
            "|  0|hobbit|    panoli|         8|\n",
            "|  1|   elf|    panoli|        12|\n",
            "|  2|   elf|    malote|         5|\n",
            "|  3|   elf|    panoli|         4|\n",
            "|  4| troll|    panoli|         3|\n",
            "|  5| troll|    panoli|        11|\n",
            "|  6| troll|    malote|        10|\n",
            "|  7|   elf|    panoli|         4|\n",
            "|  8|hobbit|    malote|         4|\n",
            "|  9|   elf|    malote|         8|\n",
            "| 10|   elf|    panoli|         4|\n",
            "| 11|hobbit|    malote|         7|\n",
            "| 12|   elf|    panoli|         8|\n",
            "| 13|   elf|    panoli|         8|\n",
            "| 14|hobbit|    panoli|         6|\n",
            "+---+------+----------+----------+\n",
            "\n"
          ],
          "name": "stdout"
        }
      ]
    },
    {
      "cell_type": "markdown",
      "metadata": {
        "id": "ECWJq0GulcQL",
        "colab_type": "text"
      },
      "source": [
        "If we want the resulting columns to be of a particular type, we need to specify the return type. This is because in Python return types can not be inferred."
      ]
    },
    {
      "cell_type": "code",
      "metadata": {
        "id": "M5OYQVp5lcQQ",
        "colab_type": "code",
        "colab": {
          "base_uri": "https://localhost:8080/",
          "height": 34
        },
        "outputId": "b854f12b-6e1e-473b-da2d-da67127672cc"
      },
      "source": [
        "from pyspark.sql import types\n",
        "\n",
        "panoli_malote = f.udf(lambda: random.choice(['panoli', 'malote']))\n",
        "dice_12 = f.udf(lambda: random.randrange(1,13), returnType=types.IntegerType())\n",
        "baddies = df.select('*',\n",
        "                    panoli_malote(),\n",
        "                    dice_12())\n",
        "baddies"
      ],
      "execution_count": null,
      "outputs": [
        {
          "output_type": "execute_result",
          "data": {
            "text/plain": [
              "DataFrame[id_: bigint, race: string, <lambda>(): string, <lambda>(): int]"
            ]
          },
          "metadata": {
            "tags": []
          },
          "execution_count": 36
        }
      ]
    },
    {
      "cell_type": "markdown",
      "metadata": {
        "id": "HJYPgDHalcQn",
        "colab_type": "text"
      },
      "source": [
        "Think about this function: what is its return type?"
      ]
    },
    {
      "cell_type": "code",
      "metadata": {
        "id": "girUfC_AlcQs",
        "colab_type": "code",
        "colab": {}
      },
      "source": [
        "def something(a, b):\n",
        "  return a + b"
      ],
      "execution_count": null,
      "outputs": []
    },
    {
      "cell_type": "code",
      "metadata": {
        "id": "TABVvxmj6Z0x",
        "colab_type": "code",
        "colab": {
          "base_uri": "https://localhost:8080/",
          "height": 357
        },
        "outputId": "ee8261cd-a768-48ab-b12c-af7a9869777f"
      },
      "source": [
        "from pyspark.sql import types\n",
        "\n",
        "panoli_malote = f.udf(lambda: random.choice(['panoli', 'malote']))\n",
        "dice_12 = f.udf(lambda: random.randrange(1,13))\n",
        "baddies = df.select('*',\n",
        "                    panoli_malote().alias('alignment'),\n",
        "                    dice_12().cast(types.IntegerType()).alias('dexterity'),\n",
        "                    dice_12().cast(types.IntegerType()).alias('strength'))\n",
        "baddies.show()"
      ],
      "execution_count": null,
      "outputs": [
        {
          "output_type": "stream",
          "text": [
            "+---+------+---------+---------+--------+\n",
            "|id_|  race|alignment|dexterity|strength|\n",
            "+---+------+---------+---------+--------+\n",
            "|  0|hobbit|   panoli|        5|       6|\n",
            "|  1|   elf|   malote|        4|       5|\n",
            "|  2|   elf|   panoli|        2|       4|\n",
            "|  3|   elf|   panoli|        4|       2|\n",
            "|  4| troll|   malote|       10|      11|\n",
            "|  5| troll|   panoli|       10|       6|\n",
            "|  6| troll|   panoli|        8|      10|\n",
            "|  7|   elf|   panoli|        1|       9|\n",
            "|  8|hobbit|   malote|        2|       9|\n",
            "|  9|   elf|   panoli|        3|       2|\n",
            "| 10|   elf|   panoli|        9|       7|\n",
            "| 11|hobbit|   malote|       10|       1|\n",
            "| 12|   elf|   panoli|        8|       7|\n",
            "| 13|   elf|   panoli|        9|       1|\n",
            "| 14|hobbit|   malote|        9|       4|\n",
            "+---+------+---------+---------+--------+\n",
            "\n"
          ],
          "name": "stdout"
        }
      ]
    },
    {
      "cell_type": "markdown",
      "metadata": {
        "id": "LrXq0thGlcRN",
        "colab_type": "text"
      },
      "source": [
        "#### Exercise: \n",
        "\n",
        "Create an 'hp' field in our df. make it 30000 for hobbits, 40000 for elves and 70000 for trolls.\n",
        "\n",
        "\n",
        "\n"
      ]
    },
    {
      "cell_type": "code",
      "metadata": {
        "id": "LvRFwzv3lcRT",
        "colab_type": "code",
        "colab": {
          "base_uri": "https://localhost:8080/",
          "height": 54
        },
        "outputId": "b2f85bb7-8847-42df-8fa6-4a96ea55e88b"
      },
      "source": [
        "race = 'hobbit'\n",
        "\n",
        "def hp_from_race(race):\n",
        "\n",
        "  if race == 'hobbit': \n",
        "    return 30000\n",
        "  elif race == 'elf':\n",
        "    return 40000\n",
        "  elif race == 'troll':\n",
        "    return 70000\n",
        "\n",
        "hp_from_race(race)\n",
        "\n",
        "hp_udf = f.udf(hp_from_race, returnType=types.IntegerType())\n",
        "\n",
        "with_hp = baddies.withColumn('hp', hp_udf('race'))\n",
        "with_hp"
      ],
      "execution_count": null,
      "outputs": [
        {
          "output_type": "execute_result",
          "data": {
            "text/plain": [
              "DataFrame[id_: bigint, race: string, alignment: string, dexterity: int, strength: int, hp: int]"
            ]
          },
          "metadata": {
            "tags": []
          },
          "execution_count": 39
        }
      ]
    },
    {
      "cell_type": "markdown",
      "metadata": {
        "id": "znmfI3IYlcR9",
        "colab_type": "text"
      },
      "source": [
        "If we have a column that is not the desired type, we can convert it with `cast`."
      ]
    },
    {
      "cell_type": "markdown",
      "metadata": {
        "id": "PMkzl9WflcSa",
        "colab_type": "text"
      },
      "source": [
        "### Summary statistics\n",
        "\n",
        "https://databricks.com/blog/2015/06/02/statistical-and-mathematical-functions-with-dataframes-in-spark.html"
      ]
    },
    {
      "cell_type": "code",
      "metadata": {
        "id": "HBYcdDIUlcSf",
        "colab_type": "code",
        "colab": {
          "base_uri": "https://localhost:8080/",
          "height": 34
        },
        "outputId": "b8d2ddd1-2fae-4c35-d2bd-6a9b1ed05c5a"
      },
      "source": [
        "with_hp.corr('hp', 'dexterity')"
      ],
      "execution_count": null,
      "outputs": [
        {
          "output_type": "execute_result",
          "data": {
            "text/plain": [
              "-0.12984993633618205"
            ]
          },
          "metadata": {
            "tags": []
          },
          "execution_count": 40
        }
      ]
    },
    {
      "cell_type": "code",
      "metadata": {
        "id": "eSA_UgBTAStQ",
        "colab_type": "code",
        "colab": {
          "base_uri": "https://localhost:8080/",
          "height": 34
        },
        "outputId": "83965ca7-3f2e-4849-8f34-08f4bdece019"
      },
      "source": [
        "with_hp.stat.cov('dexterity', 'strength')"
      ],
      "execution_count": null,
      "outputs": [
        {
          "output_type": "execute_result",
          "data": {
            "text/plain": [
              "6.642857142857145"
            ]
          },
          "metadata": {
            "tags": []
          },
          "execution_count": 41
        }
      ]
    },
    {
      "cell_type": "markdown",
      "metadata": {
        "id": "kYBcEdXulcS4",
        "colab_type": "text"
      },
      "source": [
        "### .crosstab()\n",
        "\n",
        "Crosstab returns the contingency table for two columns, as a DataFrame."
      ]
    },
    {
      "cell_type": "code",
      "metadata": {
        "id": "gInTiw-YlcS8",
        "colab_type": "code",
        "colab": {
          "base_uri": "https://localhost:8080/",
          "height": 136
        },
        "outputId": "e64e6c15-4420-4a91-aea3-ffcb430f979e"
      },
      "source": [
        "with_hp.cache().crosstab('alignment', 'race').show()"
      ],
      "execution_count": null,
      "outputs": [
        {
          "output_type": "stream",
          "text": [
            "+--------------+---+------+-----+\n",
            "|alignment_race|elf|hobbit|troll|\n",
            "+--------------+---+------+-----+\n",
            "|        malote|  3|     3|    3|\n",
            "|        panoli|  5|     1|    0|\n",
            "+--------------+---+------+-----+\n",
            "\n"
          ],
          "name": "stdout"
        }
      ]
    },
    {
      "cell_type": "markdown",
      "metadata": {
        "id": "OBP4fEe4lcTK",
        "colab_type": "text"
      },
      "source": [
        "### Grouping\n",
        "\n",
        "Grouping works very similarly to Pandas: executing groupby (or groupBy) on a DataFrame will return an object (a GroupedData) that can then be aggregated to obtain the results."
      ]
    },
    {
      "cell_type": "code",
      "metadata": {
        "id": "UtZdgRvClcTN",
        "colab_type": "code",
        "colab": {
          "base_uri": "https://localhost:8080/",
          "height": 34
        },
        "outputId": "13abe030-4618-4a5f-f4b1-d689b8bdd547"
      },
      "source": [
        "gd = with_hp.groupby('race')\n",
        "gd"
      ],
      "execution_count": null,
      "outputs": [
        {
          "output_type": "execute_result",
          "data": {
            "text/plain": [
              "<pyspark.sql.group.GroupedData at 0x7f5aabf33588>"
            ]
          },
          "metadata": {
            "tags": []
          },
          "execution_count": 43
        }
      ]
    },
    {
      "cell_type": "markdown",
      "metadata": {
        "id": "dSbMDz02lcTf",
        "colab_type": "text"
      },
      "source": [
        "GroupedData has several aggregation functions defined:"
      ]
    },
    {
      "cell_type": "code",
      "metadata": {
        "id": "UHIAQP4HlcTj",
        "colab_type": "code",
        "colab": {
          "base_uri": "https://localhost:8080/",
          "height": 153
        },
        "outputId": "54533e48-f3fd-4523-b56d-feefc0ac7507"
      },
      "source": [
        "gd.mean('strength').show()"
      ],
      "execution_count": null,
      "outputs": [
        {
          "output_type": "stream",
          "text": [
            "+------+------------------+\n",
            "|  race|     avg(strength)|\n",
            "+------+------------------+\n",
            "| troll|3.6666666666666665|\n",
            "|hobbit|              3.25|\n",
            "|   elf|              5.25|\n",
            "+------+------------------+\n",
            "\n"
          ],
          "name": "stdout"
        }
      ]
    },
    {
      "cell_type": "markdown",
      "metadata": {
        "id": "7UAvCq4nlcTx",
        "colab_type": "text"
      },
      "source": [
        "We can do several aggregations in a single step, with a number of different syntaxes:"
      ]
    },
    {
      "cell_type": "code",
      "metadata": {
        "id": "mQ-Y7VxxlcT0",
        "colab_type": "code",
        "colab": {
          "base_uri": "https://localhost:8080/",
          "height": 153
        },
        "outputId": "709b5228-dae7-4926-c834-12e82b4b48db"
      },
      "source": [
        "gd.agg({'strength' : 'avg', 'dexterity': 'stddev'}).show()"
      ],
      "execution_count": null,
      "outputs": [
        {
          "output_type": "stream",
          "text": [
            "+------+------------------+------------------+\n",
            "|  race| stddev(dexterity)|     avg(strength)|\n",
            "+------+------------------+------------------+\n",
            "| troll|2.8867513459481287|3.6666666666666665|\n",
            "|hobbit| 1.707825127659933|              3.25|\n",
            "|   elf|2.8784916685156983|              5.25|\n",
            "+------+------------------+------------------+\n",
            "\n"
          ],
          "name": "stdout"
        }
      ]
    },
    {
      "cell_type": "code",
      "metadata": {
        "id": "TTZ70ck0FiaQ",
        "colab_type": "code",
        "colab": {
          "base_uri": "https://localhost:8080/",
          "height": 153
        },
        "outputId": "0b54651d-f0c6-4694-d1c1-9d84931bacc0"
      },
      "source": [
        "gd.agg(f.mean('dexterity'), \n",
        "       f.stddev('dexterity'),\n",
        "       f.max('dexterity'),\n",
        "       f.min('dexterity')).show()"
      ],
      "execution_count": null,
      "outputs": [
        {
          "output_type": "stream",
          "text": [
            "+------+-----------------+----------------------+--------------+--------------+\n",
            "|  race|   avg(dexterity)|stddev_samp(dexterity)|max(dexterity)|min(dexterity)|\n",
            "+------+-----------------+----------------------+--------------+--------------+\n",
            "| troll|4.666666666666667|    2.8867513459481287|             8|             3|\n",
            "|hobbit|             6.25|     1.707825127659933|             8|             4|\n",
            "|   elf|              5.5|    2.8784916685156983|            10|             1|\n",
            "+------+-----------------+----------------------+--------------+--------------+\n",
            "\n"
          ],
          "name": "stdout"
        }
      ]
    },
    {
      "cell_type": "markdown",
      "metadata": {
        "id": "rw4blXQblcUD",
        "colab_type": "text"
      },
      "source": [
        "### Intersections\n",
        "\n",
        "Ver much like SQL joins. We can specify the columns and the join method (left, right, inner, outer) or we can let Spark infer them."
      ]
    },
    {
      "cell_type": "code",
      "metadata": {
        "id": "MgzIn0OFlcUG",
        "colab_type": "code",
        "colab": {}
      },
      "source": [
        "stats = gd.agg(f.mean('dexterity'), \n",
        "               f.stddev('dexterity'),\n",
        "               f.max('dexterity'),\n",
        "               f.min('dexterity'))\n"
      ],
      "execution_count": null,
      "outputs": []
    },
    {
      "cell_type": "code",
      "metadata": {
        "id": "Yig4mLlQGcxX",
        "colab_type": "code",
        "colab": {}
      },
      "source": [
        "with_hp.join(stats).show()"
      ],
      "execution_count": null,
      "outputs": []
    },
    {
      "cell_type": "markdown",
      "metadata": {
        "id": "K9W7If5qlcUS",
        "colab_type": "text"
      },
      "source": [
        "Spark refuses to do cross joins by default. To perform them, we can \n",
        "\n",
        "a) Allow then explicitly:\n",
        "\n",
        "```python\n",
        "session.conf.set(\"spark.sql.crossJoin.enabled\", \"true\")\n",
        "```\n",
        "\n",
        "b) Specify the join criterion\n",
        "\n",
        "```python\n",
        "df4.join(new_df, on='id').show()\n",
        "```"
      ]
    },
    {
      "cell_type": "code",
      "metadata": {
        "tags": [
          "raises-exception"
        ],
        "id": "S5ZAubYnlcUV",
        "colab_type": "code",
        "colab": {
          "base_uri": "https://localhost:8080/",
          "height": 377
        },
        "outputId": "92b7c76c-a5f0-49d5-8672-3585322460d7"
      },
      "source": [
        " with_hp.join(stats, on='race').show()"
      ],
      "execution_count": null,
      "outputs": [
        {
          "output_type": "stream",
          "text": [
            "+------+---+---------+---------+--------+-----+-----------------+----------------------+--------------+--------------+\n",
            "|  race|id_|alignment|dexterity|strength|   hp|   avg(dexterity)|stddev_samp(dexterity)|max(dexterity)|min(dexterity)|\n",
            "+------+---+---------+---------+--------+-----+-----------------+----------------------+--------------+--------------+\n",
            "|hobbit|  0|   malote|        8|       1|30000|             6.25|     1.707825127659933|             8|             4|\n",
            "|   elf|  1|   panoli|        7|       7|40000|              5.5|    2.8784916685156983|            10|             1|\n",
            "|   elf|  2|   panoli|        8|       3|40000|              5.5|    2.8784916685156983|            10|             1|\n",
            "|   elf|  3|   malote|       10|       2|40000|              5.5|    2.8784916685156983|            10|             1|\n",
            "| troll|  4|   malote|        3|       5|70000|4.666666666666667|    2.8867513459481287|             8|             3|\n",
            "| troll|  5|   malote|        8|       4|70000|4.666666666666667|    2.8867513459481287|             8|             3|\n",
            "| troll|  6|   malote|        3|       2|70000|4.666666666666667|    2.8867513459481287|             8|             3|\n",
            "|   elf|  7|   malote|        1|       4|40000|              5.5|    2.8784916685156983|            10|             1|\n",
            "|hobbit|  8|   malote|        7|       2|30000|             6.25|     1.707825127659933|             8|             4|\n",
            "|   elf|  9|   malote|        3|       8|40000|              5.5|    2.8784916685156983|            10|             1|\n",
            "|   elf| 10|   panoli|        6|       3|40000|              5.5|    2.8784916685156983|            10|             1|\n",
            "|hobbit| 11|   malote|        6|       8|30000|             6.25|     1.707825127659933|             8|             4|\n",
            "|   elf| 12|   panoli|        5|       3|40000|              5.5|    2.8784916685156983|            10|             1|\n",
            "|   elf| 13|   panoli|        4|      12|40000|              5.5|    2.8784916685156983|            10|             1|\n",
            "|hobbit| 14|   panoli|        4|       2|30000|             6.25|     1.707825127659933|             8|             4|\n",
            "+------+---+---------+---------+--------+-----+-----------------+----------------------+--------------+--------------+\n",
            "\n"
          ],
          "name": "stdout"
        }
      ]
    },
    {
      "cell_type": "markdown",
      "metadata": {
        "collapsed": true,
        "id": "GqkFOFwPlcUh",
        "colab_type": "text"
      },
      "source": [
        "#### Digression\n",
        "\n",
        "We can monitor our running jobs and storage used at the Spark Web UI. We can get its url with sc.uiWebUrl.\n",
        "\n",
        "StorageLevels represent how our DataFrame is cached: we can save the results of the computation up to that point, so that if we process several times the same data only the subsequent steps will be recomputed."
      ]
    },
    {
      "cell_type": "code",
      "metadata": {
        "id": "-Y49DulAlcUl",
        "colab_type": "code",
        "colab": {}
      },
      "source": [
        ""
      ],
      "execution_count": null,
      "outputs": []
    },
    {
      "cell_type": "markdown",
      "metadata": {
        "id": "efMW6_bzlcU7",
        "colab_type": "text"
      },
      "source": [
        "We can erase it with `unpersist`"
      ]
    },
    {
      "cell_type": "code",
      "metadata": {
        "id": "amNYPY93lcVB",
        "colab_type": "code",
        "colab": {}
      },
      "source": [
        ""
      ],
      "execution_count": null,
      "outputs": []
    },
    {
      "cell_type": "markdown",
      "metadata": {
        "id": "31-M0PFllcVU",
        "colab_type": "text"
      },
      "source": [
        "#### Exercise\n",
        "\n",
        "Calculate the [z-score](http://www.statisticshowto.com/probability-and-statistics/z-score/) of each creature's hp for their alignment\n"
      ]
    },
    {
      "cell_type": "code",
      "metadata": {
        "id": "kx_KIZYXlcVW",
        "colab_type": "code",
        "colab": {}
      },
      "source": [
        "a = with_hp.groupby('alignment')"
      ],
      "execution_count": null,
      "outputs": []
    },
    {
      "cell_type": "markdown",
      "metadata": {
        "id": "8-xN7Da2lcVu",
        "colab_type": "text"
      },
      "source": [
        "1) Calculate the mean and std of hp for each alignment"
      ]
    },
    {
      "cell_type": "code",
      "metadata": {
        "id": "L5-oTjrWlcVx",
        "colab_type": "code",
        "colab": {
          "base_uri": "https://localhost:8080/",
          "height": 136
        },
        "outputId": "d3ed5271-9331-4c79-96ef-840bd84d29ef"
      },
      "source": [
        "a.agg(f.mean('hp'), f.stddev('hp')).show()"
      ],
      "execution_count": null,
      "outputs": [
        {
          "output_type": "stream",
          "text": [
            "+---------+------------------+------------------+\n",
            "|alignment|           avg(hp)|   stddev_samp(hp)|\n",
            "+---------+------------------+------------------+\n",
            "|   malote|46666.666666666664|18027.756377319947|\n",
            "|   panoli|38333.333333333336|  4082.48290463863|\n",
            "+---------+------------------+------------------+\n",
            "\n"
          ],
          "name": "stdout"
        }
      ]
    },
    {
      "cell_type": "markdown",
      "metadata": {
        "id": "VvH4CcZZlcWC",
        "colab_type": "text"
      },
      "source": [
        "2) Annotate each creature with the stats corresponding to their alignment"
      ]
    },
    {
      "cell_type": "code",
      "metadata": {
        "id": "80iVii0ClcWG",
        "colab_type": "code",
        "colab": {
          "base_uri": "https://localhost:8080/",
          "height": 377
        },
        "outputId": "fce3313a-ef80-450f-88d3-bd9083a591b2"
      },
      "source": [
        "stats = a.agg(f.mean('hp'), f.stddev('hp'))\n",
        "with_hp.join(stats, on='alignment').show()"
      ],
      "execution_count": null,
      "outputs": [
        {
          "output_type": "stream",
          "text": [
            "+---------+---+------+---------+--------+-----+------------------+------------------+\n",
            "|alignment|id_|  race|dexterity|strength|   hp|           avg(hp)|   stddev_samp(hp)|\n",
            "+---------+---+------+---------+--------+-----+------------------+------------------+\n",
            "|   malote|  0|hobbit|        8|       1|30000|46666.666666666664|18027.756377319947|\n",
            "|   panoli|  1|   elf|        7|       7|40000|38333.333333333336|  4082.48290463863|\n",
            "|   panoli|  2|   elf|        8|       3|40000|38333.333333333336|  4082.48290463863|\n",
            "|   malote|  3|   elf|       10|       2|40000|46666.666666666664|18027.756377319947|\n",
            "|   malote|  4| troll|        3|       5|70000|46666.666666666664|18027.756377319947|\n",
            "|   malote|  5| troll|        8|       4|70000|46666.666666666664|18027.756377319947|\n",
            "|   malote|  6| troll|        3|       2|70000|46666.666666666664|18027.756377319947|\n",
            "|   malote|  7|   elf|        1|       4|40000|46666.666666666664|18027.756377319947|\n",
            "|   malote|  8|hobbit|        7|       2|30000|46666.666666666664|18027.756377319947|\n",
            "|   malote|  9|   elf|        3|       8|40000|46666.666666666664|18027.756377319947|\n",
            "|   panoli| 10|   elf|        6|       3|40000|38333.333333333336|  4082.48290463863|\n",
            "|   malote| 11|hobbit|        6|       8|30000|46666.666666666664|18027.756377319947|\n",
            "|   panoli| 12|   elf|        5|       3|40000|38333.333333333336|  4082.48290463863|\n",
            "|   panoli| 13|   elf|        4|      12|40000|38333.333333333336|  4082.48290463863|\n",
            "|   panoli| 14|hobbit|        4|       2|30000|38333.333333333336|  4082.48290463863|\n",
            "+---------+---+------+---------+--------+-----+------------------+------------------+\n",
            "\n"
          ],
          "name": "stdout"
        }
      ]
    },
    {
      "cell_type": "markdown",
      "metadata": {
        "id": "VtuOW6UDlcWW",
        "colab_type": "text"
      },
      "source": [
        "3) Calculate the z-score"
      ]
    },
    {
      "cell_type": "code",
      "metadata": {
        "id": "r_sFjlKKlcWZ",
        "colab_type": "code",
        "colab": {
          "base_uri": "https://localhost:8080/",
          "height": 377
        },
        "outputId": "2de88f96-245e-4890-f799-eed9bf417dcd"
      },
      "source": [
        "t = with_hp.join(stats, on='alignment')\n",
        "t.withColumn('z-score',(t['hp']-t['avg(hp)'])/t['stddev_samp(hp)']).show()"
      ],
      "execution_count": null,
      "outputs": [
        {
          "output_type": "stream",
          "text": [
            "+---------+---+------+---------+--------+-----+------------------+------------------+-------------------+\n",
            "|alignment|id_|  race|dexterity|strength|   hp|           avg(hp)|   stddev_samp(hp)|            z-score|\n",
            "+---------+---+------+---------+--------+-----+------------------+------------------+-------------------+\n",
            "|   malote|  0|hobbit|        8|       1|30000|46666.666666666664|18027.756377319947|-0.9245003270420483|\n",
            "|   panoli|  1|   elf|        7|       7|40000|38333.333333333336|  4082.48290463863|0.40824829046386246|\n",
            "|   panoli|  2|   elf|        8|       3|40000|38333.333333333336|  4082.48290463863|0.40824829046386246|\n",
            "|   malote|  3|   elf|       10|       2|40000|46666.666666666664|18027.756377319947|-0.3698001308168193|\n",
            "|   malote|  4| troll|        3|       5|70000|46666.666666666664|18027.756377319947|  1.294300457858868|\n",
            "|   malote|  5| troll|        8|       4|70000|46666.666666666664|18027.756377319947|  1.294300457858868|\n",
            "|   malote|  6| troll|        3|       2|70000|46666.666666666664|18027.756377319947|  1.294300457858868|\n",
            "|   malote|  7|   elf|        1|       4|40000|46666.666666666664|18027.756377319947|-0.3698001308168193|\n",
            "|   malote|  8|hobbit|        7|       2|30000|46666.666666666664|18027.756377319947|-0.9245003270420483|\n",
            "|   malote|  9|   elf|        3|       8|40000|46666.666666666664|18027.756377319947|-0.3698001308168193|\n",
            "|   panoli| 10|   elf|        6|       3|40000|38333.333333333336|  4082.48290463863|0.40824829046386246|\n",
            "|   malote| 11|hobbit|        6|       8|30000|46666.666666666664|18027.756377319947|-0.9245003270420483|\n",
            "|   panoli| 12|   elf|        5|       3|40000|38333.333333333336|  4082.48290463863|0.40824829046386246|\n",
            "|   panoli| 13|   elf|        4|      12|40000|38333.333333333336|  4082.48290463863|0.40824829046386246|\n",
            "|   panoli| 14|hobbit|        4|       2|30000|38333.333333333336|  4082.48290463863|-2.0412414523193156|\n",
            "+---------+---+------+---------+--------+-----+------------------+------------------+-------------------+\n",
            "\n"
          ],
          "name": "stdout"
        }
      ]
    },
    {
      "cell_type": "markdown",
      "metadata": {
        "id": "RU-Aj8fJlcWk",
        "colab_type": "text"
      },
      "source": [
        "Note that we can build more complex boolean conditions for joining, as well as joining on columns that do not have the same name:"
      ]
    },
    {
      "cell_type": "code",
      "metadata": {
        "id": "h5yh7EU9lcWs",
        "colab_type": "code",
        "colab": {}
      },
      "source": [
        ""
      ],
      "execution_count": null,
      "outputs": []
    },
    {
      "cell_type": "markdown",
      "metadata": {
        "id": "xxa8OLp4lcW5",
        "colab_type": "text"
      },
      "source": [
        "### Handling null values"
      ]
    },
    {
      "cell_type": "code",
      "metadata": {
        "id": "z7ihBzQAlcW9",
        "colab_type": "code",
        "colab": {}
      },
      "source": [
        "nulls = f.udf(lambda: random.choice(['equiped', None]))"
      ],
      "execution_count": null,
      "outputs": []
    },
    {
      "cell_type": "code",
      "metadata": {
        "id": "eo6-sei4S3U4",
        "colab_type": "code",
        "colab": {
          "base_uri": "https://localhost:8080/",
          "height": 377
        },
        "outputId": "f6abd127-4193-43be-db5c-0c92d25426bc"
      },
      "source": [
        "z = t.withColumn('z-score',(t['hp']-t['avg(hp)'])/t['stddev_samp(hp)'])\n",
        "withNulls = z.withColumn('sword', nulls()).withColumn('shield', nulls()).withColumn('armor', nulls()).cache()\n",
        "withNulls.show()"
      ],
      "execution_count": null,
      "outputs": [
        {
          "output_type": "stream",
          "text": [
            "+---------+---+------+---------+--------+-----+------------------+------------------+-------------------+-------+-------+-------+\n",
            "|alignment|id_|  race|dexterity|strength|   hp|           avg(hp)|   stddev_samp(hp)|            z-score|  sword| shield|  armor|\n",
            "+---------+---+------+---------+--------+-----+------------------+------------------+-------------------+-------+-------+-------+\n",
            "|   malote|  0|hobbit|        8|       1|30000|46666.666666666664|18027.756377319947|-0.9245003270420483|equiped|   null|equiped|\n",
            "|   panoli|  1|   elf|        7|       7|40000|38333.333333333336|  4082.48290463863|0.40824829046386246|   null|   null|equiped|\n",
            "|   panoli|  2|   elf|        8|       3|40000|38333.333333333336|  4082.48290463863|0.40824829046386246|equiped|equiped|equiped|\n",
            "|   malote|  3|   elf|       10|       2|40000|46666.666666666664|18027.756377319947|-0.3698001308168193|equiped|   null|equiped|\n",
            "|   malote|  4| troll|        3|       5|70000|46666.666666666664|18027.756377319947|  1.294300457858868|equiped|   null|equiped|\n",
            "|   malote|  5| troll|        8|       4|70000|46666.666666666664|18027.756377319947|  1.294300457858868|   null|   null|equiped|\n",
            "|   malote|  6| troll|        3|       2|70000|46666.666666666664|18027.756377319947|  1.294300457858868|equiped|   null|   null|\n",
            "|   malote|  7|   elf|        1|       4|40000|46666.666666666664|18027.756377319947|-0.3698001308168193|equiped|   null|equiped|\n",
            "|   malote|  8|hobbit|        7|       2|30000|46666.666666666664|18027.756377319947|-0.9245003270420483|   null|equiped|   null|\n",
            "|   malote|  9|   elf|        3|       8|40000|46666.666666666664|18027.756377319947|-0.3698001308168193|equiped|   null|   null|\n",
            "|   panoli| 10|   elf|        6|       3|40000|38333.333333333336|  4082.48290463863|0.40824829046386246|   null|equiped|   null|\n",
            "|   malote| 11|hobbit|        6|       8|30000|46666.666666666664|18027.756377319947|-0.9245003270420483|equiped|equiped|equiped|\n",
            "|   panoli| 12|   elf|        5|       3|40000|38333.333333333336|  4082.48290463863|0.40824829046386246|equiped|equiped|equiped|\n",
            "|   panoli| 13|   elf|        4|      12|40000|38333.333333333336|  4082.48290463863|0.40824829046386246|   null|equiped|   null|\n",
            "|   panoli| 14|hobbit|        4|       2|30000|38333.333333333336|  4082.48290463863|-2.0412414523193156|equiped|   null|equiped|\n",
            "+---------+---+------+---------+--------+-----+------------------+------------------+-------------------+-------+-------+-------+\n",
            "\n"
          ],
          "name": "stdout"
        }
      ]
    },
    {
      "cell_type": "code",
      "metadata": {
        "id": "rZc66hjtTPQr",
        "colab_type": "code",
        "colab": {
          "base_uri": "https://localhost:8080/",
          "height": 173
        },
        "outputId": "e0bd6ab3-f5c9-4042-91f6-b1498c90c355"
      },
      "source": [
        "withNulls.dropna().show()"
      ],
      "execution_count": null,
      "outputs": [
        {
          "output_type": "stream",
          "text": [
            "+---------+---+------+---------+--------+-----+------------------+------------------+-------------------+-------+-------+-------+\n",
            "|alignment|id_|  race|dexterity|strength|   hp|           avg(hp)|   stddev_samp(hp)|            z-score|  sword| shield|  armor|\n",
            "+---------+---+------+---------+--------+-----+------------------+------------------+-------------------+-------+-------+-------+\n",
            "|   panoli|  2|   elf|        8|       3|40000|38333.333333333336|  4082.48290463863|0.40824829046386246|equiped|equiped|equiped|\n",
            "|   malote| 11|hobbit|        6|       8|30000|46666.666666666664|18027.756377319947|-0.9245003270420483|equiped|equiped|equiped|\n",
            "|   panoli| 12|   elf|        5|       3|40000|38333.333333333336|  4082.48290463863|0.40824829046386246|equiped|equiped|equiped|\n",
            "+---------+---+------+---------+--------+-----+------------------+------------------+-------------------+-------+-------+-------+\n",
            "\n"
          ],
          "name": "stdout"
        }
      ]
    },
    {
      "cell_type": "code",
      "metadata": {
        "id": "BfsHId0AUfpP",
        "colab_type": "code",
        "colab": {
          "base_uri": "https://localhost:8080/",
          "height": 377
        },
        "outputId": "dc0ac635-f196-4ff0-802d-3969aa2ae2f1"
      },
      "source": [
        "withNulls.dropna(how='all', subset=['sword', 'shield', 'armor']).show()"
      ],
      "execution_count": null,
      "outputs": [
        {
          "output_type": "stream",
          "text": [
            "+---------+---+------+---------+--------+-----+------------------+------------------+-------------------+-------+-------+-------+\n",
            "|alignment|id_|  race|dexterity|strength|   hp|           avg(hp)|   stddev_samp(hp)|            z-score|  sword| shield|  armor|\n",
            "+---------+---+------+---------+--------+-----+------------------+------------------+-------------------+-------+-------+-------+\n",
            "|   malote|  0|hobbit|        8|       1|30000|46666.666666666664|18027.756377319947|-0.9245003270420483|equiped|   null|equiped|\n",
            "|   panoli|  1|   elf|        7|       7|40000|38333.333333333336|  4082.48290463863|0.40824829046386246|   null|   null|equiped|\n",
            "|   panoli|  2|   elf|        8|       3|40000|38333.333333333336|  4082.48290463863|0.40824829046386246|equiped|equiped|equiped|\n",
            "|   malote|  3|   elf|       10|       2|40000|46666.666666666664|18027.756377319947|-0.3698001308168193|equiped|   null|equiped|\n",
            "|   malote|  4| troll|        3|       5|70000|46666.666666666664|18027.756377319947|  1.294300457858868|equiped|   null|equiped|\n",
            "|   malote|  5| troll|        8|       4|70000|46666.666666666664|18027.756377319947|  1.294300457858868|   null|   null|equiped|\n",
            "|   malote|  6| troll|        3|       2|70000|46666.666666666664|18027.756377319947|  1.294300457858868|equiped|   null|   null|\n",
            "|   malote|  7|   elf|        1|       4|40000|46666.666666666664|18027.756377319947|-0.3698001308168193|equiped|   null|equiped|\n",
            "|   malote|  8|hobbit|        7|       2|30000|46666.666666666664|18027.756377319947|-0.9245003270420483|   null|equiped|   null|\n",
            "|   malote|  9|   elf|        3|       8|40000|46666.666666666664|18027.756377319947|-0.3698001308168193|equiped|   null|   null|\n",
            "|   panoli| 10|   elf|        6|       3|40000|38333.333333333336|  4082.48290463863|0.40824829046386246|   null|equiped|   null|\n",
            "|   malote| 11|hobbit|        6|       8|30000|46666.666666666664|18027.756377319947|-0.9245003270420483|equiped|equiped|equiped|\n",
            "|   panoli| 12|   elf|        5|       3|40000|38333.333333333336|  4082.48290463863|0.40824829046386246|equiped|equiped|equiped|\n",
            "|   panoli| 13|   elf|        4|      12|40000|38333.333333333336|  4082.48290463863|0.40824829046386246|   null|equiped|   null|\n",
            "|   panoli| 14|hobbit|        4|       2|30000|38333.333333333336|  4082.48290463863|-2.0412414523193156|equiped|   null|equiped|\n",
            "+---------+---+------+---------+--------+-----+------------------+------------------+-------------------+-------+-------+-------+\n",
            "\n"
          ],
          "name": "stdout"
        }
      ]
    },
    {
      "cell_type": "code",
      "metadata": {
        "id": "5jYsBPIOVS0h",
        "colab_type": "code",
        "colab": {
          "base_uri": "https://localhost:8080/",
          "height": 258
        },
        "outputId": "351ab119-1c20-452a-d177-7a8dff626d4b"
      },
      "source": [
        "withNulls.dropna(how='any', subset=[ 'sword', 'armor']).show()"
      ],
      "execution_count": null,
      "outputs": [
        {
          "output_type": "stream",
          "text": [
            "+---------+---+------+---------+--------+-----+------------------+------------------+-------------------+-------+-------+-------+\n",
            "|alignment|id_|  race|dexterity|strength|   hp|           avg(hp)|   stddev_samp(hp)|            z-score|  sword| shield|  armor|\n",
            "+---------+---+------+---------+--------+-----+------------------+------------------+-------------------+-------+-------+-------+\n",
            "|   malote|  0|hobbit|        8|       1|30000|46666.666666666664|18027.756377319947|-0.9245003270420483|equiped|   null|equiped|\n",
            "|   panoli|  2|   elf|        8|       3|40000|38333.333333333336|  4082.48290463863|0.40824829046386246|equiped|equiped|equiped|\n",
            "|   malote|  3|   elf|       10|       2|40000|46666.666666666664|18027.756377319947|-0.3698001308168193|equiped|   null|equiped|\n",
            "|   malote|  4| troll|        3|       5|70000|46666.666666666664|18027.756377319947|  1.294300457858868|equiped|   null|equiped|\n",
            "|   malote|  7|   elf|        1|       4|40000|46666.666666666664|18027.756377319947|-0.3698001308168193|equiped|   null|equiped|\n",
            "|   malote| 11|hobbit|        6|       8|30000|46666.666666666664|18027.756377319947|-0.9245003270420483|equiped|equiped|equiped|\n",
            "|   panoli| 12|   elf|        5|       3|40000|38333.333333333336|  4082.48290463863|0.40824829046386246|equiped|equiped|equiped|\n",
            "|   panoli| 14|hobbit|        4|       2|30000|38333.333333333336|  4082.48290463863|-2.0412414523193156|equiped|   null|equiped|\n",
            "+---------+---+------+---------+--------+-----+------------------+------------------+-------------------+-------+-------+-------+\n",
            "\n"
          ],
          "name": "stdout"
        }
      ]
    },
    {
      "cell_type": "code",
      "metadata": {
        "id": "IkeINxvBVjD9",
        "colab_type": "code",
        "colab": {
          "base_uri": "https://localhost:8080/",
          "height": 377
        },
        "outputId": "bb34ab31-c502-4f5a-fae9-bf429c2085c6"
      },
      "source": [
        "withNulls.fillna('unequiped').show()"
      ],
      "execution_count": null,
      "outputs": [
        {
          "output_type": "stream",
          "text": [
            "+---------+---+------+---------+--------+-----+------------------+------------------+-------------------+---------+---------+---------+\n",
            "|alignment|id_|  race|dexterity|strength|   hp|           avg(hp)|   stddev_samp(hp)|            z-score|    sword|   shield|    armor|\n",
            "+---------+---+------+---------+--------+-----+------------------+------------------+-------------------+---------+---------+---------+\n",
            "|   malote|  0|hobbit|        8|       1|30000|46666.666666666664|18027.756377319947|-0.9245003270420483|  equiped|unequiped|  equiped|\n",
            "|   panoli|  1|   elf|        7|       7|40000|38333.333333333336|  4082.48290463863|0.40824829046386246|unequiped|unequiped|  equiped|\n",
            "|   panoli|  2|   elf|        8|       3|40000|38333.333333333336|  4082.48290463863|0.40824829046386246|  equiped|  equiped|  equiped|\n",
            "|   malote|  3|   elf|       10|       2|40000|46666.666666666664|18027.756377319947|-0.3698001308168193|  equiped|unequiped|  equiped|\n",
            "|   malote|  4| troll|        3|       5|70000|46666.666666666664|18027.756377319947|  1.294300457858868|  equiped|unequiped|  equiped|\n",
            "|   malote|  5| troll|        8|       4|70000|46666.666666666664|18027.756377319947|  1.294300457858868|unequiped|unequiped|  equiped|\n",
            "|   malote|  6| troll|        3|       2|70000|46666.666666666664|18027.756377319947|  1.294300457858868|  equiped|unequiped|unequiped|\n",
            "|   malote|  7|   elf|        1|       4|40000|46666.666666666664|18027.756377319947|-0.3698001308168193|  equiped|unequiped|  equiped|\n",
            "|   malote|  8|hobbit|        7|       2|30000|46666.666666666664|18027.756377319947|-0.9245003270420483|unequiped|  equiped|unequiped|\n",
            "|   malote|  9|   elf|        3|       8|40000|46666.666666666664|18027.756377319947|-0.3698001308168193|  equiped|unequiped|unequiped|\n",
            "|   panoli| 10|   elf|        6|       3|40000|38333.333333333336|  4082.48290463863|0.40824829046386246|unequiped|  equiped|unequiped|\n",
            "|   malote| 11|hobbit|        6|       8|30000|46666.666666666664|18027.756377319947|-0.9245003270420483|  equiped|  equiped|  equiped|\n",
            "|   panoli| 12|   elf|        5|       3|40000|38333.333333333336|  4082.48290463863|0.40824829046386246|  equiped|  equiped|  equiped|\n",
            "|   panoli| 13|   elf|        4|      12|40000|38333.333333333336|  4082.48290463863|0.40824829046386246|unequiped|  equiped|unequiped|\n",
            "|   panoli| 14|hobbit|        4|       2|30000|38333.333333333336|  4082.48290463863|-2.0412414523193156|  equiped|unequiped|  equiped|\n",
            "+---------+---+------+---------+--------+-----+------------------+------------------+-------------------+---------+---------+---------+\n",
            "\n"
          ],
          "name": "stdout"
        }
      ]
    },
    {
      "cell_type": "code",
      "metadata": {
        "id": "JnXBZ4MxVjPG",
        "colab_type": "code",
        "colab": {
          "base_uri": "https://localhost:8080/",
          "height": 377
        },
        "outputId": "d20a2dff-6260-4526-f842-95b8e262410e"
      },
      "source": [
        "withNulls.fillna({'sword': 'bare hand', 'shield': 'naked arm', 'armor': 'peasant dress'}).show()"
      ],
      "execution_count": null,
      "outputs": [
        {
          "output_type": "stream",
          "text": [
            "+---------+---+------+---------+--------+-----+------------------+------------------+-------------------+---------+---------+-------------+\n",
            "|alignment|id_|  race|dexterity|strength|   hp|           avg(hp)|   stddev_samp(hp)|            z-score|    sword|   shield|        armor|\n",
            "+---------+---+------+---------+--------+-----+------------------+------------------+-------------------+---------+---------+-------------+\n",
            "|   malote|  0|hobbit|        8|       1|30000|46666.666666666664|18027.756377319947|-0.9245003270420483|  equiped|naked arm|      equiped|\n",
            "|   panoli|  1|   elf|        7|       7|40000|38333.333333333336|  4082.48290463863|0.40824829046386246|bare hand|naked arm|      equiped|\n",
            "|   panoli|  2|   elf|        8|       3|40000|38333.333333333336|  4082.48290463863|0.40824829046386246|  equiped|  equiped|      equiped|\n",
            "|   malote|  3|   elf|       10|       2|40000|46666.666666666664|18027.756377319947|-0.3698001308168193|  equiped|naked arm|      equiped|\n",
            "|   malote|  4| troll|        3|       5|70000|46666.666666666664|18027.756377319947|  1.294300457858868|  equiped|naked arm|      equiped|\n",
            "|   malote|  5| troll|        8|       4|70000|46666.666666666664|18027.756377319947|  1.294300457858868|bare hand|naked arm|      equiped|\n",
            "|   malote|  6| troll|        3|       2|70000|46666.666666666664|18027.756377319947|  1.294300457858868|  equiped|naked arm|peasant dress|\n",
            "|   malote|  7|   elf|        1|       4|40000|46666.666666666664|18027.756377319947|-0.3698001308168193|  equiped|naked arm|      equiped|\n",
            "|   malote|  8|hobbit|        7|       2|30000|46666.666666666664|18027.756377319947|-0.9245003270420483|bare hand|  equiped|peasant dress|\n",
            "|   malote|  9|   elf|        3|       8|40000|46666.666666666664|18027.756377319947|-0.3698001308168193|  equiped|naked arm|peasant dress|\n",
            "|   panoli| 10|   elf|        6|       3|40000|38333.333333333336|  4082.48290463863|0.40824829046386246|bare hand|  equiped|peasant dress|\n",
            "|   malote| 11|hobbit|        6|       8|30000|46666.666666666664|18027.756377319947|-0.9245003270420483|  equiped|  equiped|      equiped|\n",
            "|   panoli| 12|   elf|        5|       3|40000|38333.333333333336|  4082.48290463863|0.40824829046386246|  equiped|  equiped|      equiped|\n",
            "|   panoli| 13|   elf|        4|      12|40000|38333.333333333336|  4082.48290463863|0.40824829046386246|bare hand|  equiped|peasant dress|\n",
            "|   panoli| 14|hobbit|        4|       2|30000|38333.333333333336|  4082.48290463863|-2.0412414523193156|  equiped|naked arm|      equiped|\n",
            "+---------+---+------+---------+--------+-----+------------------+------------------+-------------------+---------+---------+-------------+\n",
            "\n"
          ],
          "name": "stdout"
        }
      ]
    },
    {
      "cell_type": "markdown",
      "metadata": {
        "id": "maBKVhFqlcXL",
        "colab_type": "text"
      },
      "source": [
        "## SQL querying\n",
        "\n",
        "We need to register our DataFrame as a table in the SQL context in order to be able to query against it."
      ]
    },
    {
      "cell_type": "code",
      "metadata": {
        "id": "QgJX8mckVhXp",
        "colab_type": "code",
        "colab": {
          "base_uri": "https://localhost:8080/",
          "height": 54
        },
        "outputId": "1e9b685a-4971-46f9-9058-1e7487c80489"
      },
      "source": [
        "csv = spark.read.csv('coupon150720.csv')\n",
        "csv"
      ],
      "execution_count": null,
      "outputs": [
        {
          "output_type": "execute_result",
          "data": {
            "text/plain": [
              "DataFrame[_c0: string, _c1: string, _c2: string, _c3: string, _c4: string, _c5: string, _c6: string, _c7: string, _c8: string, _c9: string, _c10: string, _c11: string, _c12: string, _c13: string, _c14: string]"
            ]
          },
          "metadata": {
            "tags": []
          },
          "execution_count": 91
        }
      ]
    },
    {
      "cell_type": "code",
      "metadata": {
        "id": "_DCMaPfAWjIG",
        "colab_type": "code",
        "colab": {
          "base_uri": "https://localhost:8080/",
          "height": 54
        },
        "outputId": "6409f31d-a2d9-40ce-ccea-270276172f57"
      },
      "source": [
        "df = spark.sql('SELECT * FROM csv.`coupon150720.csv`')\n",
        "df"
      ],
      "execution_count": null,
      "outputs": [
        {
          "output_type": "execute_result",
          "data": {
            "text/plain": [
              "DataFrame[_c0: string, _c1: string, _c2: string, _c3: string, _c4: string, _c5: string, _c6: string, _c7: string, _c8: string, _c9: string, _c10: string, _c11: string, _c12: string, _c13: string, _c14: string]"
            ]
          },
          "metadata": {
            "tags": []
          },
          "execution_count": 94
        }
      ]
    },
    {
      "cell_type": "code",
      "metadata": {
        "id": "9PVgiF9xWlJ2",
        "colab_type": "code",
        "colab": {
          "base_uri": "https://localhost:8080/",
          "height": 170
        },
        "outputId": "31b2a9ba-f5f3-4925-ab74-2b2a26520de8"
      },
      "source": [
        "df.show(3)"
      ],
      "execution_count": null,
      "outputs": [
        {
          "output_type": "stream",
          "text": [
            "+--------------+---+---+---+---+---+-----+---+---+---+----+----+------+----+----+\n",
            "|           _c0|_c1|_c2|_c3|_c4|_c5|  _c6|_c7|_c8|_c9|_c10|_c11|  _c12|_c13|_c14|\n",
            "+--------------+---+---+---+---+---+-----+---+---+---+----+----+------+----+----+\n",
            "|79062005698500|  1|MAA|AUH| 9W| 9W|56.79|USD|  1|  H|   H|0526|150904|  OK|IAF0|\n",
            "|79062005698500|  2|AUH|CDG| 9W| 9W|84.34|USD|  1|  H|   H|6120|150905|  OK|IAF0|\n",
            "|79062005924069|  1|CJB|MAA| 9W| 9W| 60.0|USD|  1|  H|   H|2768|150721|  OK|IAA0|\n",
            "+--------------+---+---+---+---+---+-----+---+---+---+----+----+------+----+----+\n",
            "only showing top 3 rows\n",
            "\n"
          ],
          "name": "stdout"
        }
      ]
    },
    {
      "cell_type": "code",
      "metadata": {
        "id": "6aDJjwHkWjQp",
        "colab_type": "code",
        "colab": {
          "base_uri": "https://localhost:8080/",
          "height": 170
        },
        "outputId": "c06e4acf-ff18-42eb-82ac-4412531ddb2d"
      },
      "source": [
        "df = spark.sql('''SELECT CAST(_c0 AS INTEGER) AS ticket_id ,\n",
        "                CAST(_c1 AS INTEGER) AS cpn_number,\n",
        "                _c2 AS origin,\n",
        "                _c3 AS dest,\n",
        "                _c4 AS carrier,\n",
        "                CAST(_c6 AS FLOAT) As amount\n",
        "                FROM csv.`coupon150720.csv`\n",
        "              ''')\n",
        "df.show(3)"
      ],
      "execution_count": null,
      "outputs": [
        {
          "output_type": "stream",
          "text": [
            "+---------+----------+------+----+-------+------+\n",
            "|ticket_id|cpn_number|origin|dest|carrier|amount|\n",
            "+---------+----------+------+----+-------+------+\n",
            "|     null|         1|   MAA| AUH|     9W| 56.79|\n",
            "|     null|         2|   AUH| CDG|     9W| 84.34|\n",
            "|     null|         1|   CJB| MAA|     9W|  60.0|\n",
            "+---------+----------+------+----+-------+------+\n",
            "only showing top 3 rows\n",
            "\n"
          ],
          "name": "stdout"
        }
      ]
    },
    {
      "cell_type": "code",
      "metadata": {
        "id": "9FekxRrCWjY7",
        "colab_type": "code",
        "colab": {}
      },
      "source": [
        "#Register dataframe to be used from SQL as a table\n",
        "withNulls.registerTempTable('with_nulls_table')"
      ],
      "execution_count": null,
      "outputs": []
    },
    {
      "cell_type": "code",
      "metadata": {
        "id": "TwiErkywY167",
        "colab_type": "code",
        "colab": {
          "base_uri": "https://localhost:8080/",
          "height": 170
        },
        "outputId": "712a946f-02d2-4d61-bef8-a524ef3782a1"
      },
      "source": [
        "spark.sql('SELECT * FROM with_nulls_table WHERE strength > 6').show()"
      ],
      "execution_count": null,
      "outputs": [
        {
          "output_type": "stream",
          "text": [
            "+---------+---+------+---------+--------+-----+------------------+------------------+-------------------+-------+-------+-------+\n",
            "|alignment|id_|  race|dexterity|strength|   hp|           avg(hp)|   stddev_samp(hp)|            z-score|  sword| shield|  armor|\n",
            "+---------+---+------+---------+--------+-----+------------------+------------------+-------------------+-------+-------+-------+\n",
            "|   panoli|  1|   elf|        7|       7|40000|38333.333333333336|  4082.48290463863|0.40824829046386246|   null|   null|equiped|\n",
            "|   malote|  9|   elf|        3|       8|40000|46666.666666666664|18027.756377319947|-0.3698001308168193|equiped|   null|   null|\n",
            "|   malote| 11|hobbit|        6|       8|30000|46666.666666666664|18027.756377319947|-0.9245003270420483|equiped|equiped|equiped|\n",
            "|   panoli| 13|   elf|        4|      12|40000|38333.333333333336|  4082.48290463863|0.40824829046386246|   null|equiped|   null|\n",
            "+---------+---+------+---------+--------+-----+------------------+------------------+-------------------+-------+-------+-------+\n",
            "\n"
          ],
          "name": "stdout"
        }
      ]
    },
    {
      "cell_type": "markdown",
      "metadata": {
        "id": "PPTyHgiElcXc",
        "colab_type": "text"
      },
      "source": [
        "Once registered, we can perform queries as complex as we want."
      ]
    },
    {
      "cell_type": "markdown",
      "metadata": {
        "id": "TkSEw-t6lcXq",
        "colab_type": "text"
      },
      "source": [
        "## Interoperation with Pandas\n",
        "\n",
        "Easy peasy. We can convert a spark DataFrame into a Pandas one, which will `collect` it, and viceversa, which will distribute it."
      ]
    },
    {
      "cell_type": "code",
      "metadata": {
        "id": "uYidITSMlcXt",
        "colab_type": "code",
        "colab": {
          "base_uri": "https://localhost:8080/",
          "height": 173
        },
        "outputId": "79fbca97-6430-419d-a35b-af7580436d85"
      },
      "source": [
        "query_result = spark.sql('SELECT * FROM with_nulls_table WHERE strength > 6')\n",
        "pd_df = query_result.toPandas()\n",
        "pd_df.head()"
      ],
      "execution_count": null,
      "outputs": [
        {
          "output_type": "execute_result",
          "data": {
            "text/html": [
              "<div>\n",
              "<style scoped>\n",
              "    .dataframe tbody tr th:only-of-type {\n",
              "        vertical-align: middle;\n",
              "    }\n",
              "\n",
              "    .dataframe tbody tr th {\n",
              "        vertical-align: top;\n",
              "    }\n",
              "\n",
              "    .dataframe thead th {\n",
              "        text-align: right;\n",
              "    }\n",
              "</style>\n",
              "<table border=\"1\" class=\"dataframe\">\n",
              "  <thead>\n",
              "    <tr style=\"text-align: right;\">\n",
              "      <th></th>\n",
              "      <th>alignment</th>\n",
              "      <th>id_</th>\n",
              "      <th>race</th>\n",
              "      <th>dexterity</th>\n",
              "      <th>strength</th>\n",
              "      <th>hp</th>\n",
              "      <th>avg(hp)</th>\n",
              "      <th>stddev_samp(hp)</th>\n",
              "      <th>z-score</th>\n",
              "      <th>sword</th>\n",
              "      <th>shield</th>\n",
              "      <th>armor</th>\n",
              "    </tr>\n",
              "  </thead>\n",
              "  <tbody>\n",
              "    <tr>\n",
              "      <th>0</th>\n",
              "      <td>panoli</td>\n",
              "      <td>1</td>\n",
              "      <td>elf</td>\n",
              "      <td>7</td>\n",
              "      <td>7</td>\n",
              "      <td>40000</td>\n",
              "      <td>38333.333333</td>\n",
              "      <td>4082.482905</td>\n",
              "      <td>0.408248</td>\n",
              "      <td>None</td>\n",
              "      <td>None</td>\n",
              "      <td>equiped</td>\n",
              "    </tr>\n",
              "    <tr>\n",
              "      <th>1</th>\n",
              "      <td>malote</td>\n",
              "      <td>9</td>\n",
              "      <td>elf</td>\n",
              "      <td>3</td>\n",
              "      <td>8</td>\n",
              "      <td>40000</td>\n",
              "      <td>46666.666667</td>\n",
              "      <td>18027.756377</td>\n",
              "      <td>-0.369800</td>\n",
              "      <td>equiped</td>\n",
              "      <td>None</td>\n",
              "      <td>None</td>\n",
              "    </tr>\n",
              "    <tr>\n",
              "      <th>2</th>\n",
              "      <td>malote</td>\n",
              "      <td>11</td>\n",
              "      <td>hobbit</td>\n",
              "      <td>6</td>\n",
              "      <td>8</td>\n",
              "      <td>30000</td>\n",
              "      <td>46666.666667</td>\n",
              "      <td>18027.756377</td>\n",
              "      <td>-0.924500</td>\n",
              "      <td>equiped</td>\n",
              "      <td>equiped</td>\n",
              "      <td>equiped</td>\n",
              "    </tr>\n",
              "    <tr>\n",
              "      <th>3</th>\n",
              "      <td>panoli</td>\n",
              "      <td>13</td>\n",
              "      <td>elf</td>\n",
              "      <td>4</td>\n",
              "      <td>12</td>\n",
              "      <td>40000</td>\n",
              "      <td>38333.333333</td>\n",
              "      <td>4082.482905</td>\n",
              "      <td>0.408248</td>\n",
              "      <td>None</td>\n",
              "      <td>equiped</td>\n",
              "      <td>None</td>\n",
              "    </tr>\n",
              "  </tbody>\n",
              "</table>\n",
              "</div>"
            ],
            "text/plain": [
              "  alignment  id_    race  dexterity  ...   z-score    sword   shield    armor\n",
              "0    panoli    1     elf          7  ...  0.408248     None     None  equiped\n",
              "1    malote    9     elf          3  ... -0.369800  equiped     None     None\n",
              "2    malote   11  hobbit          6  ... -0.924500  equiped  equiped  equiped\n",
              "3    panoli   13     elf          4  ...  0.408248     None  equiped     None\n",
              "\n",
              "[4 rows x 12 columns]"
            ]
          },
          "metadata": {
            "tags": []
          },
          "execution_count": 103
        }
      ]
    },
    {
      "cell_type": "code",
      "metadata": {
        "id": "cj5cmOdbbvny",
        "colab_type": "code",
        "colab": {
          "base_uri": "https://localhost:8080/",
          "height": 54
        },
        "outputId": "9687fa49-fbec-420a-c71c-98cafbc40c40"
      },
      "source": [
        "#Distribute in the cluster\n",
        "spark.createDataFrame(pd_df)"
      ],
      "execution_count": null,
      "outputs": [
        {
          "output_type": "execute_result",
          "data": {
            "text/plain": [
              "DataFrame[alignment: string, id_: bigint, race: string, dexterity: bigint, strength: bigint, hp: bigint, avg(hp): double, stddev_samp(hp): double, z-score: double, sword: string, shield: string, armor: string]"
            ]
          },
          "metadata": {
            "tags": []
          },
          "execution_count": 104
        }
      ]
    },
    {
      "cell_type": "markdown",
      "metadata": {
        "id": "dMEUFtizlcYE",
        "colab_type": "text"
      },
      "source": [
        "## Writing out\n"
      ]
    },
    {
      "cell_type": "code",
      "metadata": {
        "id": "HkarfRLgbYIn",
        "colab_type": "code",
        "colab": {
          "base_uri": "https://localhost:8080/",
          "height": 357
        },
        "outputId": "dad18e54-b6bc-4ad8-f85d-3421ffef3f1f"
      },
      "source": [
        "withNulls.show()\n",
        "withNulls.write.csv('beasts.csv')"
      ],
      "execution_count": null,
      "outputs": [
        {
          "output_type": "stream",
          "text": [
            "+---------+---+------+---------+--------+-----+------------------+------------------+-------------------+-------+-------+-------+\n",
            "|alignment|id_|  race|dexterity|strength|   hp|           avg(hp)|   stddev_samp(hp)|            z-score|  sword| shield|  armor|\n",
            "+---------+---+------+---------+--------+-----+------------------+------------------+-------------------+-------+-------+-------+\n",
            "|   malote|  0|hobbit|        8|       1|30000|46666.666666666664|18027.756377319947|-0.9245003270420483|equiped|   null|equiped|\n",
            "|   panoli|  1|   elf|        7|       7|40000|38333.333333333336|  4082.48290463863|0.40824829046386246|   null|   null|equiped|\n",
            "|   panoli|  2|   elf|        8|       3|40000|38333.333333333336|  4082.48290463863|0.40824829046386246|equiped|equiped|equiped|\n",
            "|   malote|  3|   elf|       10|       2|40000|46666.666666666664|18027.756377319947|-0.3698001308168193|equiped|   null|equiped|\n",
            "|   malote|  4| troll|        3|       5|70000|46666.666666666664|18027.756377319947|  1.294300457858868|equiped|   null|equiped|\n",
            "|   malote|  5| troll|        8|       4|70000|46666.666666666664|18027.756377319947|  1.294300457858868|   null|   null|equiped|\n",
            "|   malote|  6| troll|        3|       2|70000|46666.666666666664|18027.756377319947|  1.294300457858868|equiped|   null|   null|\n",
            "|   malote|  7|   elf|        1|       4|40000|46666.666666666664|18027.756377319947|-0.3698001308168193|equiped|   null|equiped|\n",
            "|   malote|  8|hobbit|        7|       2|30000|46666.666666666664|18027.756377319947|-0.9245003270420483|   null|equiped|   null|\n",
            "|   malote|  9|   elf|        3|       8|40000|46666.666666666664|18027.756377319947|-0.3698001308168193|equiped|   null|   null|\n",
            "|   panoli| 10|   elf|        6|       3|40000|38333.333333333336|  4082.48290463863|0.40824829046386246|   null|equiped|   null|\n",
            "|   malote| 11|hobbit|        6|       8|30000|46666.666666666664|18027.756377319947|-0.9245003270420483|equiped|equiped|equiped|\n",
            "|   panoli| 12|   elf|        5|       3|40000|38333.333333333336|  4082.48290463863|0.40824829046386246|equiped|equiped|equiped|\n",
            "|   panoli| 13|   elf|        4|      12|40000|38333.333333333336|  4082.48290463863|0.40824829046386246|   null|equiped|   null|\n",
            "|   panoli| 14|hobbit|        4|       2|30000|38333.333333333336|  4082.48290463863|-2.0412414523193156|equiped|   null|equiped|\n",
            "+---------+---+------+---------+--------+-----+------------------+------------------+-------------------+-------+-------+-------+\n",
            "\n"
          ],
          "name": "stdout"
        }
      ]
    },
    {
      "cell_type": "code",
      "metadata": {
        "id": "iXLy8G_2lcYH",
        "colab_type": "code",
        "colab": {
          "base_uri": "https://localhost:8080/",
          "height": 85
        },
        "outputId": "185d31f5-8240-4d1e-c055-d0b030268788"
      },
      "source": [
        "!ls -lh beasts.csv"
      ],
      "execution_count": null,
      "outputs": [
        {
          "output_type": "stream",
          "text": [
            "total 8.0K\n",
            "-rw-r--r-- 1 root root 690 Jun 20 08:39 part-00000-a1bb55f4-2908-4458-ade9-98a9b5d0e59a-c000.csv\n",
            "-rw-r--r-- 1 root root 797 Jun 20 08:39 part-00001-a1bb55f4-2908-4458-ade9-98a9b5d0e59a-c000.csv\n",
            "-rw-r--r-- 1 root root   0 Jun 20 08:39 _SUCCESS\n"
          ],
          "name": "stdout"
        }
      ]
    },
    {
      "cell_type": "code",
      "metadata": {
        "id": "zp1slYlbdoPA",
        "colab_type": "code",
        "colab": {
          "base_uri": "https://localhost:8080/",
          "height": 136
        },
        "outputId": "13ccff4f-8750-457b-b8a6-5f0d9f0c1a20"
      },
      "source": [
        "!cat beasts.csv/part-00000-a1bb55f4-2908-4458-ade9-98a9b5d0e59a-c000.csv"
      ],
      "execution_count": null,
      "outputs": [
        {
          "output_type": "stream",
          "text": [
            "malote,0,hobbit,8,1,30000,46666.666666666664,18027.756377319947,-0.9245003270420483,equiped,\"\",equiped\n",
            "panoli,1,elf,7,7,40000,38333.333333333336,4082.48290463863,0.40824829046386246,\"\",\"\",equiped\n",
            "panoli,2,elf,8,3,40000,38333.333333333336,4082.48290463863,0.40824829046386246,equiped,equiped,equiped\n",
            "malote,3,elf,10,2,40000,46666.666666666664,18027.756377319947,-0.3698001308168193,equiped,\"\",equiped\n",
            "malote,4,troll,3,5,70000,46666.666666666664,18027.756377319947,1.294300457858868,equiped,\"\",equiped\n",
            "malote,5,troll,8,4,70000,46666.666666666664,18027.756377319947,1.294300457858868,\"\",\"\",equiped\n",
            "malote,6,troll,3,2,70000,46666.666666666664,18027.756377319947,1.294300457858868,equiped,\"\",\"\"\n"
          ],
          "name": "stdout"
        }
      ]
    },
    {
      "cell_type": "code",
      "metadata": {
        "id": "QLQutiF9dn3n",
        "colab_type": "code",
        "colab": {}
      },
      "source": [
        ""
      ],
      "execution_count": null,
      "outputs": []
    },
    {
      "cell_type": "markdown",
      "metadata": {
        "id": "UwoBX0TklcYU",
        "colab_type": "text"
      },
      "source": [
        "#### Exercise\n",
        "\n",
        "Repeat the exercise from the previous notebook, but this time with DataFrames.\n",
        "\n",
        "Get stats for all tickets with destination MAD from `coupons150720.csv`.\n",
        "\n",
        "You will need to extract ticket amounts with destination MAD, and then calculate:\n",
        "\n",
        "1. Total ticket amounts per origin\n",
        "2. Top 10 airlines by average amount"
      ]
    },
    {
      "cell_type": "code",
      "metadata": {
        "id": "sT095rtelcYZ",
        "colab_type": "code",
        "colab": {
          "base_uri": "https://localhost:8080/",
          "height": 204
        },
        "outputId": "a948490b-d911-428f-fc1f-6b1dc7b7a655"
      },
      "source": [
        "df = spark.sql('''SELECT CAST(_c0 AS INTEGER) AS ticket_id ,\n",
        "                CAST(_c1 AS INTEGER) AS cpn_number,\n",
        "                _c2 AS origin,\n",
        "                _c3 AS dest,\n",
        "                _c4 AS carrier,\n",
        "                CAST(_c6 AS FLOAT) As amount\n",
        "                FROM csv.`coupon150720.csv`\n",
        "              ''')\n"
      ],
      "execution_count": null,
      "outputs": [
        {
          "output_type": "execute_result",
          "data": {
            "text/html": [
              "<div>\n",
              "<style scoped>\n",
              "    .dataframe tbody tr th:only-of-type {\n",
              "        vertical-align: middle;\n",
              "    }\n",
              "\n",
              "    .dataframe tbody tr th {\n",
              "        vertical-align: top;\n",
              "    }\n",
              "\n",
              "    .dataframe thead th {\n",
              "        text-align: right;\n",
              "    }\n",
              "</style>\n",
              "<table border=\"1\" class=\"dataframe\">\n",
              "  <thead>\n",
              "    <tr style=\"text-align: right;\">\n",
              "      <th></th>\n",
              "      <th>ticket_id</th>\n",
              "      <th>cpn_number</th>\n",
              "      <th>origin</th>\n",
              "      <th>dest</th>\n",
              "      <th>carrier</th>\n",
              "      <th>amount</th>\n",
              "    </tr>\n",
              "  </thead>\n",
              "  <tbody>\n",
              "    <tr>\n",
              "      <th>0</th>\n",
              "      <td>None</td>\n",
              "      <td>1</td>\n",
              "      <td>MAA</td>\n",
              "      <td>AUH</td>\n",
              "      <td>9W</td>\n",
              "      <td>56.790001</td>\n",
              "    </tr>\n",
              "    <tr>\n",
              "      <th>1</th>\n",
              "      <td>None</td>\n",
              "      <td>2</td>\n",
              "      <td>AUH</td>\n",
              "      <td>CDG</td>\n",
              "      <td>9W</td>\n",
              "      <td>84.339996</td>\n",
              "    </tr>\n",
              "    <tr>\n",
              "      <th>2</th>\n",
              "      <td>None</td>\n",
              "      <td>1</td>\n",
              "      <td>CJB</td>\n",
              "      <td>MAA</td>\n",
              "      <td>9W</td>\n",
              "      <td>60.000000</td>\n",
              "    </tr>\n",
              "    <tr>\n",
              "      <th>3</th>\n",
              "      <td>None</td>\n",
              "      <td>1</td>\n",
              "      <td>DEL</td>\n",
              "      <td>DXB</td>\n",
              "      <td>9W</td>\n",
              "      <td>160.630005</td>\n",
              "    </tr>\n",
              "    <tr>\n",
              "      <th>4</th>\n",
              "      <td>None</td>\n",
              "      <td>1</td>\n",
              "      <td>AUH</td>\n",
              "      <td>IXE</td>\n",
              "      <td>9W</td>\n",
              "      <td>152.460007</td>\n",
              "    </tr>\n",
              "  </tbody>\n",
              "</table>\n",
              "</div>"
            ],
            "text/plain": [
              "  ticket_id  cpn_number origin dest carrier      amount\n",
              "0      None           1    MAA  AUH      9W   56.790001\n",
              "1      None           2    AUH  CDG      9W   84.339996\n",
              "2      None           1    CJB  MAA      9W   60.000000\n",
              "3      None           1    DEL  DXB      9W  160.630005\n",
              "4      None           1    AUH  IXE      9W  152.460007"
            ]
          },
          "metadata": {
            "tags": []
          },
          "execution_count": 113
        }
      ]
    },
    {
      "cell_type": "markdown",
      "metadata": {
        "id": "w6x_uCW4lcY1",
        "colab_type": "text"
      },
      "source": [
        "1) Extract the fields you need (c0,c1,c2,c3,c4 and c6) into a dataframe with proper names and types\n",
        "\n",
        "Remember, you want to calculate:\n",
        "\n",
        "Total ticket amounts per origin\n",
        "\n",
        "Top 10 airlines by average amount"
      ]
    },
    {
      "cell_type": "markdown",
      "metadata": {
        "id": "bqHVClSplcZF",
        "colab_type": "text"
      },
      "source": [
        "2) Total ticket amounts per origin"
      ]
    },
    {
      "cell_type": "code",
      "metadata": {
        "id": "87DL0d1DlcZJ",
        "colab_type": "code",
        "colab": {
          "base_uri": "https://localhost:8080/",
          "height": 204
        },
        "outputId": "e8b90fe7-80c6-487f-d846-64f270ef23eb"
      },
      "source": [
        "df.groupby('origin').sum('cpn_number').show(5)"
      ],
      "execution_count": null,
      "outputs": [
        {
          "output_type": "stream",
          "text": [
            "+------+---------------+\n",
            "|origin|sum(cpn_number)|\n",
            "+------+---------------+\n",
            "|   YUL|           3757|\n",
            "|   NWI|            160|\n",
            "|   PMI|          16870|\n",
            "|   KGL|            304|\n",
            "|   SCW|             22|\n",
            "+------+---------------+\n",
            "only showing top 5 rows\n",
            "\n"
          ],
          "name": "stdout"
        }
      ]
    },
    {
      "cell_type": "markdown",
      "metadata": {
        "id": "gcIdL7j8lcZX",
        "colab_type": "text"
      },
      "source": [
        "3) Top 10 Airlines by average amount\n",
        "\n"
      ]
    },
    {
      "cell_type": "code",
      "metadata": {
        "id": "C2UDqoOmjM8u",
        "colab_type": "code",
        "colab": {
          "base_uri": "https://localhost:8080/",
          "height": 289
        },
        "outputId": "f3117e69-a6c9-47db-b6b3-8c39291a3136"
      },
      "source": [
        "df[df['dest']=='MAD'].groupby('carrier').avg('amount').sort('avg(amount)', ascending=False).show(10)"
      ],
      "execution_count": null,
      "outputs": [
        {
          "output_type": "stream",
          "text": [
            "+-------+------------------+\n",
            "|carrier|       avg(amount)|\n",
            "+-------+------------------+\n",
            "|     V0| 5418.098665364583|\n",
            "|     AC|  740.619985961914|\n",
            "|     KE| 688.5261500431941|\n",
            "|     SV|  553.174259916265|\n",
            "|     OB| 535.5044420030382|\n",
            "|     AR| 513.5304808843704|\n",
            "|     AV| 450.1950941518613|\n",
            "|     AM| 440.7342111687911|\n",
            "|     C2| 397.8699951171875|\n",
            "|     LA|379.95370341954606|\n",
            "+-------+------------------+\n",
            "only showing top 10 rows\n",
            "\n"
          ],
          "name": "stdout"
        }
      ]
    },
    {
      "cell_type": "markdown",
      "metadata": {
        "id": "NNz46A_ulcZm",
        "colab_type": "text"
      },
      "source": [
        "## Further Reading\n",
        "\n",
        "https://databricks.com/blog/2016/07/14/a-tale-of-three-apache-spark-apis-rdds-dataframes-and-datasets.html\n",
        "\n",
        "https://www.datacamp.com/community/tutorials/apache-spark-python\n",
        "\n",
        "https://spark.apache.org/docs/2.2.0/sql-programming-guide.html\n",
        "\n",
        "https://ogirardot.wordpress.com/2015/05/29/rdds-are-the-new-bytecode-of-apache-spark/\n",
        "\n",
        "https://stackoverflow.com/questions/36822224/what-are-the-pros-and-cons-of-parquet-format-compared-to-other-formats\n",
        "\n",
        "https://s3.amazonaws.com/assets.datacamp.com/blog_assets/PySpark_SQL_Cheat_Sheet_Python.pdf"
      ]
    }
  ]
}