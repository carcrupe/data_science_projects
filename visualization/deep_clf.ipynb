{
  "nbformat": 4,
  "nbformat_minor": 0,
  "metadata": {
    "colab": {
      "name": "deep clf.ipynb",
      "provenance": [],
      "collapsed_sections": []
    },
    "kernelspec": {
      "name": "python3",
      "display_name": "Python 3"
    }
  },
  "cells": [
    {
      "cell_type": "code",
      "metadata": {
        "id": "2lo-oToKoA-_",
        "colab_type": "code",
        "colab": {
          "base_uri": "https://localhost:8080/",
          "height": 221
        },
        "outputId": "a98db394-d13d-468f-c698-72df06a5d9f6"
      },
      "source": [
        "!pip install -q streamlit"
      ],
      "execution_count": 1,
      "outputs": [
        {
          "output_type": "stream",
          "text": [
            "\u001b[K     |████████████████████████████████| 7.1MB 2.7MB/s \n",
            "\u001b[K     |████████████████████████████████| 102kB 11.3MB/s \n",
            "\u001b[K     |████████████████████████████████| 4.4MB 47.8MB/s \n",
            "\u001b[K     |████████████████████████████████| 501kB 49.7MB/s \n",
            "\u001b[K     |████████████████████████████████| 112kB 48.4MB/s \n",
            "\u001b[K     |████████████████████████████████| 122kB 49.0MB/s \n",
            "\u001b[?25h  Building wheel for watchdog (setup.py) ... \u001b[?25l\u001b[?25hdone\n",
            "  Building wheel for validators (setup.py) ... \u001b[?25l\u001b[?25hdone\n",
            "  Building wheel for tornado (setup.py) ... \u001b[?25l\u001b[?25hdone\n",
            "  Building wheel for blinker (setup.py) ... \u001b[?25l\u001b[?25hdone\n",
            "  Building wheel for pathtools (setup.py) ... \u001b[?25l\u001b[?25hdone\n",
            "\u001b[31mERROR: google-colab 1.0.0 has requirement ipykernel~=4.10, but you'll have ipykernel 5.3.2 which is incompatible.\u001b[0m\n"
          ],
          "name": "stdout"
        }
      ]
    },
    {
      "cell_type": "code",
      "metadata": {
        "id": "tf9OCIjRoVG8",
        "colab_type": "code",
        "colab": {
          "base_uri": "https://localhost:8080/",
          "height": 204
        },
        "outputId": "dec54b4b-2773-4c2c-8fa7-1482542506c1"
      },
      "source": [
        "!wget https://bin.equinox.io/c/4VmDzA7iaHb/ngrok-stable-linux-amd64.zip\n",
        "!unzip -qq ngrok-stable-linux-amd64.zip"
      ],
      "execution_count": 2,
      "outputs": [
        {
          "output_type": "stream",
          "text": [
            "--2020-07-11 11:27:52--  https://bin.equinox.io/c/4VmDzA7iaHb/ngrok-stable-linux-amd64.zip\n",
            "Resolving bin.equinox.io (bin.equinox.io)... 3.229.170.137, 54.161.19.10, 34.194.108.77, ...\n",
            "Connecting to bin.equinox.io (bin.equinox.io)|3.229.170.137|:443... connected.\n",
            "HTTP request sent, awaiting response... 200 OK\n",
            "Length: 13773305 (13M) [application/octet-stream]\n",
            "Saving to: ‘ngrok-stable-linux-amd64.zip’\n",
            "\n",
            "\r          ngrok-sta   0%[                    ]       0  --.-KB/s               \r         ngrok-stab  67%[============>       ]   8.82M  43.8MB/s               \rngrok-stable-linux- 100%[===================>]  13.13M  51.6MB/s    in 0.3s    \n",
            "\n",
            "2020-07-11 11:27:52 (51.6 MB/s) - ‘ngrok-stable-linux-amd64.zip’ saved [13773305/13773305]\n",
            "\n"
          ],
          "name": "stdout"
        }
      ]
    },
    {
      "cell_type": "code",
      "metadata": {
        "id": "Ha4-qU7Uotfz",
        "colab_type": "code",
        "colab": {
          "base_uri": "https://localhost:8080/",
          "height": 68
        },
        "outputId": "0bf311fd-79ae-4b27-892a-10304309ea9b"
      },
      "source": [
        "!unzip converted_keras.zip"
      ],
      "execution_count": 6,
      "outputs": [
        {
          "output_type": "stream",
          "text": [
            "Archive:  converted_keras.zip\n",
            " extracting: keras_model.h5          \n",
            " extracting: labels.txt              \n"
          ],
          "name": "stdout"
        }
      ]
    },
    {
      "cell_type": "code",
      "metadata": {
        "id": "MsA8Gp-noXi8",
        "colab_type": "code",
        "colab": {
          "base_uri": "https://localhost:8080/",
          "height": 34
        },
        "outputId": "a0782083-dc20-4d01-f133-cd33de100b81"
      },
      "source": [
        "%%file deepclf.py\n",
        "\n",
        "import streamlit as st\n",
        "import tensorflow.keras\n",
        "from PIL import Image, ImageOps\n",
        "import numpy as np\n",
        "\n",
        "# Disable scientific notation for clarity\n",
        "np.set_printoptions(suppress=True)\n",
        "\n",
        "# Load the model\n",
        "model = tensorflow.keras.models.load_model('keras_model.h5')\n",
        "\n",
        "st.title(\"Deep Learning Classifier\")\n",
        "st.markdown(\"We trained a model with pictures of bottles and controllers\")\n",
        "\n",
        "image_file = st.file_uploader(\"Choose an image\", type=\"jpg\")\n",
        "\n",
        "if image_file is not None:\n",
        "  image=Image.open(image_file)\n",
        "  st.image(image,caption=\"Uploaded Image\")\n",
        "  st.markdown(\"Classifying ...\")\n",
        "\n",
        "  # Create the array of the right shape to feed into the keras model\n",
        "  # The 'length' or number of images you can put into the array is\n",
        "  # determined by the first position in the shape tuple, in this case 1.\n",
        "  data = np.ndarray(shape=(1, 224, 224, 3), dtype=np.float32)\n",
        "\n",
        "  #resize the image to a 224x224 with the same strategy as in TM2:\n",
        "  #resizing the image to be at least 224x224 and then cropping from the center\n",
        "  size = (224, 224)\n",
        "  image = ImageOps.fit(image, size, Image.ANTIALIAS)\n",
        "\n",
        "  #turn the image into a numpy array\n",
        "  image_array = np.asarray(image)\n",
        "\n",
        "  # Normalize the image\n",
        "  normalized_image_array = (image_array.astype(np.float32) / 127.0) - 1\n",
        "\n",
        "  # Load the image into the array\n",
        "  data[0] = normalized_image_array\n",
        "\n",
        "  # run the inference\n",
        "  prediction = model.predict(data)\n",
        "  st.markdown(f\"Prediction is: {prediction}\")"
      ],
      "execution_count": 23,
      "outputs": [
        {
          "output_type": "stream",
          "text": [
            "Overwriting deepclf.py\n"
          ],
          "name": "stdout"
        }
      ]
    },
    {
      "cell_type": "code",
      "metadata": {
        "id": "9AVR_ly-odbt",
        "colab_type": "code",
        "colab": {}
      },
      "source": [
        "get_ipython().system_raw('./ngrok http 8501 &')"
      ],
      "execution_count": 24,
      "outputs": []
    },
    {
      "cell_type": "code",
      "metadata": {
        "id": "Fehnt8G9odsl",
        "colab_type": "code",
        "colab": {
          "base_uri": "https://localhost:8080/",
          "height": 34
        },
        "outputId": "3155b338-cd15-4bcb-8325-8328b08a189a"
      },
      "source": [
        "!curl -s http://localhost:4040/api/tunnels | python3 -c \"import sys, json; print(json.load(sys.stdin)['tunnels'][0]['public_url'])\""
      ],
      "execution_count": 25,
      "outputs": [
        {
          "output_type": "stream",
          "text": [
            "https://3784add8203b.ngrok.io\n"
          ],
          "name": "stdout"
        }
      ]
    },
    {
      "cell_type": "code",
      "metadata": {
        "id": "IHl_8DVuqvOT",
        "colab_type": "code",
        "colab": {
          "base_uri": "https://localhost:8080/",
          "height": 345
        },
        "outputId": "996e5ad3-fd8a-46c7-af92-2ea04269e8ce"
      },
      "source": [
        "import pyqrcode\n",
        "url = pyqrcode.create('https://3784add8203b.ngrok.io')\n",
        "url.png('uca-url.png', scale=8)\n",
        "from IPython.display import Image\n",
        "Image('uca-url.png')"
      ],
      "execution_count": 26,
      "outputs": [
        {
          "output_type": "execute_result",
          "data": {
            "image/png": "[encoded data removed]",
            "text/plain": [
              "<IPython.core.display.Image object>"
            ]
          },
          "metadata": {
            "tags": []
          },
          "execution_count": 26
        }
      ]
    },
    {
      "cell_type": "code",
      "metadata": {
        "id": "SpXSa_H4of3g",
        "colab_type": "code",
        "colab": {
          "base_uri": "https://localhost:8080/",
          "height": 309
        },
        "outputId": "63c363a8-4cfc-48af-df0b-28a78707fed8"
      },
      "source": [
        "!streamlit run deepclf.py"
      ],
      "execution_count": 27,
      "outputs": [
        {
          "output_type": "stream",
          "text": [
            "2020-07-11 11:44:59.545435: I tensorflow/stream_executor/platform/default/dso_loader.cc:44] Successfully opened dynamic library libcudart.so.10.1\n",
            "\u001b[0m\n",
            "\u001b[34m\u001b[1m  You can now view your Streamlit app in your browser.\u001b[0m\n",
            "\u001b[0m\n",
            "\u001b[34m  Network URL: \u001b[0m\u001b[1mhttp://172.28.0.2:8501\u001b[0m\n",
            "\u001b[34m  External URL: \u001b[0m\u001b[1mhttp://34.73.122.106:8501\u001b[0m\n",
            "\u001b[0m\n",
            "2020-07-11 11:45:01.301665: I tensorflow/stream_executor/platform/default/dso_loader.cc:44] Successfully opened dynamic library libcuda.so.1\n",
            "2020-07-11 11:45:01.304642: E tensorflow/stream_executor/cuda/cuda_driver.cc:313] failed call to cuInit: CUDA_ERROR_NO_DEVICE: no CUDA-capable device is detected\n",
            "2020-07-11 11:45:01.304686: I tensorflow/stream_executor/cuda/cuda_diagnostics.cc:156] kernel driver does not appear to be running on this host (c12dbaf5e5b3): /proc/driver/nvidia/version does not exist\n",
            "2020-07-11 11:45:01.310821: I tensorflow/core/platform/profile_utils/cpu_utils.cc:102] CPU Frequency: 2300000000 Hz\n",
            "2020-07-11 11:45:01.311062: I tensorflow/compiler/xla/service/service.cc:168] XLA service 0x2ce52c0 initialized for platform Host (this does not guarantee that XLA will be used). Devices:\n",
            "2020-07-11 11:45:01.311099: I tensorflow/compiler/xla/service/service.cc:176]   StreamExecutor device (0): Host, Default Version\n",
            "No training configuration found in the save file, so the model was *not* compiled. Compile it manually.\n",
            "No training configuration found in the save file, so the model was *not* compiled. Compile it manually.\n",
            "\u001b[34m  Stopping...\u001b[0m\n"
          ],
          "name": "stdout"
        }
      ]
    },
    {
      "cell_type": "code",
      "metadata": {
        "id": "mcJilrAeqBH4",
        "colab_type": "code",
        "colab": {
          "base_uri": "https://localhost:8080/",
          "height": 224
        },
        "outputId": "9aab276e-08c1-458f-b1b5-a77d5b03a684"
      },
      "source": [
        "!pip install pyqrcode pypng"
      ],
      "execution_count": 16,
      "outputs": [
        {
          "output_type": "stream",
          "text": [
            "Requirement already satisfied: pyqrcode in /usr/local/lib/python3.6/dist-packages (1.2.1)\n",
            "Collecting pypng\n",
            "\u001b[?25l  Downloading https://files.pythonhosted.org/packages/bc/fb/f719f1ac965e2101aa6ea6f54ef8b40f8fbb033f6ad07c017663467f5147/pypng-0.0.20.tar.gz (649kB)\n",
            "\r\u001b[K     |▌                               | 10kB 17.4MB/s eta 0:00:01\r\u001b[K     |█                               | 20kB 1.7MB/s eta 0:00:01\r\u001b[K     |█▌                              | 30kB 2.3MB/s eta 0:00:01\r\u001b[K     |██                              | 40kB 2.5MB/s eta 0:00:01\r\u001b[K     |██▌                             | 51kB 2.0MB/s eta 0:00:01\r\u001b[K     |███                             | 61kB 2.2MB/s eta 0:00:01\r\u001b[K     |███▌                            | 71kB 2.5MB/s eta 0:00:01\r\u001b[K     |████                            | 81kB 2.7MB/s eta 0:00:01\r\u001b[K     |████▌                           | 92kB 2.9MB/s eta 0:00:01\r\u001b[K     |█████                           | 102kB 2.7MB/s eta 0:00:01\r\u001b[K     |█████▌                          | 112kB 2.7MB/s eta 0:00:01\r\u001b[K     |██████                          | 122kB 2.7MB/s eta 0:00:01\r\u001b[K     |██████▋                         | 133kB 2.7MB/s eta 0:00:01\r\u001b[K     |███████                         | 143kB 2.7MB/s eta 0:00:01\r\u001b[K     |███████▋                        | 153kB 2.7MB/s eta 0:00:01\r\u001b[K     |████████                        | 163kB 2.7MB/s eta 0:00:01\r\u001b[K     |████████▋                       | 174kB 2.7MB/s eta 0:00:01\r\u001b[K     |█████████                       | 184kB 2.7MB/s eta 0:00:01\r\u001b[K     |█████████▋                      | 194kB 2.7MB/s eta 0:00:01\r\u001b[K     |██████████                      | 204kB 2.7MB/s eta 0:00:01\r\u001b[K     |██████████▋                     | 215kB 2.7MB/s eta 0:00:01\r\u001b[K     |███████████                     | 225kB 2.7MB/s eta 0:00:01\r\u001b[K     |███████████▋                    | 235kB 2.7MB/s eta 0:00:01\r\u001b[K     |████████████                    | 245kB 2.7MB/s eta 0:00:01\r\u001b[K     |████████████▋                   | 256kB 2.7MB/s eta 0:00:01\r\u001b[K     |█████████████▏                  | 266kB 2.7MB/s eta 0:00:01\r\u001b[K     |█████████████▋                  | 276kB 2.7MB/s eta 0:00:01\r\u001b[K     |██████████████▏                 | 286kB 2.7MB/s eta 0:00:01\r\u001b[K     |██████████████▋                 | 296kB 2.7MB/s eta 0:00:01\r\u001b[K     |███████████████▏                | 307kB 2.7MB/s eta 0:00:01\r\u001b[K     |███████████████▋                | 317kB 2.7MB/s eta 0:00:01\r\u001b[K     |████████████████▏               | 327kB 2.7MB/s eta 0:00:01\r\u001b[K     |████████████████▋               | 337kB 2.7MB/s eta 0:00:01\r\u001b[K     |█████████████████▏              | 348kB 2.7MB/s eta 0:00:01\r\u001b[K     |█████████████████▋              | 358kB 2.7MB/s eta 0:00:01\r\u001b[K     |██████████████████▏             | 368kB 2.7MB/s eta 0:00:01\r\u001b[K     |██████████████████▋             | 378kB 2.7MB/s eta 0:00:01\r\u001b[K     |███████████████████▏            | 389kB 2.7MB/s eta 0:00:01\r\u001b[K     |███████████████████▊            | 399kB 2.7MB/s eta 0:00:01\r\u001b[K     |████████████████████▏           | 409kB 2.7MB/s eta 0:00:01\r\u001b[K     |████████████████████▊           | 419kB 2.7MB/s eta 0:00:01\r\u001b[K     |█████████████████████▏          | 430kB 2.7MB/s eta 0:00:01\r\u001b[K     |█████████████████████▊          | 440kB 2.7MB/s eta 0:00:01\r\u001b[K     |██████████████████████▏         | 450kB 2.7MB/s eta 0:00:01\r\u001b[K     |██████████████████████▊         | 460kB 2.7MB/s eta 0:00:01\r\u001b[K     |███████████████████████▏        | 471kB 2.7MB/s eta 0:00:01\r\u001b[K     |███████████████████████▊        | 481kB 2.7MB/s eta 0:00:01\r\u001b[K     |████████████████████████▏       | 491kB 2.7MB/s eta 0:00:01\r\u001b[K     |████████████████████████▊       | 501kB 2.7MB/s eta 0:00:01\r\u001b[K     |█████████████████████████▎      | 512kB 2.7MB/s eta 0:00:01\r\u001b[K     |█████████████████████████▊      | 522kB 2.7MB/s eta 0:00:01\r\u001b[K     |██████████████████████████▎     | 532kB 2.7MB/s eta 0:00:01\r\u001b[K     |██████████████████████████▊     | 542kB 2.7MB/s eta 0:00:01\r\u001b[K     |███████████████████████████▎    | 552kB 2.7MB/s eta 0:00:01\r\u001b[K     |███████████████████████████▊    | 563kB 2.7MB/s eta 0:00:01\r\u001b[K     |████████████████████████████▎   | 573kB 2.7MB/s eta 0:00:01\r\u001b[K     |████████████████████████████▊   | 583kB 2.7MB/s eta 0:00:01\r\u001b[K     |█████████████████████████████▎  | 593kB 2.7MB/s eta 0:00:01\r\u001b[K     |█████████████████████████████▊  | 604kB 2.7MB/s eta 0:00:01\r\u001b[K     |██████████████████████████████▎ | 614kB 2.7MB/s eta 0:00:01\r\u001b[K     |██████████████████████████████▊ | 624kB 2.7MB/s eta 0:00:01\r\u001b[K     |███████████████████████████████▎| 634kB 2.7MB/s eta 0:00:01\r\u001b[K     |███████████████████████████████▉| 645kB 2.7MB/s eta 0:00:01\r\u001b[K     |████████████████████████████████| 655kB 2.7MB/s \n",
            "\u001b[?25hBuilding wheels for collected packages: pypng\n",
            "  Building wheel for pypng (setup.py) ... \u001b[?25l\u001b[?25hdone\n",
            "  Created wheel for pypng: filename=pypng-0.0.20-cp36-none-any.whl size=67161 sha256=916a440a246221da8c5084bf6a3e3f8de8e5800a817c7ba61ab2e147574b23bb\n",
            "  Stored in directory: /root/.cache/pip/wheels/41/6b/ef/0493b536b6d4722c2ae9486691b1d49b922b9877922beeabb3\n",
            "Successfully built pypng\n",
            "Installing collected packages: pypng\n",
            "Successfully installed pypng-0.0.20\n"
          ],
          "name": "stdout"
        }
      ]
    },
    {
      "cell_type": "code",
      "metadata": {
        "id": "cPXvxYGbqhbE",
        "colab_type": "code",
        "colab": {}
      },
      "source": [
        ""
      ],
      "execution_count": null,
      "outputs": []
    }
  ]
}