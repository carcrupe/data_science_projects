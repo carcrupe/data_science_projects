{
  "nbformat": 4,
  "nbformat_minor": 0,
  "metadata": {
    "colab": {
      "name": "personalize.ipynb",
      "provenance": []
    },
    "kernelspec": {
      "name": "python3",
      "display_name": "Python 3"
    }
  },
  "cells": [
    {
      "cell_type": "code",
      "metadata": {
        "id": "u04vLfxHZdGI",
        "colab_type": "code",
        "colab": {}
      },
      "source": [
        "import altair as alt\n",
        "import pandas as pd"
      ],
      "execution_count": 12,
      "outputs": []
    },
    {
      "cell_type": "code",
      "metadata": {
        "id": "cJSS9T8yZqB3",
        "colab_type": "code",
        "colab": {
          "base_uri": "https://localhost:8080/",
          "height": 204
        },
        "outputId": "444c0c35-19e3-4a8b-c0d6-9d1350037be9"
      },
      "source": [
        "trends = pd.read_csv('https://raw.githubusercontent.com/rezpe/datos_viz/master/google_trends.csv')\n",
        "trends.head()"
      ],
      "execution_count": 13,
      "outputs": [
        {
          "output_type": "execute_result",
          "data": {
            "text/html": [
              "<div>\n",
              "<style scoped>\n",
              "    .dataframe tbody tr th:only-of-type {\n",
              "        vertical-align: middle;\n",
              "    }\n",
              "\n",
              "    .dataframe tbody tr th {\n",
              "        vertical-align: top;\n",
              "    }\n",
              "\n",
              "    .dataframe thead th {\n",
              "        text-align: right;\n",
              "    }\n",
              "</style>\n",
              "<table border=\"1\" class=\"dataframe\">\n",
              "  <thead>\n",
              "    <tr style=\"text-align: right;\">\n",
              "      <th></th>\n",
              "      <th>date</th>\n",
              "      <th>search_term</th>\n",
              "      <th>value</th>\n",
              "    </tr>\n",
              "  </thead>\n",
              "  <tbody>\n",
              "    <tr>\n",
              "      <th>0</th>\n",
              "      <td>2004-01</td>\n",
              "      <td>SPSS data</td>\n",
              "      <td>6</td>\n",
              "    </tr>\n",
              "    <tr>\n",
              "      <th>1</th>\n",
              "      <td>2004-02</td>\n",
              "      <td>SPSS data</td>\n",
              "      <td>8</td>\n",
              "    </tr>\n",
              "    <tr>\n",
              "      <th>2</th>\n",
              "      <td>2004-03</td>\n",
              "      <td>SPSS data</td>\n",
              "      <td>7</td>\n",
              "    </tr>\n",
              "    <tr>\n",
              "      <th>3</th>\n",
              "      <td>2004-04</td>\n",
              "      <td>SPSS data</td>\n",
              "      <td>7</td>\n",
              "    </tr>\n",
              "    <tr>\n",
              "      <th>4</th>\n",
              "      <td>2004-05</td>\n",
              "      <td>SPSS data</td>\n",
              "      <td>6</td>\n",
              "    </tr>\n",
              "  </tbody>\n",
              "</table>\n",
              "</div>"
            ],
            "text/plain": [
              "      date search_term  value\n",
              "0  2004-01   SPSS data      6\n",
              "1  2004-02   SPSS data      8\n",
              "2  2004-03   SPSS data      7\n",
              "3  2004-04   SPSS data      7\n",
              "4  2004-05   SPSS data      6"
            ]
          },
          "metadata": {
            "tags": []
          },
          "execution_count": 13
        }
      ]
    },
    {
      "cell_type": "code",
      "metadata": {
        "id": "CeLHSYoRZ3EG",
        "colab_type": "code",
        "colab": {
          "base_uri": "https://localhost:8080/",
          "height": 288
        },
        "outputId": "9cd47fda-0a0f-4557-cc39-fd61053b1a68"
      },
      "source": [
        "alt.Chart(trends).mark_line().encode(\n",
        "    x = 'date:T',\n",
        "    y='mean(value)',\n",
        "    color = 'search_term'\n",
        ")"
      ],
      "execution_count": 14,
      "outputs": [
        {
          "output_type": "execute_result",
          "data": {
            "text/plain": [
              "alt.Chart(...)"
            ],
            "text/html": [
              "\n",
              "<div id=\"altair-viz-6a9c9cc419b44dce837b5fb1fd0f0e72\"></div>\n",
              "<script type=\"text/javascript\">\n",
              "  (function(spec, embedOpt){\n",
              "    let outputDiv = document.currentScript.previousElementSibling;\n",
              "    if (outputDiv.id !== \"altair-viz-6a9c9cc419b44dce837b5fb1fd0f0e72\") {\n",
              "      outputDiv = document.getElementById(\"altair-viz-6a9c9cc419b44dce837b5fb1fd0f0e72\");\n",
              "    }\n",
              "    const paths = {\n",
              "      \"vega\": \"https://cdn.jsdelivr.net/npm//vega@5?noext\",\n",
              "      \"vega-lib\": \"https://cdn.jsdelivr.net/npm//vega-lib?noext\",\n",
              "      \"vega-lite\": \"https://cdn.jsdelivr.net/npm//vega-lite@4.8.1?noext\",\n",
              "      \"vega-embed\": \"https://cdn.jsdelivr.net/npm//vega-embed@6?noext\",\n",
              "    };\n",
              "\n",
              "    function loadScript(lib) {\n",
              "      return new Promise(function(resolve, reject) {\n",
              "        var s = document.createElement('script');\n",
              "        s.src = paths[lib];\n",
              "        s.async = true;\n",
              "        s.onload = () => resolve(paths[lib]);\n",
              "        s.onerror = () => reject(`Error loading script: ${paths[lib]}`);\n",
              "        document.getElementsByTagName(\"head\")[0].appendChild(s);\n",
              "      });\n",
              "    }\n",
              "\n",
              "    function showError(err) {\n",
              "      outputDiv.innerHTML = `<div class=\"error\" style=\"color:red;\">${err}</div>`;\n",
              "      throw err;\n",
              "    }\n",
              "\n",
              "    function displayChart(vegaEmbed) {\n",
              "      vegaEmbed(outputDiv, spec, embedOpt)\n",
              "        .catch(err => showError(`Javascript Error: ${err.message}<br>This usually means there's a typo in your chart specification. See the javascript console for the full traceback.`));\n",
              "    }\n",
              "\n",
              "    if(typeof define === \"function\" && define.amd) {\n",
              "      requirejs.config({paths});\n",
              "      require([\"vega-embed\"], displayChart, err => showError(`Error loading script: ${err.message}`));\n",
              "    } else if (typeof vegaEmbed === \"function\") {\n",
              "      displayChart(vegaEmbed);\n",
              "    } else {\n",
              "      loadScript(\"vega\")\n",
              "        .then(() => loadScript(\"vega-lite\"))\n",
              "        .then(() => loadScript(\"vega-embed\"))\n",
              "        .catch(showError)\n",
              "        .then(() => displayChart(vegaEmbed));\n",
              "    }\n",
              "  })({\"config\": {\"arc\": {\"fill\": \"#30a2da\"}, \"area\": {\"fill\": \"black\"}, \"axisBand\": {\"grid\": false}, \"axisBottom\": {\"domain\": false, \"domainColor\": \"#999\", \"domainWidth\": 3, \"grid\": false, \"gridColor\": \"#cbcbcb\", \"gridWidth\": 1, \"labelColor\": \"#999\", \"labelFontSize\": 14, \"labelPadding\": 4, \"tickColor\": \"white\", \"tickSize\": 10, \"titleFontSize\": 14, \"titlePadding\": 10}, \"axisLeft\": {\"domainColor\": \"white\", \"domainWidth\": 1, \"grid\": false, \"gridColor\": \"white\", \"gridWidth\": 1, \"labelColor\": \"white\", \"labelFontSize\": 10, \"labelPadding\": 4, \"tickColor\": \"white\", \"tickSize\": 10, \"ticks\": true, \"titleFontSize\": 14, \"titlePadding\": 10}, \"axisRight\": {\"domainColor\": \"#333\", \"domainWidth\": 1, \"grid\": true, \"gridColor\": \"#cbcbcb\", \"gridWidth\": 1, \"labelColor\": \"white\", \"labelFontSize\": 10, \"labelPadding\": 4, \"tickColor\": \"white\", \"tickSize\": 10, \"ticks\": true, \"titleFontSize\": 14, \"titlePadding\": 10}, \"axisTop\": {\"domain\": false, \"domainColor\": \"#333\", \"domainWidth\": 3, \"grid\": false, \"gridColor\": \"#cbcbcb\", \"gridWidth\": 1, \"labelColor\": \"#999\", \"labelFontSize\": 10, \"labelPadding\": 4, \"tickColor\": \"#cbcbcb\", \"tickSize\": 10, \"titleFontSize\": 14, \"titlePadding\": 10}, \"background\": \"white\", \"group\": {\"fill\": \"black\", \"stroke\": \"white\"}, \"legend\": {\"labelColor\": \"#333\", \"labelFontSize\": 14, \"padding\": 1, \"symbolSize\": 30, \"symbolType\": \"square\", \"titleColor\": \"#333\", \"titleFontSize\": 14, \"titlePadding\": 10}, \"line\": {\"stroke\": \"#30a2da\", \"strokeWidth\": 2}, \"path\": {\"stroke\": \"#30a2da\", \"strokeWidth\": 0.5}, \"rect\": {\"fill\": \"#30a2da\"}, \"range\": {\"category\": [\"#30a2da\", \"#fc4f30\", \"#e5ae38\", \"#6d904f\", \"#8b8b8b\", \"#b96db8\", \"#ff9e27\", \"#56cc60\", \"#52d2ca\", \"#52689e\", \"#545454\", \"#9fe4f8\"], \"diverging\": [\"#cc0020\", \"#e77866\", \"#f6e7e1\", \"#d6e8ed\", \"#91bfd9\", \"#1d78b5\"], \"heatmap\": [\"#d6e8ed\", \"#cee0e5\", \"#91bfd9\", \"#549cc6\", \"#1d78b5\"]}, \"symbol\": {\"filled\": true, \"shape\": \"circle\"}, \"shape\": {\"stroke\": \"white\"}, \"style\": {\"bar\": {\"binSpacing\": 2, \"fill\": \"#30a2da\", \"stroke\": null}}, \"title\": {\"anchor\": \"start\", \"fontSize\": 24, \"fontWeight\": 600, \"offset\": 20}, \"view\": {\"stroke\": \"transparent\"}}, \"data\": {\"name\": \"data-e98c37ccd35f211240bd82ee68b1da10\"}, \"mark\": \"line\", \"encoding\": {\"color\": {\"type\": \"nominal\", \"field\": \"search_term\"}, \"x\": {\"type\": \"temporal\", \"field\": \"date\"}, \"y\": {\"type\": \"quantitative\", \"aggregate\": \"mean\", \"field\": \"value\"}}, \"$schema\": \"https://vega.github.io/schema/vega-lite/v4.8.1.json\", \"datasets\": {\"data-e98c37ccd35f211240bd82ee68b1da10\": [{\"date\": \"2004-01\", \"search_term\": \"SPSS data\", \"value\": 6}, {\"date\": \"2004-02\", \"search_term\": \"SPSS data\", \"value\": 8}, {\"date\": \"2004-03\", \"search_term\": \"SPSS data\", \"value\": 7}, {\"date\": \"2004-04\", \"search_term\": \"SPSS data\", \"value\": 7}, {\"date\": \"2004-05\", \"search_term\": \"SPSS data\", \"value\": 6}, {\"date\": \"2004-06\", \"search_term\": \"SPSS data\", \"value\": 4}, {\"date\": \"2004-07\", \"search_term\": \"SPSS data\", \"value\": 4}, {\"date\": \"2004-08\", \"search_term\": \"SPSS data\", \"value\": 6}, {\"date\": \"2004-09\", \"search_term\": \"SPSS data\", \"value\": 6}, {\"date\": \"2004-10\", \"search_term\": \"SPSS data\", \"value\": 5}, {\"date\": \"2004-11\", \"search_term\": \"SPSS data\", \"value\": 4}, {\"date\": \"2004-12\", \"search_term\": \"SPSS data\", \"value\": 7}, {\"date\": \"2005-01\", \"search_term\": \"SPSS data\", \"value\": 5}, {\"date\": \"2005-02\", \"search_term\": \"SPSS data\", \"value\": 9}, {\"date\": \"2005-03\", \"search_term\": \"SPSS data\", \"value\": 5}, {\"date\": \"2005-04\", \"search_term\": \"SPSS data\", \"value\": 7}, {\"date\": \"2005-05\", \"search_term\": \"SPSS data\", \"value\": 5}, {\"date\": \"2005-06\", \"search_term\": \"SPSS data\", \"value\": 4}, {\"date\": \"2005-07\", \"search_term\": \"SPSS data\", \"value\": 6}, {\"date\": \"2005-08\", \"search_term\": \"SPSS data\", \"value\": 6}, {\"date\": \"2005-09\", \"search_term\": \"SPSS data\", \"value\": 6}, {\"date\": \"2005-10\", \"search_term\": \"SPSS data\", \"value\": 5}, {\"date\": \"2005-11\", \"search_term\": \"SPSS data\", \"value\": 6}, {\"date\": \"2005-12\", \"search_term\": \"SPSS data\", \"value\": 3}, {\"date\": \"2006-01\", \"search_term\": \"SPSS data\", \"value\": 6}, {\"date\": \"2006-02\", \"search_term\": \"SPSS data\", \"value\": 6}, {\"date\": \"2006-03\", \"search_term\": \"SPSS data\", \"value\": 5}, {\"date\": \"2006-04\", \"search_term\": \"SPSS data\", \"value\": 5}, {\"date\": \"2006-05\", \"search_term\": \"SPSS data\", \"value\": 5}, {\"date\": \"2006-06\", \"search_term\": \"SPSS data\", \"value\": 4}, {\"date\": \"2006-07\", \"search_term\": \"SPSS data\", \"value\": 2}, {\"date\": \"2006-08\", \"search_term\": \"SPSS data\", \"value\": 5}, {\"date\": \"2006-09\", \"search_term\": \"SPSS data\", \"value\": 4}, {\"date\": \"2006-10\", \"search_term\": \"SPSS data\", \"value\": 6}, {\"date\": \"2006-11\", \"search_term\": \"SPSS data\", \"value\": 5}, {\"date\": \"2006-12\", \"search_term\": \"SPSS data\", \"value\": 4}, {\"date\": \"2007-01\", \"search_term\": \"SPSS data\", \"value\": 5}, {\"date\": \"2007-02\", \"search_term\": \"SPSS data\", \"value\": 5}, {\"date\": \"2007-03\", \"search_term\": \"SPSS data\", \"value\": 5}, {\"date\": \"2007-04\", \"search_term\": \"SPSS data\", \"value\": 5}, {\"date\": \"2007-05\", \"search_term\": \"SPSS data\", \"value\": 4}, {\"date\": \"2007-06\", \"search_term\": \"SPSS data\", \"value\": 4}, {\"date\": \"2007-07\", \"search_term\": \"SPSS data\", \"value\": 4}, {\"date\": \"2007-08\", \"search_term\": \"SPSS data\", \"value\": 3}, {\"date\": \"2007-09\", \"search_term\": \"SPSS data\", \"value\": 3}, {\"date\": \"2007-10\", \"search_term\": \"SPSS data\", \"value\": 5}, {\"date\": \"2007-11\", \"search_term\": \"SPSS data\", \"value\": 4}, {\"date\": \"2007-12\", \"search_term\": \"SPSS data\", \"value\": 3}, {\"date\": \"2008-01\", \"search_term\": \"SPSS data\", \"value\": 4}, {\"date\": \"2008-02\", \"search_term\": \"SPSS data\", \"value\": 5}, {\"date\": \"2008-03\", \"search_term\": \"SPSS data\", \"value\": 4}, {\"date\": \"2008-04\", \"search_term\": \"SPSS data\", \"value\": 6}, {\"date\": \"2008-05\", \"search_term\": \"SPSS data\", \"value\": 4}, {\"date\": \"2008-06\", \"search_term\": \"SPSS data\", \"value\": 4}, {\"date\": \"2008-07\", \"search_term\": \"SPSS data\", \"value\": 4}, {\"date\": \"2008-08\", \"search_term\": \"SPSS data\", \"value\": 3}, {\"date\": \"2008-09\", \"search_term\": \"SPSS data\", \"value\": 4}, {\"date\": \"2008-10\", \"search_term\": \"SPSS data\", \"value\": 4}, {\"date\": \"2008-11\", \"search_term\": \"SPSS data\", \"value\": 5}, {\"date\": \"2008-12\", \"search_term\": \"SPSS data\", \"value\": 3}, {\"date\": \"2009-01\", \"search_term\": \"SPSS data\", \"value\": 4}, {\"date\": \"2009-02\", \"search_term\": \"SPSS data\", \"value\": 5}, {\"date\": \"2009-03\", \"search_term\": \"SPSS data\", \"value\": 6}, {\"date\": \"2009-04\", \"search_term\": \"SPSS data\", \"value\": 6}, {\"date\": \"2009-05\", \"search_term\": \"SPSS data\", \"value\": 4}, {\"date\": \"2009-06\", \"search_term\": \"SPSS data\", \"value\": 4}, {\"date\": \"2009-07\", \"search_term\": \"SPSS data\", \"value\": 4}, {\"date\": \"2009-08\", \"search_term\": \"SPSS data\", \"value\": 4}, {\"date\": \"2009-09\", \"search_term\": \"SPSS data\", \"value\": 4}, {\"date\": \"2009-10\", \"search_term\": \"SPSS data\", \"value\": 5}, {\"date\": \"2009-11\", \"search_term\": \"SPSS data\", \"value\": 5}, {\"date\": \"2009-12\", \"search_term\": \"SPSS data\", \"value\": 5}, {\"date\": \"2010-01\", \"search_term\": \"SPSS data\", \"value\": 5}, {\"date\": \"2010-02\", \"search_term\": \"SPSS data\", \"value\": 4}, {\"date\": \"2010-03\", \"search_term\": \"SPSS data\", \"value\": 6}, {\"date\": \"2010-04\", \"search_term\": \"SPSS data\", \"value\": 6}, {\"date\": \"2010-05\", \"search_term\": \"SPSS data\", \"value\": 5}, {\"date\": \"2010-06\", \"search_term\": \"SPSS data\", \"value\": 5}, {\"date\": \"2010-07\", \"search_term\": \"SPSS data\", \"value\": 4}, {\"date\": \"2010-08\", \"search_term\": \"SPSS data\", \"value\": 4}, {\"date\": \"2010-09\", \"search_term\": \"SPSS data\", \"value\": 4}, {\"date\": \"2010-10\", \"search_term\": \"SPSS data\", \"value\": 4}, {\"date\": \"2010-11\", \"search_term\": \"SPSS data\", \"value\": 5}, {\"date\": \"2010-12\", \"search_term\": \"SPSS data\", \"value\": 4}, {\"date\": \"2011-01\", \"search_term\": \"SPSS data\", \"value\": 4}, {\"date\": \"2011-02\", \"search_term\": \"SPSS data\", \"value\": 5}, {\"date\": \"2011-03\", \"search_term\": \"SPSS data\", \"value\": 5}, {\"date\": \"2011-04\", \"search_term\": \"SPSS data\", \"value\": 6}, {\"date\": \"2011-05\", \"search_term\": \"SPSS data\", \"value\": 6}, {\"date\": \"2011-06\", \"search_term\": \"SPSS data\", \"value\": 5}, {\"date\": \"2011-07\", \"search_term\": \"SPSS data\", \"value\": 4}, {\"date\": \"2011-08\", \"search_term\": \"SPSS data\", \"value\": 4}, {\"date\": \"2011-09\", \"search_term\": \"SPSS data\", \"value\": 4}, {\"date\": \"2011-10\", \"search_term\": \"SPSS data\", \"value\": 5}, {\"date\": \"2011-11\", \"search_term\": \"SPSS data\", \"value\": 5}, {\"date\": \"2011-12\", \"search_term\": \"SPSS data\", \"value\": 4}, {\"date\": \"2012-01\", \"search_term\": \"SPSS data\", \"value\": 5}, {\"date\": \"2012-02\", \"search_term\": \"SPSS data\", \"value\": 5}, {\"date\": \"2012-03\", \"search_term\": \"SPSS data\", \"value\": 6}, {\"date\": \"2012-04\", \"search_term\": \"SPSS data\", \"value\": 6}, {\"date\": \"2012-05\", \"search_term\": \"SPSS data\", \"value\": 6}, {\"date\": \"2012-06\", \"search_term\": \"SPSS data\", \"value\": 5}, {\"date\": \"2012-07\", \"search_term\": \"SPSS data\", \"value\": 5}, {\"date\": \"2012-08\", \"search_term\": \"SPSS data\", \"value\": 4}, {\"date\": \"2012-09\", \"search_term\": \"SPSS data\", \"value\": 5}, {\"date\": \"2012-10\", \"search_term\": \"SPSS data\", \"value\": 5}, {\"date\": \"2012-11\", \"search_term\": \"SPSS data\", \"value\": 6}, {\"date\": \"2012-12\", \"search_term\": \"SPSS data\", \"value\": 5}, {\"date\": \"2013-01\", \"search_term\": \"SPSS data\", \"value\": 5}, {\"date\": \"2013-02\", \"search_term\": \"SPSS data\", \"value\": 5}, {\"date\": \"2013-03\", \"search_term\": \"SPSS data\", \"value\": 6}, {\"date\": \"2013-04\", \"search_term\": \"SPSS data\", \"value\": 7}, {\"date\": \"2013-05\", \"search_term\": \"SPSS data\", \"value\": 7}, {\"date\": \"2013-06\", \"search_term\": \"SPSS data\", \"value\": 6}, {\"date\": \"2013-07\", \"search_term\": \"SPSS data\", \"value\": 5}, {\"date\": \"2013-08\", \"search_term\": \"SPSS data\", \"value\": 4}, {\"date\": \"2013-09\", \"search_term\": \"SPSS data\", \"value\": 5}, {\"date\": \"2013-10\", \"search_term\": \"SPSS data\", \"value\": 6}, {\"date\": \"2013-11\", \"search_term\": \"SPSS data\", \"value\": 6}, {\"date\": \"2013-12\", \"search_term\": \"SPSS data\", \"value\": 6}, {\"date\": \"2014-01\", \"search_term\": \"SPSS data\", \"value\": 5}, {\"date\": \"2014-02\", \"search_term\": \"SPSS data\", \"value\": 6}, {\"date\": \"2014-03\", \"search_term\": \"SPSS data\", \"value\": 7}, {\"date\": \"2014-04\", \"search_term\": \"SPSS data\", \"value\": 8}, {\"date\": \"2014-05\", \"search_term\": \"SPSS data\", \"value\": 7}, {\"date\": \"2014-06\", \"search_term\": \"SPSS data\", \"value\": 7}, {\"date\": \"2014-07\", \"search_term\": \"SPSS data\", \"value\": 5}, {\"date\": \"2014-08\", \"search_term\": \"SPSS data\", \"value\": 5}, {\"date\": \"2014-09\", \"search_term\": \"SPSS data\", \"value\": 5}, {\"date\": \"2014-10\", \"search_term\": \"SPSS data\", \"value\": 6}, {\"date\": \"2014-11\", \"search_term\": \"SPSS data\", \"value\": 7}, {\"date\": \"2014-12\", \"search_term\": \"SPSS data\", \"value\": 5}, {\"date\": \"2015-01\", \"search_term\": \"SPSS data\", \"value\": 6}, {\"date\": \"2015-02\", \"search_term\": \"SPSS data\", \"value\": 7}, {\"date\": \"2015-03\", \"search_term\": \"SPSS data\", \"value\": 7}, {\"date\": \"2015-04\", \"search_term\": \"SPSS data\", \"value\": 9}, {\"date\": \"2015-05\", \"search_term\": \"SPSS data\", \"value\": 7}, {\"date\": \"2015-06\", \"search_term\": \"SPSS data\", \"value\": 7}, {\"date\": \"2015-07\", \"search_term\": \"SPSS data\", \"value\": 6}, {\"date\": \"2015-08\", \"search_term\": \"SPSS data\", \"value\": 5}, {\"date\": \"2015-09\", \"search_term\": \"SPSS data\", \"value\": 5}, {\"date\": \"2015-10\", \"search_term\": \"SPSS data\", \"value\": 6}, {\"date\": \"2015-11\", \"search_term\": \"SPSS data\", \"value\": 7}, {\"date\": \"2015-12\", \"search_term\": \"SPSS data\", \"value\": 6}, {\"date\": \"2016-01\", \"search_term\": \"SPSS data\", \"value\": 6}, {\"date\": \"2016-02\", \"search_term\": \"SPSS data\", \"value\": 6}, {\"date\": \"2016-03\", \"search_term\": \"SPSS data\", \"value\": 7}, {\"date\": \"2016-04\", \"search_term\": \"SPSS data\", \"value\": 8}, {\"date\": \"2016-05\", \"search_term\": \"SPSS data\", \"value\": 8}, {\"date\": \"2016-06\", \"search_term\": \"SPSS data\", \"value\": 6}, {\"date\": \"2016-07\", \"search_term\": \"SPSS data\", \"value\": 5}, {\"date\": \"2016-08\", \"search_term\": \"SPSS data\", \"value\": 5}, {\"date\": \"2016-09\", \"search_term\": \"SPSS data\", \"value\": 5}, {\"date\": \"2016-10\", \"search_term\": \"SPSS data\", \"value\": 6}, {\"date\": \"2016-11\", \"search_term\": \"SPSS data\", \"value\": 7}, {\"date\": \"2016-12\", \"search_term\": \"SPSS data\", \"value\": 6}, {\"date\": \"2017-01\", \"search_term\": \"SPSS data\", \"value\": 5}, {\"date\": \"2017-02\", \"search_term\": \"SPSS data\", \"value\": 6}, {\"date\": \"2017-03\", \"search_term\": \"SPSS data\", \"value\": 7}, {\"date\": \"2017-04\", \"search_term\": \"SPSS data\", \"value\": 7}, {\"date\": \"2017-05\", \"search_term\": \"SPSS data\", \"value\": 7}, {\"date\": \"2017-06\", \"search_term\": \"SPSS data\", \"value\": 5}, {\"date\": \"2017-07\", \"search_term\": \"SPSS data\", \"value\": 5}, {\"date\": \"2017-08\", \"search_term\": \"SPSS data\", \"value\": 5}, {\"date\": \"2017-09\", \"search_term\": \"SPSS data\", \"value\": 4}, {\"date\": \"2017-10\", \"search_term\": \"SPSS data\", \"value\": 5}, {\"date\": \"2017-11\", \"search_term\": \"SPSS data\", \"value\": 6}, {\"date\": \"2017-12\", \"search_term\": \"SPSS data\", \"value\": 6}, {\"date\": \"2018-01\", \"search_term\": \"SPSS data\", \"value\": 5}, {\"date\": \"2018-02\", \"search_term\": \"SPSS data\", \"value\": 5}, {\"date\": \"2018-03\", \"search_term\": \"SPSS data\", \"value\": 6}, {\"date\": \"2018-04\", \"search_term\": \"SPSS data\", \"value\": 6}, {\"date\": \"2004-01\", \"search_term\": \"Python data\", \"value\": 3}, {\"date\": \"2004-02\", \"search_term\": \"Python data\", \"value\": 5}, {\"date\": \"2004-03\", \"search_term\": \"Python data\", \"value\": 3}, {\"date\": \"2004-04\", \"search_term\": \"Python data\", \"value\": 3}, {\"date\": \"2004-05\", \"search_term\": \"Python data\", \"value\": 4}, {\"date\": \"2004-06\", \"search_term\": \"Python data\", \"value\": 4}, {\"date\": \"2004-07\", \"search_term\": \"Python data\", \"value\": 4}, {\"date\": \"2004-08\", \"search_term\": \"Python data\", \"value\": 3}, {\"date\": \"2004-09\", \"search_term\": \"Python data\", \"value\": 2}, {\"date\": \"2004-10\", \"search_term\": \"Python data\", \"value\": 3}, {\"date\": \"2004-11\", \"search_term\": \"Python data\", \"value\": 2}, {\"date\": \"2004-12\", \"search_term\": \"Python data\", \"value\": 2}, {\"date\": \"2005-01\", \"search_term\": \"Python data\", \"value\": 3}, {\"date\": \"2005-02\", \"search_term\": \"Python data\", \"value\": 4}, {\"date\": \"2005-03\", \"search_term\": \"Python data\", \"value\": 2}, {\"date\": \"2005-04\", \"search_term\": \"Python data\", \"value\": 1}, {\"date\": \"2005-05\", \"search_term\": \"Python data\", \"value\": 3}, {\"date\": \"2005-06\", \"search_term\": \"Python data\", \"value\": 4}, {\"date\": \"2005-07\", \"search_term\": \"Python data\", \"value\": 3}, {\"date\": \"2005-08\", \"search_term\": \"Python data\", \"value\": 3}, {\"date\": \"2005-09\", \"search_term\": \"Python data\", \"value\": 3}, {\"date\": \"2005-10\", \"search_term\": \"Python data\", \"value\": 3}, {\"date\": \"2005-11\", \"search_term\": \"Python data\", \"value\": 2}, {\"date\": \"2005-12\", \"search_term\": \"Python data\", \"value\": 3}, {\"date\": \"2006-01\", \"search_term\": \"Python data\", \"value\": 2}, {\"date\": \"2006-02\", \"search_term\": \"Python data\", \"value\": 4}, {\"date\": \"2006-03\", \"search_term\": \"Python data\", \"value\": 2}, {\"date\": \"2006-04\", \"search_term\": \"Python data\", \"value\": 3}, {\"date\": \"2006-05\", \"search_term\": \"Python data\", \"value\": 3}, {\"date\": \"2006-06\", \"search_term\": \"Python data\", \"value\": 3}, {\"date\": \"2006-07\", \"search_term\": \"Python data\", \"value\": 3}, {\"date\": \"2006-08\", \"search_term\": \"Python data\", \"value\": 2}, {\"date\": \"2006-09\", \"search_term\": \"Python data\", \"value\": 3}, {\"date\": \"2006-10\", \"search_term\": \"Python data\", \"value\": 4}, {\"date\": \"2006-11\", \"search_term\": \"Python data\", \"value\": 2}, {\"date\": \"2006-12\", \"search_term\": \"Python data\", \"value\": 3}, {\"date\": \"2007-01\", \"search_term\": \"Python data\", \"value\": 2}, {\"date\": \"2007-02\", \"search_term\": \"Python data\", \"value\": 2}, {\"date\": \"2007-03\", \"search_term\": \"Python data\", \"value\": 2}, {\"date\": \"2007-04\", \"search_term\": \"Python data\", \"value\": 2}, {\"date\": \"2007-05\", \"search_term\": \"Python data\", \"value\": 3}, {\"date\": \"2007-06\", \"search_term\": \"Python data\", \"value\": 2}, {\"date\": \"2007-07\", \"search_term\": \"Python data\", \"value\": 2}, {\"date\": \"2007-08\", \"search_term\": \"Python data\", \"value\": 2}, {\"date\": \"2007-09\", \"search_term\": \"Python data\", \"value\": 3}, {\"date\": \"2007-10\", \"search_term\": \"Python data\", \"value\": 3}, {\"date\": \"2007-11\", \"search_term\": \"Python data\", \"value\": 3}, {\"date\": \"2007-12\", \"search_term\": \"Python data\", \"value\": 2}, {\"date\": \"2008-01\", \"search_term\": \"Python data\", \"value\": 3}, {\"date\": \"2008-02\", \"search_term\": \"Python data\", \"value\": 3}, {\"date\": \"2008-03\", \"search_term\": \"Python data\", \"value\": 2}, {\"date\": \"2008-04\", \"search_term\": \"Python data\", \"value\": 3}, {\"date\": \"2008-05\", \"search_term\": \"Python data\", \"value\": 3}, {\"date\": \"2008-06\", \"search_term\": \"Python data\", \"value\": 3}, {\"date\": \"2008-07\", \"search_term\": \"Python data\", \"value\": 3}, {\"date\": \"2008-08\", \"search_term\": \"Python data\", \"value\": 3}, {\"date\": \"2008-09\", \"search_term\": \"Python data\", \"value\": 3}, {\"date\": \"2008-10\", \"search_term\": \"Python data\", \"value\": 3}, {\"date\": \"2008-11\", \"search_term\": \"Python data\", \"value\": 3}, {\"date\": \"2008-12\", \"search_term\": \"Python data\", \"value\": 3}, {\"date\": \"2009-01\", \"search_term\": \"Python data\", \"value\": 3}, {\"date\": \"2009-02\", \"search_term\": \"Python data\", \"value\": 3}, {\"date\": \"2009-03\", \"search_term\": \"Python data\", \"value\": 3}, {\"date\": \"2009-04\", \"search_term\": \"Python data\", \"value\": 3}, {\"date\": \"2009-05\", \"search_term\": \"Python data\", \"value\": 4}, {\"date\": \"2009-06\", \"search_term\": \"Python data\", \"value\": 3}, {\"date\": \"2009-07\", \"search_term\": \"Python data\", \"value\": 3}, {\"date\": \"2009-08\", \"search_term\": \"Python data\", \"value\": 2}, {\"date\": \"2009-09\", \"search_term\": \"Python data\", \"value\": 4}, {\"date\": \"2009-10\", \"search_term\": \"Python data\", \"value\": 3}, {\"date\": \"2009-11\", \"search_term\": \"Python data\", \"value\": 3}, {\"date\": \"2009-12\", \"search_term\": \"Python data\", \"value\": 3}, {\"date\": \"2010-01\", \"search_term\": \"Python data\", \"value\": 3}, {\"date\": \"2010-02\", \"search_term\": \"Python data\", \"value\": 3}, {\"date\": \"2010-03\", \"search_term\": \"Python data\", \"value\": 3}, {\"date\": \"2010-04\", \"search_term\": \"Python data\", \"value\": 4}, {\"date\": \"2010-05\", \"search_term\": \"Python data\", \"value\": 4}, {\"date\": \"2010-06\", \"search_term\": \"Python data\", \"value\": 4}, {\"date\": \"2010-07\", \"search_term\": \"Python data\", \"value\": 3}, {\"date\": \"2010-08\", \"search_term\": \"Python data\", \"value\": 3}, {\"date\": \"2010-09\", \"search_term\": \"Python data\", \"value\": 3}, {\"date\": \"2010-10\", \"search_term\": \"Python data\", \"value\": 4}, {\"date\": \"2010-11\", \"search_term\": \"Python data\", \"value\": 4}, {\"date\": \"2010-12\", \"search_term\": \"Python data\", \"value\": 4}, {\"date\": \"2011-01\", \"search_term\": \"Python data\", \"value\": 4}, {\"date\": \"2011-02\", \"search_term\": \"Python data\", \"value\": 3}, {\"date\": \"2011-03\", \"search_term\": \"Python data\", \"value\": 4}, {\"date\": \"2011-04\", \"search_term\": \"Python data\", \"value\": 4}, {\"date\": \"2011-05\", \"search_term\": \"Python data\", \"value\": 4}, {\"date\": \"2011-06\", \"search_term\": \"Python data\", \"value\": 4}, {\"date\": \"2011-07\", \"search_term\": \"Python data\", \"value\": 4}, {\"date\": \"2011-08\", \"search_term\": \"Python data\", \"value\": 3}, {\"date\": \"2011-09\", \"search_term\": \"Python data\", \"value\": 4}, {\"date\": \"2011-10\", \"search_term\": \"Python data\", \"value\": 4}, {\"date\": \"2011-11\", \"search_term\": \"Python data\", \"value\": 4}, {\"date\": \"2011-12\", \"search_term\": \"Python data\", \"value\": 4}, {\"date\": \"2012-01\", \"search_term\": \"Python data\", \"value\": 4}, {\"date\": \"2012-02\", \"search_term\": \"Python data\", \"value\": 5}, {\"date\": \"2012-03\", \"search_term\": \"Python data\", \"value\": 5}, {\"date\": \"2012-04\", \"search_term\": \"Python data\", \"value\": 5}, {\"date\": \"2012-05\", \"search_term\": \"Python data\", \"value\": 5}, {\"date\": \"2012-06\", \"search_term\": \"Python data\", \"value\": 5}, {\"date\": \"2012-07\", \"search_term\": \"Python data\", \"value\": 5}, {\"date\": \"2012-08\", \"search_term\": \"Python data\", \"value\": 5}, {\"date\": \"2012-09\", \"search_term\": \"Python data\", \"value\": 5}, {\"date\": \"2012-10\", \"search_term\": \"Python data\", \"value\": 6}, {\"date\": \"2012-11\", \"search_term\": \"Python data\", \"value\": 5}, {\"date\": \"2012-12\", \"search_term\": \"Python data\", \"value\": 5}, {\"date\": \"2013-01\", \"search_term\": \"Python data\", \"value\": 6}, {\"date\": \"2013-02\", \"search_term\": \"Python data\", \"value\": 6}, {\"date\": \"2013-03\", \"search_term\": \"Python data\", \"value\": 6}, {\"date\": \"2013-04\", \"search_term\": \"Python data\", \"value\": 7}, {\"date\": \"2013-05\", \"search_term\": \"Python data\", \"value\": 7}, {\"date\": \"2013-06\", \"search_term\": \"Python data\", \"value\": 7}, {\"date\": \"2013-07\", \"search_term\": \"Python data\", \"value\": 7}, {\"date\": \"2013-08\", \"search_term\": \"Python data\", \"value\": 7}, {\"date\": \"2013-09\", \"search_term\": \"Python data\", \"value\": 7}, {\"date\": \"2013-10\", \"search_term\": \"Python data\", \"value\": 8}, {\"date\": \"2013-11\", \"search_term\": \"Python data\", \"value\": 8}, {\"date\": \"2013-12\", \"search_term\": \"Python data\", \"value\": 6}, {\"date\": \"2014-01\", \"search_term\": \"Python data\", \"value\": 8}, {\"date\": \"2014-02\", \"search_term\": \"Python data\", \"value\": 9}, {\"date\": \"2014-03\", \"search_term\": \"Python data\", \"value\": 9}, {\"date\": \"2014-04\", \"search_term\": \"Python data\", \"value\": 9}, {\"date\": \"2014-05\", \"search_term\": \"Python data\", \"value\": 9}, {\"date\": \"2014-06\", \"search_term\": \"Python data\", \"value\": 9}, {\"date\": \"2014-07\", \"search_term\": \"Python data\", \"value\": 9}, {\"date\": \"2014-08\", \"search_term\": \"Python data\", \"value\": 8}, {\"date\": \"2014-09\", \"search_term\": \"Python data\", \"value\": 9}, {\"date\": \"2014-10\", \"search_term\": \"Python data\", \"value\": 10}, {\"date\": \"2014-11\", \"search_term\": \"Python data\", \"value\": 10}, {\"date\": \"2014-12\", \"search_term\": \"Python data\", \"value\": 9}, {\"date\": \"2015-01\", \"search_term\": \"Python data\", \"value\": 10}, {\"date\": \"2015-02\", \"search_term\": \"Python data\", \"value\": 12}, {\"date\": \"2015-03\", \"search_term\": \"Python data\", \"value\": 12}, {\"date\": \"2015-04\", \"search_term\": \"Python data\", \"value\": 11}, {\"date\": \"2015-05\", \"search_term\": \"Python data\", \"value\": 11}, {\"date\": \"2015-06\", \"search_term\": \"Python data\", \"value\": 13}, {\"date\": \"2015-07\", \"search_term\": \"Python data\", \"value\": 13}, {\"date\": \"2015-08\", \"search_term\": \"Python data\", \"value\": 12}, {\"date\": \"2015-09\", \"search_term\": \"Python data\", \"value\": 14}, {\"date\": \"2015-10\", \"search_term\": \"Python data\", \"value\": 14}, {\"date\": \"2015-11\", \"search_term\": \"Python data\", \"value\": 14}, {\"date\": \"2015-12\", \"search_term\": \"Python data\", \"value\": 14}, {\"date\": \"2016-01\", \"search_term\": \"Python data\", \"value\": 14}, {\"date\": \"2016-02\", \"search_term\": \"Python data\", \"value\": 16}, {\"date\": \"2016-03\", \"search_term\": \"Python data\", \"value\": 17}, {\"date\": \"2016-04\", \"search_term\": \"Python data\", \"value\": 17}, {\"date\": \"2016-05\", \"search_term\": \"Python data\", \"value\": 18}, {\"date\": \"2016-06\", \"search_term\": \"Python data\", \"value\": 18}, {\"date\": \"2016-07\", \"search_term\": \"Python data\", \"value\": 17}, {\"date\": \"2016-08\", \"search_term\": \"Python data\", \"value\": 17}, {\"date\": \"2016-09\", \"search_term\": \"Python data\", \"value\": 19}, {\"date\": \"2016-10\", \"search_term\": \"Python data\", \"value\": 20}, {\"date\": \"2016-11\", \"search_term\": \"Python data\", \"value\": 22}, {\"date\": \"2016-12\", \"search_term\": \"Python data\", \"value\": 20}, {\"date\": \"2017-01\", \"search_term\": \"Python data\", \"value\": 22}, {\"date\": \"2017-02\", \"search_term\": \"Python data\", \"value\": 26}, {\"date\": \"2017-03\", \"search_term\": \"Python data\", \"value\": 29}, {\"date\": \"2017-04\", \"search_term\": \"Python data\", \"value\": 28}, {\"date\": \"2017-05\", \"search_term\": \"Python data\", \"value\": 27}, {\"date\": \"2017-06\", \"search_term\": \"Python data\", \"value\": 29}, {\"date\": \"2017-07\", \"search_term\": \"Python data\", \"value\": 26}, {\"date\": \"2017-08\", \"search_term\": \"Python data\", \"value\": 27}, {\"date\": \"2017-09\", \"search_term\": \"Python data\", \"value\": 30}, {\"date\": \"2017-10\", \"search_term\": \"Python data\", \"value\": 31}, {\"date\": \"2017-11\", \"search_term\": \"Python data\", \"value\": 34}, {\"date\": \"2017-12\", \"search_term\": \"Python data\", \"value\": 29}, {\"date\": \"2018-01\", \"search_term\": \"Python data\", \"value\": 32}, {\"date\": \"2018-02\", \"search_term\": \"Python data\", \"value\": 35}, {\"date\": \"2018-03\", \"search_term\": \"Python data\", \"value\": 36}, {\"date\": \"2018-04\", \"search_term\": \"Python data\", \"value\": 37}, {\"date\": \"2004-01\", \"search_term\": \"R data\", \"value\": 8}, {\"date\": \"2004-02\", \"search_term\": \"R data\", \"value\": 10}, {\"date\": \"2004-03\", \"search_term\": \"R data\", \"value\": 6}, {\"date\": \"2004-04\", \"search_term\": \"R data\", \"value\": 7}, {\"date\": \"2004-05\", \"search_term\": \"R data\", \"value\": 7}, {\"date\": \"2004-06\", \"search_term\": \"R data\", \"value\": 12}, {\"date\": \"2004-07\", \"search_term\": \"R data\", \"value\": 7}, {\"date\": \"2004-08\", \"search_term\": \"R data\", \"value\": 7}, {\"date\": \"2004-09\", \"search_term\": \"R data\", \"value\": 5}, {\"date\": \"2004-10\", \"search_term\": \"R data\", \"value\": 7}, {\"date\": \"2004-11\", \"search_term\": \"R data\", \"value\": 7}, {\"date\": \"2004-12\", \"search_term\": \"R data\", \"value\": 6}, {\"date\": \"2005-01\", \"search_term\": \"R data\", \"value\": 6}, {\"date\": \"2005-02\", \"search_term\": \"R data\", \"value\": 7}, {\"date\": \"2005-03\", \"search_term\": \"R data\", \"value\": 8}, {\"date\": \"2005-04\", \"search_term\": \"R data\", \"value\": 7}, {\"date\": \"2005-05\", \"search_term\": \"R data\", \"value\": 7}, {\"date\": \"2005-06\", \"search_term\": \"R data\", \"value\": 6}, {\"date\": \"2005-07\", \"search_term\": \"R data\", \"value\": 6}, {\"date\": \"2005-08\", \"search_term\": \"R data\", \"value\": 6}, {\"date\": \"2005-09\", \"search_term\": \"R data\", \"value\": 6}, {\"date\": \"2005-10\", \"search_term\": \"R data\", \"value\": 6}, {\"date\": \"2005-11\", \"search_term\": \"R data\", \"value\": 7}, {\"date\": \"2005-12\", \"search_term\": \"R data\", \"value\": 7}, {\"date\": \"2006-01\", \"search_term\": \"R data\", \"value\": 5}, {\"date\": \"2006-02\", \"search_term\": \"R data\", \"value\": 6}, {\"date\": \"2006-03\", \"search_term\": \"R data\", \"value\": 7}, {\"date\": \"2006-04\", \"search_term\": \"R data\", \"value\": 7}, {\"date\": \"2006-05\", \"search_term\": \"R data\", \"value\": 7}, {\"date\": \"2006-06\", \"search_term\": \"R data\", \"value\": 6}, {\"date\": \"2006-07\", \"search_term\": \"R data\", \"value\": 6}, {\"date\": \"2006-08\", \"search_term\": \"R data\", \"value\": 4}, {\"date\": \"2006-09\", \"search_term\": \"R data\", \"value\": 5}, {\"date\": \"2006-10\", \"search_term\": \"R data\", \"value\": 6}, {\"date\": \"2006-11\", \"search_term\": \"R data\", \"value\": 6}, {\"date\": \"2006-12\", \"search_term\": \"R data\", \"value\": 6}, {\"date\": \"2007-01\", \"search_term\": \"R data\", \"value\": 5}, {\"date\": \"2007-02\", \"search_term\": \"R data\", \"value\": 6}, {\"date\": \"2007-03\", \"search_term\": \"R data\", \"value\": 5}, {\"date\": \"2007-04\", \"search_term\": \"R data\", \"value\": 6}, {\"date\": \"2007-05\", \"search_term\": \"R data\", \"value\": 6}, {\"date\": \"2007-06\", \"search_term\": \"R data\", \"value\": 6}, {\"date\": \"2007-07\", \"search_term\": \"R data\", \"value\": 6}, {\"date\": \"2007-08\", \"search_term\": \"R data\", \"value\": 5}, {\"date\": \"2007-09\", \"search_term\": \"R data\", \"value\": 5}, {\"date\": \"2007-10\", \"search_term\": \"R data\", \"value\": 6}, {\"date\": \"2007-11\", \"search_term\": \"R data\", \"value\": 6}, {\"date\": \"2007-12\", \"search_term\": \"R data\", \"value\": 6}, {\"date\": \"2008-01\", \"search_term\": \"R data\", \"value\": 7}, {\"date\": \"2008-02\", \"search_term\": \"R data\", \"value\": 7}, {\"date\": \"2008-03\", \"search_term\": \"R data\", \"value\": 5}, {\"date\": \"2008-04\", \"search_term\": \"R data\", \"value\": 8}, {\"date\": \"2008-05\", \"search_term\": \"R data\", \"value\": 7}, {\"date\": \"2008-06\", \"search_term\": \"R data\", \"value\": 6}, {\"date\": \"2008-07\", \"search_term\": \"R data\", \"value\": 6}, {\"date\": \"2008-08\", \"search_term\": \"R data\", \"value\": 6}, {\"date\": \"2008-09\", \"search_term\": \"R data\", \"value\": 7}, {\"date\": \"2008-10\", \"search_term\": \"R data\", \"value\": 7}, {\"date\": \"2008-11\", \"search_term\": \"R data\", \"value\": 8}, {\"date\": \"2008-12\", \"search_term\": \"R data\", \"value\": 6}, {\"date\": \"2009-01\", \"search_term\": \"R data\", \"value\": 7}, {\"date\": \"2009-02\", \"search_term\": \"R data\", \"value\": 8}, {\"date\": \"2009-03\", \"search_term\": \"R data\", \"value\": 8}, {\"date\": \"2009-04\", \"search_term\": \"R data\", \"value\": 9}, {\"date\": \"2009-05\", \"search_term\": \"R data\", \"value\": 7}, {\"date\": \"2009-06\", \"search_term\": \"R data\", \"value\": 8}, {\"date\": \"2009-07\", \"search_term\": \"R data\", \"value\": 7}, {\"date\": \"2009-08\", \"search_term\": \"R data\", \"value\": 6}, {\"date\": \"2009-09\", \"search_term\": \"R data\", \"value\": 8}, {\"date\": \"2009-10\", \"search_term\": \"R data\", \"value\": 8}, {\"date\": \"2009-11\", \"search_term\": \"R data\", \"value\": 10}, {\"date\": \"2009-12\", \"search_term\": \"R data\", \"value\": 7}, {\"date\": \"2010-01\", \"search_term\": \"R data\", \"value\": 8}, {\"date\": \"2010-02\", \"search_term\": \"R data\", \"value\": 9}, {\"date\": \"2010-03\", \"search_term\": \"R data\", \"value\": 8}, {\"date\": \"2010-04\", \"search_term\": \"R data\", \"value\": 9}, {\"date\": \"2010-05\", \"search_term\": \"R data\", \"value\": 8}, {\"date\": \"2010-06\", \"search_term\": \"R data\", \"value\": 9}, {\"date\": \"2010-07\", \"search_term\": \"R data\", \"value\": 8}, {\"date\": \"2010-08\", \"search_term\": \"R data\", \"value\": 8}, {\"date\": \"2010-09\", \"search_term\": \"R data\", \"value\": 9}, {\"date\": \"2010-10\", \"search_term\": \"R data\", \"value\": 9}, {\"date\": \"2010-11\", \"search_term\": \"R data\", \"value\": 9}, {\"date\": \"2010-12\", \"search_term\": \"R data\", \"value\": 8}, {\"date\": \"2011-01\", \"search_term\": \"R data\", \"value\": 8}, {\"date\": \"2011-02\", \"search_term\": \"R data\", \"value\": 9}, {\"date\": \"2011-03\", \"search_term\": \"R data\", \"value\": 10}, {\"date\": \"2011-04\", \"search_term\": \"R data\", \"value\": 10}, {\"date\": \"2011-05\", \"search_term\": \"R data\", \"value\": 9}, {\"date\": \"2011-06\", \"search_term\": \"R data\", \"value\": 9}, {\"date\": \"2011-07\", \"search_term\": \"R data\", \"value\": 9}, {\"date\": \"2011-08\", \"search_term\": \"R data\", \"value\": 9}, {\"date\": \"2011-09\", \"search_term\": \"R data\", \"value\": 10}, {\"date\": \"2011-10\", \"search_term\": \"R data\", \"value\": 11}, {\"date\": \"2011-11\", \"search_term\": \"R data\", \"value\": 11}, {\"date\": \"2011-12\", \"search_term\": \"R data\", \"value\": 9}, {\"date\": \"2012-01\", \"search_term\": \"R data\", \"value\": 10}, {\"date\": \"2012-02\", \"search_term\": \"R data\", \"value\": 13}, {\"date\": \"2012-03\", \"search_term\": \"R data\", \"value\": 12}, {\"date\": \"2012-04\", \"search_term\": \"R data\", \"value\": 12}, {\"date\": \"2012-05\", \"search_term\": \"R data\", \"value\": 12}, {\"date\": \"2012-06\", \"search_term\": \"R data\", \"value\": 11}, {\"date\": \"2012-07\", \"search_term\": \"R data\", \"value\": 11}, {\"date\": \"2012-08\", \"search_term\": \"R data\", \"value\": 11}, {\"date\": \"2012-09\", \"search_term\": \"R data\", \"value\": 13}, {\"date\": \"2012-10\", \"search_term\": \"R data\", \"value\": 16}, {\"date\": \"2012-11\", \"search_term\": \"R data\", \"value\": 13}, {\"date\": \"2012-12\", \"search_term\": \"R data\", \"value\": 12}, {\"date\": \"2013-01\", \"search_term\": \"R data\", \"value\": 14}, {\"date\": \"2013-02\", \"search_term\": \"R data\", \"value\": 16}, {\"date\": \"2013-03\", \"search_term\": \"R data\", \"value\": 15}, {\"date\": \"2013-04\", \"search_term\": \"R data\", \"value\": 15}, {\"date\": \"2013-05\", \"search_term\": \"R data\", \"value\": 14}, {\"date\": \"2013-06\", \"search_term\": \"R data\", \"value\": 14}, {\"date\": \"2013-07\", \"search_term\": \"R data\", \"value\": 13}, {\"date\": \"2013-08\", \"search_term\": \"R data\", \"value\": 13}, {\"date\": \"2013-09\", \"search_term\": \"R data\", \"value\": 15}, {\"date\": \"2013-10\", \"search_term\": \"R data\", \"value\": 19}, {\"date\": \"2013-11\", \"search_term\": \"R data\", \"value\": 18}, {\"date\": \"2013-12\", \"search_term\": \"R data\", \"value\": 15}, {\"date\": \"2014-01\", \"search_term\": \"R data\", \"value\": 16}, {\"date\": \"2014-02\", \"search_term\": \"R data\", \"value\": 18}, {\"date\": \"2014-03\", \"search_term\": \"R data\", \"value\": 19}, {\"date\": \"2014-04\", \"search_term\": \"R data\", \"value\": 22}, {\"date\": \"2014-05\", \"search_term\": \"R data\", \"value\": 20}, {\"date\": \"2014-06\", \"search_term\": \"R data\", \"value\": 19}, {\"date\": \"2014-07\", \"search_term\": \"R data\", \"value\": 19}, {\"date\": \"2014-08\", \"search_term\": \"R data\", \"value\": 19}, {\"date\": \"2014-09\", \"search_term\": \"R data\", \"value\": 23}, {\"date\": \"2014-10\", \"search_term\": \"R data\", \"value\": 22}, {\"date\": \"2014-11\", \"search_term\": \"R data\", \"value\": 22}, {\"date\": \"2014-12\", \"search_term\": \"R data\", \"value\": 19}, {\"date\": \"2015-01\", \"search_term\": \"R data\", \"value\": 20}, {\"date\": \"2015-02\", \"search_term\": \"R data\", \"value\": 25}, {\"date\": \"2015-03\", \"search_term\": \"R data\", \"value\": 26}, {\"date\": \"2015-04\", \"search_term\": \"R data\", \"value\": 26}, {\"date\": \"2015-05\", \"search_term\": \"R data\", \"value\": 22}, {\"date\": \"2015-06\", \"search_term\": \"R data\", \"value\": 23}, {\"date\": \"2015-07\", \"search_term\": \"R data\", \"value\": 23}, {\"date\": \"2015-08\", \"search_term\": \"R data\", \"value\": 22}, {\"date\": \"2015-09\", \"search_term\": \"R data\", \"value\": 25}, {\"date\": \"2015-10\", \"search_term\": \"R data\", \"value\": 27}, {\"date\": \"2015-11\", \"search_term\": \"R data\", \"value\": 26}, {\"date\": \"2015-12\", \"search_term\": \"R data\", \"value\": 23}, {\"date\": \"2016-01\", \"search_term\": \"R data\", \"value\": 23}, {\"date\": \"2016-02\", \"search_term\": \"R data\", \"value\": 29}, {\"date\": \"2016-03\", \"search_term\": \"R data\", \"value\": 29}, {\"date\": \"2016-04\", \"search_term\": \"R data\", \"value\": 32}, {\"date\": \"2016-05\", \"search_term\": \"R data\", \"value\": 27}, {\"date\": \"2016-06\", \"search_term\": \"R data\", \"value\": 28}, {\"date\": \"2016-07\", \"search_term\": \"R data\", \"value\": 24}, {\"date\": \"2016-08\", \"search_term\": \"R data\", \"value\": 23}, {\"date\": \"2016-09\", \"search_term\": \"R data\", \"value\": 27}, {\"date\": \"2016-10\", \"search_term\": \"R data\", \"value\": 30}, {\"date\": \"2016-11\", \"search_term\": \"R data\", \"value\": 32}, {\"date\": \"2016-12\", \"search_term\": \"R data\", \"value\": 28}, {\"date\": \"2017-01\", \"search_term\": \"R data\", \"value\": 28}, {\"date\": \"2017-02\", \"search_term\": \"R data\", \"value\": 34}, {\"date\": \"2017-03\", \"search_term\": \"R data\", \"value\": 38}, {\"date\": \"2017-04\", \"search_term\": \"R data\", \"value\": 36}, {\"date\": \"2017-05\", \"search_term\": \"R data\", \"value\": 32}, {\"date\": \"2017-06\", \"search_term\": \"R data\", \"value\": 30}, {\"date\": \"2017-07\", \"search_term\": \"R data\", \"value\": 28}, {\"date\": \"2017-08\", \"search_term\": \"R data\", \"value\": 27}, {\"date\": \"2017-09\", \"search_term\": \"R data\", \"value\": 31}, {\"date\": \"2017-10\", \"search_term\": \"R data\", \"value\": 34}, {\"date\": \"2017-11\", \"search_term\": \"R data\", \"value\": 35}, {\"date\": \"2017-12\", \"search_term\": \"R data\", \"value\": 27}, {\"date\": \"2018-01\", \"search_term\": \"R data\", \"value\": 29}, {\"date\": \"2018-02\", \"search_term\": \"R data\", \"value\": 35}, {\"date\": \"2018-03\", \"search_term\": \"R data\", \"value\": 35}, {\"date\": \"2018-04\", \"search_term\": \"R data\", \"value\": 36}, {\"date\": \"2004-01\", \"search_term\": \"Excel data\", \"value\": 53}, {\"date\": \"2004-02\", \"search_term\": \"Excel data\", \"value\": 64}, {\"date\": \"2004-03\", \"search_term\": \"Excel data\", \"value\": 57}, {\"date\": \"2004-04\", \"search_term\": \"Excel data\", \"value\": 64}, {\"date\": \"2004-05\", \"search_term\": \"Excel data\", \"value\": 59}, {\"date\": \"2004-06\", \"search_term\": \"Excel data\", \"value\": 61}, {\"date\": \"2004-07\", \"search_term\": \"Excel data\", \"value\": 62}, {\"date\": \"2004-08\", \"search_term\": \"Excel data\", \"value\": 67}, {\"date\": \"2004-09\", \"search_term\": \"Excel data\", \"value\": 60}, {\"date\": \"2004-10\", \"search_term\": \"Excel data\", \"value\": 62}, {\"date\": \"2004-11\", \"search_term\": \"Excel data\", \"value\": 58}, {\"date\": \"2004-12\", \"search_term\": \"Excel data\", \"value\": 55}, {\"date\": \"2005-01\", \"search_term\": \"Excel data\", \"value\": 60}, {\"date\": \"2005-02\", \"search_term\": \"Excel data\", \"value\": 63}, {\"date\": \"2005-03\", \"search_term\": \"Excel data\", \"value\": 61}, {\"date\": \"2005-04\", \"search_term\": \"Excel data\", \"value\": 55}, {\"date\": \"2005-05\", \"search_term\": \"Excel data\", \"value\": 55}, {\"date\": \"2005-06\", \"search_term\": \"Excel data\", \"value\": 63}, {\"date\": \"2005-07\", \"search_term\": \"Excel data\", \"value\": 62}, {\"date\": \"2005-08\", \"search_term\": \"Excel data\", \"value\": 55}, {\"date\": \"2005-09\", \"search_term\": \"Excel data\", \"value\": 57}, {\"date\": \"2005-10\", \"search_term\": \"Excel data\", \"value\": 51}, {\"date\": \"2005-11\", \"search_term\": \"Excel data\", \"value\": 58}, {\"date\": \"2005-12\", \"search_term\": \"Excel data\", \"value\": 53}, {\"date\": \"2006-01\", \"search_term\": \"Excel data\", \"value\": 58}, {\"date\": \"2006-02\", \"search_term\": \"Excel data\", \"value\": 56}, {\"date\": \"2006-03\", \"search_term\": \"Excel data\", \"value\": 57}, {\"date\": \"2006-04\", \"search_term\": \"Excel data\", \"value\": 54}, {\"date\": \"2006-05\", \"search_term\": \"Excel data\", \"value\": 51}, {\"date\": \"2006-06\", \"search_term\": \"Excel data\", \"value\": 55}, {\"date\": \"2006-07\", \"search_term\": \"Excel data\", \"value\": 54}, {\"date\": \"2006-08\", \"search_term\": \"Excel data\", \"value\": 53}, {\"date\": \"2006-09\", \"search_term\": \"Excel data\", \"value\": 53}, {\"date\": \"2006-10\", \"search_term\": \"Excel data\", \"value\": 52}, {\"date\": \"2006-11\", \"search_term\": \"Excel data\", \"value\": 49}, {\"date\": \"2006-12\", \"search_term\": \"Excel data\", \"value\": 47}, {\"date\": \"2007-01\", \"search_term\": \"Excel data\", \"value\": 53}, {\"date\": \"2007-02\", \"search_term\": \"Excel data\", \"value\": 53}, {\"date\": \"2007-03\", \"search_term\": \"Excel data\", \"value\": 51}, {\"date\": \"2007-04\", \"search_term\": \"Excel data\", \"value\": 49}, {\"date\": \"2007-05\", \"search_term\": \"Excel data\", \"value\": 52}, {\"date\": \"2007-06\", \"search_term\": \"Excel data\", \"value\": 53}, {\"date\": \"2007-07\", \"search_term\": \"Excel data\", \"value\": 54}, {\"date\": \"2007-08\", \"search_term\": \"Excel data\", \"value\": 54}, {\"date\": \"2007-09\", \"search_term\": \"Excel data\", \"value\": 50}, {\"date\": \"2007-10\", \"search_term\": \"Excel data\", \"value\": 55}, {\"date\": \"2007-11\", \"search_term\": \"Excel data\", \"value\": 56}, {\"date\": \"2007-12\", \"search_term\": \"Excel data\", \"value\": 46}, {\"date\": \"2008-01\", \"search_term\": \"Excel data\", \"value\": 54}, {\"date\": \"2008-02\", \"search_term\": \"Excel data\", \"value\": 60}, {\"date\": \"2008-03\", \"search_term\": \"Excel data\", \"value\": 55}, {\"date\": \"2008-04\", \"search_term\": \"Excel data\", \"value\": 57}, {\"date\": \"2008-05\", \"search_term\": \"Excel data\", \"value\": 57}, {\"date\": \"2008-06\", \"search_term\": \"Excel data\", \"value\": 56}, {\"date\": \"2008-07\", \"search_term\": \"Excel data\", \"value\": 59}, {\"date\": \"2008-08\", \"search_term\": \"Excel data\", \"value\": 55}, {\"date\": \"2008-09\", \"search_term\": \"Excel data\", \"value\": 56}, {\"date\": \"2008-10\", \"search_term\": \"Excel data\", \"value\": 61}, {\"date\": \"2008-11\", \"search_term\": \"Excel data\", \"value\": 58}, {\"date\": \"2008-12\", \"search_term\": \"Excel data\", \"value\": 50}, {\"date\": \"2009-01\", \"search_term\": \"Excel data\", \"value\": 57}, {\"date\": \"2009-02\", \"search_term\": \"Excel data\", \"value\": 67}, {\"date\": \"2009-03\", \"search_term\": \"Excel data\", \"value\": 65}, {\"date\": \"2009-04\", \"search_term\": \"Excel data\", \"value\": 63}, {\"date\": \"2009-05\", \"search_term\": \"Excel data\", \"value\": 57}, {\"date\": \"2009-06\", \"search_term\": \"Excel data\", \"value\": 59}, {\"date\": \"2009-07\", \"search_term\": \"Excel data\", \"value\": 60}, {\"date\": \"2009-08\", \"search_term\": \"Excel data\", \"value\": 60}, {\"date\": \"2009-09\", \"search_term\": \"Excel data\", \"value\": 62}, {\"date\": \"2009-10\", \"search_term\": \"Excel data\", \"value\": 66}, {\"date\": \"2009-11\", \"search_term\": \"Excel data\", \"value\": 63}, {\"date\": \"2009-12\", \"search_term\": \"Excel data\", \"value\": 54}, {\"date\": \"2010-01\", \"search_term\": \"Excel data\", \"value\": 58}, {\"date\": \"2010-02\", \"search_term\": \"Excel data\", \"value\": 68}, {\"date\": \"2010-03\", \"search_term\": \"Excel data\", \"value\": 71}, {\"date\": \"2010-04\", \"search_term\": \"Excel data\", \"value\": 71}, {\"date\": \"2010-05\", \"search_term\": \"Excel data\", \"value\": 64}, {\"date\": \"2010-06\", \"search_term\": \"Excel data\", \"value\": 70}, {\"date\": \"2010-07\", \"search_term\": \"Excel data\", \"value\": 67}, {\"date\": \"2010-08\", \"search_term\": \"Excel data\", \"value\": 62}, {\"date\": \"2010-09\", \"search_term\": \"Excel data\", \"value\": 68}, {\"date\": \"2010-10\", \"search_term\": \"Excel data\", \"value\": 67}, {\"date\": \"2010-11\", \"search_term\": \"Excel data\", \"value\": 66}, {\"date\": \"2010-12\", \"search_term\": \"Excel data\", \"value\": 60}, {\"date\": \"2011-01\", \"search_term\": \"Excel data\", \"value\": 63}, {\"date\": \"2011-02\", \"search_term\": \"Excel data\", \"value\": 72}, {\"date\": \"2011-03\", \"search_term\": \"Excel data\", \"value\": 71}, {\"date\": \"2011-04\", \"search_term\": \"Excel data\", \"value\": 66}, {\"date\": \"2011-05\", \"search_term\": \"Excel data\", \"value\": 66}, {\"date\": \"2011-06\", \"search_term\": \"Excel data\", \"value\": 68}, {\"date\": \"2011-07\", \"search_term\": \"Excel data\", \"value\": 69}, {\"date\": \"2011-08\", \"search_term\": \"Excel data\", \"value\": 68}, {\"date\": \"2011-09\", \"search_term\": \"Excel data\", \"value\": 70}, {\"date\": \"2011-10\", \"search_term\": \"Excel data\", \"value\": 70}, {\"date\": \"2011-11\", \"search_term\": \"Excel data\", \"value\": 71}, {\"date\": \"2011-12\", \"search_term\": \"Excel data\", \"value\": 60}, {\"date\": \"2012-01\", \"search_term\": \"Excel data\", \"value\": 68}, {\"date\": \"2012-02\", \"search_term\": \"Excel data\", \"value\": 77}, {\"date\": \"2012-03\", \"search_term\": \"Excel data\", \"value\": 78}, {\"date\": \"2012-04\", \"search_term\": \"Excel data\", \"value\": 72}, {\"date\": \"2012-05\", \"search_term\": \"Excel data\", \"value\": 72}, {\"date\": \"2012-06\", \"search_term\": \"Excel data\", \"value\": 74}, {\"date\": \"2012-07\", \"search_term\": \"Excel data\", \"value\": 73}, {\"date\": \"2012-08\", \"search_term\": \"Excel data\", \"value\": 73}, {\"date\": \"2012-09\", \"search_term\": \"Excel data\", \"value\": 78}, {\"date\": \"2012-10\", \"search_term\": \"Excel data\", \"value\": 81}, {\"date\": \"2012-11\", \"search_term\": \"Excel data\", \"value\": 76}, {\"date\": \"2012-12\", \"search_term\": \"Excel data\", \"value\": 58}, {\"date\": \"2013-01\", \"search_term\": \"Excel data\", \"value\": 76}, {\"date\": \"2013-02\", \"search_term\": \"Excel data\", \"value\": 83}, {\"date\": \"2013-03\", \"search_term\": \"Excel data\", \"value\": 81}, {\"date\": \"2013-04\", \"search_term\": \"Excel data\", \"value\": 84}, {\"date\": \"2013-05\", \"search_term\": \"Excel data\", \"value\": 80}, {\"date\": \"2013-06\", \"search_term\": \"Excel data\", \"value\": 76}, {\"date\": \"2013-07\", \"search_term\": \"Excel data\", \"value\": 81}, {\"date\": \"2013-08\", \"search_term\": \"Excel data\", \"value\": 72}, {\"date\": \"2013-09\", \"search_term\": \"Excel data\", \"value\": 80}, {\"date\": \"2013-10\", \"search_term\": \"Excel data\", \"value\": 85}, {\"date\": \"2013-11\", \"search_term\": \"Excel data\", \"value\": 78}, {\"date\": \"2013-12\", \"search_term\": \"Excel data\", \"value\": 68}, {\"date\": \"2014-01\", \"search_term\": \"Excel data\", \"value\": 79}, {\"date\": \"2014-02\", \"search_term\": \"Excel data\", \"value\": 87}, {\"date\": \"2014-03\", \"search_term\": \"Excel data\", \"value\": 89}, {\"date\": \"2014-04\", \"search_term\": \"Excel data\", \"value\": 88}, {\"date\": \"2014-05\", \"search_term\": \"Excel data\", \"value\": 83}, {\"date\": \"2014-06\", \"search_term\": \"Excel data\", \"value\": 86}, {\"date\": \"2014-07\", \"search_term\": \"Excel data\", \"value\": 82}, {\"date\": \"2014-08\", \"search_term\": \"Excel data\", \"value\": 79}, {\"date\": \"2014-09\", \"search_term\": \"Excel data\", \"value\": 90}, {\"date\": \"2014-10\", \"search_term\": \"Excel data\", \"value\": 90}, {\"date\": \"2014-11\", \"search_term\": \"Excel data\", \"value\": 90}, {\"date\": \"2014-12\", \"search_term\": \"Excel data\", \"value\": 75}, {\"date\": \"2015-01\", \"search_term\": \"Excel data\", \"value\": 82}, {\"date\": \"2015-02\", \"search_term\": \"Excel data\", \"value\": 95}, {\"date\": \"2015-03\", \"search_term\": \"Excel data\", \"value\": 97}, {\"date\": \"2015-04\", \"search_term\": \"Excel data\", \"value\": 95}, {\"date\": \"2015-05\", \"search_term\": \"Excel data\", \"value\": 85}, {\"date\": \"2015-06\", \"search_term\": \"Excel data\", \"value\": 90}, {\"date\": \"2015-07\", \"search_term\": \"Excel data\", \"value\": 87}, {\"date\": \"2015-08\", \"search_term\": \"Excel data\", \"value\": 82}, {\"date\": \"2015-09\", \"search_term\": \"Excel data\", \"value\": 92}, {\"date\": \"2015-10\", \"search_term\": \"Excel data\", \"value\": 94}, {\"date\": \"2015-11\", \"search_term\": \"Excel data\", \"value\": 89}, {\"date\": \"2015-12\", \"search_term\": \"Excel data\", \"value\": 78}, {\"date\": \"2016-01\", \"search_term\": \"Excel data\", \"value\": 76}, {\"date\": \"2016-02\", \"search_term\": \"Excel data\", \"value\": 90}, {\"date\": \"2016-03\", \"search_term\": \"Excel data\", \"value\": 88}, {\"date\": \"2016-04\", \"search_term\": \"Excel data\", \"value\": 88}, {\"date\": \"2016-05\", \"search_term\": \"Excel data\", \"value\": 83}, {\"date\": \"2016-06\", \"search_term\": \"Excel data\", \"value\": 83}, {\"date\": \"2016-07\", \"search_term\": \"Excel data\", \"value\": 76}, {\"date\": \"2016-08\", \"search_term\": \"Excel data\", \"value\": 80}, {\"date\": \"2016-09\", \"search_term\": \"Excel data\", \"value\": 83}, {\"date\": \"2016-10\", \"search_term\": \"Excel data\", \"value\": 87}, {\"date\": \"2016-11\", \"search_term\": \"Excel data\", \"value\": 88}, {\"date\": \"2016-12\", \"search_term\": \"Excel data\", \"value\": 72}, {\"date\": \"2017-01\", \"search_term\": \"Excel data\", \"value\": 84}, {\"date\": \"2017-02\", \"search_term\": \"Excel data\", \"value\": 94}, {\"date\": \"2017-03\", \"search_term\": \"Excel data\", \"value\": 100}, {\"date\": \"2017-04\", \"search_term\": \"Excel data\", \"value\": 90}, {\"date\": \"2017-05\", \"search_term\": \"Excel data\", \"value\": 88}, {\"date\": \"2017-06\", \"search_term\": \"Excel data\", \"value\": 83}, {\"date\": \"2017-07\", \"search_term\": \"Excel data\", \"value\": 80}, {\"date\": \"2017-08\", \"search_term\": \"Excel data\", \"value\": 84}, {\"date\": \"2017-09\", \"search_term\": \"Excel data\", \"value\": 88}, {\"date\": \"2017-10\", \"search_term\": \"Excel data\", \"value\": 91}, {\"date\": \"2017-11\", \"search_term\": \"Excel data\", \"value\": 92}, {\"date\": \"2017-12\", \"search_term\": \"Excel data\", \"value\": 73}, {\"date\": \"2018-01\", \"search_term\": \"Excel data\", \"value\": 86}, {\"date\": \"2018-02\", \"search_term\": \"Excel data\", \"value\": 98}, {\"date\": \"2018-03\", \"search_term\": \"Excel data\", \"value\": 92}, {\"date\": \"2018-04\", \"search_term\": \"Excel data\", \"value\": 97}]}}, {\"mode\": \"vega-lite\"});\n",
              "</script>"
            ]
          },
          "metadata": {
            "tags": []
          },
          "execution_count": 14
        }
      ]
    },
    {
      "cell_type": "code",
      "metadata": {
        "id": "gBNl5pdwadoN",
        "colab_type": "code",
        "colab": {}
      },
      "source": [
        "config = {'arc': {'fill': '#30a2da'},\n",
        " 'area': {'fill': 'black'},\n",
        " 'axisBand': {'grid': False},\n",
        " 'axisBottom': {'domain': False,\n",
        "  'domainColor': '#999',\n",
        "  'domainWidth': 3,\n",
        "  'grid': False,\n",
        "  'gridColor': '#cbcbcb',\n",
        "  'gridWidth': 1,\n",
        "  'labelColor': '#999',\n",
        "  'labelFontSize': 14,\n",
        "  'labelPadding': 4,\n",
        "  'tickColor': 'white',\n",
        "  'tickSize': 10,\n",
        "  'titleFontSize': 14,\n",
        "  'titlePadding': 10},\n",
        " 'axisLeft': {'domainColor': 'white',\n",
        "  'domainWidth': 1,\n",
        "  'grid': False,\n",
        "  'gridColor': 'white',\n",
        "  'gridWidth': 1,\n",
        "  'labelColor': 'white',\n",
        "  'labelFontSize': 10,\n",
        "  'labelPadding': 4,\n",
        "  'tickColor': 'white',\n",
        "  'tickSize': 10,\n",
        "  'ticks': True,\n",
        "  'titleFontSize': 14,\n",
        "  'titlePadding': 10},\n",
        " 'axisRight': {'domainColor': '#333',\n",
        "  'domainWidth': 1,\n",
        "  'grid': True,\n",
        "  'gridColor': '#cbcbcb',\n",
        "  'gridWidth': 1,\n",
        "  'labelColor': 'white',\n",
        "  'labelFontSize': 10,\n",
        "  'labelPadding': 4,\n",
        "  'tickColor': 'white',\n",
        "  'tickSize': 10,\n",
        "  'ticks': True,\n",
        "  'titleFontSize': 14,\n",
        "  'titlePadding': 10},\n",
        " 'axisTop': {'domain': False,\n",
        "  'domainColor': '#333',\n",
        "  'domainWidth': 3,\n",
        "  'grid': False,\n",
        "  'gridColor': '#cbcbcb',\n",
        "  'gridWidth': 1,\n",
        "  'labelColor': '#999',\n",
        "  'labelFontSize': 10,\n",
        "  'labelPadding': 4,\n",
        "  'tickColor': '#cbcbcb',\n",
        "  'tickSize': 10,\n",
        "  'titleFontSize': 14,\n",
        "  'titlePadding': 10},\n",
        " 'background': 'white',\n",
        " 'group': {'fill': 'black',\"stroke\":\"white\"},\n",
        " 'legend': {'labelColor': '#333',\n",
        "  'labelFontSize': 14,\n",
        "  'padding': 1,\n",
        "  'symbolSize': 30,\n",
        "  'symbolType': 'square',\n",
        "  'titleColor': '#333',\n",
        "  'titleFontSize': 14,\n",
        "  'titlePadding': 10},\n",
        " 'line': {'stroke': '#30a2da', 'strokeWidth': 2},\n",
        " 'path': {'stroke': '#30a2da', 'strokeWidth': 0.5},\n",
        " 'rect': {'fill': '#30a2da'},\n",
        " 'range': {'category': ['#30a2da',\n",
        "   '#fc4f30',\n",
        "   '#e5ae38',\n",
        "   '#6d904f',\n",
        "   '#8b8b8b',\n",
        "   '#b96db8',\n",
        "   '#ff9e27',\n",
        "   '#56cc60',\n",
        "   '#52d2ca',\n",
        "   '#52689e',\n",
        "   '#545454',\n",
        "   '#9fe4f8'],\n",
        "  'diverging': ['#cc0020',\n",
        "   '#e77866',\n",
        "   '#f6e7e1',\n",
        "   '#d6e8ed',\n",
        "   '#91bfd9',\n",
        "   '#1d78b5'],\n",
        "  'heatmap': ['#d6e8ed', '#cee0e5', '#91bfd9', '#549cc6', '#1d78b5']},\n",
        " 'symbol': {'filled': True, 'shape': 'circle'},\n",
        " 'shape': {'stroke': 'white'},\n",
        " 'style': {'bar': {'binSpacing': 2, 'fill': '#30a2da', 'stroke': None}},\n",
        " 'title': {'anchor': 'start', 'fontSize': 24, 'fontWeight': 600, 'offset': 20},\n",
        "         \"view\": {\n",
        "     \"stroke\": \"transparent\"\n",
        "  }}\n"
      ],
      "execution_count": 15,
      "outputs": []
    },
    {
      "cell_type": "code",
      "metadata": {
        "id": "FnRpAkcBaLzW",
        "colab_type": "code",
        "colab": {
          "base_uri": "https://localhost:8080/",
          "height": 34
        },
        "outputId": "b63df1f3-aecb-47c5-f30f-fe24d3f0c67b"
      },
      "source": [
        "def my_theme():\n",
        "    return {'config': config }\n",
        "\n",
        "alt.themes.register('my_theme', my_theme)\n",
        "alt.themes.enable('my_theme')\n"
      ],
      "execution_count": 16,
      "outputs": [
        {
          "output_type": "execute_result",
          "data": {
            "text/plain": [
              "ThemeRegistry.enable('my_theme')"
            ]
          },
          "metadata": {
            "tags": []
          },
          "execution_count": 16
        }
      ]
    }
  ]
}