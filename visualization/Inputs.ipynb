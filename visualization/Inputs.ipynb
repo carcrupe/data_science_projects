{
  "nbformat": 4,
  "nbformat_minor": 0,
  "metadata": {
    "colab": {
      "name": "Inputs.ipynb",
      "provenance": [],
      "collapsed_sections": []
    },
    "kernelspec": {
      "name": "python3",
      "display_name": "Python 3"
    }
  },
  "cells": [
    {
      "cell_type": "code",
      "metadata": {
        "id": "iIm7qiLAXlaD",
        "colab_type": "code",
        "colab": {
          "base_uri": "https://localhost:8080/",
          "height": 221
        },
        "outputId": "7e671707-4cb4-45f9-c3a8-1cf93b541d42"
      },
      "source": [
        "!pip install -q streamlit"
      ],
      "execution_count": 1,
      "outputs": [
        {
          "output_type": "stream",
          "text": [
            "\u001b[K     |████████████████████████████████| 7.1MB 2.8MB/s \n",
            "\u001b[K     |████████████████████████████████| 4.4MB 49.4MB/s \n",
            "\u001b[K     |████████████████████████████████| 112kB 53.6MB/s \n",
            "\u001b[K     |████████████████████████████████| 102kB 10.3MB/s \n",
            "\u001b[K     |████████████████████████████████| 501kB 46.1MB/s \n",
            "\u001b[K     |████████████████████████████████| 122kB 43.0MB/s \n",
            "\u001b[?25h  Building wheel for blinker (setup.py) ... \u001b[?25l\u001b[?25hdone\n",
            "  Building wheel for validators (setup.py) ... \u001b[?25l\u001b[?25hdone\n",
            "  Building wheel for watchdog (setup.py) ... \u001b[?25l\u001b[?25hdone\n",
            "  Building wheel for tornado (setup.py) ... \u001b[?25l\u001b[?25hdone\n",
            "  Building wheel for pathtools (setup.py) ... \u001b[?25l\u001b[?25hdone\n",
            "\u001b[31mERROR: google-colab 1.0.0 has requirement ipykernel~=4.10, but you'll have ipykernel 5.3.2 which is incompatible.\u001b[0m\n"
          ],
          "name": "stdout"
        }
      ]
    },
    {
      "cell_type": "code",
      "metadata": {
        "id": "4N50jgJTXrTK",
        "colab_type": "code",
        "colab": {
          "base_uri": "https://localhost:8080/",
          "height": 204
        },
        "outputId": "492621e5-2319-40f2-b7de-540d0c73a79c"
      },
      "source": [
        "!wget https://bin.equinox.io/c/4VmDzA7iaHb/ngrok-stable-linux-amd64.zip\n",
        "!unzip -qq ngrok-stable-linux-amd64.zip"
      ],
      "execution_count": 2,
      "outputs": [
        {
          "output_type": "stream",
          "text": [
            "--2020-07-11 10:15:15--  https://bin.equinox.io/c/4VmDzA7iaHb/ngrok-stable-linux-amd64.zip\n",
            "Resolving bin.equinox.io (bin.equinox.io)... 54.164.74.108, 3.229.211.71, 54.236.74.205, ...\n",
            "Connecting to bin.equinox.io (bin.equinox.io)|54.164.74.108|:443... connected.\n",
            "HTTP request sent, awaiting response... 200 OK\n",
            "Length: 13773305 (13M) [application/octet-stream]\n",
            "Saving to: ‘ngrok-stable-linux-amd64.zip’\n",
            "\n",
            "\r          ngrok-sta   0%[                    ]       0  --.-KB/s               \rngrok-stable-linux- 100%[===================>]  13.13M  77.0MB/s    in 0.2s    \n",
            "\n",
            "2020-07-11 10:15:16 (77.0 MB/s) - ‘ngrok-stable-linux-amd64.zip’ saved [13773305/13773305]\n",
            "\n"
          ],
          "name": "stdout"
        }
      ]
    },
    {
      "cell_type": "code",
      "metadata": {
        "id": "anh0rOeiXtll",
        "colab_type": "code",
        "colab": {
          "base_uri": "https://localhost:8080/",
          "height": 34
        },
        "outputId": "a8007e6e-a909-4e38-d99f-fcb444496d6f"
      },
      "source": [
        "%%file basics.py\n",
        "\n",
        "import streamlit as st\n",
        "import pandas as pd\n",
        "import altair as alt\n",
        "import matplotlib.pyplot as plt\n",
        "\n",
        "@st.cache\n",
        "def get_data():\n",
        "  data = pd.read_csv(\"https://github.com/rezpe/datos_viz/blob/master/locales_madrid.csv?raw=true\")\n",
        "  return data\n",
        "\n",
        "locales_df = get_data()\n",
        "\n",
        "st.title(\"Locales de Madrid\")\n",
        "st.markdown(\"Hemos descargado la lista de locales de Madrid en el 2018. El mapa representa los bares\")\n",
        "\n",
        "filtro = st.text_input(\"Teclear tipo de local\",value=\"BAR\")\n",
        "\n",
        "sublocales_df = locales_df[locales_df[\"rotulo\"].str.contains(filtro)]\n",
        "\n",
        "per_district = sublocales_df.groupby('desc_distrito_local').count().reset_index()\n",
        "st.write(alt.Chart(per_district).mark_bar().encode(\n",
        "    x='desc_distrito_local',\n",
        "    y='id_distrito_local'\n",
        "))\n",
        "\n",
        "st.markdown(f\"Hay {len(sublocales_df)} locales.\")\n",
        "\n",
        "st.table(sublocales_df.head())\n",
        "\n",
        "bar_chart = alt.Chart(sublocales_df).mark_point().encode(\n",
        "    latitude=\"lat\",\n",
        "    longitude=\"lon\",\n",
        "    color=\"desc_distrito_local:N\"\n",
        ")\n",
        "st.write(bar_chart)"
      ],
      "execution_count": 91,
      "outputs": [
        {
          "output_type": "stream",
          "text": [
            "Overwriting basics.py\n"
          ],
          "name": "stdout"
        }
      ]
    },
    {
      "cell_type": "code",
      "metadata": {
        "id": "3683ME1qX1qF",
        "colab_type": "code",
        "colab": {}
      },
      "source": [
        "get_ipython().system_raw('./ngrok http 8501 &')"
      ],
      "execution_count": 92,
      "outputs": []
    },
    {
      "cell_type": "code",
      "metadata": {
        "id": "yDRXwUAMX5bz",
        "colab_type": "code",
        "colab": {
          "base_uri": "https://localhost:8080/",
          "height": 34
        },
        "outputId": "52bbf2ae-9a50-48e3-80de-66f7c6d337bc"
      },
      "source": [
        "!curl -s http://localhost:4040/api/tunnels | python3 -c \"import sys, json; print(json.load(sys.stdin)['tunnels'][0]['public_url'])\""
      ],
      "execution_count": 93,
      "outputs": [
        {
          "output_type": "stream",
          "text": [
            "https://a99213e78494.ngrok.io\n"
          ],
          "name": "stdout"
        }
      ]
    },
    {
      "cell_type": "code",
      "metadata": {
        "id": "RdgYUBu5X83V",
        "colab_type": "code",
        "colab": {
          "base_uri": "https://localhost:8080/",
          "height": 187
        },
        "outputId": "5eb62890-76a6-4bed-aefa-227cc4edf314"
      },
      "source": [
        "!streamlit run basics.py"
      ],
      "execution_count": 94,
      "outputs": [
        {
          "output_type": "stream",
          "text": [
            "\u001b[0m\n",
            "\u001b[34m\u001b[1m  You can now view your Streamlit app in your browser.\u001b[0m\n",
            "\u001b[0m\n",
            "\u001b[34m  Network URL: \u001b[0m\u001b[1mhttp://172.28.0.2:8501\u001b[0m\n",
            "\u001b[34m  External URL: \u001b[0m\u001b[1mhttp://35.237.153.223:8501\u001b[0m\n",
            "\u001b[0m\n",
            "/content/basics.py:12: DtypeWarning: Columns (31,32,37,38) have mixed types.Specify dtype option on import or set low_memory=False.\n",
            "  locales_df = get_data()\n",
            "\u001b[34m  Stopping...\u001b[0m\n",
            "\u001b[34m  Stopping...\u001b[0m\n"
          ],
          "name": "stdout"
        }
      ]
    }
  ]
}